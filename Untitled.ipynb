{
 "cells": [
  {
   "cell_type": "code",
   "execution_count": 26,
   "metadata": {},
   "outputs": [],
   "source": [
    "from implicit import als\n",
    "from implicit.nearest_neighbours import ItemItemRecommender\n",
    "import pandas as pd\n",
    "import numpy as np\n",
    "\n",
    "from scipy.sparse import csr_matrix"
   ]
  },
  {
   "cell_type": "code",
   "execution_count": 5,
   "metadata": {},
   "outputs": [
    {
     "name": "stderr",
     "output_type": "stream",
     "text": [
      "C:\\ProgramData\\Anaconda3\\lib\\site-packages\\ipykernel_launcher.py:1: ParserWarning: Falling back to the 'python' engine because the 'c' engine does not support regex separators (separators > 1 char and different from '\\s+' are interpreted as regex); you can avoid this warning by specifying engine='python'.\n",
      "  \"\"\"Entry point for launching an IPython kernel.\n"
     ]
    }
   ],
   "source": [
    "df = pd.read_csv('ml-1m/ratings.dat', sep='::', names=['item_id', 'user_id', 'rating', 'tt'])"
   ]
  },
  {
   "cell_type": "code",
   "execution_count": 18,
   "metadata": {},
   "outputs": [],
   "source": [
    "msk_test = df['tt'] > 978300000\n",
    "test = df[msk_test]\n",
    "train = df[~msk_test]"
   ]
  },
  {
   "cell_type": "code",
   "execution_count": 20,
   "metadata": {},
   "outputs": [],
   "source": [
    "user_item_matrix = pd.pivot_table(train, \n",
    "                                  index='user_id',\n",
    "                                  columns='item_id', \n",
    "                                  values='rating',\n",
    "                                  aggfunc='count', \n",
    "                                  fill_value=0                                      \n",
    "                                 )"
   ]
  },
  {
   "cell_type": "code",
   "execution_count": 92,
   "metadata": {},
   "outputs": [],
   "source": [
    "dict_users = {}\n",
    "for i, user in enumerate(user_item_matrix.index):\n",
    "    dict_users[user] = i"
   ]
  },
  {
   "cell_type": "code",
   "execution_count": 24,
   "metadata": {},
   "outputs": [
    {
     "data": {
      "text/html": [
       "<div>\n",
       "<style scoped>\n",
       "    .dataframe tbody tr th:only-of-type {\n",
       "        vertical-align: middle;\n",
       "    }\n",
       "\n",
       "    .dataframe tbody tr th {\n",
       "        vertical-align: top;\n",
       "    }\n",
       "\n",
       "    .dataframe thead th {\n",
       "        text-align: right;\n",
       "    }\n",
       "</style>\n",
       "<table border=\"1\" class=\"dataframe\">\n",
       "  <thead>\n",
       "    <tr style=\"text-align: right;\">\n",
       "      <th>item_id</th>\n",
       "      <th>2</th>\n",
       "      <th>3</th>\n",
       "      <th>4</th>\n",
       "      <th>5</th>\n",
       "      <th>6</th>\n",
       "      <th>7</th>\n",
       "      <th>8</th>\n",
       "      <th>9</th>\n",
       "      <th>10</th>\n",
       "      <th>11</th>\n",
       "      <th>...</th>\n",
       "      <th>6031</th>\n",
       "      <th>6032</th>\n",
       "      <th>6033</th>\n",
       "      <th>6034</th>\n",
       "      <th>6035</th>\n",
       "      <th>6036</th>\n",
       "      <th>6037</th>\n",
       "      <th>6038</th>\n",
       "      <th>6039</th>\n",
       "      <th>6040</th>\n",
       "    </tr>\n",
       "    <tr>\n",
       "      <th>user_id</th>\n",
       "      <th></th>\n",
       "      <th></th>\n",
       "      <th></th>\n",
       "      <th></th>\n",
       "      <th></th>\n",
       "      <th></th>\n",
       "      <th></th>\n",
       "      <th></th>\n",
       "      <th></th>\n",
       "      <th></th>\n",
       "      <th></th>\n",
       "      <th></th>\n",
       "      <th></th>\n",
       "      <th></th>\n",
       "      <th></th>\n",
       "      <th></th>\n",
       "      <th></th>\n",
       "      <th></th>\n",
       "      <th></th>\n",
       "      <th></th>\n",
       "      <th></th>\n",
       "    </tr>\n",
       "  </thead>\n",
       "  <tbody>\n",
       "    <tr>\n",
       "      <th>1</th>\n",
       "      <td>0.0</td>\n",
       "      <td>0.0</td>\n",
       "      <td>0.0</td>\n",
       "      <td>0.0</td>\n",
       "      <td>1.0</td>\n",
       "      <td>0.0</td>\n",
       "      <td>1.0</td>\n",
       "      <td>1.0</td>\n",
       "      <td>1.0</td>\n",
       "      <td>0.0</td>\n",
       "      <td>...</td>\n",
       "      <td>0.0</td>\n",
       "      <td>1.0</td>\n",
       "      <td>0.0</td>\n",
       "      <td>0.0</td>\n",
       "      <td>1.0</td>\n",
       "      <td>0.0</td>\n",
       "      <td>0.0</td>\n",
       "      <td>0.0</td>\n",
       "      <td>0.0</td>\n",
       "      <td>1.0</td>\n",
       "    </tr>\n",
       "    <tr>\n",
       "      <th>2</th>\n",
       "      <td>0.0</td>\n",
       "      <td>0.0</td>\n",
       "      <td>0.0</td>\n",
       "      <td>0.0</td>\n",
       "      <td>0.0</td>\n",
       "      <td>0.0</td>\n",
       "      <td>0.0</td>\n",
       "      <td>0.0</td>\n",
       "      <td>0.0</td>\n",
       "      <td>0.0</td>\n",
       "      <td>...</td>\n",
       "      <td>0.0</td>\n",
       "      <td>0.0</td>\n",
       "      <td>0.0</td>\n",
       "      <td>0.0</td>\n",
       "      <td>0.0</td>\n",
       "      <td>0.0</td>\n",
       "      <td>0.0</td>\n",
       "      <td>0.0</td>\n",
       "      <td>0.0</td>\n",
       "      <td>0.0</td>\n",
       "    </tr>\n",
       "    <tr>\n",
       "      <th>3</th>\n",
       "      <td>0.0</td>\n",
       "      <td>0.0</td>\n",
       "      <td>0.0</td>\n",
       "      <td>0.0</td>\n",
       "      <td>0.0</td>\n",
       "      <td>0.0</td>\n",
       "      <td>0.0</td>\n",
       "      <td>0.0</td>\n",
       "      <td>0.0</td>\n",
       "      <td>0.0</td>\n",
       "      <td>...</td>\n",
       "      <td>0.0</td>\n",
       "      <td>0.0</td>\n",
       "      <td>0.0</td>\n",
       "      <td>0.0</td>\n",
       "      <td>1.0</td>\n",
       "      <td>0.0</td>\n",
       "      <td>0.0</td>\n",
       "      <td>0.0</td>\n",
       "      <td>0.0</td>\n",
       "      <td>0.0</td>\n",
       "    </tr>\n",
       "  </tbody>\n",
       "</table>\n",
       "<p>3 rows × 6033 columns</p>\n",
       "</div>"
      ],
      "text/plain": [
       "item_id  2     3     4     5     6     7     8     9     10    11    ...  \\\n",
       "user_id                                                              ...   \n",
       "1         0.0   0.0   0.0   0.0   1.0   0.0   1.0   1.0   1.0   0.0  ...   \n",
       "2         0.0   0.0   0.0   0.0   0.0   0.0   0.0   0.0   0.0   0.0  ...   \n",
       "3         0.0   0.0   0.0   0.0   0.0   0.0   0.0   0.0   0.0   0.0  ...   \n",
       "\n",
       "item_id  6031  6032  6033  6034  6035  6036  6037  6038  6039  6040  \n",
       "user_id                                                              \n",
       "1         0.0   1.0   0.0   0.0   1.0   0.0   0.0   0.0   0.0   1.0  \n",
       "2         0.0   0.0   0.0   0.0   0.0   0.0   0.0   0.0   0.0   0.0  \n",
       "3         0.0   0.0   0.0   0.0   1.0   0.0   0.0   0.0   0.0   0.0  \n",
       "\n",
       "[3 rows x 6033 columns]"
      ]
     },
     "execution_count": 24,
     "metadata": {},
     "output_type": "execute_result"
    }
   ],
   "source": [
    "user_item_matrix[user_item_matrix > 0] = 1 # так как в итоге хотим предсказать \n",
    "user_item_matrix = user_item_matrix.astype(float) # необходимый тип матрицы для implicit\n",
    "\n",
    "# переведем в формат saprse matrix\n",
    "sparse_user_item = csr_matrix(user_item_matrix).tocsr()\n",
    "\n",
    "user_item_matrix.head(3)"
   ]
  },
  {
   "cell_type": "code",
   "execution_count": 27,
   "metadata": {
    "collapsed": true
   },
   "outputs": [
    {
     "data": {
      "application/vnd.jupyter.widget-view+json": {
       "model_id": "cf44462a27df4414869e94209af73c17",
       "version_major": 2,
       "version_minor": 0
      },
      "text/plain": [
       "HBox(children=(IntProgress(value=0, max=6033), HTML(value='')))"
      ]
     },
     "metadata": {},
     "output_type": "display_data"
    },
    {
     "name": "stdout",
     "output_type": "stream",
     "text": [
      "\n"
     ]
    },
    {
     "ename": "NameError",
     "evalue": "name 'userid_to_id' is not defined",
     "output_type": "error",
     "traceback": [
      "\u001b[1;31m---------------------------------------------------------------------------\u001b[0m",
      "\u001b[1;31mNameError\u001b[0m                                 Traceback (most recent call last)",
      "\u001b[1;32m<ipython-input-27-3039c69fd132>\u001b[0m in \u001b[0;36m<module>\u001b[1;34m()\u001b[0m\n\u001b[0;32m      4\u001b[0m           show_progress=True)\n\u001b[0;32m      5\u001b[0m \u001b[1;33m\u001b[0m\u001b[0m\n\u001b[1;32m----> 6\u001b[1;33m recs = model.recommend(userid=userid_to_id[2],  # userid - id от 0 до N\n\u001b[0m\u001b[0;32m      7\u001b[0m                         \u001b[0muser_items\u001b[0m\u001b[1;33m=\u001b[0m\u001b[0mcsr_matrix\u001b[0m\u001b[1;33m(\u001b[0m\u001b[0muser_item_matrix\u001b[0m\u001b[1;33m)\u001b[0m\u001b[1;33m.\u001b[0m\u001b[0mtocsr\u001b[0m\u001b[1;33m(\u001b[0m\u001b[1;33m)\u001b[0m\u001b[1;33m,\u001b[0m   \u001b[1;31m# на вход user-item matrix\u001b[0m\u001b[1;33m\u001b[0m\u001b[0m\n\u001b[0;32m      8\u001b[0m                         \u001b[0mN\u001b[0m\u001b[1;33m=\u001b[0m\u001b[1;36m5\u001b[0m\u001b[1;33m,\u001b[0m \u001b[1;31m# кол-во рекомендаций\u001b[0m\u001b[1;33m\u001b[0m\u001b[0m\n",
      "\u001b[1;31mNameError\u001b[0m: name 'userid_to_id' is not defined"
     ]
    }
   ],
   "source": [
    "model = ItemItemRecommender(K=5, num_threads=4) # K - кол-во билжайших соседей\n",
    "\n",
    "model.fit(csr_matrix(user_item_matrix).T.tocsr(),  # На вход item-user matrix\n",
    "          show_progress=True)\n"
   ]
  },
  {
   "cell_type": "code",
   "execution_count": 33,
   "metadata": {},
   "outputs": [
    {
     "data": {
      "text/plain": [
       "[(4161, 3950.0),\n",
       " (1675, 2661.0),\n",
       " (1177, 2495.0),\n",
       " (4269, 1707.0),\n",
       " (885, 1345.0),\n",
       " (1936, 1184.0),\n",
       " (4336, 1002.0),\n",
       " (1280, 891.0),\n",
       " (5787, 612.0),\n",
       " (1146, 539.0)]"
      ]
     },
     "execution_count": 33,
     "metadata": {},
     "output_type": "execute_result"
    }
   ],
   "source": [
    "model.recommend(1, csr_matrix(user_item_matrix).T.tocsr())"
   ]
  },
  {
   "cell_type": "code",
   "execution_count": 104,
   "metadata": {},
   "outputs": [],
   "source": [
    "from implicit.als import AlternatingLeastSquares"
   ]
  },
  {
   "cell_type": "code",
   "execution_count": 105,
   "metadata": {},
   "outputs": [
    {
     "name": "stderr",
     "output_type": "stream",
     "text": [
      "WARNING:root:OpenBLAS detected. Its highly recommend to set the environment variable 'export OPENBLAS_NUM_THREADS=1' to disable its internal multithreading\n"
     ]
    }
   ],
   "source": [
    "model = AlternatingLeastSquares()"
   ]
  },
  {
   "cell_type": "code",
   "execution_count": 108,
   "metadata": {},
   "outputs": [
    {
     "data": {
      "application/vnd.jupyter.widget-view+json": {
       "model_id": "238f9c8b6b8a447eb0aa77f57c9bc3bd",
       "version_major": 2,
       "version_minor": 0
      },
      "text/plain": [
       "HBox(children=(IntProgress(value=0, max=15), HTML(value='')))"
      ]
     },
     "metadata": {},
     "output_type": "display_data"
    },
    {
     "name": "stdout",
     "output_type": "stream",
     "text": [
      "\n"
     ]
    }
   ],
   "source": [
    "model = AlternatingLeastSquares() # K - кол-во билжайших соседей\n",
    "\n",
    "model.fit(csr_matrix(user_item_matrix).T.tocsr(),  # На вход item-user matrix\n",
    "          show_progress=True)"
   ]
  },
  {
   "cell_type": "code",
   "execution_count": 48,
   "metadata": {},
   "outputs": [],
   "source": [
    "no_test = (set(train['user_id'].unique()) ^ set(test['user_id'].unique()))"
   ]
  },
  {
   "cell_type": "code",
   "execution_count": 64,
   "metadata": {},
   "outputs": [],
   "source": [
    "test.reset_index(drop=True, inplace=True)"
   ]
  },
  {
   "cell_type": "code",
   "execution_count": 78,
   "metadata": {},
   "outputs": [],
   "source": [
    "test = test[~test['user_id'].isin(no_test)].reset_index(drop=True)"
   ]
  },
  {
   "cell_type": "code",
   "execution_count": 79,
   "metadata": {
    "collapsed": true
   },
   "outputs": [
    {
     "data": {
      "text/html": [
       "<div>\n",
       "<style scoped>\n",
       "    .dataframe tbody tr th:only-of-type {\n",
       "        vertical-align: middle;\n",
       "    }\n",
       "\n",
       "    .dataframe tbody tr th {\n",
       "        vertical-align: top;\n",
       "    }\n",
       "\n",
       "    .dataframe thead th {\n",
       "        text-align: right;\n",
       "    }\n",
       "</style>\n",
       "<table border=\"1\" class=\"dataframe\">\n",
       "  <thead>\n",
       "    <tr style=\"text-align: right;\">\n",
       "      <th></th>\n",
       "      <th>user_id</th>\n",
       "      <th>actual</th>\n",
       "    </tr>\n",
       "  </thead>\n",
       "  <tbody>\n",
       "    <tr>\n",
       "      <th>0</th>\n",
       "      <td>1</td>\n",
       "      <td>[1, 19, 23, 28, 65, 68, 78, 90, 96, 99, 151, 1...</td>\n",
       "    </tr>\n",
       "    <tr>\n",
       "      <th>1</th>\n",
       "      <td>2</td>\n",
       "      <td>[10, 23, 44, 92, 148, 195, 293, 308, 366, 438,...</td>\n",
       "    </tr>\n",
       "    <tr>\n",
       "      <th>2</th>\n",
       "      <td>3</td>\n",
       "      <td>[137, 308, 439, 442, 531, 752, 979, 1088, 1121...</td>\n",
       "    </tr>\n",
       "    <tr>\n",
       "      <th>3</th>\n",
       "      <td>4</td>\n",
       "      <td>[338, 528, 531, 678, 752, 1194, 1203, 1579, 19...</td>\n",
       "    </tr>\n",
       "    <tr>\n",
       "      <th>4</th>\n",
       "      <td>5</td>\n",
       "      <td>[237, 329, 343, 442, 528, 531, 699, 869, 1088,...</td>\n",
       "    </tr>\n",
       "    <tr>\n",
       "      <th>5</th>\n",
       "      <td>6</td>\n",
       "      <td>[23, 63, 92, 151, 173, 195, 306, 331, 349, 362...</td>\n",
       "    </tr>\n",
       "    <tr>\n",
       "      <th>6</th>\n",
       "      <td>7</td>\n",
       "      <td>[36, 137, 151, 338, 439, 518, 531, 639, 839, 9...</td>\n",
       "    </tr>\n",
       "    <tr>\n",
       "      <th>7</th>\n",
       "      <td>8</td>\n",
       "      <td>[92, 195, 1088, 2015, 2077, 2195, 4834]</td>\n",
       "    </tr>\n",
       "    <tr>\n",
       "      <th>8</th>\n",
       "      <td>9</td>\n",
       "      <td>[65, 937, 1447, 1958, 2077, 3507, 3768]</td>\n",
       "    </tr>\n",
       "    <tr>\n",
       "      <th>9</th>\n",
       "      <td>10</td>\n",
       "      <td>[22, 102, 146, 173, 184, 271, 308, 338, 349, 3...</td>\n",
       "    </tr>\n",
       "  </tbody>\n",
       "</table>\n",
       "</div>"
      ],
      "text/plain": [
       "   user_id                                             actual\n",
       "0        1  [1, 19, 23, 28, 65, 68, 78, 90, 96, 99, 151, 1...\n",
       "1        2  [10, 23, 44, 92, 148, 195, 293, 308, 366, 438,...\n",
       "2        3  [137, 308, 439, 442, 531, 752, 979, 1088, 1121...\n",
       "3        4  [338, 528, 531, 678, 752, 1194, 1203, 1579, 19...\n",
       "4        5  [237, 329, 343, 442, 528, 531, 699, 869, 1088,...\n",
       "5        6  [23, 63, 92, 151, 173, 195, 306, 331, 349, 362...\n",
       "6        7  [36, 137, 151, 338, 439, 518, 531, 639, 839, 9...\n",
       "7        8            [92, 195, 1088, 2015, 2077, 2195, 4834]\n",
       "8        9            [65, 937, 1447, 1958, 2077, 3507, 3768]\n",
       "9       10  [22, 102, 146, 173, 184, 271, 308, 338, 349, 3..."
      ]
     },
     "execution_count": 79,
     "metadata": {},
     "output_type": "execute_result"
    }
   ],
   "source": [
    "result = test.groupby('user_id')['item_id'].unique().reset_index()\n",
    "result.columns=['user_id', 'actual']\n",
    "result['actual'] = result['actual'].apply(lambda x: list(x))\n",
    "result.head(10)"
   ]
  },
  {
   "cell_type": "code",
   "execution_count": 96,
   "metadata": {},
   "outputs": [],
   "source": [
    "result['user_id'] = result['user_id'].replace(dict_users)"
   ]
  },
  {
   "cell_type": "code",
   "execution_count": 109,
   "metadata": {},
   "outputs": [],
   "source": [
    "result['als'] = result['user_id'].\\\n",
    "    apply(lambda x: [rec[0] for rec in \n",
    "                    model.recommend(userid=x, \n",
    "                                    user_items=sparse_user_item,   # на вход user-item matrix\n",
    "                                    N=5, \n",
    "                                    filter_already_liked_items=False, \n",
    "                                    filter_items=None, \n",
    "                                    recalculate_user=True)])"
   ]
  },
  {
   "cell_type": "code",
   "execution_count": 110,
   "metadata": {},
   "outputs": [
    {
     "data": {
      "text/html": [
       "<div>\n",
       "<style scoped>\n",
       "    .dataframe tbody tr th:only-of-type {\n",
       "        vertical-align: middle;\n",
       "    }\n",
       "\n",
       "    .dataframe tbody tr th {\n",
       "        vertical-align: top;\n",
       "    }\n",
       "\n",
       "    .dataframe thead th {\n",
       "        text-align: right;\n",
       "    }\n",
       "</style>\n",
       "<table border=\"1\" class=\"dataframe\">\n",
       "  <thead>\n",
       "    <tr style=\"text-align: right;\">\n",
       "      <th></th>\n",
       "      <th>user_id</th>\n",
       "      <th>actual</th>\n",
       "      <th>itemitem</th>\n",
       "      <th>als</th>\n",
       "    </tr>\n",
       "  </thead>\n",
       "  <tbody>\n",
       "    <tr>\n",
       "      <th>0</th>\n",
       "      <td>0</td>\n",
       "      <td>[1, 19, 23, 28, 65, 68, 78, 90, 96, 99, 151, 1...</td>\n",
       "      <td>[1675, 4161, 1177, 5787, 4269]</td>\n",
       "      <td>[1146, 220, 761, 3561, 4707]</td>\n",
       "    </tr>\n",
       "    <tr>\n",
       "      <th>1</th>\n",
       "      <td>1</td>\n",
       "      <td>[10, 23, 44, 92, 148, 195, 293, 308, 366, 438,...</td>\n",
       "      <td>[1675, 4161, 1177, 5787, 1936]</td>\n",
       "      <td>[546, 4502, 625, 3799, 5550]</td>\n",
       "    </tr>\n",
       "    <tr>\n",
       "      <th>2</th>\n",
       "      <td>2</td>\n",
       "      <td>[137, 308, 439, 442, 531, 752, 979, 1088, 1121...</td>\n",
       "      <td>[1675, 4161, 1177, 5787, 5359]</td>\n",
       "      <td>[885, 2772, 5880, 5780, 2058]</td>\n",
       "    </tr>\n",
       "    <tr>\n",
       "      <th>3</th>\n",
       "      <td>3</td>\n",
       "      <td>[338, 528, 531, 678, 752, 1194, 1203, 1579, 19...</td>\n",
       "      <td>[1675, 4161, 1177, 5787, 2058]</td>\n",
       "      <td>[1957, 2772, 1675, 3511, 4161]</td>\n",
       "    </tr>\n",
       "    <tr>\n",
       "      <th>4</th>\n",
       "      <td>4</td>\n",
       "      <td>[237, 329, 343, 442, 528, 531, 699, 869, 1088,...</td>\n",
       "      <td>[1675, 4161, 1177, 5787, 1936]</td>\n",
       "      <td>[2772, 1675, 5248, 4040, 2902]</td>\n",
       "    </tr>\n",
       "    <tr>\n",
       "      <th>...</th>\n",
       "      <td>...</td>\n",
       "      <td>...</td>\n",
       "      <td>...</td>\n",
       "      <td>...</td>\n",
       "    </tr>\n",
       "    <tr>\n",
       "      <th>3372</th>\n",
       "      <td>3673</td>\n",
       "      <td>[19, 65, 90, 92, 99, 127, 134, 149, 150, 169, ...</td>\n",
       "      <td>[1675, 4161, 1177, 885, 5359]</td>\n",
       "      <td>[1465, 885, 1872, 1169, 2239]</td>\n",
       "    </tr>\n",
       "    <tr>\n",
       "      <th>3373</th>\n",
       "      <td>3674</td>\n",
       "      <td>[73, 85, 116, 149, 150, 151, 169, 192, 229, 23...</td>\n",
       "      <td>[4161, 1675, 1177, 885, 4269]</td>\n",
       "      <td>[885, 1465, 4161, 1065, 997]</td>\n",
       "    </tr>\n",
       "    <tr>\n",
       "      <th>3374</th>\n",
       "      <td>3675</td>\n",
       "      <td>[151, 173, 195, 319, 482, 623, 624, 678, 1015,...</td>\n",
       "      <td>[4161, 885, 1177, 1675, 1465]</td>\n",
       "      <td>[1465, 885, 1065, 1484, 846]</td>\n",
       "    </tr>\n",
       "    <tr>\n",
       "      <th>3375</th>\n",
       "      <td>3676</td>\n",
       "      <td>[173, 195, 593, 1242, 1733, 1865, 1946, 2031, ...</td>\n",
       "      <td>[4161, 885, 1675, 1177, 4269]</td>\n",
       "      <td>[885, 1465, 4161, 1065, 997]</td>\n",
       "    </tr>\n",
       "    <tr>\n",
       "      <th>3376</th>\n",
       "      <td>3677</td>\n",
       "      <td>[23, 102, 127, 149, 151, 173, 224, 228, 319, 3...</td>\n",
       "      <td>[4161, 1177, 1675, 885, 4269]</td>\n",
       "      <td>[1465, 885, 1065, 997, 2239]</td>\n",
       "    </tr>\n",
       "  </tbody>\n",
       "</table>\n",
       "<p>3377 rows × 4 columns</p>\n",
       "</div>"
      ],
      "text/plain": [
       "      user_id                                             actual  \\\n",
       "0           0  [1, 19, 23, 28, 65, 68, 78, 90, 96, 99, 151, 1...   \n",
       "1           1  [10, 23, 44, 92, 148, 195, 293, 308, 366, 438,...   \n",
       "2           2  [137, 308, 439, 442, 531, 752, 979, 1088, 1121...   \n",
       "3           3  [338, 528, 531, 678, 752, 1194, 1203, 1579, 19...   \n",
       "4           4  [237, 329, 343, 442, 528, 531, 699, 869, 1088,...   \n",
       "...       ...                                                ...   \n",
       "3372     3673  [19, 65, 90, 92, 99, 127, 134, 149, 150, 169, ...   \n",
       "3373     3674  [73, 85, 116, 149, 150, 151, 169, 192, 229, 23...   \n",
       "3374     3675  [151, 173, 195, 319, 482, 623, 624, 678, 1015,...   \n",
       "3375     3676  [173, 195, 593, 1242, 1733, 1865, 1946, 2031, ...   \n",
       "3376     3677  [23, 102, 127, 149, 151, 173, 224, 228, 319, 3...   \n",
       "\n",
       "                            itemitem                             als  \n",
       "0     [1675, 4161, 1177, 5787, 4269]    [1146, 220, 761, 3561, 4707]  \n",
       "1     [1675, 4161, 1177, 5787, 1936]    [546, 4502, 625, 3799, 5550]  \n",
       "2     [1675, 4161, 1177, 5787, 5359]   [885, 2772, 5880, 5780, 2058]  \n",
       "3     [1675, 4161, 1177, 5787, 2058]  [1957, 2772, 1675, 3511, 4161]  \n",
       "4     [1675, 4161, 1177, 5787, 1936]  [2772, 1675, 5248, 4040, 2902]  \n",
       "...                              ...                             ...  \n",
       "3372   [1675, 4161, 1177, 885, 5359]   [1465, 885, 1872, 1169, 2239]  \n",
       "3373   [4161, 1675, 1177, 885, 4269]    [885, 1465, 4161, 1065, 997]  \n",
       "3374   [4161, 885, 1177, 1675, 1465]    [1465, 885, 1065, 1484, 846]  \n",
       "3375   [4161, 885, 1675, 1177, 4269]    [885, 1465, 4161, 1065, 997]  \n",
       "3376   [4161, 1177, 1675, 885, 4269]    [1465, 885, 1065, 997, 2239]  \n",
       "\n",
       "[3377 rows x 4 columns]"
      ]
     },
     "execution_count": 110,
     "metadata": {},
     "output_type": "execute_result"
    }
   ],
   "source": [
    "result"
   ]
  },
  {
   "cell_type": "code",
   "execution_count": 117,
   "metadata": {},
   "outputs": [],
   "source": [
    "from implicit.evaluation import precision_at_k"
   ]
  },
  {
   "cell_type": "code",
   "execution_count": 102,
   "metadata": {},
   "outputs": [],
   "source": [
    "\n",
    "def precision_at_k(recommended_list, bought_list, k=5):\n",
    "    \n",
    "    bought_list = np.array(bought_list)\n",
    "    recommended_list = np.array(recommended_list)\n",
    "    \n",
    "    bought_list = bought_list  # Тут нет [:k] !!\n",
    "    recommended_list = recommended_list[:k]\n",
    "    \n",
    "    flags = np.isin(bought_list, recommended_list)\n",
    "    precision = flags.sum() / len(recommended_list)\n",
    "    \n",
    "    \n",
    "    return precision"
   ]
  },
  {
   "cell_type": "code",
   "execution_count": 103,
   "metadata": {},
   "outputs": [
    {
     "data": {
      "text/plain": [
       "0.00882440035534496"
      ]
     },
     "execution_count": 103,
     "metadata": {},
     "output_type": "execute_result"
    }
   ],
   "source": [
    "result.apply(lambda x: precision_at_k(x['itemitem'], x['actual'],  5), axis=1).mean()"
   ]
  },
  {
   "cell_type": "code",
   "execution_count": 111,
   "metadata": {},
   "outputs": [
    {
     "data": {
      "text/plain": [
       "0.0024874148652650288"
      ]
     },
     "execution_count": 111,
     "metadata": {},
     "output_type": "execute_result"
    }
   ],
   "source": [
    "result.apply(lambda x: precision_at_k(x['als'], x['actual'],  5), axis=1).mean()"
   ]
  },
  {
   "cell_type": "code",
   "execution_count": null,
   "metadata": {},
   "outputs": [],
   "source": []
  },
  {
   "cell_type": "code",
   "execution_count": 282,
   "metadata": {},
   "outputs": [],
   "source": [
    "from lightfm.datasets import fetch_movielens\n",
    "\n",
    "movielens = fetch_movielens()"
   ]
  },
  {
   "cell_type": "code",
   "execution_count": 283,
   "metadata": {},
   "outputs": [
    {
     "name": "stdout",
     "output_type": "stream",
     "text": [
      "train <class 'scipy.sparse.coo.coo_matrix'> (943, 1682)\n",
      "test <class 'scipy.sparse.coo.coo_matrix'> (943, 1682)\n",
      "item_features <class 'scipy.sparse.csr.csr_matrix'> (1682, 1682)\n",
      "item_feature_labels <class 'numpy.ndarray'> (1682,)\n",
      "item_labels <class 'numpy.ndarray'> (1682,)\n"
     ]
    }
   ],
   "source": [
    "for key, value in movielens.items():\n",
    "    print(key, type(value), value.shape)"
   ]
  },
  {
   "cell_type": "code",
   "execution_count": 284,
   "metadata": {},
   "outputs": [],
   "source": [
    "train = movielens['train']\n",
    "test = movielens['test']"
   ]
  },
  {
   "cell_type": "code",
   "execution_count": 285,
   "metadata": {},
   "outputs": [
    {
     "data": {
      "text/plain": [
       "<943x1682 sparse matrix of type '<class 'numpy.int32'>'\n",
       "\twith 90570 stored elements in COOrdinate format>"
      ]
     },
     "execution_count": 285,
     "metadata": {},
     "output_type": "execute_result"
    }
   ],
   "source": [
    "train"
   ]
  },
  {
   "cell_type": "code",
   "execution_count": 116,
   "metadata": {},
   "outputs": [
    {
     "data": {
      "application/vnd.jupyter.widget-view+json": {
       "model_id": "8bee2002c1f542178d26878eb50e2fe6",
       "version_major": 2,
       "version_minor": 0
      },
      "text/plain": [
       "HBox(children=(IntProgress(value=0, max=15), HTML(value='')))"
      ]
     },
     "metadata": {},
     "output_type": "display_data"
    },
    {
     "name": "stdout",
     "output_type": "stream",
     "text": [
      "\n"
     ]
    }
   ],
   "source": [
    "model = AlternatingLeastSquares() # K - кол-во билжайших соседей\n",
    "\n",
    "model.fit(train.T.tocsr(),  # На вход item-user matrix\n",
    "          show_progress=True)"
   ]
  },
  {
   "cell_type": "code",
   "execution_count": 123,
   "metadata": {},
   "outputs": [
    {
     "data": {
      "application/vnd.jupyter.widget-view+json": {
       "model_id": "ac2e8e59e8a14635a0e190fa6e3120f7",
       "version_major": 2,
       "version_minor": 0
      },
      "text/plain": [
       "HBox(children=(IntProgress(value=0, max=943), HTML(value='')))"
      ]
     },
     "metadata": {},
     "output_type": "display_data"
    },
    {
     "name": "stdout",
     "output_type": "stream",
     "text": [
      "\n"
     ]
    },
    {
     "data": {
      "text/plain": [
       "0.20593849416755036"
      ]
     },
     "execution_count": 123,
     "metadata": {},
     "output_type": "execute_result"
    }
   ],
   "source": [
    "precision_at_k(model, train, test)"
   ]
  },
  {
   "cell_type": "code",
   "execution_count": 124,
   "metadata": {},
   "outputs": [
    {
     "data": {
      "text/plain": [
       "<943x1682 sparse matrix of type '<class 'numpy.int32'>'\n",
       "\twith 90570 stored elements in COOrdinate format>"
      ]
     },
     "execution_count": 124,
     "metadata": {},
     "output_type": "execute_result"
    }
   ],
   "source": [
    "train"
   ]
  },
  {
   "cell_type": "code",
   "execution_count": 125,
   "metadata": {},
   "outputs": [
    {
     "data": {
      "text/plain": [
       "<943x1682 sparse matrix of type '<class 'numpy.int32'>'\n",
       "\twith 9430 stored elements in COOrdinate format>"
      ]
     },
     "execution_count": 125,
     "metadata": {},
     "output_type": "execute_result"
    }
   ],
   "source": [
    "test"
   ]
  },
  {
   "cell_type": "code",
   "execution_count": 126,
   "metadata": {},
   "outputs": [
    {
     "data": {
      "text/plain": [
       "array([[5, 3, 4, ..., 0, 0, 0],\n",
       "       [4, 0, 0, ..., 0, 0, 0],\n",
       "       [0, 0, 0, ..., 0, 0, 0],\n",
       "       ...,\n",
       "       [5, 0, 0, ..., 0, 0, 0],\n",
       "       [0, 0, 0, ..., 0, 0, 0],\n",
       "       [0, 5, 0, ..., 0, 0, 0]])"
      ]
     },
     "execution_count": 126,
     "metadata": {},
     "output_type": "execute_result"
    }
   ],
   "source": [
    "train.toarray()"
   ]
  },
  {
   "cell_type": "code",
   "execution_count": null,
   "metadata": {},
   "outputs": [],
   "source": []
  },
  {
   "cell_type": "code",
   "execution_count": 221,
   "metadata": {},
   "outputs": [],
   "source": [
    "import os\n",
    "import sys\n",
    "import pandas as pd\n",
    "import numpy as np\n",
    "from scipy.sparse import csr_matrix, save_npz, load_npz, vstack, hstack, lil_matrix\n",
    "import implicit\n",
    "import pickle\n",
    "from implicit.evaluation import train_test_split, precision_at_k, mean_average_precision_at_k\n",
    "\n",
    "\n",
    "def load_data():\n",
    "    '''load the MovieLens 1m dataset in a Pandas dataframe'''\n",
    "    ratings = pd.read_csv('ml-1m/ratings.dat', delimiter='::', header=None, \n",
    "        names=['user_id', 'movie_id', 'rating', 'timestamp'], \n",
    "        usecols=['user_id', 'movie_id', 'rating'], engine='python')\n",
    "    \n",
    "    ratings['user_id'] = ratings['user_id']-1\n",
    "    ratings['movie_id'] = ratings['movie_id']-1\n",
    "    return ratings\n",
    "\n",
    "data = load_data()\n",
    "\n"
   ]
  },
  {
   "cell_type": "code",
   "execution_count": 222,
   "metadata": {},
   "outputs": [],
   "source": [
    "def sparse_matrices(df):\n",
    "    '''creates the sparse user-item and item-user matrices'''\n",
    "\n",
    "    # using a scalar value (40) to convert ratings from a scale (1-5) to a like/click/view (1)\n",
    "    alpha = 40\n",
    "\n",
    "    sparse_user_item = csr_matrix( ([alpha]*len(df['movie_id']), (df['user_id'], df['movie_id']) ))\n",
    "    # transposing the item-user matrix to create a user-item matrix\n",
    "    sparse_item_user = sparse_user_item.T.tocsr()\n",
    "    # save the matrices for recalculating user on the fly \n",
    "    save_npz(\"sparse_user_item.npz\", sparse_user_item)\n",
    "    save_npz(\"sparse_item_user.npz\", sparse_item_user)\n",
    "\n",
    "    return sparse_user_item, sparse_item_user\n",
    "\n",
    "sparse_user_item, sparse_item_user = sparse_matrices(data)"
   ]
  },
  {
   "cell_type": "code",
   "execution_count": 223,
   "metadata": {},
   "outputs": [],
   "source": [
    "def model():\n",
    "    '''computes p@k and map@k evaluation mettrics and saves model'''\n",
    "    sparse_item_user = load_npz(\"sparse_item_user.npz\")\n",
    "\n",
    "    train, test = train_test_split(sparse_item_user, train_percentage=0.8)\n",
    "\n",
    "    model = implicit.als.AlternatingLeastSquares(factors=100, \n",
    "        regularization=0.1, iterations=20, calculate_training_loss=False)\n",
    "    \n",
    "    #train[train > 0] = 1\n",
    "    \n",
    "    model.fit(train)\n",
    "\n",
    "    with open('model.sav', 'wb') as pickle_out:\n",
    "        pickle.dump(model, pickle_out)\n",
    "\n",
    "    p_at_k = precision_at_k(model, train_user_items=train, \n",
    "        test_user_items=test, K=10)\n",
    "    m_at_k = mean_average_precision_at_k(model, train, test, K=10)\n",
    "\n",
    "    return p_at_k, m_at_k\n"
   ]
  },
  {
   "cell_type": "code",
   "execution_count": 136,
   "metadata": {},
   "outputs": [
    {
     "data": {
      "application/vnd.jupyter.widget-view+json": {
       "model_id": "72a6b1efe4c846199122f6a5cc98df86",
       "version_major": 2,
       "version_minor": 0
      },
      "text/plain": [
       "HBox(children=(IntProgress(value=0, max=20), HTML(value='')))"
      ]
     },
     "metadata": {},
     "output_type": "display_data"
    },
    {
     "name": "stdout",
     "output_type": "stream",
     "text": [
      "\n"
     ]
    },
    {
     "data": {
      "application/vnd.jupyter.widget-view+json": {
       "model_id": "18b52e61767d4cf6afbc4a6f11621189",
       "version_major": 2,
       "version_minor": 0
      },
      "text/plain": [
       "HBox(children=(IntProgress(value=0, max=3953), HTML(value='')))"
      ]
     },
     "metadata": {},
     "output_type": "display_data"
    },
    {
     "name": "stdout",
     "output_type": "stream",
     "text": [
      "\n"
     ]
    },
    {
     "data": {
      "application/vnd.jupyter.widget-view+json": {
       "model_id": "94e7d12c642049fca01de8ff24ecc2c5",
       "version_major": 2,
       "version_minor": 0
      },
      "text/plain": [
       "HBox(children=(IntProgress(value=0, max=3953), HTML(value='')))"
      ]
     },
     "metadata": {},
     "output_type": "display_data"
    },
    {
     "name": "stdout",
     "output_type": "stream",
     "text": [
      "\n"
     ]
    },
    {
     "data": {
      "text/plain": [
       "(0.0091458212469713, 0.002262804749274254)"
      ]
     },
     "execution_count": 136,
     "metadata": {},
     "output_type": "execute_result"
    }
   ],
   "source": [
    "model()"
   ]
  },
  {
   "cell_type": "code",
   "execution_count": 242,
   "metadata": {},
   "outputs": [],
   "source": [
    "train, test = train_test_split(sparse_user_item, train_percentage=0.8)"
   ]
  },
  {
   "cell_type": "code",
   "execution_count": 286,
   "metadata": {},
   "outputs": [],
   "source": [
    "train = train.toarray()\n",
    "train[train > 1] = 1\n",
    "\n",
    "frozen_train = train\n",
    "\n",
    "tr = np.where(train > 0)\n",
    "tr_ = []\n",
    "tr_.append(list(tr[0]))\n",
    "tr_.append(list(tr[1]))"
   ]
  },
  {
   "cell_type": "code",
   "execution_count": 287,
   "metadata": {},
   "outputs": [],
   "source": [
    "df_train = pd.DataFrame()\n",
    "df_train['user_id'] = tr_[0]\n",
    "df_train['item_id'] = tr_[1]\n",
    "df_train['user_id'] = df_train['user_id'].astype(np.int16)\n",
    "df_train['item_id'] = df_train['item_id'].astype(np.int16)"
   ]
  },
  {
   "cell_type": "code",
   "execution_count": 288,
   "metadata": {},
   "outputs": [],
   "source": [
    "test = test.todense()\n",
    "test[test > 1] = 1\n",
    "\n",
    "frozen_test = test\n",
    "\n",
    "te = np.where(test > 0)\n",
    "te_ = []\n",
    "te_.append(list(te[0]))\n",
    "te_.append(list(te[1]))"
   ]
  },
  {
   "cell_type": "code",
   "execution_count": 289,
   "metadata": {},
   "outputs": [],
   "source": [
    "df_train_items = df_train.groupby('item_id')['user_id'].unique().reset_index() #.astype(np.int16)\n",
    "#df_test_items = df_test.groupby('item_id')['user_id'].unique().reset_index()"
   ]
  },
  {
   "cell_type": "code",
   "execution_count": 292,
   "metadata": {},
   "outputs": [],
   "source": [
    "from tqdm import tqdm\n",
    "import gc"
   ]
  },
  {
   "cell_type": "code",
   "execution_count": 305,
   "metadata": {},
   "outputs": [
    {
     "data": {
      "text/plain": [
       "92231"
      ]
     },
     "execution_count": 305,
     "metadata": {},
     "output_type": "execute_result"
    }
   ],
   "source": [
    "gc.collect()"
   ]
  },
  {
   "cell_type": "code",
   "execution_count": 290,
   "metadata": {
    "collapsed": true
   },
   "outputs": [
    {
     "data": {
      "text/html": [
       "<div>\n",
       "<style scoped>\n",
       "    .dataframe tbody tr th:only-of-type {\n",
       "        vertical-align: middle;\n",
       "    }\n",
       "\n",
       "    .dataframe tbody tr th {\n",
       "        vertical-align: top;\n",
       "    }\n",
       "\n",
       "    .dataframe thead th {\n",
       "        text-align: right;\n",
       "    }\n",
       "</style>\n",
       "<table border=\"1\" class=\"dataframe\">\n",
       "  <thead>\n",
       "    <tr style=\"text-align: right;\">\n",
       "      <th></th>\n",
       "      <th>item_id</th>\n",
       "      <th>user_id</th>\n",
       "    </tr>\n",
       "  </thead>\n",
       "  <tbody>\n",
       "    <tr>\n",
       "      <th>0</th>\n",
       "      <td>0</td>\n",
       "      <td>[0, 1, 5, 9, 12, 14, 15, 17, 19, 20, 22, 24, 2...</td>\n",
       "    </tr>\n",
       "    <tr>\n",
       "      <th>1</th>\n",
       "      <td>1</td>\n",
       "      <td>[0, 12, 21, 29, 41, 48, 63, 71, 82, 86, 91, 94...</td>\n",
       "    </tr>\n",
       "    <tr>\n",
       "      <th>2</th>\n",
       "      <td>2</td>\n",
       "      <td>[0, 42, 48, 58, 61, 62, 81, 94, 98, 103, 129, ...</td>\n",
       "    </tr>\n",
       "    <tr>\n",
       "      <th>3</th>\n",
       "      <td>3</td>\n",
       "      <td>[0, 6, 9, 11, 12, 15, 17, 21, 42, 48, 58, 61, ...</td>\n",
       "    </tr>\n",
       "    <tr>\n",
       "      <th>4</th>\n",
       "      <td>4</td>\n",
       "      <td>[0, 12, 20, 27, 43, 71, 91, 101, 108, 117, 129...</td>\n",
       "    </tr>\n",
       "    <tr>\n",
       "      <th>...</th>\n",
       "      <td>...</td>\n",
       "      <td>...</td>\n",
       "    </tr>\n",
       "    <tr>\n",
       "      <th>1675</th>\n",
       "      <td>1677</td>\n",
       "      <td>[862]</td>\n",
       "    </tr>\n",
       "    <tr>\n",
       "      <th>1676</th>\n",
       "      <td>1678</td>\n",
       "      <td>[862]</td>\n",
       "    </tr>\n",
       "    <tr>\n",
       "      <th>1677</th>\n",
       "      <td>1679</td>\n",
       "      <td>[862]</td>\n",
       "    </tr>\n",
       "    <tr>\n",
       "      <th>1678</th>\n",
       "      <td>1680</td>\n",
       "      <td>[895]</td>\n",
       "    </tr>\n",
       "    <tr>\n",
       "      <th>1679</th>\n",
       "      <td>1681</td>\n",
       "      <td>[915]</td>\n",
       "    </tr>\n",
       "  </tbody>\n",
       "</table>\n",
       "<p>1680 rows × 2 columns</p>\n",
       "</div>"
      ],
      "text/plain": [
       "      item_id                                            user_id\n",
       "0           0  [0, 1, 5, 9, 12, 14, 15, 17, 19, 20, 22, 24, 2...\n",
       "1           1  [0, 12, 21, 29, 41, 48, 63, 71, 82, 86, 91, 94...\n",
       "2           2  [0, 42, 48, 58, 61, 62, 81, 94, 98, 103, 129, ...\n",
       "3           3  [0, 6, 9, 11, 12, 15, 17, 21, 42, 48, 58, 61, ...\n",
       "4           4  [0, 12, 20, 27, 43, 71, 91, 101, 108, 117, 129...\n",
       "...       ...                                                ...\n",
       "1675     1677                                              [862]\n",
       "1676     1678                                              [862]\n",
       "1677     1679                                              [862]\n",
       "1678     1680                                              [895]\n",
       "1679     1681                                              [915]\n",
       "\n",
       "[1680 rows x 2 columns]"
      ]
     },
     "execution_count": 290,
     "metadata": {},
     "output_type": "execute_result"
    }
   ],
   "source": [
    "df_train_items"
   ]
  },
  {
   "cell_type": "code",
   "execution_count": 311,
   "metadata": {
    "collapsed": true
   },
   "outputs": [
    {
     "name": "stderr",
     "output_type": "stream",
     "text": [
      "\n",
      "\n",
      "0it [00:00, ?it/s]\n",
      "\n",
      "9it [00:00, 85.33it/s]\n",
      "\n",
      "22it [00:00, 94.83it/s]\n",
      "\n",
      "38it [00:00, 107.55it/s]\n",
      "\n",
      "48it [00:00, 104.86it/s]\n",
      "\n",
      "59it [00:00, 105.44it/s]\n",
      "\n",
      "70it [00:00, 105.40it/s]\n",
      "\n",
      "83it [00:00, 111.19it/s]\n",
      "\n",
      "95it [00:00, 112.75it/s]\n",
      "\n",
      "106it [00:00, 97.64it/s]\n",
      "\n",
      "121it [00:01, 108.83it/s]\n",
      "\n",
      "134it [00:01, 112.94it/s]\n",
      "\n",
      "150it [00:01, 122.47it/s]\n",
      "\n",
      "163it [00:01, 115.37it/s]\n",
      "\n",
      "175it [00:01, 91.62it/s] \n",
      "\n",
      "186it [00:01, 87.19it/s]\n",
      "\n",
      "196it [00:01, 86.23it/s]\n",
      "\n",
      "206it [00:01, 88.90it/s]\n",
      "\n",
      "216it [00:02, 79.87it/s]\n",
      "\n",
      "227it [00:02, 86.62it/s]\n",
      "\n",
      "237it [00:02, 80.65it/s]\n",
      "\n",
      "250it [00:02, 90.08it/s]\n",
      "\n",
      "268it [00:02, 105.22it/s]\n",
      "\n",
      "280it [00:02, 100.74it/s]\n",
      "\n",
      "292it [00:02, 101.92it/s]\n",
      "\n",
      "306it [00:02, 110.46it/s]\n",
      "\n",
      "322it [00:03, 120.96it/s]\n",
      "\n",
      "338it [00:03, 129.58it/s]\n",
      "\n",
      "356it [00:03, 140.17it/s]\n",
      "\n",
      "380it [00:03, 158.90it/s]\n",
      "\n",
      "400it [00:03, 168.93it/s]\n",
      "\n",
      "419it [00:03, 163.07it/s]\n",
      "\n",
      "437it [00:03, 156.06it/s]\n",
      "\n",
      "457it [00:03, 154.70it/s]\n",
      "\n",
      "475it [00:03, 158.84it/s]\n",
      "\n",
      "492it [00:04, 160.67it/s]\n",
      "\n",
      "509it [00:04, 159.71it/s]\n",
      "\n",
      "526it [00:04, 154.28it/s]\n",
      "\n",
      "542it [00:04, 155.51it/s]\n",
      "\n",
      "558it [00:04, 139.99it/s]\n",
      "\n",
      "581it [00:04, 157.65it/s]\n",
      "\n",
      "606it [00:04, 176.18it/s]\n",
      "\n",
      "634it [00:04, 197.83it/s]\n",
      "\n",
      "656it [00:04, 203.43it/s]\n",
      "\n",
      "678it [00:05, 206.99it/s]\n",
      "\n",
      "700it [00:05, 184.06it/s]\n",
      "\n",
      "728it [00:05, 204.28it/s]\n",
      "\n",
      "750it [00:05, 170.07it/s]\n",
      "\n",
      "779it [00:05, 193.79it/s]\n",
      "\n",
      "819it [00:05, 229.13it/s]\n",
      "\n",
      "855it [00:05, 255.03it/s]\n",
      "\n",
      "885it [00:05, 235.27it/s]\n",
      "\n",
      "934it [00:06, 278.31it/s]\n",
      "\n",
      "969it [00:06, 294.31it/s]\n",
      "\n",
      "1016it [00:06, 327.39it/s]\n",
      "\n",
      "1053it [00:06, 337.30it/s]\n",
      "\n",
      "1105it [00:06, 376.26it/s]\n",
      "\n",
      "1170it [00:06, 429.86it/s]\n",
      "\n",
      "1219it [00:06, 429.92it/s]\n",
      "\n",
      "1266it [00:07, 168.55it/s]\n",
      "\n",
      "1386it [00:07, 226.99it/s]\n",
      "\n",
      "1506it [00:07, 299.74it/s]\n",
      "\n",
      "1680it [00:07, 221.32it/s]"
     ]
    }
   ],
   "source": [
    "dict_H = {}\n",
    "for i, row in tqdm(df_train_items.iterrows()):\n",
    "    dict_H[i] = set()\n",
    "    for user in row['user_id']:\n",
    "        a = np.where(train[user] == 1)\n",
    "        a = set(a[0].astype(np.int16)) - set([i])\n",
    "        a = frozenset(a)\n",
    "        dict_H[i].add(a)"
   ]
  },
  {
   "cell_type": "code",
   "execution_count": 312,
   "metadata": {},
   "outputs": [
    {
     "data": {
      "text/plain": [
       "90967964"
      ]
     },
     "execution_count": 312,
     "metadata": {},
     "output_type": "execute_result"
    }
   ],
   "source": [
    "len(repr(dict_H))"
   ]
  },
  {
   "cell_type": "code",
   "execution_count": 302,
   "metadata": {},
   "outputs": [
    {
     "data": {
      "text/plain": [
       "91411786"
      ]
     },
     "execution_count": 302,
     "metadata": {},
     "output_type": "execute_result"
    }
   ],
   "source": [
    "len(repr(dict_H))"
   ]
  },
  {
   "cell_type": "code",
   "execution_count": 313,
   "metadata": {
    "scrolled": true
   },
   "outputs": [],
   "source": [
    "del(dict_H)"
   ]
  },
  {
   "cell_type": "code",
   "execution_count": null,
   "metadata": {},
   "outputs": [],
   "source": []
  }
 ],
 "metadata": {
  "kernelspec": {
   "display_name": "Python 3",
   "language": "python",
   "name": "python3"
  },
  "language_info": {
   "codemirror_mode": {
    "name": "ipython",
    "version": 3
   },
   "file_extension": ".py",
   "mimetype": "text/x-python",
   "name": "python",
   "nbconvert_exporter": "python",
   "pygments_lexer": "ipython3",
   "version": "3.6.5"
  }
 },
 "nbformat": 4,
 "nbformat_minor": 2
}
