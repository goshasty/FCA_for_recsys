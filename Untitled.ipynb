{
 "cells": [
  {
   "cell_type": "code",
   "execution_count": 26,
   "metadata": {},
   "outputs": [],
   "source": [
    "from implicit import als\n",
    "from implicit.nearest_neighbours import ItemItemRecommender\n",
    "import pandas as pd\n",
    "import numpy as np\n",
    "\n",
    "from scipy.sparse import csr_matrix"
   ]
  },
  {
   "cell_type": "code",
   "execution_count": 5,
   "metadata": {},
   "outputs": [
    {
     "name": "stderr",
     "output_type": "stream",
     "text": [
      "C:\\ProgramData\\Anaconda3\\lib\\site-packages\\ipykernel_launcher.py:1: ParserWarning: Falling back to the 'python' engine because the 'c' engine does not support regex separators (separators > 1 char and different from '\\s+' are interpreted as regex); you can avoid this warning by specifying engine='python'.\n",
      "  \"\"\"Entry point for launching an IPython kernel.\n"
     ]
    }
   ],
   "source": [
    "df = pd.read_csv('ml-1m/ratings.dat', sep='::', names=['item_id', 'user_id', 'rating', 'tt'])"
   ]
  },
  {
   "cell_type": "code",
   "execution_count": 18,
   "metadata": {},
   "outputs": [],
   "source": [
    "msk_test = df['tt'] > 978300000\n",
    "test = df[msk_test]\n",
    "train = df[~msk_test]"
   ]
  },
  {
   "cell_type": "code",
   "execution_count": 20,
   "metadata": {},
   "outputs": [],
   "source": [
    "user_item_matrix = pd.pivot_table(train, \n",
    "                                  index='user_id',\n",
    "                                  columns='item_id', \n",
    "                                  values='rating',\n",
    "                                  aggfunc='count', \n",
    "                                  fill_value=0                                      \n",
    "                                 )"
   ]
  },
  {
   "cell_type": "code",
   "execution_count": 92,
   "metadata": {},
   "outputs": [],
   "source": [
    "dict_users = {}\n",
    "for i, user in enumerate(user_item_matrix.index):\n",
    "    dict_users[user] = i"
   ]
  },
  {
   "cell_type": "code",
   "execution_count": 24,
   "metadata": {},
   "outputs": [
    {
     "data": {
      "text/html": [
       "<div>\n",
       "<style scoped>\n",
       "    .dataframe tbody tr th:only-of-type {\n",
       "        vertical-align: middle;\n",
       "    }\n",
       "\n",
       "    .dataframe tbody tr th {\n",
       "        vertical-align: top;\n",
       "    }\n",
       "\n",
       "    .dataframe thead th {\n",
       "        text-align: right;\n",
       "    }\n",
       "</style>\n",
       "<table border=\"1\" class=\"dataframe\">\n",
       "  <thead>\n",
       "    <tr style=\"text-align: right;\">\n",
       "      <th>item_id</th>\n",
       "      <th>2</th>\n",
       "      <th>3</th>\n",
       "      <th>4</th>\n",
       "      <th>5</th>\n",
       "      <th>6</th>\n",
       "      <th>7</th>\n",
       "      <th>8</th>\n",
       "      <th>9</th>\n",
       "      <th>10</th>\n",
       "      <th>11</th>\n",
       "      <th>...</th>\n",
       "      <th>6031</th>\n",
       "      <th>6032</th>\n",
       "      <th>6033</th>\n",
       "      <th>6034</th>\n",
       "      <th>6035</th>\n",
       "      <th>6036</th>\n",
       "      <th>6037</th>\n",
       "      <th>6038</th>\n",
       "      <th>6039</th>\n",
       "      <th>6040</th>\n",
       "    </tr>\n",
       "    <tr>\n",
       "      <th>user_id</th>\n",
       "      <th></th>\n",
       "      <th></th>\n",
       "      <th></th>\n",
       "      <th></th>\n",
       "      <th></th>\n",
       "      <th></th>\n",
       "      <th></th>\n",
       "      <th></th>\n",
       "      <th></th>\n",
       "      <th></th>\n",
       "      <th></th>\n",
       "      <th></th>\n",
       "      <th></th>\n",
       "      <th></th>\n",
       "      <th></th>\n",
       "      <th></th>\n",
       "      <th></th>\n",
       "      <th></th>\n",
       "      <th></th>\n",
       "      <th></th>\n",
       "      <th></th>\n",
       "    </tr>\n",
       "  </thead>\n",
       "  <tbody>\n",
       "    <tr>\n",
       "      <th>1</th>\n",
       "      <td>0.0</td>\n",
       "      <td>0.0</td>\n",
       "      <td>0.0</td>\n",
       "      <td>0.0</td>\n",
       "      <td>1.0</td>\n",
       "      <td>0.0</td>\n",
       "      <td>1.0</td>\n",
       "      <td>1.0</td>\n",
       "      <td>1.0</td>\n",
       "      <td>0.0</td>\n",
       "      <td>...</td>\n",
       "      <td>0.0</td>\n",
       "      <td>1.0</td>\n",
       "      <td>0.0</td>\n",
       "      <td>0.0</td>\n",
       "      <td>1.0</td>\n",
       "      <td>0.0</td>\n",
       "      <td>0.0</td>\n",
       "      <td>0.0</td>\n",
       "      <td>0.0</td>\n",
       "      <td>1.0</td>\n",
       "    </tr>\n",
       "    <tr>\n",
       "      <th>2</th>\n",
       "      <td>0.0</td>\n",
       "      <td>0.0</td>\n",
       "      <td>0.0</td>\n",
       "      <td>0.0</td>\n",
       "      <td>0.0</td>\n",
       "      <td>0.0</td>\n",
       "      <td>0.0</td>\n",
       "      <td>0.0</td>\n",
       "      <td>0.0</td>\n",
       "      <td>0.0</td>\n",
       "      <td>...</td>\n",
       "      <td>0.0</td>\n",
       "      <td>0.0</td>\n",
       "      <td>0.0</td>\n",
       "      <td>0.0</td>\n",
       "      <td>0.0</td>\n",
       "      <td>0.0</td>\n",
       "      <td>0.0</td>\n",
       "      <td>0.0</td>\n",
       "      <td>0.0</td>\n",
       "      <td>0.0</td>\n",
       "    </tr>\n",
       "    <tr>\n",
       "      <th>3</th>\n",
       "      <td>0.0</td>\n",
       "      <td>0.0</td>\n",
       "      <td>0.0</td>\n",
       "      <td>0.0</td>\n",
       "      <td>0.0</td>\n",
       "      <td>0.0</td>\n",
       "      <td>0.0</td>\n",
       "      <td>0.0</td>\n",
       "      <td>0.0</td>\n",
       "      <td>0.0</td>\n",
       "      <td>...</td>\n",
       "      <td>0.0</td>\n",
       "      <td>0.0</td>\n",
       "      <td>0.0</td>\n",
       "      <td>0.0</td>\n",
       "      <td>1.0</td>\n",
       "      <td>0.0</td>\n",
       "      <td>0.0</td>\n",
       "      <td>0.0</td>\n",
       "      <td>0.0</td>\n",
       "      <td>0.0</td>\n",
       "    </tr>\n",
       "  </tbody>\n",
       "</table>\n",
       "<p>3 rows × 6033 columns</p>\n",
       "</div>"
      ],
      "text/plain": [
       "item_id  2     3     4     5     6     7     8     9     10    11    ...  \\\n",
       "user_id                                                              ...   \n",
       "1         0.0   0.0   0.0   0.0   1.0   0.0   1.0   1.0   1.0   0.0  ...   \n",
       "2         0.0   0.0   0.0   0.0   0.0   0.0   0.0   0.0   0.0   0.0  ...   \n",
       "3         0.0   0.0   0.0   0.0   0.0   0.0   0.0   0.0   0.0   0.0  ...   \n",
       "\n",
       "item_id  6031  6032  6033  6034  6035  6036  6037  6038  6039  6040  \n",
       "user_id                                                              \n",
       "1         0.0   1.0   0.0   0.0   1.0   0.0   0.0   0.0   0.0   1.0  \n",
       "2         0.0   0.0   0.0   0.0   0.0   0.0   0.0   0.0   0.0   0.0  \n",
       "3         0.0   0.0   0.0   0.0   1.0   0.0   0.0   0.0   0.0   0.0  \n",
       "\n",
       "[3 rows x 6033 columns]"
      ]
     },
     "execution_count": 24,
     "metadata": {},
     "output_type": "execute_result"
    }
   ],
   "source": [
    "user_item_matrix[user_item_matrix > 0] = 1 # так как в итоге хотим предсказать \n",
    "user_item_matrix = user_item_matrix.astype(float) # необходимый тип матрицы для implicit\n",
    "\n",
    "# переведем в формат saprse matrix\n",
    "sparse_user_item = csr_matrix(user_item_matrix).tocsr()\n",
    "\n",
    "user_item_matrix.head(3)"
   ]
  },
  {
   "cell_type": "code",
   "execution_count": 27,
   "metadata": {
    "collapsed": true
   },
   "outputs": [
    {
     "data": {
      "application/vnd.jupyter.widget-view+json": {
       "model_id": "cf44462a27df4414869e94209af73c17",
       "version_major": 2,
       "version_minor": 0
      },
      "text/plain": [
       "HBox(children=(IntProgress(value=0, max=6033), HTML(value='')))"
      ]
     },
     "metadata": {},
     "output_type": "display_data"
    },
    {
     "name": "stdout",
     "output_type": "stream",
     "text": [
      "\n"
     ]
    },
    {
     "ename": "NameError",
     "evalue": "name 'userid_to_id' is not defined",
     "output_type": "error",
     "traceback": [
      "\u001b[1;31m---------------------------------------------------------------------------\u001b[0m",
      "\u001b[1;31mNameError\u001b[0m                                 Traceback (most recent call last)",
      "\u001b[1;32m<ipython-input-27-3039c69fd132>\u001b[0m in \u001b[0;36m<module>\u001b[1;34m()\u001b[0m\n\u001b[0;32m      4\u001b[0m           show_progress=True)\n\u001b[0;32m      5\u001b[0m \u001b[1;33m\u001b[0m\u001b[0m\n\u001b[1;32m----> 6\u001b[1;33m recs = model.recommend(userid=userid_to_id[2],  # userid - id от 0 до N\n\u001b[0m\u001b[0;32m      7\u001b[0m                         \u001b[0muser_items\u001b[0m\u001b[1;33m=\u001b[0m\u001b[0mcsr_matrix\u001b[0m\u001b[1;33m(\u001b[0m\u001b[0muser_item_matrix\u001b[0m\u001b[1;33m)\u001b[0m\u001b[1;33m.\u001b[0m\u001b[0mtocsr\u001b[0m\u001b[1;33m(\u001b[0m\u001b[1;33m)\u001b[0m\u001b[1;33m,\u001b[0m   \u001b[1;31m# на вход user-item matrix\u001b[0m\u001b[1;33m\u001b[0m\u001b[0m\n\u001b[0;32m      8\u001b[0m                         \u001b[0mN\u001b[0m\u001b[1;33m=\u001b[0m\u001b[1;36m5\u001b[0m\u001b[1;33m,\u001b[0m \u001b[1;31m# кол-во рекомендаций\u001b[0m\u001b[1;33m\u001b[0m\u001b[0m\n",
      "\u001b[1;31mNameError\u001b[0m: name 'userid_to_id' is not defined"
     ]
    }
   ],
   "source": [
    "model = ItemItemRecommender(K=5, num_threads=4) # K - кол-во билжайших соседей\n",
    "\n",
    "model.fit(csr_matrix(user_item_matrix).T.tocsr(),  # На вход item-user matrix\n",
    "          show_progress=True)\n"
   ]
  },
  {
   "cell_type": "code",
   "execution_count": 33,
   "metadata": {},
   "outputs": [
    {
     "data": {
      "text/plain": [
       "[(4161, 3950.0),\n",
       " (1675, 2661.0),\n",
       " (1177, 2495.0),\n",
       " (4269, 1707.0),\n",
       " (885, 1345.0),\n",
       " (1936, 1184.0),\n",
       " (4336, 1002.0),\n",
       " (1280, 891.0),\n",
       " (5787, 612.0),\n",
       " (1146, 539.0)]"
      ]
     },
     "execution_count": 33,
     "metadata": {},
     "output_type": "execute_result"
    }
   ],
   "source": [
    "model.recommend(1, csr_matrix(user_item_matrix).T.tocsr())"
   ]
  },
  {
   "cell_type": "code",
   "execution_count": 104,
   "metadata": {},
   "outputs": [],
   "source": [
    "from implicit.als import AlternatingLeastSquares"
   ]
  },
  {
   "cell_type": "code",
   "execution_count": 105,
   "metadata": {},
   "outputs": [
    {
     "name": "stderr",
     "output_type": "stream",
     "text": [
      "WARNING:root:OpenBLAS detected. Its highly recommend to set the environment variable 'export OPENBLAS_NUM_THREADS=1' to disable its internal multithreading\n"
     ]
    }
   ],
   "source": [
    "model = AlternatingLeastSquares()"
   ]
  },
  {
   "cell_type": "code",
   "execution_count": 108,
   "metadata": {},
   "outputs": [
    {
     "data": {
      "application/vnd.jupyter.widget-view+json": {
       "model_id": "238f9c8b6b8a447eb0aa77f57c9bc3bd",
       "version_major": 2,
       "version_minor": 0
      },
      "text/plain": [
       "HBox(children=(IntProgress(value=0, max=15), HTML(value='')))"
      ]
     },
     "metadata": {},
     "output_type": "display_data"
    },
    {
     "name": "stdout",
     "output_type": "stream",
     "text": [
      "\n"
     ]
    }
   ],
   "source": [
    "model = AlternatingLeastSquares() # K - кол-во билжайших соседей\n",
    "\n",
    "model.fit(csr_matrix(user_item_matrix).T.tocsr(),  # На вход item-user matrix\n",
    "          show_progress=True)"
   ]
  },
  {
   "cell_type": "code",
   "execution_count": 48,
   "metadata": {},
   "outputs": [],
   "source": [
    "no_test = (set(train['user_id'].unique()) ^ set(test['user_id'].unique()))"
   ]
  },
  {
   "cell_type": "code",
   "execution_count": 64,
   "metadata": {},
   "outputs": [],
   "source": [
    "test.reset_index(drop=True, inplace=True)"
   ]
  },
  {
   "cell_type": "code",
   "execution_count": 78,
   "metadata": {},
   "outputs": [],
   "source": [
    "test = test[~test['user_id'].isin(no_test)].reset_index(drop=True)"
   ]
  },
  {
   "cell_type": "code",
   "execution_count": 79,
   "metadata": {
    "collapsed": true
   },
   "outputs": [
    {
     "data": {
      "text/html": [
       "<div>\n",
       "<style scoped>\n",
       "    .dataframe tbody tr th:only-of-type {\n",
       "        vertical-align: middle;\n",
       "    }\n",
       "\n",
       "    .dataframe tbody tr th {\n",
       "        vertical-align: top;\n",
       "    }\n",
       "\n",
       "    .dataframe thead th {\n",
       "        text-align: right;\n",
       "    }\n",
       "</style>\n",
       "<table border=\"1\" class=\"dataframe\">\n",
       "  <thead>\n",
       "    <tr style=\"text-align: right;\">\n",
       "      <th></th>\n",
       "      <th>user_id</th>\n",
       "      <th>actual</th>\n",
       "    </tr>\n",
       "  </thead>\n",
       "  <tbody>\n",
       "    <tr>\n",
       "      <th>0</th>\n",
       "      <td>1</td>\n",
       "      <td>[1, 19, 23, 28, 65, 68, 78, 90, 96, 99, 151, 1...</td>\n",
       "    </tr>\n",
       "    <tr>\n",
       "      <th>1</th>\n",
       "      <td>2</td>\n",
       "      <td>[10, 23, 44, 92, 148, 195, 293, 308, 366, 438,...</td>\n",
       "    </tr>\n",
       "    <tr>\n",
       "      <th>2</th>\n",
       "      <td>3</td>\n",
       "      <td>[137, 308, 439, 442, 531, 752, 979, 1088, 1121...</td>\n",
       "    </tr>\n",
       "    <tr>\n",
       "      <th>3</th>\n",
       "      <td>4</td>\n",
       "      <td>[338, 528, 531, 678, 752, 1194, 1203, 1579, 19...</td>\n",
       "    </tr>\n",
       "    <tr>\n",
       "      <th>4</th>\n",
       "      <td>5</td>\n",
       "      <td>[237, 329, 343, 442, 528, 531, 699, 869, 1088,...</td>\n",
       "    </tr>\n",
       "    <tr>\n",
       "      <th>5</th>\n",
       "      <td>6</td>\n",
       "      <td>[23, 63, 92, 151, 173, 195, 306, 331, 349, 362...</td>\n",
       "    </tr>\n",
       "    <tr>\n",
       "      <th>6</th>\n",
       "      <td>7</td>\n",
       "      <td>[36, 137, 151, 338, 439, 518, 531, 639, 839, 9...</td>\n",
       "    </tr>\n",
       "    <tr>\n",
       "      <th>7</th>\n",
       "      <td>8</td>\n",
       "      <td>[92, 195, 1088, 2015, 2077, 2195, 4834]</td>\n",
       "    </tr>\n",
       "    <tr>\n",
       "      <th>8</th>\n",
       "      <td>9</td>\n",
       "      <td>[65, 937, 1447, 1958, 2077, 3507, 3768]</td>\n",
       "    </tr>\n",
       "    <tr>\n",
       "      <th>9</th>\n",
       "      <td>10</td>\n",
       "      <td>[22, 102, 146, 173, 184, 271, 308, 338, 349, 3...</td>\n",
       "    </tr>\n",
       "  </tbody>\n",
       "</table>\n",
       "</div>"
      ],
      "text/plain": [
       "   user_id                                             actual\n",
       "0        1  [1, 19, 23, 28, 65, 68, 78, 90, 96, 99, 151, 1...\n",
       "1        2  [10, 23, 44, 92, 148, 195, 293, 308, 366, 438,...\n",
       "2        3  [137, 308, 439, 442, 531, 752, 979, 1088, 1121...\n",
       "3        4  [338, 528, 531, 678, 752, 1194, 1203, 1579, 19...\n",
       "4        5  [237, 329, 343, 442, 528, 531, 699, 869, 1088,...\n",
       "5        6  [23, 63, 92, 151, 173, 195, 306, 331, 349, 362...\n",
       "6        7  [36, 137, 151, 338, 439, 518, 531, 639, 839, 9...\n",
       "7        8            [92, 195, 1088, 2015, 2077, 2195, 4834]\n",
       "8        9            [65, 937, 1447, 1958, 2077, 3507, 3768]\n",
       "9       10  [22, 102, 146, 173, 184, 271, 308, 338, 349, 3..."
      ]
     },
     "execution_count": 79,
     "metadata": {},
     "output_type": "execute_result"
    }
   ],
   "source": [
    "result = test.groupby('user_id')['item_id'].unique().reset_index()\n",
    "result.columns=['user_id', 'actual']\n",
    "result['actual'] = result['actual'].apply(lambda x: list(x))\n",
    "result.head(10)"
   ]
  },
  {
   "cell_type": "code",
   "execution_count": 96,
   "metadata": {},
   "outputs": [],
   "source": [
    "result['user_id'] = result['user_id'].replace(dict_users)"
   ]
  },
  {
   "cell_type": "code",
   "execution_count": 109,
   "metadata": {},
   "outputs": [],
   "source": [
    "result['als'] = result['user_id'].\\\n",
    "    apply(lambda x: [rec[0] for rec in \n",
    "                    model.recommend(userid=x, \n",
    "                                    user_items=sparse_user_item,   # на вход user-item matrix\n",
    "                                    N=5, \n",
    "                                    filter_already_liked_items=False, \n",
    "                                    filter_items=None, \n",
    "                                    recalculate_user=True)])"
   ]
  },
  {
   "cell_type": "code",
   "execution_count": 110,
   "metadata": {},
   "outputs": [
    {
     "data": {
      "text/html": [
       "<div>\n",
       "<style scoped>\n",
       "    .dataframe tbody tr th:only-of-type {\n",
       "        vertical-align: middle;\n",
       "    }\n",
       "\n",
       "    .dataframe tbody tr th {\n",
       "        vertical-align: top;\n",
       "    }\n",
       "\n",
       "    .dataframe thead th {\n",
       "        text-align: right;\n",
       "    }\n",
       "</style>\n",
       "<table border=\"1\" class=\"dataframe\">\n",
       "  <thead>\n",
       "    <tr style=\"text-align: right;\">\n",
       "      <th></th>\n",
       "      <th>user_id</th>\n",
       "      <th>actual</th>\n",
       "      <th>itemitem</th>\n",
       "      <th>als</th>\n",
       "    </tr>\n",
       "  </thead>\n",
       "  <tbody>\n",
       "    <tr>\n",
       "      <th>0</th>\n",
       "      <td>0</td>\n",
       "      <td>[1, 19, 23, 28, 65, 68, 78, 90, 96, 99, 151, 1...</td>\n",
       "      <td>[1675, 4161, 1177, 5787, 4269]</td>\n",
       "      <td>[1146, 220, 761, 3561, 4707]</td>\n",
       "    </tr>\n",
       "    <tr>\n",
       "      <th>1</th>\n",
       "      <td>1</td>\n",
       "      <td>[10, 23, 44, 92, 148, 195, 293, 308, 366, 438,...</td>\n",
       "      <td>[1675, 4161, 1177, 5787, 1936]</td>\n",
       "      <td>[546, 4502, 625, 3799, 5550]</td>\n",
       "    </tr>\n",
       "    <tr>\n",
       "      <th>2</th>\n",
       "      <td>2</td>\n",
       "      <td>[137, 308, 439, 442, 531, 752, 979, 1088, 1121...</td>\n",
       "      <td>[1675, 4161, 1177, 5787, 5359]</td>\n",
       "      <td>[885, 2772, 5880, 5780, 2058]</td>\n",
       "    </tr>\n",
       "    <tr>\n",
       "      <th>3</th>\n",
       "      <td>3</td>\n",
       "      <td>[338, 528, 531, 678, 752, 1194, 1203, 1579, 19...</td>\n",
       "      <td>[1675, 4161, 1177, 5787, 2058]</td>\n",
       "      <td>[1957, 2772, 1675, 3511, 4161]</td>\n",
       "    </tr>\n",
       "    <tr>\n",
       "      <th>4</th>\n",
       "      <td>4</td>\n",
       "      <td>[237, 329, 343, 442, 528, 531, 699, 869, 1088,...</td>\n",
       "      <td>[1675, 4161, 1177, 5787, 1936]</td>\n",
       "      <td>[2772, 1675, 5248, 4040, 2902]</td>\n",
       "    </tr>\n",
       "    <tr>\n",
       "      <th>...</th>\n",
       "      <td>...</td>\n",
       "      <td>...</td>\n",
       "      <td>...</td>\n",
       "      <td>...</td>\n",
       "    </tr>\n",
       "    <tr>\n",
       "      <th>3372</th>\n",
       "      <td>3673</td>\n",
       "      <td>[19, 65, 90, 92, 99, 127, 134, 149, 150, 169, ...</td>\n",
       "      <td>[1675, 4161, 1177, 885, 5359]</td>\n",
       "      <td>[1465, 885, 1872, 1169, 2239]</td>\n",
       "    </tr>\n",
       "    <tr>\n",
       "      <th>3373</th>\n",
       "      <td>3674</td>\n",
       "      <td>[73, 85, 116, 149, 150, 151, 169, 192, 229, 23...</td>\n",
       "      <td>[4161, 1675, 1177, 885, 4269]</td>\n",
       "      <td>[885, 1465, 4161, 1065, 997]</td>\n",
       "    </tr>\n",
       "    <tr>\n",
       "      <th>3374</th>\n",
       "      <td>3675</td>\n",
       "      <td>[151, 173, 195, 319, 482, 623, 624, 678, 1015,...</td>\n",
       "      <td>[4161, 885, 1177, 1675, 1465]</td>\n",
       "      <td>[1465, 885, 1065, 1484, 846]</td>\n",
       "    </tr>\n",
       "    <tr>\n",
       "      <th>3375</th>\n",
       "      <td>3676</td>\n",
       "      <td>[173, 195, 593, 1242, 1733, 1865, 1946, 2031, ...</td>\n",
       "      <td>[4161, 885, 1675, 1177, 4269]</td>\n",
       "      <td>[885, 1465, 4161, 1065, 997]</td>\n",
       "    </tr>\n",
       "    <tr>\n",
       "      <th>3376</th>\n",
       "      <td>3677</td>\n",
       "      <td>[23, 102, 127, 149, 151, 173, 224, 228, 319, 3...</td>\n",
       "      <td>[4161, 1177, 1675, 885, 4269]</td>\n",
       "      <td>[1465, 885, 1065, 997, 2239]</td>\n",
       "    </tr>\n",
       "  </tbody>\n",
       "</table>\n",
       "<p>3377 rows × 4 columns</p>\n",
       "</div>"
      ],
      "text/plain": [
       "      user_id                                             actual  \\\n",
       "0           0  [1, 19, 23, 28, 65, 68, 78, 90, 96, 99, 151, 1...   \n",
       "1           1  [10, 23, 44, 92, 148, 195, 293, 308, 366, 438,...   \n",
       "2           2  [137, 308, 439, 442, 531, 752, 979, 1088, 1121...   \n",
       "3           3  [338, 528, 531, 678, 752, 1194, 1203, 1579, 19...   \n",
       "4           4  [237, 329, 343, 442, 528, 531, 699, 869, 1088,...   \n",
       "...       ...                                                ...   \n",
       "3372     3673  [19, 65, 90, 92, 99, 127, 134, 149, 150, 169, ...   \n",
       "3373     3674  [73, 85, 116, 149, 150, 151, 169, 192, 229, 23...   \n",
       "3374     3675  [151, 173, 195, 319, 482, 623, 624, 678, 1015,...   \n",
       "3375     3676  [173, 195, 593, 1242, 1733, 1865, 1946, 2031, ...   \n",
       "3376     3677  [23, 102, 127, 149, 151, 173, 224, 228, 319, 3...   \n",
       "\n",
       "                            itemitem                             als  \n",
       "0     [1675, 4161, 1177, 5787, 4269]    [1146, 220, 761, 3561, 4707]  \n",
       "1     [1675, 4161, 1177, 5787, 1936]    [546, 4502, 625, 3799, 5550]  \n",
       "2     [1675, 4161, 1177, 5787, 5359]   [885, 2772, 5880, 5780, 2058]  \n",
       "3     [1675, 4161, 1177, 5787, 2058]  [1957, 2772, 1675, 3511, 4161]  \n",
       "4     [1675, 4161, 1177, 5787, 1936]  [2772, 1675, 5248, 4040, 2902]  \n",
       "...                              ...                             ...  \n",
       "3372   [1675, 4161, 1177, 885, 5359]   [1465, 885, 1872, 1169, 2239]  \n",
       "3373   [4161, 1675, 1177, 885, 4269]    [885, 1465, 4161, 1065, 997]  \n",
       "3374   [4161, 885, 1177, 1675, 1465]    [1465, 885, 1065, 1484, 846]  \n",
       "3375   [4161, 885, 1675, 1177, 4269]    [885, 1465, 4161, 1065, 997]  \n",
       "3376   [4161, 1177, 1675, 885, 4269]    [1465, 885, 1065, 997, 2239]  \n",
       "\n",
       "[3377 rows x 4 columns]"
      ]
     },
     "execution_count": 110,
     "metadata": {},
     "output_type": "execute_result"
    }
   ],
   "source": [
    "result"
   ]
  },
  {
   "cell_type": "code",
   "execution_count": 117,
   "metadata": {},
   "outputs": [],
   "source": [
    "from implicit.evaluation import precision_at_k"
   ]
  },
  {
   "cell_type": "code",
   "execution_count": 102,
   "metadata": {},
   "outputs": [],
   "source": [
    "\n",
    "def precision_at_k(recommended_list, bought_list, k=5):\n",
    "    \n",
    "    bought_list = np.array(bought_list)\n",
    "    recommended_list = np.array(recommended_list)\n",
    "    \n",
    "    bought_list = bought_list  # Тут нет [:k] !!\n",
    "    recommended_list = recommended_list[:k]\n",
    "    \n",
    "    flags = np.isin(bought_list, recommended_list)\n",
    "    precision = flags.sum() / len(recommended_list)\n",
    "    \n",
    "    \n",
    "    return precision"
   ]
  },
  {
   "cell_type": "code",
   "execution_count": 103,
   "metadata": {},
   "outputs": [
    {
     "data": {
      "text/plain": [
       "0.00882440035534496"
      ]
     },
     "execution_count": 103,
     "metadata": {},
     "output_type": "execute_result"
    }
   ],
   "source": [
    "result.apply(lambda x: precision_at_k(x['itemitem'], x['actual'],  5), axis=1).mean()"
   ]
  },
  {
   "cell_type": "code",
   "execution_count": 111,
   "metadata": {},
   "outputs": [
    {
     "data": {
      "text/plain": [
       "0.0024874148652650288"
      ]
     },
     "execution_count": 111,
     "metadata": {},
     "output_type": "execute_result"
    }
   ],
   "source": [
    "result.apply(lambda x: precision_at_k(x['als'], x['actual'],  5), axis=1).mean()"
   ]
  },
  {
   "cell_type": "code",
   "execution_count": null,
   "metadata": {},
   "outputs": [],
   "source": []
  },
  {
   "cell_type": "code",
   "execution_count": 282,
   "metadata": {},
   "outputs": [],
   "source": [
    "from lightfm.datasets import fetch_movielens\n",
    "\n",
    "movielens = fetch_movielens()"
   ]
  },
  {
   "cell_type": "code",
   "execution_count": 283,
   "metadata": {},
   "outputs": [
    {
     "name": "stdout",
     "output_type": "stream",
     "text": [
      "train <class 'scipy.sparse.coo.coo_matrix'> (943, 1682)\n",
      "test <class 'scipy.sparse.coo.coo_matrix'> (943, 1682)\n",
      "item_features <class 'scipy.sparse.csr.csr_matrix'> (1682, 1682)\n",
      "item_feature_labels <class 'numpy.ndarray'> (1682,)\n",
      "item_labels <class 'numpy.ndarray'> (1682,)\n"
     ]
    }
   ],
   "source": [
    "for key, value in movielens.items():\n",
    "    print(key, type(value), value.shape)"
   ]
  },
  {
   "cell_type": "code",
   "execution_count": 284,
   "metadata": {},
   "outputs": [],
   "source": [
    "train = movielens['train']\n",
    "test = movielens['test']"
   ]
  },
  {
   "cell_type": "code",
   "execution_count": 285,
   "metadata": {},
   "outputs": [
    {
     "data": {
      "text/plain": [
       "<943x1682 sparse matrix of type '<class 'numpy.int32'>'\n",
       "\twith 90570 stored elements in COOrdinate format>"
      ]
     },
     "execution_count": 285,
     "metadata": {},
     "output_type": "execute_result"
    }
   ],
   "source": [
    "train"
   ]
  },
  {
   "cell_type": "code",
   "execution_count": 116,
   "metadata": {},
   "outputs": [
    {
     "data": {
      "application/vnd.jupyter.widget-view+json": {
       "model_id": "8bee2002c1f542178d26878eb50e2fe6",
       "version_major": 2,
       "version_minor": 0
      },
      "text/plain": [
       "HBox(children=(IntProgress(value=0, max=15), HTML(value='')))"
      ]
     },
     "metadata": {},
     "output_type": "display_data"
    },
    {
     "name": "stdout",
     "output_type": "stream",
     "text": [
      "\n"
     ]
    }
   ],
   "source": [
    "model = AlternatingLeastSquares() # K - кол-во билжайших соседей\n",
    "\n",
    "model.fit(train.T.tocsr(),  # На вход item-user matrix\n",
    "          show_progress=True)"
   ]
  },
  {
   "cell_type": "code",
   "execution_count": 123,
   "metadata": {},
   "outputs": [
    {
     "data": {
      "application/vnd.jupyter.widget-view+json": {
       "model_id": "ac2e8e59e8a14635a0e190fa6e3120f7",
       "version_major": 2,
       "version_minor": 0
      },
      "text/plain": [
       "HBox(children=(IntProgress(value=0, max=943), HTML(value='')))"
      ]
     },
     "metadata": {},
     "output_type": "display_data"
    },
    {
     "name": "stdout",
     "output_type": "stream",
     "text": [
      "\n"
     ]
    },
    {
     "data": {
      "text/plain": [
       "0.20593849416755036"
      ]
     },
     "execution_count": 123,
     "metadata": {},
     "output_type": "execute_result"
    }
   ],
   "source": [
    "precision_at_k(model, train, test)"
   ]
  },
  {
   "cell_type": "code",
   "execution_count": 124,
   "metadata": {},
   "outputs": [
    {
     "data": {
      "text/plain": [
       "<943x1682 sparse matrix of type '<class 'numpy.int32'>'\n",
       "\twith 90570 stored elements in COOrdinate format>"
      ]
     },
     "execution_count": 124,
     "metadata": {},
     "output_type": "execute_result"
    }
   ],
   "source": [
    "train"
   ]
  },
  {
   "cell_type": "code",
   "execution_count": 125,
   "metadata": {},
   "outputs": [
    {
     "data": {
      "text/plain": [
       "<943x1682 sparse matrix of type '<class 'numpy.int32'>'\n",
       "\twith 9430 stored elements in COOrdinate format>"
      ]
     },
     "execution_count": 125,
     "metadata": {},
     "output_type": "execute_result"
    }
   ],
   "source": [
    "test"
   ]
  },
  {
   "cell_type": "code",
   "execution_count": 126,
   "metadata": {},
   "outputs": [
    {
     "data": {
      "text/plain": [
       "array([[5, 3, 4, ..., 0, 0, 0],\n",
       "       [4, 0, 0, ..., 0, 0, 0],\n",
       "       [0, 0, 0, ..., 0, 0, 0],\n",
       "       ...,\n",
       "       [5, 0, 0, ..., 0, 0, 0],\n",
       "       [0, 0, 0, ..., 0, 0, 0],\n",
       "       [0, 5, 0, ..., 0, 0, 0]])"
      ]
     },
     "execution_count": 126,
     "metadata": {},
     "output_type": "execute_result"
    }
   ],
   "source": [
    "train.toarray()"
   ]
  },
  {
   "cell_type": "code",
   "execution_count": null,
   "metadata": {},
   "outputs": [],
   "source": []
  },
  {
   "cell_type": "code",
   "execution_count": 221,
   "metadata": {},
   "outputs": [],
   "source": [
    "import os\n",
    "import sys\n",
    "import pandas as pd\n",
    "import numpy as np\n",
    "from scipy.sparse import csr_matrix, save_npz, load_npz, vstack, hstack, lil_matrix\n",
    "import implicit\n",
    "import pickle\n",
    "from implicit.evaluation import train_test_split, precision_at_k, mean_average_precision_at_k\n",
    "\n",
    "\n",
    "def load_data():\n",
    "    '''load the MovieLens 1m dataset in a Pandas dataframe'''\n",
    "    ratings = pd.read_csv('ml-1m/ratings.dat', delimiter='::', header=None, \n",
    "        names=['user_id', 'movie_id', 'rating', 'timestamp'], \n",
    "        usecols=['user_id', 'movie_id', 'rating'], engine='python')\n",
    "    \n",
    "    ratings['user_id'] = ratings['user_id']-1\n",
    "    ratings['movie_id'] = ratings['movie_id']-1\n",
    "    return ratings\n",
    "\n",
    "data = load_data()\n",
    "\n"
   ]
  },
  {
   "cell_type": "code",
   "execution_count": 222,
   "metadata": {},
   "outputs": [],
   "source": [
    "def sparse_matrices(df):\n",
    "    '''creates the sparse user-item and item-user matrices'''\n",
    "\n",
    "    # using a scalar value (40) to convert ratings from a scale (1-5) to a like/click/view (1)\n",
    "    alpha = 40\n",
    "\n",
    "    sparse_user_item = csr_matrix( ([alpha]*len(df['movie_id']), (df['user_id'], df['movie_id']) ))\n",
    "    # transposing the item-user matrix to create a user-item matrix\n",
    "    sparse_item_user = sparse_user_item.T.tocsr()\n",
    "    # save the matrices for recalculating user on the fly \n",
    "    save_npz(\"sparse_user_item.npz\", sparse_user_item)\n",
    "    save_npz(\"sparse_item_user.npz\", sparse_item_user)\n",
    "\n",
    "    return sparse_user_item, sparse_item_user\n",
    "\n",
    "sparse_user_item, sparse_item_user = sparse_matrices(data)"
   ]
  },
  {
   "cell_type": "code",
   "execution_count": 223,
   "metadata": {},
   "outputs": [],
   "source": [
    "def model():\n",
    "    '''computes p@k and map@k evaluation mettrics and saves model'''\n",
    "    sparse_item_user = load_npz(\"sparse_item_user.npz\")\n",
    "\n",
    "    train, test = train_test_split(sparse_item_user, train_percentage=0.8)\n",
    "\n",
    "    model = implicit.als.AlternatingLeastSquares(factors=100, \n",
    "        regularization=0.1, iterations=20, calculate_training_loss=False)\n",
    "    \n",
    "    #train[train > 0] = 1\n",
    "    \n",
    "    model.fit(train)\n",
    "\n",
    "    with open('model.sav', 'wb') as pickle_out:\n",
    "        pickle.dump(model, pickle_out)\n",
    "\n",
    "    p_at_k = precision_at_k(model, train_user_items=train, \n",
    "        test_user_items=test, K=10)\n",
    "    m_at_k = mean_average_precision_at_k(model, train, test, K=10)\n",
    "\n",
    "    return p_at_k, m_at_k\n"
   ]
  },
  {
   "cell_type": "code",
   "execution_count": 136,
   "metadata": {},
   "outputs": [
    {
     "data": {
      "application/vnd.jupyter.widget-view+json": {
       "model_id": "72a6b1efe4c846199122f6a5cc98df86",
       "version_major": 2,
       "version_minor": 0
      },
      "text/plain": [
       "HBox(children=(IntProgress(value=0, max=20), HTML(value='')))"
      ]
     },
     "metadata": {},
     "output_type": "display_data"
    },
    {
     "name": "stdout",
     "output_type": "stream",
     "text": [
      "\n"
     ]
    },
    {
     "data": {
      "application/vnd.jupyter.widget-view+json": {
       "model_id": "18b52e61767d4cf6afbc4a6f11621189",
       "version_major": 2,
       "version_minor": 0
      },
      "text/plain": [
       "HBox(children=(IntProgress(value=0, max=3953), HTML(value='')))"
      ]
     },
     "metadata": {},
     "output_type": "display_data"
    },
    {
     "name": "stdout",
     "output_type": "stream",
     "text": [
      "\n"
     ]
    },
    {
     "data": {
      "application/vnd.jupyter.widget-view+json": {
       "model_id": "94e7d12c642049fca01de8ff24ecc2c5",
       "version_major": 2,
       "version_minor": 0
      },
      "text/plain": [
       "HBox(children=(IntProgress(value=0, max=3953), HTML(value='')))"
      ]
     },
     "metadata": {},
     "output_type": "display_data"
    },
    {
     "name": "stdout",
     "output_type": "stream",
     "text": [
      "\n"
     ]
    },
    {
     "data": {
      "text/plain": [
       "(0.0091458212469713, 0.002262804749274254)"
      ]
     },
     "execution_count": 136,
     "metadata": {},
     "output_type": "execute_result"
    }
   ],
   "source": [
    "model()"
   ]
  },
  {
   "cell_type": "code",
   "execution_count": 242,
   "metadata": {},
   "outputs": [],
   "source": [
    "train, test = train_test_split(sparse_user_item, train_percentage=0.8)"
   ]
  },
  {
   "cell_type": "code",
   "execution_count": 286,
   "metadata": {},
   "outputs": [],
   "source": [
    "train = train.toarray()\n",
    "train[train > 1] = 1\n",
    "\n",
    "frozen_train = train\n",
    "\n",
    "tr = np.where(train > 0)\n",
    "tr_ = []\n",
    "tr_.append(list(tr[0]))\n",
    "tr_.append(list(tr[1]))"
   ]
  },
  {
   "cell_type": "code",
   "execution_count": 287,
   "metadata": {},
   "outputs": [],
   "source": [
    "df_train = pd.DataFrame()\n",
    "df_train['user_id'] = tr_[0]\n",
    "df_train['item_id'] = tr_[1]\n",
    "df_train['user_id'] = df_train['user_id'].astype(np.int16)\n",
    "df_train['item_id'] = df_train['item_id'].astype(np.int16)"
   ]
  },
  {
   "cell_type": "code",
   "execution_count": 288,
   "metadata": {},
   "outputs": [],
   "source": [
    "test = test.todense()\n",
    "test[test > 1] = 1\n",
    "\n",
    "frozen_test = test\n",
    "\n",
    "te = np.where(test > 0)\n",
    "te_ = []\n",
    "te_.append(list(te[0]))\n",
    "te_.append(list(te[1]))"
   ]
  },
  {
   "cell_type": "code",
   "execution_count": 289,
   "metadata": {},
   "outputs": [],
   "source": [
    "df_train_items = df_train.groupby('item_id')['user_id'].unique().reset_index() #.astype(np.int16)\n",
    "#df_test_items = df_test.groupby('item_id')['user_id'].unique().reset_index()"
   ]
  },
  {
   "cell_type": "code",
   "execution_count": 292,
   "metadata": {},
   "outputs": [],
   "source": [
    "from tqdm import tqdm\n",
    "import gc"
   ]
  },
  {
   "cell_type": "code",
   "execution_count": 305,
   "metadata": {},
   "outputs": [
    {
     "data": {
      "text/plain": [
       "92231"
      ]
     },
     "execution_count": 305,
     "metadata": {},
     "output_type": "execute_result"
    }
   ],
   "source": [
    "gc.collect()"
   ]
  },
  {
   "cell_type": "code",
   "execution_count": 290,
   "metadata": {
    "collapsed": true
   },
   "outputs": [
    {
     "data": {
      "text/html": [
       "<div>\n",
       "<style scoped>\n",
       "    .dataframe tbody tr th:only-of-type {\n",
       "        vertical-align: middle;\n",
       "    }\n",
       "\n",
       "    .dataframe tbody tr th {\n",
       "        vertical-align: top;\n",
       "    }\n",
       "\n",
       "    .dataframe thead th {\n",
       "        text-align: right;\n",
       "    }\n",
       "</style>\n",
       "<table border=\"1\" class=\"dataframe\">\n",
       "  <thead>\n",
       "    <tr style=\"text-align: right;\">\n",
       "      <th></th>\n",
       "      <th>item_id</th>\n",
       "      <th>user_id</th>\n",
       "    </tr>\n",
       "  </thead>\n",
       "  <tbody>\n",
       "    <tr>\n",
       "      <th>0</th>\n",
       "      <td>0</td>\n",
       "      <td>[0, 1, 5, 9, 12, 14, 15, 17, 19, 20, 22, 24, 2...</td>\n",
       "    </tr>\n",
       "    <tr>\n",
       "      <th>1</th>\n",
       "      <td>1</td>\n",
       "      <td>[0, 12, 21, 29, 41, 48, 63, 71, 82, 86, 91, 94...</td>\n",
       "    </tr>\n",
       "    <tr>\n",
       "      <th>2</th>\n",
       "      <td>2</td>\n",
       "      <td>[0, 42, 48, 58, 61, 62, 81, 94, 98, 103, 129, ...</td>\n",
       "    </tr>\n",
       "    <tr>\n",
       "      <th>3</th>\n",
       "      <td>3</td>\n",
       "      <td>[0, 6, 9, 11, 12, 15, 17, 21, 42, 48, 58, 61, ...</td>\n",
       "    </tr>\n",
       "    <tr>\n",
       "      <th>4</th>\n",
       "      <td>4</td>\n",
       "      <td>[0, 12, 20, 27, 43, 71, 91, 101, 108, 117, 129...</td>\n",
       "    </tr>\n",
       "    <tr>\n",
       "      <th>...</th>\n",
       "      <td>...</td>\n",
       "      <td>...</td>\n",
       "    </tr>\n",
       "    <tr>\n",
       "      <th>1675</th>\n",
       "      <td>1677</td>\n",
       "      <td>[862]</td>\n",
       "    </tr>\n",
       "    <tr>\n",
       "      <th>1676</th>\n",
       "      <td>1678</td>\n",
       "      <td>[862]</td>\n",
       "    </tr>\n",
       "    <tr>\n",
       "      <th>1677</th>\n",
       "      <td>1679</td>\n",
       "      <td>[862]</td>\n",
       "    </tr>\n",
       "    <tr>\n",
       "      <th>1678</th>\n",
       "      <td>1680</td>\n",
       "      <td>[895]</td>\n",
       "    </tr>\n",
       "    <tr>\n",
       "      <th>1679</th>\n",
       "      <td>1681</td>\n",
       "      <td>[915]</td>\n",
       "    </tr>\n",
       "  </tbody>\n",
       "</table>\n",
       "<p>1680 rows × 2 columns</p>\n",
       "</div>"
      ],
      "text/plain": [
       "      item_id                                            user_id\n",
       "0           0  [0, 1, 5, 9, 12, 14, 15, 17, 19, 20, 22, 24, 2...\n",
       "1           1  [0, 12, 21, 29, 41, 48, 63, 71, 82, 86, 91, 94...\n",
       "2           2  [0, 42, 48, 58, 61, 62, 81, 94, 98, 103, 129, ...\n",
       "3           3  [0, 6, 9, 11, 12, 15, 17, 21, 42, 48, 58, 61, ...\n",
       "4           4  [0, 12, 20, 27, 43, 71, 91, 101, 108, 117, 129...\n",
       "...       ...                                                ...\n",
       "1675     1677                                              [862]\n",
       "1676     1678                                              [862]\n",
       "1677     1679                                              [862]\n",
       "1678     1680                                              [895]\n",
       "1679     1681                                              [915]\n",
       "\n",
       "[1680 rows x 2 columns]"
      ]
     },
     "execution_count": 290,
     "metadata": {},
     "output_type": "execute_result"
    }
   ],
   "source": [
    "df_train_items"
   ]
  },
  {
   "cell_type": "code",
   "execution_count": 314,
   "metadata": {
    "collapsed": true
   },
   "outputs": [
    {
     "name": "stderr",
     "output_type": "stream",
     "text": [
      "\n",
      "\n",
      "0it [00:00, ?it/s]\n",
      "\n",
      "7it [00:00, 68.52it/s]\n",
      "\n",
      "13it [00:00, 65.09it/s]\n",
      "\n",
      "22it [00:00, 70.33it/s]\n",
      "\n",
      "32it [00:00, 76.50it/s]\n",
      "\n",
      "47it [00:00, 89.53it/s]\n",
      "\n",
      "56it [00:00, 81.42it/s]\n",
      "\n",
      "67it [00:00, 87.26it/s]\n",
      "\n",
      "79it [00:00, 94.16it/s]\n",
      "\n",
      "91it [00:00, 98.21it/s]\n",
      "\n",
      "102it [00:01, 94.16it/s]\n",
      "\n",
      "112it [00:01, 95.58it/s]\n",
      "\n",
      "125it [00:01, 101.41it/s]\n",
      "\n",
      "136it [00:01, 103.57it/s]\n",
      "\n",
      "152it [00:01, 114.84it/s]\n",
      "\n",
      "164it [00:01, 111.50it/s]\n",
      "\n",
      "176it [00:01, 94.11it/s] \n",
      "\n",
      "187it [00:01, 89.08it/s]\n",
      "\n",
      "197it [00:02, 86.60it/s]\n",
      "\n",
      "207it [00:02, 89.97it/s]\n",
      "\n",
      "217it [00:02, 88.12it/s]\n",
      "\n",
      "227it [00:02, 83.81it/s]\n",
      "\n",
      "236it [00:02, 84.38it/s]\n",
      "\n",
      "245it [00:02, 79.84it/s]\n",
      "\n",
      "258it [00:02, 87.56it/s]\n",
      "\n",
      "273it [00:02, 98.29it/s]\n",
      "\n",
      "284it [00:03, 92.82it/s]\n",
      "\n",
      "294it [00:03, 94.38it/s]\n",
      "\n",
      "307it [00:03, 100.79it/s]\n",
      "\n",
      "320it [00:03, 107.82it/s]\n",
      "\n",
      "338it [00:03, 122.31it/s]\n",
      "\n",
      "356it [00:03, 133.86it/s]\n",
      "\n",
      "380it [00:03, 151.26it/s]\n",
      "\n",
      "399it [00:03, 160.50it/s]\n",
      "\n",
      "417it [00:03, 150.37it/s]\n",
      "\n",
      "433it [00:04, 141.40it/s]\n",
      "\n",
      "455it [00:04, 155.34it/s]\n",
      "\n",
      "472it [00:04, 140.59it/s]\n",
      "\n",
      "487it [00:04, 108.39it/s]\n",
      "\n",
      "500it [00:04, 101.87it/s]\n",
      "\n",
      "512it [00:04, 105.59it/s]\n",
      "\n",
      "525it [00:04, 111.58it/s]\n",
      "\n",
      "546it [00:04, 127.86it/s]\n",
      "\n",
      "566it [00:05, 132.67it/s]\n",
      "\n",
      "588it [00:05, 147.28it/s]\n",
      "\n",
      "614it [00:05, 169.08it/s]\n",
      "\n",
      "640it [00:05, 188.50it/s]\n",
      "\n",
      "661it [00:05, 183.58it/s]\n",
      "\n",
      "681it [00:05, 176.80it/s]\n",
      "\n",
      "701it [00:05, 182.75it/s]\n",
      "\n",
      "721it [00:05, 163.54it/s]\n",
      "\n",
      "742it [00:05, 171.54it/s]\n",
      "\n",
      "760it [00:06, 173.85it/s]\n",
      "\n",
      "789it [00:06, 196.40it/s]\n",
      "\n",
      "823it [00:06, 224.87it/s]\n",
      "\n",
      "855it [00:06, 243.51it/s]\n",
      "\n",
      "895it [00:06, 247.09it/s]\n",
      "\n",
      "935it [00:06, 278.96it/s]\n",
      "\n",
      "967it [00:06, 289.58it/s]\n",
      "\n",
      "1012it [00:06, 323.85it/s]\n",
      "\n",
      "1047it [00:06, 324.87it/s]\n",
      "\n",
      "1100it [00:07, 367.18it/s]\n",
      "\n",
      "1162it [00:07, 417.31it/s]\n",
      "\n",
      "1226it [00:07, 464.67it/s]\n",
      "\n",
      "1278it [00:07, 455.18it/s]\n",
      "\n",
      "1327it [00:08, 166.96it/s]\n",
      "\n",
      "1446it [00:08, 224.88it/s]\n",
      "\n",
      "1596it [00:08, 301.85it/s]\n",
      "\n",
      "1680it [00:08, 201.18it/s]"
     ]
    }
   ],
   "source": [
    "dict_H = {}\n",
    "for i, row in tqdm(df_train_items.iterrows()):\n",
    "    dict_H[i] = set()\n",
    "    for user in row['user_id']:\n",
    "        a = np.where(train[user] == 1)\n",
    "        a = set(a[0].astype(np.int16)) - set([i])\n",
    "        a = frozenset(a)\n",
    "        dict_H[i].add(a)"
   ]
  },
  {
   "cell_type": "code",
   "execution_count": 318,
   "metadata": {},
   "outputs": [
    {
     "name": "stderr",
     "output_type": "stream",
     "text": [
      "\n",
      "\n",
      "\n",
      "\n",
      "  0%|                                                                                         | 0/1680 [00:00<?, ?it/s]"
     ]
    },
    {
     "name": "stdout",
     "output_type": "stream",
     "text": [
      "frozenset({257, 514, 1027, 1283, 6, 8, 12, 13, 14, 268, 271, 273, 274, 275, 20, 1046, 1047, 24, 1048, 280, 281, 282, 283, 284, 543, 286, 545, 546, 287, 289, 291, 292, 293, 1066, 299, 49, 818, 822, 1334, 312, 314, 1083, 321, 322, 324, 839, 330, 332, 844, 590, 594, 595, 596, 339, 340, 92, 863, 865, 99, 105, 108, 110, 115, 116, 117, 627, 1141, 120, 121, 123, 124, 125, 126, 128, 136, 1161, 146, 149, 407, 409, 410, 921, 923, 928, 675, 931, 677, 932, 933, 684, 1196, 1198, 689, 949, 695, 459, 716, 978, 470, 472, 984, 474, 987, 220, 221, 476, 990, 224, 247, 739, 740, 741, 743, 234, 747, 239, 1008, 1010, 755, 244, 759, 761, 762, 507}) frozenset({0, 5, 517, 520, 521, 11, 13, 16, 23, 1047, 27, 28, 1058, 552, 44, 46, 1070, 49, 1073, 55, 69, 1097, 75, 587, 78, 80, 81, 87, 88, 89, 94, 95, 97, 99, 1128, 110, 627, 116, 120, 121, 126, 127, 130, 132, 142, 143, 654, 149, 152, 154, 155, 156, 157, 160, 161, 674, 167, 168, 169, 171, 173, 174, 175, 689, 178, 179, 180, 185, 186, 187, 701, 194, 195, 196, 199, 203, 208, 209, 215, 221, 225, 226, 227, 229, 230, 232, 233, 236, 237, 239, 248, 251, 253, 256, 257, 264, 270, 272, 788, 285, 287, 301, 317, 342, 855, 356, 874, 878, 402, 407, 922, 418, 420, 432, 951, 454, 460, 474, 482, 483, 484, 503, 1513, 495, 1009, 1011, 1015, 1017, 510})\n",
      "0 1\n",
      "frozenset({257, 514, 1027, 1283, 6, 8, 12, 13, 14, 268, 271, 273, 274, 275, 20, 1046, 1047, 24, 1048, 280, 281, 282, 283, 284, 543, 286, 545, 546, 287, 289, 291, 292, 293, 1066, 299, 49, 818, 822, 1334, 312, 314, 1083, 321, 322, 324, 839, 330, 332, 844, 590, 594, 595, 596, 339, 340, 92, 863, 865, 99, 105, 108, 110, 115, 116, 117, 627, 1141, 120, 121, 123, 124, 125, 126, 128, 136, 1161, 146, 149, 407, 409, 410, 921, 923, 928, 675, 931, 677, 932, 933, 684, 1196, 1198, 689, 949, 695, 459, 716, 978, 470, 472, 984, 474, 987, 220, 221, 476, 990, 224, 247, 739, 740, 741, 743, 234, 747, 239, 1008, 1010, 755, 244, 759, 761, 762, 507}) frozenset({0, 3, 4, 6, 7, 8, 1032, 10, 11, 12, 14, 1043, 21, 1046, 23, 24, 27, 28, 30, 37, 42, 43, 46, 47, 48, 51, 53, 54, 55, 57, 61, 62, 63, 64, 65, 66, 68, 69, 71, 72, 76, 1100, 78, 80, 81, 84, 85, 86, 87, 1108, 1111, 90, 92, 93, 94, 95, 96, 97, 98, 99, 1118, 101, 105, 107, 108, 110, 1134, 113, 115, 116, 117, 1139, 120, 122, 123, 124, 126, 127, 131, 132, 133, 135, 136, 139, 142, 143, 144, 150, 152, 156, 158, 160, 162, 163, 166, 168, 171, 172, 173, 175, 177, 180, 181, 182, 183, 1207, 185, 1209, 187, 188, 189, 190, 1216, 193, 194, 195, 196, 199, 200, 201, 202, 203, 1227, 208, 209, 213, 214, 215, 216, 217, 218, 221, 222, 1247, 224, 225, 226, 227, 228, 229, 230, 231, 233, 234, 236, 237, 238, 244, 249, 256, 257, 1283, 264, 274, 275, 1302, 281, 282, 285, 287, 289, 293, 316, 317, 327, 332, 342, 348, 355, 356, 366, 372, 379, 381, 385, 1411, 390, 392, 393, 398, 400, 401, 402, 403, 404, 1424, 417, 418, 421, 422, 431, 432, 442, 450, 464, 465, 469, 470, 471, 472, 473, 475, 482, 495, 500, 1530, 508, 510, 522, 525, 530, 540, 541, 545, 548, 549, 558, 560, 561, 562, 565, 567, 568, 576, 577, 587, 590, 595, 596, 602, 608, 618, 622, 624, 627, 628, 650, 654, 657, 659, 662, 664, 671, 672, 677, 683, 684, 691, 692, 709, 714, 715, 716, 719, 721, 728, 731, 733, 734, 735, 741, 746, 754, 767, 769, 774, 779, 780, 788, 793, 796, 799, 800, 804, 891, 929, 938, 950, 965, 968, 971, 992, 1015})\n",
      "0 1\n",
      "frozenset({257, 514, 1027, 1283, 6, 8, 12, 13, 14, 268, 271, 273, 274, 275, 20, 1046, 1047, 24, 1048, 280, 281, 282, 283, 284, 543, 286, 545, 546, 287, 289, 291, 292, 293, 1066, 299, 49, 818, 822, 1334, 312, 314, 1083, 321, 322, 324, 839, 330, 332, 844, 590, 594, 595, 596, 339, 340, 92, 863, 865, 99, 105, 108, 110, 115, 116, 117, 627, 1141, 120, 121, 123, 124, 125, 126, 128, 136, 1161, 146, 149, 407, 409, 410, 921, 923, 928, 675, 931, 677, 932, 933, 684, 1196, 1198, 689, 949, 695, 459, 716, 978, 470, 472, 984, 474, 987, 220, 221, 476, 990, 224, 247, 739, 740, 741, 743, 234, 747, 239, 1008, 1010, 755, 244, 759, 761, 762, 507}) frozenset({0, 264, 522, 14, 21, 789, 28, 549, 293, 553, 48, 49, 819, 565, 309, 55, 567, 312, 833, 836, 70, 587, 78, 86, 87, 88, 94, 95, 96, 97, 98, 611, 612, 624, 626, 632, 125, 126, 133, 647, 650, 398, 401, 402, 660, 150, 924, 160, 417, 678, 423, 426, 171, 172, 173, 430, 175, 176, 431, 434, 691, 180, 182, 695, 186, 192, 193, 194, 448, 196, 450, 967, 201, 202, 203, 204, 209, 210, 473, 731, 221, 479, 225, 226, 227, 228, 229, 230, 483, 486, 750, 240, 497, 500, 509})\n",
      "0 1\n",
      "frozenset({257, 514, 1027, 1283, 6, 8, 12, 13, 14, 268, 271, 273, 274, 275, 20, 1046, 1047, 24, 1048, 280, 281, 282, 283, 284, 543, 286, 545, 546, 287, 289, 291, 292, 293, 1066, 299, 49, 818, 822, 1334, 312, 314, 1083, 321, 322, 324, 839, 330, 332, 844, 590, 594, 595, 596, 339, 340, 92, 863, 865, 99, 105, 108, 110, 115, 116, 117, 627, 1141, 120, 121, 123, 124, 125, 126, 128, 136, 1161, 146, 149, 407, 409, 410, 921, 923, 928, 675, 931, 677, 932, 933, 684, 1196, 1198, 689, 949, 695, 459, 716, 978, 470, 472, 984, 474, 987, 220, 221, 476, 990, 224, 247, 739, 740, 741, 743, 234, 747, 239, 1008, 1010, 755, 244, 759, 761, 762, 507}) frozenset({0, 3, 6, 7, 8, 9, 10, 11, 14, 1038, 16, 19, 1044, 21, 22, 24, 25, 26, 27, 28, 30, 31, 32, 1055, 35, 36, 38, 1062, 1064, 41, 44, 45, 46, 47, 1068, 49, 50, 1069, 52, 1072, 54, 55, 56, 57, 58, 60, 61, 63, 64, 67, 68, 69, 70, 1097, 75, 76, 78, 1102, 80, 81, 85, 86, 88, 91, 92, 94, 95, 96, 97, 98, 99, 1127, 1130, 1134, 1135, 1136, 115, 116, 117, 120, 122, 123, 124, 126, 127, 128, 1152, 133, 136, 1162, 1165, 143, 144, 1168, 1169, 147, 149, 1173, 155, 156, 159, 1186, 163, 1191, 1192, 1193, 170, 171, 172, 173, 174, 175, 178, 179, 180, 181, 182, 183, 184, 185, 186, 187, 1207, 189, 190, 191, 192, 1210, 194, 195, 196, 197, 1219, 199, 200, 201, 1223, 203, 1226, 205, 206, 1228, 208, 209, 210, 211, 212, 214, 215, 216, 217, 220, 221, 222, 1244, 225, 226, 227, 229, 230, 231, 232, 233, 236, 237, 238, 239, 240, 241, 1266, 1267, 257, 259, 264, 267, 268, 270, 272, 274, 275, 280, 281, 283, 284, 285, 287, 288, 291, 301, 302, 303, 312, 314, 316, 317, 318, 320, 323, 324, 325, 330, 331, 332, 333, 1354, 339, 345, 356, 357, 365, 369, 1397, 374, 1400, 378, 379, 380, 384, 386, 395, 1420, 1421, 1422, 1423, 1424, 401, 402, 1425, 404, 405, 1426, 407, 1427, 412, 420, 422, 424, 430, 431, 434, 435, 437, 439, 440, 442, 446, 447, 451, 453, 454, 457, 460, 461, 463, 465, 466, 467, 468, 470, 472, 474, 478, 479, 481, 482, 504, 505, 507, 508, 510, 512, 513, 514, 517, 520, 526, 530, 536, 543, 545, 548, 550, 555, 557, 558, 562, 565, 566, 567, 577, 580, 581, 582, 586, 587, 588, 589, 590, 595, 596, 602, 606, 630, 635, 636, 639, 641, 643, 650, 653, 654, 655, 657, 659, 664, 666, 669, 671, 672, 675, 678, 681, 683, 684, 685, 691, 692, 696, 698, 701, 704, 707, 714, 728, 732, 734, 736, 746, 749, 750, 769, 771, 772, 773, 776, 788, 791, 799, 802, 805, 822, 824, 843, 846, 852, 854, 855, 885, 894, 895, 918, 922, 923, 942, 949, 954, 955, 961, 971, 979, 990, 1005, 1007, 1009, 1010})\n",
      "0 1\n"
     ]
    },
    {
     "name": "stdout",
     "output_type": "stream",
     "text": [
      "frozenset({257, 514, 1027, 1283, 6, 8, 12, 13, 14, 268, 271, 273, 274, 275, 20, 1046, 1047, 24, 1048, 280, 281, 282, 283, 284, 543, 286, 545, 546, 287, 289, 291, 292, 293, 1066, 299, 49, 818, 822, 1334, 312, 314, 1083, 321, 322, 324, 839, 330, 332, 844, 590, 594, 595, 596, 339, 340, 92, 863, 865, 99, 105, 108, 110, 115, 116, 117, 627, 1141, 120, 121, 123, 124, 125, 126, 128, 136, 1161, 146, 149, 407, 409, 410, 921, 923, 928, 675, 931, 677, 932, 933, 684, 1196, 1198, 689, 949, 695, 459, 716, 978, 470, 472, 984, 474, 987, 220, 221, 476, 990, 224, 247, 739, 740, 741, 743, 234, 747, 239, 1008, 1010, 755, 244, 759, 761, 762, 507}) frozenset({514, 3, 515, 517, 518, 7, 8, 520, 10, 11, 12, 13, 14, 15, 527, 528, 530, 1554, 21, 22, 23, 27, 28, 37, 549, 43, 46, 1072, 561, 52, 565, 55, 567, 58, 59, 60, 61, 63, 575, 65, 577, 68, 69, 70, 581, 585, 1098, 590, 81, 1618, 84, 85, 87, 88, 602, 93, 95, 96, 97, 101, 109, 110, 113, 116, 117, 635, 128, 641, 133, 646, 1158, 650, 143, 655, 146, 659, 1173, 662, 663, 152, 156, 159, 160, 162, 164, 167, 168, 169, 1193, 683, 173, 174, 175, 176, 1198, 179, 691, 182, 184, 185, 186, 187, 699, 189, 190, 191, 701, 193, 194, 703, 196, 197, 708, 199, 201, 714, 203, 206, 719, 210, 211, 213, 215, 217, 729, 731, 734, 736, 225, 741, 230, 232, 233, 747, 236, 237, 238, 1261, 248, 760, 251, 769, 264, 777, 271, 791, 795, 809, 301, 302, 312, 317, 830, 323, 854, 356, 366, 370, 380, 384, 390, 1415, 396, 402, 918, 409, 1440, 422, 935, 431, 943, 946, 442, 460, 461, 462, 465, 468, 470, 473, 478, 479, 1523, 1013, 507, 508})\n",
      "0 1\n",
      "frozenset({257, 514, 1027, 1283, 6, 8, 12, 13, 14, 268, 271, 273, 274, 275, 20, 1046, 1047, 24, 1048, 280, 281, 282, 283, 284, 543, 286, 545, 546, 287, 289, 291, 292, 293, 1066, 299, 49, 818, 822, 1334, 312, 314, 1083, 321, 322, 324, 839, 330, 332, 844, 590, 594, 595, 596, 339, 340, 92, 863, 865, 99, 105, 108, 110, 115, 116, 117, 627, 1141, 120, 121, 123, 124, 125, 126, 128, 136, 1161, 146, 149, 407, 409, 410, 921, 923, 928, 675, 931, 677, 932, 933, 684, 1196, 1198, 689, 949, 695, 459, 716, 978, 470, 472, 984, 474, 987, 220, 221, 476, 990, 224, 247, 739, 740, 741, 743, 234, 747, 239, 1008, 1010, 755, 244, 759, 761, 762, 507}) frozenset({0, 2, 3, 1027, 1028, 6, 7, 1034, 1035, 16, 1046, 23, 24, 538, 27, 539, 32, 545, 37, 39, 40, 553, 558, 560, 49, 52, 54, 567, 61, 62, 575, 64, 576, 66, 67, 577, 1092, 70, 71, 72, 583, 584, 587, 78, 79, 81, 86, 87, 90, 93, 94, 95, 1117, 99, 107, 108, 623, 624, 116, 117, 120, 121, 122, 124, 127, 141, 142, 147, 150, 153, 160, 1184, 675, 171, 172, 173, 685, 175, 179, 180, 691, 182, 183, 196, 199, 1227, 207, 720, 721, 221, 734, 230, 232, 745, 234, 750, 239, 240, 754, 248, 249, 762, 256, 768, 778, 267, 779, 269, 270, 782, 272, 275, 789, 794, 803, 292, 808, 297, 298, 299, 300, 809, 312, 824, 332, 870, 363, 875, 366, 878, 880, 889, 893, 382, 383, 384, 385, 390, 392, 394, 397, 400, 404, 409, 925, 416, 417, 418, 419, 422, 939, 431, 943, 450, 454, 471, 1011, 500, 1012, 1015})\n",
      "0 1\n",
      "frozenset({257, 514, 1027, 1283, 6, 8, 12, 13, 14, 268, 271, 273, 274, 275, 20, 1046, 1047, 24, 1048, 280, 281, 282, 283, 284, 543, 286, 545, 546, 287, 289, 291, 292, 293, 1066, 299, 49, 818, 822, 1334, 312, 314, 1083, 321, 322, 324, 839, 330, 332, 844, 590, 594, 595, 596, 339, 340, 92, 863, 865, 99, 105, 108, 110, 115, 116, 117, 627, 1141, 120, 121, 123, 124, 125, 126, 128, 136, 1161, 146, 149, 407, 409, 410, 921, 923, 928, 675, 931, 677, 932, 933, 684, 1196, 1198, 689, 949, 695, 459, 716, 978, 470, 472, 984, 474, 987, 220, 221, 476, 990, 224, 247, 739, 740, 741, 743, 234, 747, 239, 1008, 1010, 755, 244, 759, 761, 762, 507}) frozenset({0, 2, 3, 1027, 6, 7, 1032, 10, 11, 1034, 14, 1038, 20, 21, 22, 23, 24, 25, 1047, 27, 30, 31, 38, 41, 43, 46, 47, 1070, 49, 1073, 51, 52, 1075, 54, 55, 1078, 57, 61, 62, 64, 65, 1088, 67, 68, 69, 70, 71, 76, 1100, 78, 79, 80, 81, 82, 84, 1108, 86, 87, 88, 89, 90, 91, 92, 1109, 94, 95, 96, 97, 98, 99, 100, 1117, 1118, 108, 1132, 110, 1135, 113, 1138, 116, 117, 120, 122, 123, 126, 127, 128, 131, 132, 133, 135, 136, 139, 140, 142, 143, 146, 149, 150, 152, 153, 154, 155, 156, 158, 160, 161, 162, 163, 164, 165, 166, 167, 169, 171, 172, 173, 175, 176, 177, 178, 179, 180, 181, 182, 183, 184, 185, 1202, 187, 1208, 189, 190, 191, 192, 193, 194, 195, 196, 1216, 198, 199, 200, 201, 202, 203, 1219, 1223, 206, 207, 208, 209, 210, 1227, 213, 215, 216, 217, 218, 221, 222, 224, 225, 226, 227, 228, 229, 230, 231, 232, 233, 234, 236, 237, 240, 247, 248, 249, 256, 257, 1284, 263, 264, 1295, 272, 273, 274, 275, 276, 1300, 279, 280, 281, 282, 283, 287, 289, 290, 292, 297, 299, 300, 306, 317, 318, 320, 337, 339, 355, 356, 357, 364, 365, 366, 370, 377, 379, 380, 381, 384, 386, 391, 392, 1417, 1424, 402, 403, 404, 408, 409, 410, 411, 1437, 414, 417, 418, 1442, 422, 424, 426, 427, 429, 430, 431, 432, 434, 435, 439, 440, 442, 447, 454, 456, 461, 463, 465, 466, 467, 468, 469, 1111, 471, 472, 474, 1112, 478, 479, 480, 481, 482, 483, 484, 490, 492, 495, 497, 498, 499, 501, 503, 504, 505, 506, 507, 509, 513, 519, 1544, 526, 527, 528, 529, 530, 534, 536, 539, 545, 548, 549, 558, 561, 565, 567, 568, 569, 577, 580, 581, 582, 583, 586, 590, 595, 601, 602, 606, 610, 615, 624, 626, 628, 630, 632, 634, 635, 636, 639, 641, 650, 651, 653, 654, 657, 661, 662, 664, 670, 671, 672, 678, 683, 684, 685, 691, 692, 696, 699, 701, 704, 707, 708, 709, 725, 728, 731, 736, 738, 741, 743, 745, 746, 754, 755, 760, 761, 762, 767, 771, 777, 779, 785, 788, 793, 795, 803, 804, 805, 807, 815, 819, 825, 832, 842, 844, 846, 920, 927, 935, 938, 940, 943, 960, 966, 971, 998, 1217, 1009, 1010, 1011, 1013, 1016, 1017, 1019})\n",
      "0 1\n",
      "frozenset({257, 514, 1027, 1283, 6, 8, 12, 13, 14, 268, 271, 273, 274, 275, 20, 1046, 1047, 24, 1048, 280, 281, 282, 283, 284, 543, 286, 545, 546, 287, 289, 291, 292, 293, 1066, 299, 49, 818, 822, 1334, 312, 314, 1083, 321, 322, 324, 839, 330, 332, 844, 590, 594, 595, 596, 339, 340, 92, 863, 865, 99, 105, 108, 110, 115, 116, 117, 627, 1141, 120, 121, 123, 124, 125, 126, 128, 136, 1161, 146, 149, 407, 409, 410, 921, 923, 928, 675, 931, 677, 932, 933, 684, 1196, 1198, 689, 949, 695, 459, 716, 978, 470, 472, 984, 474, 987, 220, 221, 476, 990, 224, 247, 739, 740, 741, 743, 234, 747, 239, 1008, 1010, 755, 244, 759, 761, 762, 507}) frozenset({514, 3, 264, 522, 779, 525, 16, 20, 23, 791, 28, 545, 289, 549, 293, 553, 49, 52, 565, 567, 61, 67, 839, 84, 88, 93, 861, 95, 357, 870, 104, 108, 109, 877, 366, 116, 117, 120, 635, 126, 383, 384, 385, 647, 392, 650, 398, 143, 402, 404, 406, 152, 153, 664, 410, 925, 160, 162, 931, 166, 167, 682, 171, 172, 173, 174, 175, 683, 686, 687, 691, 180, 429, 430, 183, 432, 185, 186, 434, 947, 448, 193, 194, 450, 454, 711, 200, 201, 455, 203, 207, 208, 209, 210, 215, 730, 731, 987, 221, 225, 226, 227, 228, 229, 230, 995, 232, 996, 997, 998, 999, 237, 1000, 1001, 1002, 501, 249})\n",
      "0 1\n"
     ]
    },
    {
     "name": "stdout",
     "output_type": "stream",
     "text": [
      "frozenset({257, 514, 1027, 1283, 6, 8, 12, 13, 14, 268, 271, 273, 274, 275, 20, 1046, 1047, 24, 1048, 280, 281, 282, 283, 284, 543, 286, 545, 546, 287, 289, 291, 292, 293, 1066, 299, 49, 818, 822, 1334, 312, 314, 1083, 321, 322, 324, 839, 330, 332, 844, 590, 594, 595, 596, 339, 340, 92, 863, 865, 99, 105, 108, 110, 115, 116, 117, 627, 1141, 120, 121, 123, 124, 125, 126, 128, 136, 1161, 146, 149, 407, 409, 410, 921, 923, 928, 675, 931, 677, 932, 933, 684, 1196, 1198, 689, 949, 695, 459, 716, 978, 470, 472, 984, 474, 987, 220, 221, 476, 990, 224, 247, 739, 740, 741, 743, 234, 747, 239, 1008, 1010, 755, 244, 759, 761, 762, 507}) frozenset({513, 514, 3, 1027, 517, 6, 7, 518, 519, 520, 11, 522, 524, 525, 527, 529, 21, 22, 536, 27, 28, 30, 544, 545, 547, 549, 552, 553, 43, 558, 560, 49, 562, 51, 52, 53, 565, 55, 566, 57, 567, 568, 572, 61, 1078, 63, 576, 1089, 67, 68, 71, 584, 76, 78, 81, 596, 1109, 87, 90, 93, 1117, 95, 96, 97, 99, 100, 104, 116, 117, 120, 121, 126, 643, 134, 648, 649, 653, 654, 658, 149, 1181, 671, 160, 672, 673, 678, 167, 171, 683, 173, 174, 175, 176, 177, 178, 179, 180, 181, 182, 691, 184, 185, 186, 187, 188, 1214, 192, 193, 1217, 195, 196, 707, 198, 199, 200, 201, 202, 203, 204, 711, 1227, 207, 209, 210, 213, 214, 216, 217, 218, 731, 221, 225, 226, 227, 228, 229, 230, 231, 232, 233, 234, 740, 742, 237, 239, 240, 757, 249, 1273, 253, 257, 773, 264, 777, 272, 1304, 794, 292, 807, 299, 306, 825, 317, 830, 833, 839, 848, 865, 356, 870, 364, 366, 372, 379, 384, 385, 390, 392, 397, 398, 400, 401, 402, 404, 405, 409, 410, 411, 412, 925, 417, 420, 422, 427, 428, 430, 946, 435, 443, 446, 447, 448, 449, 450, 451, 452, 467, 985, 500, 1015, 1016, 507, 509})\n",
      "0 1\n",
      "frozenset({257, 514, 1027, 1283, 6, 8, 12, 13, 14, 268, 271, 273, 274, 275, 20, 1046, 1047, 24, 1048, 280, 281, 282, 283, 284, 543, 286, 545, 546, 287, 289, 291, 292, 293, 1066, 299, 49, 818, 822, 1334, 312, 314, 1083, 321, 322, 324, 839, 330, 332, 844, 590, 594, 595, 596, 339, 340, 92, 863, 865, 99, 105, 108, 110, 115, 116, 117, 627, 1141, 120, 121, 123, 124, 125, 126, 128, 136, 1161, 146, 149, 407, 409, 410, 921, 923, 928, 675, 931, 677, 932, 933, 684, 1196, 1198, 689, 949, 695, 459, 716, 978, 470, 472, 984, 474, 987, 220, 221, 476, 990, 224, 247, 739, 740, 741, 743, 234, 747, 239, 1008, 1010, 755, 244, 759, 761, 762, 507}) frozenset({2, 6, 7, 13, 14, 21, 1046, 23, 24, 25, 27, 30, 31, 32, 42, 47, 48, 49, 50, 51, 57, 61, 62, 63, 64, 1089, 66, 1090, 68, 69, 70, 71, 72, 76, 77, 78, 1100, 81, 82, 87, 88, 89, 90, 1115, 93, 94, 95, 96, 97, 98, 100, 101, 1125, 1132, 109, 110, 116, 120, 126, 127, 131, 132, 136, 138, 139, 140, 141, 142, 143, 150, 152, 160, 1187, 167, 169, 172, 173, 174, 175, 176, 177, 178, 179, 180, 181, 182, 1205, 184, 185, 187, 189, 190, 192, 193, 194, 195, 196, 1221, 197, 198, 199, 201, 1226, 1227, 1228, 1229, 1230, 202, 203, 204, 206, 207, 208, 209, 210, 214, 215, 218, 225, 226, 227, 228, 231, 233, 236, 237, 238, 240, 249, 256, 264, 273, 274, 281, 285, 288, 289, 293, 327, 355, 356, 365, 370, 377, 380, 384, 385, 388, 390, 391, 392, 394, 397, 398, 401, 402, 403, 404, 414, 415, 416, 418, 419, 421, 422, 430, 431, 432, 435, 442, 444, 446, 447, 448, 449, 450, 461, 462, 464, 470, 471, 472, 473, 482, 484, 490, 494, 495, 497, 504, 505, 506, 508, 509, 510, 513, 514, 517, 519, 522, 531, 538, 541, 549, 551, 553, 559, 565, 567, 572, 585, 587, 590, 595, 596, 621, 622, 626, 630, 635, 639, 647, 648, 649, 650, 654, 656, 659, 664, 670, 673, 674, 678, 682, 691, 698, 704, 706, 707, 711, 714, 715, 719, 727, 735, 736, 738, 741, 746, 767, 778, 780, 790, 814, 842, 854, 861, 877, 891, 945, 959, 967, 970, 975, 1218, 1017, 1220})\n",
      "0 1\n",
      "frozenset({257, 514, 1027, 1283, 6, 8, 12, 13, 14, 268, 271, 273, 274, 275, 20, 1046, 1047, 24, 1048, 280, 281, 282, 283, 284, 543, 286, 545, 546, 287, 289, 291, 292, 293, 1066, 299, 49, 818, 822, 1334, 312, 314, 1083, 321, 322, 324, 839, 330, 332, 844, 590, 594, 595, 596, 339, 340, 92, 863, 865, 99, 105, 108, 110, 115, 116, 117, 627, 1141, 120, 121, 123, 124, 125, 126, 128, 136, 1161, 146, 149, 407, 409, 410, 921, 923, 928, 675, 931, 677, 932, 933, 684, 1196, 1198, 689, 949, 695, 459, 716, 978, 470, 472, 984, 474, 987, 220, 221, 476, 990, 224, 247, 739, 740, 741, 743, 234, 747, 239, 1008, 1010, 755, 244, 759, 761, 762, 507}) frozenset({2, 514, 4, 1027, 6, 1034, 11, 21, 23, 27, 28, 30, 32, 544, 545, 549, 551, 553, 46, 558, 1072, 49, 52, 53, 54, 55, 565, 567, 61, 574, 63, 64, 575, 66, 67, 68, 577, 578, 1089, 76, 79, 80, 81, 596, 1109, 87, 88, 91, 93, 97, 99, 613, 107, 621, 113, 1144, 123, 126, 127, 641, 134, 646, 140, 653, 142, 143, 144, 654, 146, 152, 664, 154, 155, 156, 157, 158, 160, 1184, 163, 678, 167, 168, 171, 683, 173, 174, 175, 176, 684, 178, 179, 180, 181, 182, 692, 185, 186, 187, 188, 194, 197, 709, 201, 202, 203, 714, 205, 719, 208, 209, 213, 726, 215, 216, 217, 1239, 731, 221, 225, 226, 227, 228, 229, 230, 738, 232, 741, 234, 238, 239, 249, 770, 773, 264, 779, 272, 788, 292, 293, 809, 823, 1335, 825, 323, 363, 366, 1400, 379, 383, 384, 390, 392, 404, 407, 410, 925, 430, 942, 432, 943, 958, 1470, 448, 449, 454, 463, 469, 473, 474, 478, 479, 482, 483, 497})\n",
      "0 1\n",
      "frozenset({257, 514, 1027, 1283, 6, 8, 12, 13, 14, 268, 271, 273, 274, 275, 20, 1046, 1047, 24, 1048, 280, 281, 282, 283, 284, 543, 286, 545, 546, 287, 289, 291, 292, 293, 1066, 299, 49, 818, 822, 1334, 312, 314, 1083, 321, 322, 324, 839, 330, 332, 844, 590, 594, 595, 596, 339, 340, 92, 863, 865, 99, 105, 108, 110, 115, 116, 117, 627, 1141, 120, 121, 123, 124, 125, 126, 128, 136, 1161, 146, 149, 407, 409, 410, 921, 923, 928, 675, 931, 677, 932, 933, 684, 1196, 1198, 689, 949, 695, 459, 716, 978, 470, 472, 984, 474, 987, 220, 221, 476, 990, 224, 247, 739, 740, 741, 743, 234, 747, 239, 1008, 1010, 755, 244, 759, 761, 762, 507}) frozenset({0, 3, 4, 1027, 6, 8, 1032, 10, 11, 14, 16, 1041, 1045, 22, 23, 24, 1047, 26, 27, 28, 1048, 30, 1050, 1058, 37, 38, 47, 49, 53, 54, 55, 63, 65, 67, 68, 69, 70, 1092, 1093, 76, 1100, 78, 81, 86, 87, 88, 94, 95, 96, 97, 99, 105, 1133, 110, 115, 116, 117, 119, 120, 121, 122, 123, 124, 1149, 126, 134, 136, 142, 143, 146, 147, 149, 150, 152, 155, 158, 160, 161, 163, 167, 1193, 171, 1196, 173, 175, 178, 180, 181, 182, 183, 184, 185, 1205, 1209, 1214, 191, 192, 1216, 194, 195, 196, 1217, 199, 201, 202, 203, 209, 215, 217, 219, 221, 222, 1247, 224, 225, 226, 227, 228, 229, 232, 233, 234, 236, 238, 239, 240, 246, 247, 251, 1276, 253, 256, 264, 272, 273, 275, 277, 278, 279, 280, 281, 283, 287, 288, 290, 291, 293, 1321, 309, 317, 321, 322, 362, 368, 1406, 384, 392, 402, 404, 405, 410, 411, 422, 423, 426, 442, 448, 449, 453, 456, 457, 462, 464, 465, 466, 467, 470, 471, 474, 476, 482, 1512, 503, 520, 525, 526, 539, 543, 545, 549, 551, 553, 557, 565, 567, 571, 575, 580, 594, 596, 618, 619, 627, 636, 641, 650, 653, 664, 683, 691, 692, 695, 712, 716, 731, 734, 740, 741, 742, 755, 757, 760, 761, 762, 769, 778, 788, 805, 814, 817, 818, 819, 822, 823, 824, 828, 831, 843, 844, 845, 871, 879, 923, 924, 927, 929, 930, 931, 933, 947, 951, 962, 973, 974, 977, 978, 982, 985, 1000, 1009, 1010, 1012, 1013})\n",
      "0 1\n"
     ]
    },
    {
     "name": "stdout",
     "output_type": "stream",
     "text": [
      "frozenset({257, 514, 1027, 1283, 6, 8, 12, 13, 14, 268, 271, 273, 274, 275, 20, 1046, 1047, 24, 1048, 280, 281, 282, 283, 284, 543, 286, 545, 546, 287, 289, 291, 292, 293, 1066, 299, 49, 818, 822, 1334, 312, 314, 1083, 321, 322, 324, 839, 330, 332, 844, 590, 594, 595, 596, 339, 340, 92, 863, 865, 99, 105, 108, 110, 115, 116, 117, 627, 1141, 120, 121, 123, 124, 125, 126, 128, 136, 1161, 146, 149, 407, 409, 410, 921, 923, 928, 675, 931, 677, 932, 933, 684, 1196, 1198, 689, 949, 695, 459, 716, 978, 470, 472, 984, 474, 987, 220, 221, 476, 990, 224, 247, 739, 740, 741, 743, 234, 747, 239, 1008, 1010, 755, 244, 759, 761, 762, 507}) frozenset({0, 3, 7, 8, 10, 11, 12, 14, 21, 1045, 24, 27, 30, 37, 39, 42, 43, 46, 47, 49, 50, 51, 53, 57, 61, 63, 1090, 68, 69, 72, 76, 1100, 78, 80, 82, 86, 87, 88, 1116, 94, 1119, 96, 97, 99, 106, 1132, 110, 1138, 115, 116, 117, 120, 123, 124, 125, 126, 129, 130, 132, 133, 134, 135, 136, 140, 147, 160, 167, 168, 169, 171, 172, 173, 175, 176, 177, 178, 179, 180, 181, 184, 185, 187, 189, 190, 191, 192, 193, 195, 196, 197, 199, 201, 202, 203, 204, 207, 209, 210, 214, 215, 217, 219, 220, 223, 233, 234, 236, 237, 238, 240, 241, 1265, 243, 247, 256, 257, 1281, 264, 268, 271, 273, 274, 275, 276, 281, 282, 283, 284, 285, 288, 293, 299, 301, 309, 310, 311, 312, 314, 316, 317, 327, 337, 344, 346, 355, 356, 370, 380, 383, 1410, 391, 392, 401, 404, 409, 410, 413, 418, 422, 424, 426, 427, 428, 429, 434, 440, 442, 450, 460, 461, 465, 469, 470, 471, 473, 475, 476, 478, 479, 480, 481, 484, 486, 489, 492, 493, 494, 495, 497, 498, 503, 504, 505, 506, 508, 509, 510, 513, 514, 515, 516, 517, 519, 520, 522, 525, 526, 527, 528, 529, 538, 545, 548, 565, 569, 579, 581, 590, 601, 602, 604, 609, 613, 623, 624, 629, 641, 643, 647, 648, 650, 653, 656, 658, 659, 660, 662, 689, 691, 696, 698, 702, 706, 712, 713, 728, 731, 734, 738, 741, 743, 746, 749, 755, 762, 791, 814, 822, 844, 846, 863, 865, 881, 923, 950, 955, 962})\n",
      "0 1\n",
      "frozenset({257, 514, 1027, 1283, 6, 8, 12, 13, 14, 268, 271, 273, 274, 275, 20, 1046, 1047, 24, 1048, 280, 281, 282, 283, 284, 543, 286, 545, 546, 287, 289, 291, 292, 293, 1066, 299, 49, 818, 822, 1334, 312, 314, 1083, 321, 322, 324, 839, 330, 332, 844, 590, 594, 595, 596, 339, 340, 92, 863, 865, 99, 105, 108, 110, 115, 116, 117, 627, 1141, 120, 121, 123, 124, 125, 126, 128, 136, 1161, 146, 149, 407, 409, 410, 921, 923, 928, 675, 931, 677, 932, 933, 684, 1196, 1198, 689, 949, 695, 459, 716, 978, 470, 472, 984, 474, 987, 220, 221, 476, 990, 224, 247, 739, 740, 741, 743, 234, 747, 239, 1008, 1010, 755, 244, 759, 761, 762, 507}) frozenset({0, 6, 263, 264, 9, 522, 524, 1038, 527, 19, 788, 534, 23, 1049, 281, 27, 284, 287, 297, 299, 47, 1072, 49, 55, 57, 63, 319, 323, 330, 843, 78, 82, 342, 854, 601, 602, 606, 95, 97, 99, 110, 114, 627, 116, 117, 630, 1141, 123, 124, 126, 131, 134, 652, 653, 143, 656, 658, 404, 149, 150, 918, 152, 664, 407, 155, 418, 164, 422, 167, 168, 172, 428, 175, 179, 180, 182, 189, 192, 193, 704, 196, 198, 202, 461, 206, 208, 213, 471, 474, 221, 222, 478, 225, 481, 227, 482, 483, 485, 487, 233, 234, 747, 490, 491, 1009, 498, 1013, 247, 248, 249, 251, 509, 510})\n",
      "0 1\n",
      "frozenset({257, 514, 1027, 1283, 6, 8, 12, 13, 14, 268, 271, 273, 274, 275, 20, 1046, 1047, 24, 1048, 280, 281, 282, 283, 284, 543, 286, 545, 546, 287, 289, 291, 292, 293, 1066, 299, 49, 818, 822, 1334, 312, 314, 1083, 321, 322, 324, 839, 330, 332, 844, 590, 594, 595, 596, 339, 340, 92, 863, 865, 99, 105, 108, 110, 115, 116, 117, 627, 1141, 120, 121, 123, 124, 125, 126, 128, 136, 1161, 146, 149, 407, 409, 410, 921, 923, 928, 675, 931, 677, 932, 933, 684, 1196, 1198, 689, 949, 695, 459, 716, 978, 470, 472, 984, 474, 987, 220, 221, 476, 990, 224, 247, 739, 740, 741, 743, 234, 747, 239, 1008, 1010, 755, 244, 759, 761, 762, 507}) frozenset({0, 3, 6, 10, 11, 16, 1044, 21, 1046, 23, 26, 27, 30, 545, 548, 38, 39, 41, 49, 563, 52, 55, 57, 63, 575, 1087, 67, 68, 69, 70, 72, 587, 78, 590, 80, 81, 82, 594, 84, 86, 87, 88, 89, 91, 94, 95, 96, 97, 99, 100, 105, 107, 110, 626, 116, 117, 628, 120, 121, 124, 127, 134, 142, 143, 144, 654, 657, 149, 154, 155, 156, 157, 158, 160, 1187, 167, 171, 172, 173, 174, 175, 684, 178, 691, 181, 182, 696, 1214, 192, 1216, 194, 195, 1221, 712, 203, 204, 205, 207, 216, 731, 221, 734, 226, 742, 231, 232, 233, 234, 745, 236, 238, 754, 247, 248, 249, 760, 251, 253, 256, 264, 777, 267, 272, 273, 275, 788, 281, 287, 297, 825, 317, 366, 375, 379, 398, 404, 411, 925, 424, 425, 938, 940, 943, 432, 954, 446, 454, 461, 975, 976, 469, 470, 474, 479, 1010, 1015})\n",
      "0 1\n",
      "frozenset({257, 514, 1027, 1283, 6, 8, 12, 13, 14, 268, 271, 273, 274, 275, 20, 1046, 1047, 24, 1048, 280, 281, 282, 283, 284, 543, 286, 545, 546, 287, 289, 291, 292, 293, 1066, 299, 49, 818, 822, 1334, 312, 314, 1083, 321, 322, 324, 839, 330, 332, 844, 590, 594, 595, 596, 339, 340, 92, 863, 865, 99, 105, 108, 110, 115, 116, 117, 627, 1141, 120, 121, 123, 124, 125, 126, 128, 136, 1161, 146, 149, 407, 409, 410, 921, 923, 928, 675, 931, 677, 932, 933, 684, 1196, 1198, 689, 949, 695, 459, 716, 978, 470, 472, 984, 474, 987, 220, 221, 476, 990, 224, 247, 739, 740, 741, 743, 234, 747, 239, 1008, 1010, 755, 244, 759, 761, 762, 507}) frozenset({0, 3, 1028, 6, 7, 8, 10, 11, 1034, 14, 16, 1040, 1041, 1043, 1044, 21, 23, 24, 25, 27, 28, 1052, 30, 1053, 1056, 34, 1058, 1059, 37, 39, 40, 1065, 43, 47, 48, 49, 50, 1073, 52, 53, 1077, 55, 1078, 57, 61, 62, 63, 1086, 65, 66, 67, 68, 69, 70, 71, 72, 1088, 77, 78, 79, 80, 81, 86, 87, 88, 89, 90, 91, 92, 93, 94, 95, 97, 98, 99, 100, 101, 105, 108, 110, 1138, 116, 119, 120, 1144, 124, 126, 131, 132, 134, 139, 141, 143, 144, 146, 147, 149, 152, 153, 154, 155, 156, 157, 158, 159, 160, 161, 1177, 163, 1187, 166, 167, 171, 172, 173, 174, 175, 179, 180, 181, 182, 1205, 184, 185, 1206, 187, 190, 192, 1217, 194, 195, 1219, 197, 199, 201, 1225, 203, 207, 208, 209, 213, 214, 215, 216, 217, 218, 1238, 221, 222, 224, 225, 226, 227, 228, 229, 230, 231, 232, 233, 1249, 236, 237, 238, 239, 240, 1266, 244, 245, 246, 247, 248, 249, 251, 254, 256, 257, 1283, 260, 264, 1290, 267, 269, 270, 275, 279, 280, 281, 283, 287, 292, 293, 297, 299, 301, 1335, 312, 317, 322, 325, 327, 332, 337, 355, 356, 357, 362, 363, 364, 366, 367, 372, 374, 376, 377, 378, 379, 384, 385, 387, 390, 391, 392, 394, 395, 1418, 398, 400, 401, 402, 404, 406, 408, 409, 410, 411, 412, 1437, 1438, 1439, 417, 418, 421, 422, 423, 425, 430, 431, 432, 435, 440, 445, 447, 448, 449, 450, 451, 454, 456, 464, 467, 469, 470, 471, 472, 474, 475, 476, 500, 505, 507, 520, 526, 528, 536, 539, 540, 541, 545, 548, 549, 551, 553, 558, 565, 567, 568, 570, 574, 575, 576, 577, 579, 584, 587, 590, 595, 596, 618, 619, 622, 626, 627, 635, 636, 641, 650, 653, 654, 657, 661, 664, 669, 671, 677, 678, 684, 688, 691, 692, 699, 709, 711, 714, 715, 716, 718, 721, 722, 728, 731, 733, 734, 737, 738, 741, 745, 746, 755, 761, 762, 767, 768, 769, 771, 779, 782, 789, 795, 805, 807, 1178, 809, 811, 814, 815, 818, 824, 825, 828, 832, 839, 844, 848, 868, 894, 928, 930, 933, 938, 940, 943, 945, 948, 971, 1010, 1015})\n",
      "0 1\n"
     ]
    },
    {
     "name": "stdout",
     "output_type": "stream",
     "text": [
      "frozenset({257, 514, 1027, 1283, 6, 8, 12, 13, 14, 268, 271, 273, 274, 275, 20, 1046, 1047, 24, 1048, 280, 281, 282, 283, 284, 543, 286, 545, 546, 287, 289, 291, 292, 293, 1066, 299, 49, 818, 822, 1334, 312, 314, 1083, 321, 322, 324, 839, 330, 332, 844, 590, 594, 595, 596, 339, 340, 92, 863, 865, 99, 105, 108, 110, 115, 116, 117, 627, 1141, 120, 121, 123, 124, 125, 126, 128, 136, 1161, 146, 149, 407, 409, 410, 921, 923, 928, 675, 931, 677, 932, 933, 684, 1196, 1198, 689, 949, 695, 459, 716, 978, 470, 472, 984, 474, 987, 220, 221, 476, 990, 224, 247, 739, 740, 741, 743, 234, 747, 239, 1008, 1010, 755, 244, 759, 761, 762, 507}) frozenset({0, 3, 6, 7, 8, 9, 10, 11, 12, 13, 14, 1034, 16, 1036, 1040, 20, 21, 23, 24, 1047, 26, 27, 28, 1050, 30, 31, 1052, 1053, 1057, 35, 37, 40, 41, 42, 43, 48, 49, 50, 1073, 52, 53, 54, 55, 1076, 57, 63, 64, 65, 66, 1088, 1090, 69, 70, 71, 72, 1091, 1097, 76, 77, 78, 79, 80, 81, 82, 84, 85, 86, 87, 89, 91, 92, 93, 94, 95, 96, 97, 98, 99, 1118, 102, 104, 105, 106, 1131, 1132, 110, 1134, 1135, 1138, 116, 117, 120, 121, 122, 123, 1146, 125, 126, 1151, 131, 132, 133, 135, 136, 1159, 139, 141, 142, 143, 1167, 146, 147, 149, 150, 152, 153, 154, 155, 156, 157, 158, 160, 163, 1188, 167, 171, 172, 173, 175, 177, 178, 180, 181, 182, 183, 184, 186, 190, 1216, 193, 194, 195, 196, 1219, 198, 199, 1220, 201, 202, 203, 1225, 1228, 208, 209, 210, 212, 214, 215, 216, 217, 218, 219, 222, 224, 225, 229, 230, 231, 233, 234, 236, 237, 238, 239, 240, 241, 1261, 1263, 244, 245, 247, 248, 250, 251, 252, 253, 254, 256, 257, 258, 1285, 263, 264, 265, 267, 268, 272, 273, 274, 275, 276, 277, 1299, 280, 281, 282, 283, 284, 285, 286, 287, 288, 290, 292, 293, 294, 296, 297, 299, 300, 301, 302, 303, 304, 306, 309, 310, 311, 312, 1335, 314, 315, 316, 317, 318, 1336, 321, 322, 325, 326, 327, 328, 329, 330, 331, 332, 337, 338, 344, 345, 346, 352, 353, 356, 363, 365, 366, 368, 374, 1399, 377, 1406, 384, 386, 387, 391, 392, 394, 395, 398, 400, 401, 402, 403, 404, 1425, 1427, 410, 411, 414, 415, 416, 417, 418, 419, 420, 1440, 422, 424, 426, 430, 431, 432, 442, 1468, 446, 447, 450, 451, 1477, 1482, 461, 462, 467, 468, 469, 470, 471, 472, 1494, 474, 475, 476, 478, 479, 1502, 490, 1515, 1516, 495, 1520, 497, 499, 500, 505, 508, 509, 514, 1539, 519, 525, 530, 531, 534, 537, 541, 543, 545, 548, 549, 552, 553, 558, 559, 563, 567, 1593, 570, 575, 584, 587, 590, 591, 596, 602, 606, 613, 618, 619, 623, 624, 626, 627, 630, 632, 650, 651, 654, 656, 657, 658, 659, 661, 675, 677, 679, 681, 683, 684, 685, 688, 689, 691, 692, 695, 698, 706, 707, 709, 711, 712, 716, 719, 720, 722, 726, 728, 731, 733, 734, 736, 737, 738, 741, 745, 746, 747, 749, 753, 754, 760, 761, 762, 764, 767, 769, 774, 777, 780, 782, 784, 789, 790, 791, 793, 794, 802, 806, 811, 814, 818, 820, 823, 826, 832, 833, 839, 841, 842, 844, 845, 848, 863, 864, 865, 868, 872, 874, 878, 894, 897, 914, 915, 916, 917, 923, 925, 927, 928, 929, 930, 933, 935, 936, 937, 940, 941, 954, 958, 965, 971, 974, 979, 984, 989, 996, 1006, 1010, 1011, 1013, 1015, 1019})\n",
      "0 1\n",
      "frozenset({257, 514, 1027, 1283, 6, 8, 12, 13, 14, 268, 271, 273, 274, 275, 20, 1046, 1047, 24, 1048, 280, 281, 282, 283, 284, 543, 286, 545, 546, 287, 289, 291, 292, 293, 1066, 299, 49, 818, 822, 1334, 312, 314, 1083, 321, 322, 324, 839, 330, 332, 844, 590, 594, 595, 596, 339, 340, 92, 863, 865, 99, 105, 108, 110, 115, 116, 117, 627, 1141, 120, 121, 123, 124, 125, 126, 128, 136, 1161, 146, 149, 407, 409, 410, 921, 923, 928, 675, 931, 677, 932, 933, 684, 1196, 1198, 689, 949, 695, 459, 716, 978, 470, 472, 984, 474, 987, 220, 221, 476, 990, 224, 247, 739, 740, 741, 743, 234, 747, 239, 1008, 1010, 755, 244, 759, 761, 762, 507}) frozenset({0, 3, 6, 7, 8, 10, 11, 1038, 21, 1045, 23, 25, 28, 37, 43, 50, 51, 65, 1091, 71, 76, 78, 81, 86, 1118, 95, 96, 97, 98, 99, 104, 106, 1135, 116, 117, 119, 120, 124, 126, 134, 135, 1161, 138, 142, 1167, 146, 147, 150, 152, 154, 160, 163, 1187, 1188, 167, 1198, 176, 180, 1206, 185, 186, 1209, 190, 1216, 194, 196, 1220, 1225, 202, 203, 204, 1227, 209, 214, 1239, 217, 225, 226, 227, 228, 229, 233, 234, 239, 240, 241, 247, 249, 250, 251, 258, 265, 266, 267, 268, 271, 1299, 276, 281, 283, 1311, 291, 294, 297, 299, 300, 301, 303, 304, 306, 309, 310, 311, 312, 1336, 314, 315, 317, 328, 329, 330, 331, 334, 337, 338, 344, 345, 346, 347, 351, 352, 353, 356, 363, 366, 367, 372, 1406, 1414, 1425, 401, 1427, 402, 403, 406, 410, 411, 418, 419, 420, 424, 425, 426, 430, 1469, 446, 447, 449, 450, 451, 452, 1482, 467, 469, 471, 1495, 476, 1501, 479, 481, 482, 484, 490, 491, 494, 495, 497, 499, 500, 505, 507, 509, 514, 519, 522, 525, 530, 531, 534, 537, 544, 548, 553, 558, 561, 567, 569, 1593, 575, 585, 587, 590, 591, 600, 618, 632, 635, 654, 657, 659, 675, 678, 681, 683, 684, 688, 689, 691, 707, 720, 721, 733, 738, 749, 753, 758, 760, 762, 768, 770, 780, 794, 795, 814, 817, 823, 828, 830, 832, 833, 839, 841, 863, 864, 878, 894, 897, 913, 914, 915, 916, 917, 924, 925, 928, 930, 937, 945, 979, 981, 989, 1010, 1015})\n",
      "0 1\n",
      "frozenset({257, 514, 1027, 1283, 6, 8, 12, 13, 14, 268, 271, 273, 274, 275, 20, 1046, 1047, 24, 1048, 280, 281, 282, 283, 284, 543, 286, 545, 546, 287, 289, 291, 292, 293, 1066, 299, 49, 818, 822, 1334, 312, 314, 1083, 321, 322, 324, 839, 330, 332, 844, 590, 594, 595, 596, 339, 340, 92, 863, 865, 99, 105, 108, 110, 115, 116, 117, 627, 1141, 120, 121, 123, 124, 125, 126, 128, 136, 1161, 146, 149, 407, 409, 410, 921, 923, 928, 675, 931, 677, 932, 933, 684, 1196, 1198, 689, 949, 695, 459, 716, 978, 470, 472, 984, 474, 987, 220, 221, 476, 990, 224, 247, 739, 740, 741, 743, 234, 747, 239, 1008, 1010, 755, 244, 759, 761, 762, 507}) frozenset({513, 514, 3, 1027, 6, 7, 8, 518, 520, 522, 12, 1040, 20, 21, 534, 1046, 24, 1048, 26, 32, 545, 37, 38, 549, 46, 47, 48, 49, 1071, 1073, 565, 54, 55, 567, 569, 1078, 61, 62, 63, 574, 65, 66, 67, 575, 69, 576, 71, 72, 577, 78, 79, 597, 86, 87, 88, 89, 93, 1117, 95, 96, 99, 110, 627, 628, 117, 119, 120, 126, 127, 131, 133, 134, 647, 650, 143, 656, 151, 152, 153, 1176, 1177, 156, 157, 1178, 1179, 160, 1180, 162, 1181, 1182, 1183, 166, 678, 1184, 1185, 1186, 171, 683, 173, 684, 176, 178, 179, 180, 181, 182, 691, 185, 187, 701, 191, 704, 193, 194, 195, 708, 198, 200, 201, 714, 203, 207, 208, 721, 210, 215, 727, 731, 221, 227, 228, 229, 230, 231, 232, 234, 237, 238, 251, 764, 253, 774, 779, 780, 782, 272, 788, 789, 790, 280, 795, 800, 801, 803, 807, 296, 809, 299, 302, 823, 317, 320, 322, 844, 848, 1187, 1188, 1189, 865, 1088, 870, 371, 381, 384, 385, 392, 395, 402, 404, 408, 409, 410, 413, 925, 422, 426, 943, 432, 434, 448, 450, 471, 475, 476, 995, 999, 490, 495, 501, 509})\n",
      "0 1\n",
      "frozenset({257, 514, 1027, 1283, 6, 8, 12, 13, 14, 268, 271, 273, 274, 275, 20, 1046, 1047, 24, 1048, 280, 281, 282, 283, 284, 543, 286, 545, 546, 287, 289, 291, 292, 293, 1066, 299, 49, 818, 822, 1334, 312, 314, 1083, 321, 322, 324, 839, 330, 332, 844, 590, 594, 595, 596, 339, 340, 92, 863, 865, 99, 105, 108, 110, 115, 116, 117, 627, 1141, 120, 121, 123, 124, 125, 126, 128, 136, 1161, 146, 149, 407, 409, 410, 921, 923, 928, 675, 931, 677, 932, 933, 684, 1196, 1198, 689, 949, 695, 459, 716, 978, 470, 472, 984, 474, 987, 220, 221, 476, 990, 224, 247, 739, 740, 741, 743, 234, 747, 239, 1008, 1010, 755, 244, 759, 761, 762, 507}) frozenset({1027, 6, 520, 10, 11, 522, 14, 528, 19, 1043, 21, 22, 24, 30, 1064, 48, 49, 53, 55, 574, 63, 575, 68, 69, 581, 76, 77, 79, 81, 85, 87, 88, 93, 94, 95, 96, 97, 99, 107, 109, 116, 630, 120, 121, 126, 132, 133, 134, 135, 136, 650, 142, 143, 659, 152, 153, 154, 155, 156, 160, 672, 162, 164, 165, 167, 169, 171, 172, 683, 684, 180, 181, 692, 185, 190, 191, 704, 706, 195, 201, 202, 203, 206, 209, 212, 214, 726, 217, 218, 735, 227, 229, 230, 741, 233, 234, 239, 241, 754, 762, 259, 771, 264, 272, 789, 287, 288, 317, 326, 855, 878, 377, 383, 384, 385, 386, 387, 391, 392, 402, 404, 410, 1436, 418, 442, 958, 460, 461, 464, 466, 478, 482, 484, 1004, 495, 507, 510, 511})\n",
      "0 1\n"
     ]
    },
    {
     "name": "stdout",
     "output_type": "stream",
     "text": [
      "frozenset({257, 514, 1027, 1283, 6, 8, 12, 13, 14, 268, 271, 273, 274, 275, 20, 1046, 1047, 24, 1048, 280, 281, 282, 283, 284, 543, 286, 545, 546, 287, 289, 291, 292, 293, 1066, 299, 49, 818, 822, 1334, 312, 314, 1083, 321, 322, 324, 839, 330, 332, 844, 590, 594, 595, 596, 339, 340, 92, 863, 865, 99, 105, 108, 110, 115, 116, 117, 627, 1141, 120, 121, 123, 124, 125, 126, 128, 136, 1161, 146, 149, 407, 409, 410, 921, 923, 928, 675, 931, 677, 932, 933, 684, 1196, 1198, 689, 949, 695, 459, 716, 978, 470, 472, 984, 474, 987, 220, 221, 476, 990, 224, 247, 739, 740, 741, 743, 234, 747, 239, 1008, 1010, 755, 244, 759, 761, 762, 507}) frozenset({0, 6, 7, 519, 10, 11, 12, 525, 16, 21, 22, 24, 27, 30, 32, 1058, 549, 41, 49, 565, 55, 567, 67, 72, 76, 78, 596, 86, 88, 89, 94, 95, 96, 98, 107, 108, 624, 116, 120, 124, 126, 131, 134, 650, 654, 143, 146, 658, 150, 153, 158, 160, 162, 678, 167, 171, 172, 173, 683, 175, 180, 181, 182, 183, 185, 187, 190, 194, 201, 202, 203, 205, 207, 720, 209, 214, 215, 1239, 731, 1243, 221, 225, 226, 227, 228, 741, 230, 231, 742, 745, 234, 747, 237, 238, 239, 240, 750, 753, 754, 245, 247, 248, 249, 762, 256, 257, 264, 267, 270, 272, 289, 290, 297, 299, 825, 826, 828, 832, 323, 342, 379, 384, 391, 392, 401, 402, 404, 420, 422, 426, 430, 966, 473, 474, 495, 1011, 1012, 1013, 1021})\n",
      "0 1\n",
      "frozenset({257, 514, 1027, 1283, 6, 8, 12, 13, 14, 268, 271, 273, 274, 275, 20, 1046, 1047, 24, 1048, 280, 281, 282, 283, 284, 543, 286, 545, 546, 287, 289, 291, 292, 293, 1066, 299, 49, 818, 822, 1334, 312, 314, 1083, 321, 322, 324, 839, 330, 332, 844, 590, 594, 595, 596, 339, 340, 92, 863, 865, 99, 105, 108, 110, 115, 116, 117, 627, 1141, 120, 121, 123, 124, 125, 126, 128, 136, 1161, 146, 149, 407, 409, 410, 921, 923, 928, 675, 931, 677, 932, 933, 684, 1196, 1198, 689, 949, 695, 459, 716, 978, 470, 472, 984, 474, 987, 220, 221, 476, 990, 224, 247, 739, 740, 741, 743, 234, 747, 239, 1008, 1010, 755, 244, 759, 761, 762, 507}) frozenset({0, 514, 3, 6, 7, 8, 9, 10, 11, 519, 526, 16, 530, 21, 538, 27, 30, 31, 545, 37, 1064, 558, 47, 49, 51, 565, 55, 567, 57, 568, 61, 63, 68, 69, 70, 71, 581, 587, 76, 78, 590, 80, 81, 82, 86, 88, 90, 602, 92, 94, 95, 96, 97, 99, 100, 1132, 110, 624, 1138, 1139, 1140, 120, 632, 635, 124, 126, 131, 134, 649, 650, 651, 140, 142, 143, 654, 661, 150, 662, 152, 153, 155, 156, 160, 161, 678, 167, 171, 172, 173, 174, 178, 180, 181, 182, 183, 184, 185, 186, 187, 692, 189, 190, 704, 193, 194, 195, 196, 198, 201, 202, 717, 208, 209, 210, 211, 213, 214, 215, 216, 217, 730, 731, 221, 226, 227, 228, 229, 230, 231, 233, 234, 745, 236, 237, 238, 239, 240, 747, 750, 767, 257, 264, 268, 270, 272, 274, 283, 287, 299, 309, 310, 312, 317, 325, 332, 846, 339, 346, 355, 366, 878, 383, 384, 897, 388, 402, 404, 918, 418, 419, 422, 424, 428, 430, 433, 434, 435, 446, 958, 450, 968, 462, 474, 475, 479, 495, 502, 508, 510})\n",
      "0 1\n",
      "frozenset({257, 514, 1027, 1283, 6, 8, 12, 13, 14, 268, 271, 273, 274, 275, 20, 1046, 1047, 24, 1048, 280, 281, 282, 283, 284, 543, 286, 545, 546, 287, 289, 291, 292, 293, 1066, 299, 49, 818, 822, 1334, 312, 314, 1083, 321, 322, 324, 839, 330, 332, 844, 590, 594, 595, 596, 339, 340, 92, 863, 865, 99, 105, 108, 110, 115, 116, 117, 627, 1141, 120, 121, 123, 124, 125, 126, 128, 136, 1161, 146, 149, 407, 409, 410, 921, 923, 928, 675, 931, 677, 932, 933, 684, 1196, 1198, 689, 949, 695, 459, 716, 978, 470, 472, 984, 474, 987, 220, 221, 476, 990, 224, 247, 739, 740, 741, 743, 234, 747, 239, 1008, 1010, 755, 244, 759, 761, 762, 507}) frozenset({0, 513, 2, 1029, 6, 7, 9, 11, 16, 1040, 1554, 20, 24, 27, 1051, 545, 549, 38, 551, 41, 553, 46, 558, 49, 563, 566, 567, 57, 61, 575, 576, 67, 580, 69, 582, 71, 1094, 587, 1100, 78, 79, 80, 1109, 88, 90, 94, 95, 96, 104, 107, 108, 117, 119, 120, 122, 639, 131, 134, 142, 143, 654, 657, 149, 150, 151, 152, 153, 674, 163, 166, 167, 168, 172, 173, 174, 1198, 180, 181, 183, 185, 188, 190, 704, 709, 199, 200, 201, 202, 203, 715, 718, 207, 208, 209, 213, 726, 216, 218, 221, 225, 738, 741, 230, 233, 745, 746, 237, 239, 754, 755, 767, 256, 770, 264, 796, 819, 824, 825, 318, 830, 380, 381, 385, 1412, 394, 401, 402, 404, 918, 409, 411, 925, 927, 418, 930, 422, 424, 428, 430, 431, 432, 433, 435, 464, 471, 472, 476, 997})\n",
      "0 1\n",
      "frozenset({257, 514, 1027, 1283, 6, 8, 12, 13, 14, 268, 271, 273, 274, 275, 20, 1046, 1047, 24, 1048, 280, 281, 282, 283, 284, 543, 286, 545, 546, 287, 289, 291, 292, 293, 1066, 299, 49, 818, 822, 1334, 312, 314, 1083, 321, 322, 324, 839, 330, 332, 844, 590, 594, 595, 596, 339, 340, 92, 863, 865, 99, 105, 108, 110, 115, 116, 117, 627, 1141, 120, 121, 123, 124, 125, 126, 128, 136, 1161, 146, 149, 407, 409, 410, 921, 923, 928, 675, 931, 677, 932, 933, 684, 1196, 1198, 689, 949, 695, 459, 716, 978, 470, 472, 984, 474, 987, 220, 221, 476, 990, 224, 247, 739, 740, 741, 743, 234, 747, 239, 1008, 1010, 755, 244, 759, 761, 762, 507}) frozenset({0, 3, 1541, 8, 520, 10, 522, 1038, 1045, 28, 549, 43, 558, 49, 52, 53, 54, 55, 565, 567, 1078, 572, 61, 574, 63, 575, 576, 66, 67, 68, 577, 580, 581, 1090, 76, 589, 78, 79, 81, 83, 85, 1109, 87, 89, 90, 1115, 93, 94, 95, 1117, 97, 1118, 100, 615, 108, 621, 1132, 1134, 628, 630, 119, 120, 632, 635, 636, 126, 641, 131, 132, 1156, 134, 649, 139, 142, 143, 144, 654, 146, 659, 661, 150, 664, 153, 154, 156, 157, 670, 1181, 160, 161, 162, 1182, 1187, 678, 167, 171, 172, 683, 175, 178, 180, 181, 182, 183, 184, 185, 1206, 187, 1207, 190, 704, 194, 195, 199, 200, 201, 203, 207, 209, 210, 213, 215, 216, 217, 218, 731, 1244, 221, 224, 225, 226, 227, 228, 229, 230, 231, 232, 233, 234, 738, 741, 1262, 239, 767, 769, 264, 789, 281, 795, 796, 287, 830, 842, 356, 377, 378, 379, 384, 385, 388, 390, 391, 392, 394, 1418, 401, 402, 403, 923, 415, 416, 417, 418, 1443, 420, 422, 430, 431, 432, 943, 434, 440, 443, 1468, 446, 447, 448, 450, 451, 968, 464, 469, 471, 478, 490, 495, 497, 500, 503, 504, 506, 510})\n",
      "0 1\n"
     ]
    },
    {
     "name": "stdout",
     "output_type": "stream",
     "text": [
      "frozenset({257, 514, 1027, 1283, 6, 8, 12, 13, 14, 268, 271, 273, 274, 275, 20, 1046, 1047, 24, 1048, 280, 281, 282, 283, 284, 543, 286, 545, 546, 287, 289, 291, 292, 293, 1066, 299, 49, 818, 822, 1334, 312, 314, 1083, 321, 322, 324, 839, 330, 332, 844, 590, 594, 595, 596, 339, 340, 92, 863, 865, 99, 105, 108, 110, 115, 116, 117, 627, 1141, 120, 121, 123, 124, 125, 126, 128, 136, 1161, 146, 149, 407, 409, 410, 921, 923, 928, 675, 931, 677, 932, 933, 684, 1196, 1198, 689, 949, 695, 459, 716, 978, 470, 472, 984, 474, 987, 220, 221, 476, 990, 224, 247, 739, 740, 741, 743, 234, 747, 239, 1008, 1010, 755, 244, 759, 761, 762, 507}) frozenset({0, 2, 3, 6, 7, 10, 11, 13, 14, 15, 16, 1040, 1041, 1043, 21, 22, 1045, 24, 25, 26, 27, 28, 1047, 30, 32, 1056, 35, 37, 38, 44, 46, 47, 48, 49, 50, 52, 53, 54, 55, 61, 63, 64, 65, 66, 67, 68, 69, 70, 72, 1097, 75, 76, 1100, 78, 80, 81, 84, 86, 87, 88, 90, 91, 93, 1118, 95, 96, 97, 98, 99, 1131, 110, 1134, 116, 120, 121, 1146, 123, 124, 126, 128, 131, 132, 133, 1160, 138, 142, 143, 146, 147, 149, 150, 151, 152, 154, 155, 156, 157, 158, 159, 160, 161, 162, 163, 164, 165, 166, 167, 171, 172, 173, 174, 175, 176, 178, 179, 180, 181, 182, 1207, 184, 185, 186, 187, 1208, 191, 192, 193, 194, 195, 1216, 197, 198, 199, 1219, 201, 202, 203, 1225, 205, 1227, 207, 208, 209, 210, 1228, 212, 214, 215, 216, 217, 221, 222, 1247, 225, 226, 227, 228, 229, 231, 232, 233, 234, 236, 237, 238, 239, 1263, 244, 247, 249, 250, 251, 254, 256, 257, 1285, 263, 264, 271, 272, 1297, 274, 279, 281, 282, 283, 284, 285, 1310, 287, 289, 290, 292, 293, 296, 297, 299, 301, 302, 1332, 312, 314, 315, 316, 321, 324, 327, 345, 346, 355, 356, 365, 366, 370, 385, 392, 1420, 400, 401, 402, 403, 404, 409, 410, 411, 413, 415, 418, 419, 420, 424, 425, 426, 428, 429, 431, 432, 434, 435, 442, 444, 446, 450, 454, 459, 460, 461, 462, 463, 465, 466, 467, 468, 473, 478, 479, 481, 482, 483, 484, 490, 491, 495, 496, 500, 501, 502, 503, 505, 506, 508, 509, 512, 513, 517, 520, 526, 527, 530, 543, 545, 548, 549, 552, 553, 557, 558, 565, 567, 570, 571, 577, 581, 582, 587, 588, 590, 602, 604, 615, 618, 626, 627, 628, 631, 635, 636, 637, 641, 645, 646, 648, 650, 652, 653, 654, 656, 657, 659, 662, 664, 677, 678, 683, 685, 692, 695, 704, 707, 709, 711, 714, 719, 723, 728, 731, 738, 741, 745, 746, 747, 750, 760, 764, 778, 779, 780, 788, 803, 808, 809, 814, 819, 823, 830, 842, 844, 848, 855, 865, 870, 876, 894, 923, 930, 932, 938, 940, 941, 942, 954, 955, 976, 1010, 1015, 1016, 1017})\n",
      "0 1\n",
      "frozenset({257, 514, 1027, 1283, 6, 8, 12, 13, 14, 268, 271, 273, 274, 275, 20, 1046, 1047, 24, 1048, 280, 281, 282, 283, 284, 543, 286, 545, 546, 287, 289, 291, 292, 293, 1066, 299, 49, 818, 822, 1334, 312, 314, 1083, 321, 322, 324, 839, 330, 332, 844, 590, 594, 595, 596, 339, 340, 92, 863, 865, 99, 105, 108, 110, 115, 116, 117, 627, 1141, 120, 121, 123, 124, 125, 126, 128, 136, 1161, 146, 149, 407, 409, 410, 921, 923, 928, 675, 931, 677, 932, 933, 684, 1196, 1198, 689, 949, 695, 459, 716, 978, 470, 472, 984, 474, 987, 220, 221, 476, 990, 224, 247, 739, 740, 741, 743, 234, 747, 239, 1008, 1010, 755, 244, 759, 761, 762, 507}) frozenset({3, 4, 7, 10, 11, 21, 22, 25, 26, 27, 28, 29, 30, 31, 32, 34, 35, 36, 37, 38, 39, 40, 41, 42, 43, 44, 45, 46, 47, 48, 49, 50, 51, 52, 53, 54, 56, 57, 58, 59, 60, 61, 62, 63, 64, 65, 66, 67, 68, 69, 70, 71, 72, 74, 75, 76, 77, 78, 79, 80, 81, 82, 84, 85, 86, 87, 88, 89, 90, 91, 93, 94, 95, 96, 97, 98, 100, 101, 109, 126, 131, 134, 138, 139, 140, 141, 142, 148, 160, 167, 168, 169, 171, 172, 173, 174, 175, 176, 177, 178, 179, 180, 181, 182, 183, 184, 185, 186, 187, 188, 189, 190, 191, 192, 193, 194, 195, 196, 197, 198, 199, 200, 201, 202, 203, 204, 205, 206, 207, 208, 209, 210, 211, 212, 213, 214, 215, 216, 217, 218, 225, 226, 227, 228, 229, 230, 231, 232, 233, 237, 238, 240, 264, 287, 301, 302, 307, 312, 316, 317, 340, 346, 349, 350, 355, 356, 360, 363, 364, 365, 366, 370, 371, 372, 373, 374, 375, 376, 377, 378, 379, 380, 381, 382, 383, 384, 385, 387, 388, 390, 391, 392, 394, 395, 396, 397, 398, 399, 400, 401, 402, 403, 413, 414, 415, 416, 417, 418, 419, 420, 421, 422, 424, 425, 426, 427, 428, 429, 430, 431, 432, 433, 434, 435, 436, 437, 438, 439, 440, 441, 442, 443, 444, 445, 446, 447, 448, 449, 450, 451, 452, 460, 461, 462, 463, 464, 465, 466, 467, 468, 469, 479, 481, 500, 503, 508, 509, 510, 511, 512, 513, 514, 515, 516, 517, 518, 519, 520, 521, 522, 523, 524, 525, 526, 527, 528, 529, 535, 536, 539, 540, 541, 542, 544, 547, 548, 549, 550, 551, 552, 553, 554, 555, 556, 557, 558, 559, 560, 561, 562, 563, 564, 565, 566, 567, 568, 569, 570, 572, 573, 574, 575, 576, 577, 578, 580, 581, 582, 583, 584, 585, 587, 592, 602, 605, 620, 621, 622, 623, 624, 625, 626, 637, 638, 639, 640, 641, 642, 643, 644, 645, 646, 647, 648, 649, 650, 651, 652, 653, 654, 655, 656, 657, 658, 659, 660, 661, 662, 663, 664, 665, 666, 667, 668, 669, 670, 671, 672, 673, 674, 678, 683, 691, 692, 693, 694, 696, 697, 698, 699, 701, 702, 703, 706, 707, 708, 709, 711, 713, 714, 715, 718, 719, 720, 721, 722, 723, 724, 725, 726, 727, 728, 729, 730, 731, 732, 733, 734, 735, 736, 737, 738, 744, 745, 746, 752, 754, 756, 758, 760, 764, 767, 768, 769, 770, 771, 772, 773, 774, 775, 776, 777, 778, 779, 780, 781, 782, 783, 784, 785, 786, 787, 788, 789, 790, 791, 792, 793, 794, 795, 797, 801, 805, 806, 807, 809, 811, 815, 841, 842, 848, 850, 852, 853, 854, 855, 857, 858, 859, 860, 876, 903, 919, 920, 922, 938, 939, 940, 941, 942, 943, 945, 946, 948, 950, 953, 954, 955, 956, 957, 958, 959, 963, 968, 969, 970, 971, 995, 996, 998, 1003, 1004, 1005, 1017, 1018, 1020, 1026, 1028, 1029, 1030, 1031, 1034, 1035, 1036, 1040, 1041, 1042, 1043, 1044, 1045, 1052, 1054, 1057, 1061, 1062, 1064, 1065, 1068, 1069, 1071, 1072, 1073, 1075, 1077, 1089, 1090, 1098, 1099, 1100, 1102, 1103, 1106, 1107, 1108, 1109, 1110, 1111, 1112, 1117, 1118, 1138, 1145, 1146, 1147, 1158, 1165, 1166, 1167, 1174, 1175, 1176, 1177, 1178, 1179, 1181, 1183, 1187, 1191, 1192, 1193, 1194, 1199, 1205, 1206, 1207, 1208, 1209, 1216, 1217, 1218, 1219, 1220, 1221, 1223, 1224, 1226, 1227, 1228, 1229, 1230, 1231, 1238, 1239, 1245, 1246, 1247, 1248, 1249, 1252, 1259, 1260, 1264, 1265, 1266, 1267, 1270, 1273, 1274, 1289, 1296, 1304, 1305, 1306, 1307, 1310, 1315, 1316, 1317, 1333, 1337, 1345, 1352, 1358, 1381, 1383, 1386, 1390, 1393, 1398, 1399, 1403, 1404, 1406, 1407, 1411, 1414, 1418, 1420, 1421, 1422, 1423, 1424, 1428, 1433, 1434, 1436, 1437, 1438, 1440, 1441, 1443, 1444, 1463, 1467, 1468, 1469, 1470, 1473, 1474, 1477, 1478, 1479, 1483, 1486, 1487, 1498, 1502, 1508, 1516, 1517, 1518, 1521, 1528, 1529, 1530, 1534, 1538, 1539, 1543, 1544, 1545, 1546, 1547, 1548, 1549, 1550, 1551, 1552, 1553, 1554, 1555, 1556, 1557, 1558, 1559, 1560, 1561, 1562, 1563, 1564, 1565, 1566, 1567, 1568, 1569, 1570, 1571, 1572, 1573, 1574, 1575, 1576, 1577, 1578, 1579, 1580, 1582, 1583, 1584, 1585, 1586, 1587, 1588, 1589, 1590, 1591})\n",
      "0 1\n"
     ]
    },
    {
     "name": "stdout",
     "output_type": "stream",
     "text": [
      "frozenset({257, 514, 1027, 1283, 6, 8, 12, 13, 14, 268, 271, 273, 274, 275, 20, 1046, 1047, 24, 1048, 280, 281, 282, 283, 284, 543, 286, 545, 546, 287, 289, 291, 292, 293, 1066, 299, 49, 818, 822, 1334, 312, 314, 1083, 321, 322, 324, 839, 330, 332, 844, 590, 594, 595, 596, 339, 340, 92, 863, 865, 99, 105, 108, 110, 115, 116, 117, 627, 1141, 120, 121, 123, 124, 125, 126, 128, 136, 1161, 146, 149, 407, 409, 410, 921, 923, 928, 675, 931, 677, 932, 933, 684, 1196, 1198, 689, 949, 695, 459, 716, 978, 470, 472, 984, 474, 987, 220, 221, 476, 990, 224, 247, 739, 740, 741, 743, 234, 747, 239, 1008, 1010, 755, 244, 759, 761, 762, 507}) frozenset({0, 3, 1027, 1034, 14, 526, 1040, 1042, 21, 1046, 24, 1048, 27, 30, 542, 545, 34, 1059, 37, 42, 49, 565, 55, 567, 62, 63, 574, 65, 579, 68, 69, 70, 583, 76, 1100, 78, 590, 81, 596, 87, 93, 94, 608, 104, 105, 109, 110, 116, 117, 630, 120, 121, 124, 126, 639, 138, 1164, 150, 662, 160, 683, 684, 173, 691, 180, 185, 190, 703, 195, 203, 716, 719, 721, 215, 727, 731, 224, 738, 232, 234, 747, 750, 239, 242, 754, 244, 755, 247, 248, 251, 253, 254, 767, 258, 264, 780, 782, 273, 794, 293, 297, 299, 300, 819, 827, 318, 831, 321, 322, 844, 845, 337, 861, 863, 865, 355, 870, 363, 370, 891, 390, 392, 404, 405, 406, 408, 410, 411, 412, 928, 931, 422, 943, 451, 464, 976, 467, 470, 475, 476, 478, 992, 1015, 507})\n",
      "0 1\n",
      "frozenset({257, 514, 1027, 1283, 6, 8, 12, 13, 14, 268, 271, 273, 274, 275, 20, 1046, 1047, 24, 1048, 280, 281, 282, 283, 284, 543, 286, 545, 546, 287, 289, 291, 292, 293, 1066, 299, 49, 818, 822, 1334, 312, 314, 1083, 321, 322, 324, 839, 330, 332, 844, 590, 594, 595, 596, 339, 340, 92, 863, 865, 99, 105, 108, 110, 115, 116, 117, 627, 1141, 120, 121, 123, 124, 125, 126, 128, 136, 1161, 146, 149, 407, 409, 410, 921, 923, 928, 675, 931, 677, 932, 933, 684, 1196, 1198, 689, 949, 695, 459, 716, 978, 470, 472, 984, 474, 987, 220, 221, 476, 990, 224, 247, 739, 740, 741, 743, 234, 747, 239, 1008, 1010, 755, 244, 759, 761, 762, 507}) frozenset({0, 514, 3, 4, 6, 264, 10, 780, 16, 272, 281, 26, 27, 539, 540, 287, 545, 1058, 292, 37, 549, 293, 294, 553, 807, 558, 815, 49, 52, 566, 55, 567, 568, 824, 61, 317, 575, 64, 577, 832, 67, 68, 840, 78, 848, 81, 596, 88, 858, 91, 859, 95, 96, 97, 362, 627, 116, 117, 120, 632, 378, 635, 124, 636, 126, 128, 384, 650, 143, 144, 401, 402, 404, 664, 154, 412, 671, 160, 163, 1187, 422, 426, 171, 172, 173, 938, 175, 430, 180, 181, 182, 692, 696, 440, 186, 446, 191, 958, 1217, 450, 451, 199, 202, 208, 209, 213, 214, 726, 216, 217, 727, 469, 471, 225, 737, 227, 228, 229, 230, 231, 232, 233, 738, 746, 761, 249, 507})\n",
      "0 1\n",
      "frozenset({257, 514, 1027, 1283, 6, 8, 12, 13, 14, 268, 271, 273, 274, 275, 20, 1046, 1047, 24, 1048, 280, 281, 282, 283, 284, 543, 286, 545, 546, 287, 289, 291, 292, 293, 1066, 299, 49, 818, 822, 1334, 312, 314, 1083, 321, 322, 324, 839, 330, 332, 844, 590, 594, 595, 596, 339, 340, 92, 863, 865, 99, 105, 108, 110, 115, 116, 117, 627, 1141, 120, 121, 123, 124, 125, 126, 128, 136, 1161, 146, 149, 407, 409, 410, 921, 923, 928, 675, 931, 677, 932, 933, 684, 1196, 1198, 689, 949, 695, 459, 716, 978, 470, 472, 984, 474, 987, 220, 221, 476, 990, 224, 247, 739, 740, 741, 743, 234, 747, 239, 1008, 1010, 755, 244, 759, 761, 762, 507}) frozenset({0, 256, 514, 257, 517, 7, 264, 526, 24, 281, 282, 27, 28, 283, 30, 545, 290, 47, 49, 50, 565, 567, 826, 317, 63, 65, 68, 70, 72, 587, 1100, 78, 82, 596, 88, 602, 94, 95, 97, 355, 356, 110, 366, 116, 120, 124, 639, 384, 132, 134, 654, 143, 657, 146, 402, 150, 662, 152, 409, 156, 413, 160, 933, 422, 167, 426, 171, 172, 173, 683, 175, 176, 427, 178, 179, 180, 430, 432, 434, 185, 187, 189, 192, 193, 194, 196, 709, 454, 199, 201, 202, 203, 716, 462, 723, 212, 213, 469, 470, 217, 473, 731, 221, 478, 482, 227, 228, 229, 739, 741, 233, 745, 746, 236, 237, 238, 747, 495, 497, 498, 1015, 249, 253, 254})\n",
      "0 1\n",
      "frozenset({257, 514, 1027, 1283, 6, 8, 12, 13, 14, 268, 271, 273, 274, 275, 20, 1046, 1047, 24, 1048, 280, 281, 282, 283, 284, 543, 286, 545, 546, 287, 289, 291, 292, 293, 1066, 299, 49, 818, 822, 1334, 312, 314, 1083, 321, 322, 324, 839, 330, 332, 844, 590, 594, 595, 596, 339, 340, 92, 863, 865, 99, 105, 108, 110, 115, 116, 117, 627, 1141, 120, 121, 123, 124, 125, 126, 128, 136, 1161, 146, 149, 407, 409, 410, 921, 923, 928, 675, 931, 677, 932, 933, 684, 1196, 1198, 689, 949, 695, 459, 716, 978, 470, 472, 984, 474, 987, 220, 221, 476, 990, 224, 247, 739, 740, 741, 743, 234, 747, 239, 1008, 1010, 755, 244, 759, 761, 762, 507}) frozenset({0, 1024, 3, 4, 1029, 6, 521, 10, 12, 529, 1051, 28, 540, 545, 547, 37, 549, 553, 46, 558, 48, 49, 1075, 52, 564, 54, 55, 565, 567, 61, 575, 576, 65, 66, 67, 577, 71, 72, 587, 78, 81, 82, 595, 596, 87, 88, 90, 93, 94, 95, 97, 98, 611, 100, 101, 116, 117, 628, 120, 634, 635, 126, 649, 651, 654, 143, 662, 152, 153, 664, 666, 670, 671, 162, 163, 674, 166, 167, 171, 172, 173, 174, 175, 683, 684, 685, 688, 180, 181, 182, 183, 184, 185, 186, 187, 193, 194, 199, 200, 201, 203, 1227, 207, 719, 209, 210, 1238, 1239, 216, 217, 218, 731, 221, 733, 225, 226, 227, 228, 229, 230, 232, 233, 234, 745, 747, 238, 750, 240, 244, 247, 759, 257, 770, 259, 263, 264, 777, 268, 270, 271, 272, 784, 791, 796, 285, 287, 293, 808, 297, 809, 299, 300, 301, 306, 312, 826, 315, 318, 830, 325, 326, 327, 839, 840, 331, 333, 337, 855, 349, 865, 357, 362, 878, 372, 891, 383, 384, 385, 390, 392, 395, 398, 402, 408, 410, 417, 929, 430, 431, 434, 435, 946, 442, 443, 444, 446, 448, 449, 985, 475, 992, 500, 501, 509, 510})\n",
      "0 1\n",
      "frozenset({257, 514, 1027, 1283, 6, 8, 12, 13, 14, 268, 271, 273, 274, 275, 20, 1046, 1047, 24, 1048, 280, 281, 282, 283, 284, 543, 286, 545, 546, 287, 289, 291, 292, 293, 1066, 299, 49, 818, 822, 1334, 312, 314, 1083, 321, 322, 324, 839, 330, 332, 844, 590, 594, 595, 596, 339, 340, 92, 863, 865, 99, 105, 108, 110, 115, 116, 117, 627, 1141, 120, 121, 123, 124, 125, 126, 128, 136, 1161, 146, 149, 407, 409, 410, 921, 923, 928, 675, 931, 677, 932, 933, 684, 1196, 1198, 689, 949, 695, 459, 716, 978, 470, 472, 984, 474, 987, 220, 221, 476, 990, 224, 247, 739, 740, 741, 743, 234, 747, 239, 1008, 1010, 755, 244, 759, 761, 762, 507}) frozenset({0, 3, 6, 8, 13, 14, 21, 23, 27, 28, 37, 559, 49, 50, 561, 52, 565, 55, 567, 577, 68, 70, 72, 587, 78, 81, 596, 86, 87, 88, 93, 94, 96, 97, 110, 624, 116, 120, 121, 124, 134, 135, 650, 142, 143, 654, 149, 150, 152, 664, 160, 678, 167, 171, 172, 173, 683, 175, 691, 180, 182, 185, 698, 196, 201, 203, 719, 209, 210, 215, 731, 221, 225, 226, 227, 228, 229, 230, 741, 232, 233, 745, 236, 238, 240, 247, 249, 251, 254, 256, 257, 264, 777, 273, 274, 292, 293, 822, 312, 314, 828, 317, 848, 342, 878, 384, 391, 392, 398, 404, 923, 925, 414, 929, 418, 421, 422, 426, 430, 950, 448, 450, 462, 467, 470, 471, 1015, 509})\n",
      "0 1\n"
     ]
    },
    {
     "name": "stdout",
     "output_type": "stream",
     "text": [
      "frozenset({257, 514, 1027, 1283, 6, 8, 12, 13, 14, 268, 271, 273, 274, 275, 20, 1046, 1047, 24, 1048, 280, 281, 282, 283, 284, 543, 286, 545, 546, 287, 289, 291, 292, 293, 1066, 299, 49, 818, 822, 1334, 312, 314, 1083, 321, 322, 324, 839, 330, 332, 844, 590, 594, 595, 596, 339, 340, 92, 863, 865, 99, 105, 108, 110, 115, 116, 117, 627, 1141, 120, 121, 123, 124, 125, 126, 128, 136, 1161, 146, 149, 407, 409, 410, 921, 923, 928, 675, 931, 677, 932, 933, 684, 1196, 1198, 689, 949, 695, 459, 716, 978, 470, 472, 984, 474, 987, 220, 221, 476, 990, 224, 247, 739, 740, 741, 743, 234, 747, 239, 1008, 1010, 755, 244, 759, 761, 762, 507}) frozenset({0, 2, 3, 4, 1029, 6, 7, 10, 11, 1034, 1035, 16, 1040, 1043, 20, 21, 22, 23, 24, 1046, 26, 27, 28, 1048, 30, 1051, 32, 1052, 1057, 1058, 37, 38, 39, 40, 41, 43, 46, 48, 49, 52, 53, 54, 55, 61, 62, 63, 64, 66, 67, 68, 69, 70, 71, 1092, 1094, 78, 79, 80, 81, 84, 86, 87, 89, 90, 91, 92, 93, 94, 95, 96, 97, 98, 99, 1118, 104, 108, 109, 110, 1133, 1138, 116, 117, 119, 120, 121, 122, 123, 126, 127, 1150, 1156, 136, 139, 1164, 143, 146, 147, 149, 150, 155, 1180, 157, 1183, 160, 1184, 1187, 167, 171, 172, 173, 1196, 175, 176, 178, 179, 180, 181, 183, 184, 185, 186, 187, 1209, 190, 1214, 1216, 193, 194, 1221, 199, 200, 201, 1223, 203, 1224, 207, 208, 209, 216, 217, 1243, 221, 225, 226, 227, 229, 230, 232, 233, 234, 1257, 236, 237, 238, 239, 242, 1266, 244, 245, 1269, 247, 248, 249, 251, 1275, 253, 1276, 256, 257, 259, 1283, 1290, 267, 268, 271, 272, 1295, 275, 279, 280, 281, 282, 283, 286, 287, 292, 293, 294, 297, 299, 301, 309, 314, 315, 317, 326, 327, 328, 341, 345, 346, 347, 355, 356, 362, 364, 365, 366, 367, 368, 374, 375, 378, 379, 380, 382, 383, 384, 1414, 391, 392, 393, 395, 1422, 400, 401, 402, 404, 406, 408, 409, 410, 411, 417, 420, 1445, 422, 434, 1467, 450, 1477, 455, 460, 466, 467, 469, 470, 1495, 472, 474, 475, 476, 1517, 507, 526, 540, 545, 548, 549, 553, 555, 565, 567, 569, 570, 574, 576, 577, 578, 583, 584, 587, 590, 594, 1619, 596, 602, 618, 622, 624, 626, 627, 635, 1663, 654, 656, 677, 683, 684, 688, 691, 692, 696, 718, 719, 720, 721, 727, 730, 731, 733, 741, 745, 747, 754, 760, 761, 762, 767, 768, 769, 770, 778, 779, 780, 782, 789, 792, 793, 794, 800, 801, 809, 814, 817, 822, 824, 825, 830, 832, 840, 844, 848, 863, 875, 878, 880, 901, 925, 927, 929, 930, 939, 947, 955, 975, 985, 991, 999, 1000, 1001, 1011, 1012, 1013, 1015, 1016, 1022})\n",
      "0 1\n",
      "frozenset({257, 514, 1027, 1283, 6, 8, 12, 13, 14, 268, 271, 273, 274, 275, 20, 1046, 1047, 24, 1048, 280, 281, 282, 283, 284, 543, 286, 545, 546, 287, 289, 291, 292, 293, 1066, 299, 49, 818, 822, 1334, 312, 314, 1083, 321, 322, 324, 839, 330, 332, 844, 590, 594, 595, 596, 339, 340, 92, 863, 865, 99, 105, 108, 110, 115, 116, 117, 627, 1141, 120, 121, 123, 124, 125, 126, 128, 136, 1161, 146, 149, 407, 409, 410, 921, 923, 928, 675, 931, 677, 932, 933, 684, 1196, 1198, 689, 949, 695, 459, 716, 978, 470, 472, 984, 474, 987, 220, 221, 476, 990, 224, 247, 739, 740, 741, 743, 234, 747, 239, 1008, 1010, 755, 244, 759, 761, 762, 507}) frozenset({1027, 6, 519, 1034, 11, 523, 1036, 22, 23, 546, 549, 555, 46, 49, 1075, 565, 54, 55, 566, 58, 60, 63, 64, 577, 66, 67, 68, 578, 72, 1097, 587, 588, 79, 80, 81, 88, 89, 90, 93, 94, 95, 97, 99, 100, 614, 108, 620, 113, 116, 630, 120, 121, 635, 126, 127, 639, 131, 132, 645, 134, 135, 138, 650, 141, 654, 144, 657, 149, 150, 661, 152, 153, 154, 155, 157, 158, 159, 160, 161, 1182, 163, 1187, 166, 167, 168, 678, 171, 172, 173, 684, 175, 177, 178, 179, 180, 1205, 182, 183, 185, 186, 187, 188, 190, 192, 194, 708, 197, 198, 199, 200, 201, 709, 206, 207, 208, 209, 210, 213, 725, 215, 216, 217, 218, 726, 731, 221, 1239, 224, 226, 227, 228, 229, 738, 231, 232, 233, 745, 746, 236, 237, 238, 239, 754, 761, 1284, 264, 777, 267, 782, 272, 824, 316, 326, 842, 853, 357, 366, 377, 381, 384, 401, 402, 404, 918, 407, 409, 921, 411, 416, 418, 422, 425, 426, 428, 431, 432, 433, 945, 435, 446, 447, 448, 450, 451, 454, 469, 473, 474, 479, 1508, 997, 495, 497, 500, 502, 505, 508})\n",
      "0 1\n",
      "frozenset({257, 514, 1027, 1283, 6, 8, 12, 13, 14, 268, 271, 273, 274, 275, 20, 1046, 1047, 24, 1048, 280, 281, 282, 283, 284, 543, 286, 545, 546, 287, 289, 291, 292, 293, 1066, 299, 49, 818, 822, 1334, 312, 314, 1083, 321, 322, 324, 839, 330, 332, 844, 590, 594, 595, 596, 339, 340, 92, 863, 865, 99, 105, 108, 110, 115, 116, 117, 627, 1141, 120, 121, 123, 124, 125, 126, 128, 136, 1161, 146, 149, 407, 409, 410, 921, 923, 928, 675, 931, 677, 932, 933, 684, 1196, 1198, 689, 949, 695, 459, 716, 978, 470, 472, 984, 474, 987, 220, 221, 476, 990, 224, 247, 739, 740, 741, 743, 234, 747, 239, 1008, 1010, 755, 244, 759, 761, 762, 507}) frozenset({513, 133, 134, 517, 264, 520, 10, 11, 650, 653, 526, 527, 21, 22, 25, 541, 1183, 805, 167, 169, 298, 426, 172, 173, 429, 47, 175, 49, 177, 178, 180, 181, 434, 55, 184, 316, 317, 190, 63, 191, 193, 450, 196, 197, 326, 968, 587, 204, 78, 207, 208, 466, 213, 88, 602, 479, 96, 98, 233, 126})\n",
      "0 1\n",
      "frozenset({257, 514, 1027, 1283, 6, 8, 12, 13, 14, 268, 271, 273, 274, 275, 20, 1046, 1047, 24, 1048, 280, 281, 282, 283, 284, 543, 286, 545, 546, 287, 289, 291, 292, 293, 1066, 299, 49, 818, 822, 1334, 312, 314, 1083, 321, 322, 324, 839, 330, 332, 844, 590, 594, 595, 596, 339, 340, 92, 863, 865, 99, 105, 108, 110, 115, 116, 117, 627, 1141, 120, 121, 123, 124, 125, 126, 128, 136, 1161, 146, 149, 407, 409, 410, 921, 923, 928, 675, 931, 677, 932, 933, 684, 1196, 1198, 689, 949, 695, 459, 716, 978, 470, 472, 984, 474, 987, 220, 221, 476, 990, 224, 247, 739, 740, 741, 743, 234, 747, 239, 1008, 1010, 755, 244, 759, 761, 762, 507}) frozenset({0, 384, 131, 134, 7, 264, 522, 398, 143, 402, 404, 21, 23, 280, 156, 160, 37, 422, 167, 549, 171, 683, 173, 430, 175, 684, 49, 180, 182, 567, 185, 61, 63, 448, 577, 67, 454, 201, 203, 78, 207, 719, 81, 82, 209, 596, 88, 221, 225, 227, 228, 229, 232, 120, 505, 126})\n",
      "0 1\n",
      "frozenset({257, 514, 1027, 1283, 6, 8, 12, 13, 14, 268, 271, 273, 274, 275, 20, 1046, 1047, 24, 1048, 280, 281, 282, 283, 284, 543, 286, 545, 546, 287, 289, 291, 292, 293, 1066, 299, 49, 818, 822, 1334, 312, 314, 1083, 321, 322, 324, 839, 330, 332, 844, 590, 594, 595, 596, 339, 340, 92, 863, 865, 99, 105, 108, 110, 115, 116, 117, 627, 1141, 120, 121, 123, 124, 125, 126, 128, 136, 1161, 146, 149, 407, 409, 410, 921, 923, 928, 675, 931, 677, 932, 933, 684, 1196, 1198, 689, 949, 695, 459, 716, 978, 470, 472, 984, 474, 987, 220, 221, 476, 990, 224, 247, 739, 740, 741, 743, 234, 747, 239, 1008, 1010, 755, 244, 759, 761, 762, 507}) frozenset({513, 2, 3, 4, 514, 516, 7, 8, 519, 10, 11, 520, 13, 14, 523, 525, 17, 526, 528, 530, 21, 22, 534, 24, 537, 1045, 27, 539, 1048, 32, 545, 37, 41, 553, 44, 1027, 561, 52, 565, 54, 55, 567, 58, 59, 63, 64, 575, 579, 68, 69, 72, 1097, 1101, 78, 81, 596, 86, 87, 91, 1117, 95, 608, 97, 99, 110, 627, 116, 630, 120, 1146, 124, 126, 128, 641, 130, 132, 133, 134, 136, 142, 143, 654, 1169, 659, 149, 152, 153, 155, 157, 159, 160, 169, 170, 683, 172, 173, 174, 684, 176, 1196, 178, 179, 180, 181, 182, 691, 184, 185, 186, 187, 695, 190, 191, 193, 194, 195, 196, 711, 1224, 201, 202, 203, 204, 715, 1225, 207, 209, 210, 721, 215, 1241, 222, 223, 734, 225, 741, 232, 745, 747, 236, 237, 238, 240, 241, 753, 755, 244, 247, 1271, 762, 254, 1282, 264, 268, 272, 786, 275, 791, 280, 281, 283, 285, 289, 290, 292, 293, 804, 297, 809, 301, 1330, 1332, 312, 825, 826, 315, 316, 318, 831, 321, 1349, 327, 840, 846, 848, 863, 865, 1377, 356, 870, 874, 366, 384, 392, 409, 410, 1434, 1435, 413, 422, 427, 432, 434, 457, 460, 461, 977, 467, 469, 470, 985, 474, 992, 482, 996, 1011, 507, 508, 1022})\n",
      "0 1\n"
     ]
    },
    {
     "name": "stdout",
     "output_type": "stream",
     "text": [
      "frozenset({257, 514, 1027, 1283, 6, 8, 12, 13, 14, 268, 271, 273, 274, 275, 20, 1046, 1047, 24, 1048, 280, 281, 282, 283, 284, 543, 286, 545, 546, 287, 289, 291, 292, 293, 1066, 299, 49, 818, 822, 1334, 312, 314, 1083, 321, 322, 324, 839, 330, 332, 844, 590, 594, 595, 596, 339, 340, 92, 863, 865, 99, 105, 108, 110, 115, 116, 117, 627, 1141, 120, 121, 123, 124, 125, 126, 128, 136, 1161, 146, 149, 407, 409, 410, 921, 923, 928, 675, 931, 677, 932, 933, 684, 1196, 1198, 689, 949, 695, 459, 716, 978, 470, 472, 984, 474, 987, 220, 221, 476, 990, 224, 247, 739, 740, 741, 743, 234, 747, 239, 1008, 1010, 755, 244, 759, 761, 762, 507}) frozenset({0, 514, 515, 4, 6, 7, 520, 10, 11, 522, 524, 14, 525, 1034, 21, 24, 26, 27, 28, 541, 30, 48, 49, 53, 565, 55, 567, 57, 569, 1077, 61, 62, 63, 575, 577, 66, 67, 68, 69, 70, 71, 72, 581, 1090, 75, 587, 78, 80, 81, 595, 87, 88, 89, 600, 603, 1117, 94, 95, 96, 97, 98, 99, 611, 101, 612, 614, 1123, 109, 624, 116, 117, 630, 120, 632, 635, 124, 126, 128, 640, 130, 131, 132, 134, 135, 647, 648, 142, 143, 658, 149, 662, 152, 154, 156, 158, 670, 161, 678, 167, 171, 172, 173, 174, 175, 176, 177, 683, 179, 180, 181, 182, 183, 691, 185, 186, 187, 190, 191, 704, 193, 194, 195, 707, 1223, 201, 202, 203, 207, 209, 212, 213, 214, 215, 728, 731, 221, 226, 227, 228, 229, 738, 232, 236, 237, 238, 754, 1268, 759, 762, 764, 767, 1284, 264, 273, 275, 283, 796, 287, 290, 299, 819, 824, 825, 317, 320, 836, 844, 356, 366, 377, 379, 384, 392, 400, 402, 404, 416, 417, 418, 419, 1443, 421, 422, 424, 428, 429, 430, 431, 1453, 945, 434, 435, 950, 446, 448, 968, 464, 469, 471, 472, 476, 477, 478, 479, 480, 481, 482, 483, 486, 494, 495, 496, 499, 500, 510})\n",
      "0 1\n",
      "frozenset({257, 514, 1027, 1283, 6, 8, 12, 13, 14, 268, 271, 273, 274, 275, 20, 1046, 1047, 24, 1048, 280, 281, 282, 283, 284, 543, 286, 545, 546, 287, 289, 291, 292, 293, 1066, 299, 49, 818, 822, 1334, 312, 314, 1083, 321, 322, 324, 839, 330, 332, 844, 590, 594, 595, 596, 339, 340, 92, 863, 865, 99, 105, 108, 110, 115, 116, 117, 627, 1141, 120, 121, 123, 124, 125, 126, 128, 136, 1161, 146, 149, 407, 409, 410, 921, 923, 928, 675, 931, 677, 932, 933, 684, 1196, 1198, 689, 949, 695, 459, 716, 978, 470, 472, 984, 474, 987, 220, 221, 476, 990, 224, 247, 739, 740, 741, 743, 234, 747, 239, 1008, 1010, 755, 244, 759, 761, 762, 507}) frozenset({0, 513, 3, 515, 516, 6, 1031, 8, 521, 522, 11, 523, 525, 526, 527, 528, 529, 1034, 22, 27, 46, 558, 49, 562, 51, 1074, 53, 565, 55, 567, 61, 62, 63, 574, 575, 576, 78, 81, 82, 87, 88, 89, 602, 1112, 92, 93, 95, 96, 97, 99, 620, 621, 115, 630, 123, 635, 126, 130, 643, 132, 134, 136, 648, 650, 140, 653, 142, 143, 654, 658, 150, 151, 152, 662, 156, 157, 160, 673, 162, 163, 167, 171, 172, 173, 174, 175, 176, 177, 178, 683, 180, 685, 182, 1205, 184, 185, 186, 187, 700, 190, 191, 192, 193, 194, 195, 196, 703, 198, 199, 706, 708, 202, 203, 204, 709, 711, 207, 209, 210, 215, 728, 218, 734, 735, 226, 229, 232, 233, 745, 237, 238, 250, 256, 264, 269, 270, 283, 284, 285, 293, 299, 305, 309, 316, 841, 330, 842, 338, 854, 344, 356, 371, 380, 382, 384, 390, 392, 394, 397, 400, 401, 402, 404, 413, 416, 418, 426, 427, 432, 433, 434, 435, 442, 446, 447, 450, 460, 473, 479, 495, 1218, 501, 503, 1021, 510})\n",
      "0 1\n",
      "frozenset({257, 514, 1027, 1283, 6, 8, 12, 13, 14, 268, 271, 273, 274, 275, 20, 1046, 1047, 24, 1048, 280, 281, 282, 283, 284, 543, 286, 545, 546, 287, 289, 291, 292, 293, 1066, 299, 49, 818, 822, 1334, 312, 314, 1083, 321, 322, 324, 839, 330, 332, 844, 590, 594, 595, 596, 339, 340, 92, 863, 865, 99, 105, 108, 110, 115, 116, 117, 627, 1141, 120, 121, 123, 124, 125, 126, 128, 136, 1161, 146, 149, 407, 409, 410, 921, 923, 928, 675, 931, 677, 932, 933, 684, 1196, 1198, 689, 949, 695, 459, 716, 978, 470, 472, 984, 474, 987, 220, 221, 476, 990, 224, 247, 739, 740, 741, 743, 234, 747, 239, 1008, 1010, 755, 244, 759, 761, 762, 507}) frozenset({0, 257, 770, 3, 259, 264, 10, 778, 525, 270, 21, 539, 28, 287, 32, 801, 549, 38, 293, 553, 809, 819, 52, 565, 54, 55, 567, 569, 308, 61, 575, 577, 1090, 67, 70, 585, 587, 331, 78, 848, 81, 1109, 342, 88, 90, 94, 95, 98, 100, 101, 623, 624, 626, 372, 126, 384, 1408, 390, 650, 396, 398, 402, 664, 160, 419, 677, 678, 421, 425, 683, 173, 175, 176, 431, 945, 434, 180, 182, 183, 186, 187, 189, 448, 194, 1218, 1221, 1227, 1230, 719, 209, 1239, 225, 226, 227, 228, 229, 230, 231, 232, 747, 500, 509, 510, 767})\n",
      "0 1\n",
      "frozenset({257, 514, 1027, 1283, 6, 8, 12, 13, 14, 268, 271, 273, 274, 275, 20, 1046, 1047, 24, 1048, 280, 281, 282, 283, 284, 543, 286, 545, 546, 287, 289, 291, 292, 293, 1066, 299, 49, 818, 822, 1334, 312, 314, 1083, 321, 322, 324, 839, 330, 332, 844, 590, 594, 595, 596, 339, 340, 92, 863, 865, 99, 105, 108, 110, 115, 116, 117, 627, 1141, 120, 121, 123, 124, 125, 126, 128, 136, 1161, 146, 149, 407, 409, 410, 921, 923, 928, 675, 931, 677, 932, 933, 684, 1196, 1198, 689, 949, 695, 459, 716, 978, 470, 472, 984, 474, 987, 220, 221, 476, 990, 224, 247, 739, 740, 741, 743, 234, 747, 239, 1008, 1010, 755, 244, 759, 761, 762, 507}) frozenset({0, 2, 3, 1029, 6, 10, 11, 12, 1040, 1041, 18, 21, 1045, 23, 24, 1046, 27, 28, 1051, 32, 37, 38, 41, 48, 49, 52, 53, 54, 55, 1076, 61, 62, 65, 66, 67, 1091, 69, 70, 71, 72, 76, 78, 79, 81, 82, 86, 88, 89, 90, 93, 94, 95, 96, 97, 98, 99, 100, 104, 107, 108, 110, 113, 117, 120, 121, 122, 126, 127, 1156, 138, 140, 143, 144, 150, 151, 152, 1176, 154, 155, 160, 162, 163, 166, 167, 168, 171, 172, 173, 174, 175, 176, 180, 181, 182, 183, 184, 185, 186, 187, 188, 1209, 193, 194, 196, 199, 201, 203, 1227, 207, 209, 215, 216, 1239, 221, 224, 225, 227, 228, 229, 230, 231, 232, 236, 238, 239, 247, 248, 249, 251, 256, 257, 259, 264, 267, 272, 273, 1302, 287, 290, 293, 297, 299, 324, 357, 363, 366, 371, 372, 380, 381, 1406, 383, 384, 385, 387, 390, 1414, 392, 393, 394, 1418, 398, 401, 402, 404, 406, 407, 411, 412, 415, 416, 417, 419, 422, 430, 431, 432, 439, 440, 448, 449, 450, 451, 454, 471, 474, 500, 507, 509, 525, 1554, 540, 544, 548, 549, 551, 552, 558, 561, 567, 568, 569, 574, 576, 577, 583, 587, 589, 1614, 596, 602, 621, 624, 626, 628, 641, 644, 650, 651, 654, 656, 664, 678, 683, 691, 715, 718, 719, 720, 721, 723, 724, 730, 738, 740, 742, 745, 747, 757, 762, 764, 768, 770, 773, 779, 780, 782, 789, 791, 794, 796, 801, 804, 807, 808, 809, 825, 848, 863, 925, 927, 939, 942, 943, 945, 950, 999, 1015})\n",
      "0 1\n"
     ]
    },
    {
     "name": "stdout",
     "output_type": "stream",
     "text": [
      "frozenset({257, 514, 1027, 1283, 6, 8, 12, 13, 14, 268, 271, 273, 274, 275, 20, 1046, 1047, 24, 1048, 280, 281, 282, 283, 284, 543, 286, 545, 546, 287, 289, 291, 292, 293, 1066, 299, 49, 818, 822, 1334, 312, 314, 1083, 321, 322, 324, 839, 330, 332, 844, 590, 594, 595, 596, 339, 340, 92, 863, 865, 99, 105, 108, 110, 115, 116, 117, 627, 1141, 120, 121, 123, 124, 125, 126, 128, 136, 1161, 146, 149, 407, 409, 410, 921, 923, 928, 675, 931, 677, 932, 933, 684, 1196, 1198, 689, 949, 695, 459, 716, 978, 470, 472, 984, 474, 987, 220, 221, 476, 990, 224, 247, 739, 740, 741, 743, 234, 747, 239, 1008, 1010, 755, 244, 759, 761, 762, 507}) frozenset({0, 2, 3, 4, 1027, 6, 1033, 10, 11, 1038, 16, 21, 1045, 23, 1046, 1048, 26, 27, 28, 30, 32, 1057, 37, 38, 40, 41, 43, 46, 48, 49, 52, 53, 54, 55, 1078, 57, 61, 62, 63, 64, 65, 66, 67, 68, 1087, 70, 1088, 1094, 76, 78, 81, 83, 87, 88, 89, 92, 93, 94, 95, 97, 98, 99, 110, 1135, 116, 117, 1141, 120, 121, 122, 124, 1150, 127, 131, 1156, 133, 142, 143, 146, 147, 149, 155, 157, 158, 160, 167, 171, 172, 173, 175, 178, 180, 182, 183, 184, 1206, 1207, 187, 1209, 1214, 194, 195, 1219, 199, 201, 202, 203, 1227, 205, 1230, 209, 214, 216, 217, 218, 1243, 1244, 221, 225, 226, 227, 228, 229, 230, 232, 233, 234, 235, 236, 238, 239, 242, 1266, 244, 245, 247, 248, 249, 1272, 251, 1273, 253, 254, 1274, 256, 257, 1275, 1276, 260, 261, 1277, 1278, 1279, 266, 267, 268, 269, 270, 271, 275, 280, 281, 283, 285, 287, 288, 289, 290, 292, 293, 294, 297, 298, 299, 304, 306, 312, 314, 315, 320, 321, 325, 327, 328, 329, 330, 331, 332, 334, 341, 342, 345, 346, 349, 352, 353, 354, 355, 356, 357, 362, 365, 366, 372, 373, 384, 388, 391, 392, 397, 402, 403, 404, 406, 409, 410, 411, 412, 417, 418, 419, 422, 425, 426, 432, 435, 442, 443, 448, 449, 451, 452, 454, 464, 468, 469, 470, 471, 474, 476, 495, 500, 507, 526, 530, 531, 533, 537, 540, 541, 545, 549, 551, 553, 554, 563, 564, 565, 566, 567, 568, 571, 577, 587, 588, 595, 596, 618, 621, 624, 626, 657, 664, 668, 671, 677, 680, 681, 683, 684, 688, 691, 716, 720, 728, 730, 738, 741, 742, 745, 747, 750, 751, 755, 760, 762, 764, 768, 770, 771, 778, 793, 797, 799, 801, 805, 807, 814, 815, 818, 819, 823, 826, 832, 863, 875, 880, 887, 889, 891, 893, 894, 900, 927, 928, 929, 930, 931, 933, 938, 939, 943, 945, 948, 958, 973, 974, 981, 992, 1012, 1015, 1018})\n",
      "0 1\n",
      "frozenset({257, 514, 1027, 1283, 6, 8, 12, 13, 14, 268, 271, 273, 274, 275, 20, 1046, 1047, 24, 1048, 280, 281, 282, 283, 284, 543, 286, 545, 546, 287, 289, 291, 292, 293, 1066, 299, 49, 818, 822, 1334, 312, 314, 1083, 321, 322, 324, 839, 330, 332, 844, 590, 594, 595, 596, 339, 340, 92, 863, 865, 99, 105, 108, 110, 115, 116, 117, 627, 1141, 120, 121, 123, 124, 125, 126, 128, 136, 1161, 146, 149, 407, 409, 410, 921, 923, 928, 675, 931, 677, 932, 933, 684, 1196, 1198, 689, 949, 695, 459, 716, 978, 470, 472, 984, 474, 987, 220, 221, 476, 990, 224, 247, 739, 740, 741, 743, 234, 747, 239, 1008, 1010, 755, 244, 759, 761, 762, 507}) frozenset({0, 514, 3, 10, 1034, 16, 21, 23, 26, 27, 28, 30, 545, 548, 37, 549, 553, 558, 560, 49, 561, 1072, 52, 565, 55, 567, 57, 569, 61, 573, 63, 575, 1089, 67, 68, 587, 78, 81, 88, 90, 94, 95, 96, 97, 100, 116, 117, 120, 121, 124, 637, 127, 128, 142, 143, 144, 657, 147, 150, 152, 664, 154, 155, 156, 163, 1187, 677, 678, 167, 171, 172, 173, 174, 175, 683, 684, 178, 180, 692, 182, 1209, 187, 192, 194, 197, 201, 202, 203, 204, 205, 206, 209, 1239, 216, 731, 221, 226, 227, 228, 229, 230, 231, 232, 741, 234, 742, 745, 750, 240, 247, 1272, 249, 251, 253, 256, 257, 259, 264, 269, 270, 275, 287, 808, 297, 312, 824, 826, 322, 325, 327, 332, 342, 349, 357, 894, 384, 402, 404, 930, 422, 425, 938, 430, 431, 432, 448, 449, 454, 968, 469, 470, 471, 473, 1013, 1015})\n",
      "0 1\n",
      "frozenset({257, 514, 1027, 1283, 6, 8, 12, 13, 14, 268, 271, 273, 274, 275, 20, 1046, 1047, 24, 1048, 280, 281, 282, 283, 284, 543, 286, 545, 546, 287, 289, 291, 292, 293, 1066, 299, 49, 818, 822, 1334, 312, 314, 1083, 321, 322, 324, 839, 330, 332, 844, 590, 594, 595, 596, 339, 340, 92, 863, 865, 99, 105, 108, 110, 115, 116, 117, 627, 1141, 120, 121, 123, 124, 125, 126, 128, 136, 1161, 146, 149, 407, 409, 410, 921, 923, 928, 675, 931, 677, 932, 933, 684, 1196, 1198, 689, 949, 695, 459, 716, 978, 470, 472, 984, 474, 987, 220, 221, 476, 990, 224, 247, 739, 740, 741, 743, 234, 747, 239, 1008, 1010, 755, 244, 759, 761, 762, 507}) frozenset({0, 1024, 1026, 3, 1027, 1029, 6, 1031, 9, 1033, 11, 12, 1034, 1036, 15, 16, 1038, 20, 21, 1046, 23, 24, 1047, 26, 27, 28, 29, 30, 31, 32, 1051, 1058, 39, 40, 41, 43, 1069, 46, 1071, 49, 51, 55, 58, 59, 60, 61, 62, 63, 64, 65, 66, 1086, 1087, 69, 70, 1092, 72, 1094, 78, 79, 80, 82, 1107, 1109, 86, 87, 88, 89, 1112, 91, 93, 94, 95, 1117, 1119, 98, 99, 100, 1120, 104, 107, 108, 1131, 1132, 113, 115, 116, 1141, 119, 120, 121, 123, 1150, 127, 128, 129, 130, 131, 136, 1161, 138, 143, 145, 146, 1169, 149, 150, 151, 152, 1177, 155, 1179, 157, 1181, 1184, 162, 164, 165, 166, 167, 168, 169, 1194, 171, 172, 173, 174, 175, 179, 180, 1204, 1205, 183, 1208, 185, 188, 189, 190, 1214, 192, 194, 1218, 197, 1223, 200, 201, 202, 203, 1227, 1229, 206, 207, 208, 209, 210, 1230, 213, 1238, 215, 1241, 218, 1243, 221, 1246, 223, 225, 226, 227, 228, 229, 230, 1249, 232, 233, 234, 235, 237, 238, 239, 241, 1265, 1270, 247, 248, 249, 1273, 253, 256, 258, 1287, 264, 1290, 268, 272, 273, 274, 1304, 282, 283, 287, 1311, 289, 290, 293, 1320, 300, 318, 320, 1360, 341, 1375, 1495, 362, 363, 366, 367, 371, 372, 373, 374, 1401, 378, 379, 381, 383, 384, 385, 1410, 387, 1412, 389, 390, 392, 394, 395, 396, 397, 400, 402, 1427, 404, 406, 407, 409, 410, 411, 412, 1434, 414, 1436, 417, 1443, 420, 424, 427, 428, 430, 431, 432, 433, 435, 443, 448, 449, 450, 454, 455, 1479, 1480, 1483, 460, 461, 1484, 463, 464, 1485, 1486, 1487, 468, 469, 1488, 471, 1489, 473, 1490, 1491, 1500, 1492, 1493, 1494, 479, 481, 1497, 1498, 1499, 485, 486, 488, 489, 490, 501, 508, 513, 514, 516, 528, 529, 531, 533, 540, 543, 545, 546, 549, 553, 555, 557, 561, 565, 570, 575, 576, 577, 590, 593, 596, 615, 623, 624, 629, 635, 637, 643, 648, 651, 653, 658, 659, 661, 662, 665, 670, 678, 683, 684, 686, 701, 708, 709, 711, 712, 718, 720, 724, 726, 727, 731, 738, 739, 740, 743, 745, 750, 752, 758, 759, 761, 762, 763, 777, 778, 779, 780, 788, 791, 796, 801, 803, 804, 808, 809, 819, 822, 823, 825, 826, 830, 832, 840, 842, 844, 852, 853, 861, 863, 868, 870, 889, 900, 918, 921, 925, 931, 939, 944, 945, 947, 951, 968, 970, 975, 976, 977, 981, 989, 991, 997, 999, 1000, 1006, 1010, 1011, 1016})\n",
      "0 1\n",
      "frozenset({257, 514, 1027, 1283, 6, 8, 12, 13, 14, 268, 271, 273, 274, 275, 20, 1046, 1047, 24, 1048, 280, 281, 282, 283, 284, 543, 286, 545, 546, 287, 289, 291, 292, 293, 1066, 299, 49, 818, 822, 1334, 312, 314, 1083, 321, 322, 324, 839, 330, 332, 844, 590, 594, 595, 596, 339, 340, 92, 863, 865, 99, 105, 108, 110, 115, 116, 117, 627, 1141, 120, 121, 123, 124, 125, 126, 128, 136, 1161, 146, 149, 407, 409, 410, 921, 923, 928, 675, 931, 677, 932, 933, 684, 1196, 1198, 689, 949, 695, 459, 716, 978, 470, 472, 984, 474, 987, 220, 221, 476, 990, 224, 247, 739, 740, 741, 743, 234, 747, 239, 1008, 1010, 755, 244, 759, 761, 762, 507}) frozenset({769, 3, 777, 11, 268, 13, 21, 789, 539, 1053, 32, 801, 549, 41, 1066, 300, 301, 46, 303, 565, 54, 55, 567, 312, 314, 826, 61, 317, 63, 65, 577, 67, 579, 69, 78, 590, 80, 335, 337, 84, 341, 345, 90, 91, 346, 95, 353, 356, 368, 372, 125, 381, 133, 390, 149, 150, 662, 918, 925, 160, 167, 168, 169, 683, 427, 173, 174, 688, 690, 179, 692, 181, 183, 951, 185, 188, 194, 200, 201, 1227, 460, 719, 208, 209, 213, 473, 1243, 225, 230, 232, 1257, 749, 750, 495, 760, 1009, 1015, 248})\n",
      "0 1\n"
     ]
    },
    {
     "name": "stdout",
     "output_type": "stream",
     "text": [
      "frozenset({257, 514, 1027, 1283, 6, 8, 12, 13, 14, 268, 271, 273, 274, 275, 20, 1046, 1047, 24, 1048, 280, 281, 282, 283, 284, 543, 286, 545, 546, 287, 289, 291, 292, 293, 1066, 299, 49, 818, 822, 1334, 312, 314, 1083, 321, 322, 324, 839, 330, 332, 844, 590, 594, 595, 596, 339, 340, 92, 863, 865, 99, 105, 108, 110, 115, 116, 117, 627, 1141, 120, 121, 123, 124, 125, 126, 128, 136, 1161, 146, 149, 407, 409, 410, 921, 923, 928, 675, 931, 677, 932, 933, 684, 1196, 1198, 689, 949, 695, 459, 716, 978, 470, 472, 984, 474, 987, 220, 221, 476, 990, 224, 247, 739, 740, 741, 743, 234, 747, 239, 1008, 1010, 755, 244, 759, 761, 762, 507}) frozenset({0, 257, 258, 259, 267, 268, 780, 273, 275, 22, 23, 24, 279, 281, 28, 540, 285, 287, 32, 37, 293, 552, 553, 299, 300, 814, 561, 1073, 306, 309, 55, 312, 825, 826, 1089, 579, 68, 326, 71, 72, 327, 331, 332, 844, 78, 81, 342, 346, 93, 351, 353, 99, 870, 361, 1131, 365, 110, 367, 116, 120, 121, 1405, 126, 894, 1406, 392, 904, 1167, 401, 146, 402, 404, 152, 154, 411, 158, 927, 160, 672, 681, 683, 173, 176, 688, 689, 692, 181, 186, 442, 193, 194, 198, 714, 464, 209, 721, 217, 475, 738, 484, 741, 486, 233, 1257, 236, 749, 754, 245, 762, 507})\n",
      "0 1\n",
      "frozenset({257, 514, 1027, 1283, 6, 8, 12, 13, 14, 268, 271, 273, 274, 275, 20, 1046, 1047, 24, 1048, 280, 281, 282, 283, 284, 543, 286, 545, 546, 287, 289, 291, 292, 293, 1066, 299, 49, 818, 822, 1334, 312, 314, 1083, 321, 322, 324, 839, 330, 332, 844, 590, 594, 595, 596, 339, 340, 92, 863, 865, 99, 105, 108, 110, 115, 116, 117, 627, 1141, 120, 121, 123, 124, 125, 126, 128, 136, 1161, 146, 149, 407, 409, 410, 921, 923, 928, 675, 931, 677, 932, 933, 684, 1196, 1198, 689, 949, 695, 459, 716, 978, 470, 472, 984, 474, 987, 220, 221, 476, 990, 224, 247, 739, 740, 741, 743, 234, 747, 239, 1008, 1010, 755, 244, 759, 761, 762, 507}) frozenset({7, 11, 1036, 17, 22, 23, 28, 29, 31, 36, 1064, 41, 1065, 1068, 45, 46, 47, 1069, 49, 1070, 52, 54, 55, 57, 58, 60, 1096, 1102, 80, 81, 1109, 86, 88, 91, 92, 1117, 1120, 97, 98, 99, 1127, 1128, 1130, 110, 1134, 113, 1142, 121, 126, 127, 128, 1153, 130, 131, 132, 133, 134, 135, 1157, 1158, 1159, 142, 143, 144, 150, 151, 152, 155, 159, 167, 168, 170, 171, 172, 173, 174, 175, 176, 179, 180, 181, 182, 184, 185, 186, 188, 190, 191, 193, 194, 196, 197, 198, 199, 200, 203, 204, 206, 207, 209, 210, 214, 215, 216, 217, 218, 223, 1251, 230, 233, 234, 235, 237, 239, 248, 249, 250, 252, 253, 255, 256, 1285, 272, 275, 282, 284, 285, 289, 292, 303, 304, 317, 319, 324, 1352, 336, 339, 345, 346, 356, 377, 382, 383, 384, 1410, 402, 1427, 404, 407, 416, 418, 420, 422, 424, 1448, 426, 427, 428, 429, 1455, 432, 1461, 442, 443, 446, 447, 450, 454, 457, 460, 461, 1494, 472, 473, 1498, 478, 479, 481, 482, 483, 484, 485, 486, 487, 488, 1505, 491, 495, 496, 497, 1523, 499, 501, 502, 503, 505, 506, 507, 1534, 1535, 510, 513, 511, 519, 520, 521, 522, 524, 525, 527, 528, 532, 556, 557, 567, 602, 603, 615, 628, 630, 649, 651, 652, 653, 655, 656, 657, 658, 660, 662, 663, 670, 672, 673, 674, 692, 704, 714, 718, 726, 731, 738, 744, 766, 793, 810, 850, 854, 864, 870, 873, 895, 899, 918, 921, 939, 941, 944, 953, 958, 960, 964, 1006, 1007, 1009, 1011, 1013, 1016, 1020, 1021})\n",
      "0 1\n",
      "frozenset({257, 514, 1027, 1283, 6, 8, 12, 13, 14, 268, 271, 273, 274, 275, 20, 1046, 1047, 24, 1048, 280, 281, 282, 283, 284, 543, 286, 545, 546, 287, 289, 291, 292, 293, 1066, 299, 49, 818, 822, 1334, 312, 314, 1083, 321, 322, 324, 839, 330, 332, 844, 590, 594, 595, 596, 339, 340, 92, 863, 865, 99, 105, 108, 110, 115, 116, 117, 627, 1141, 120, 121, 123, 124, 125, 126, 128, 136, 1161, 146, 149, 407, 409, 410, 921, 923, 928, 675, 931, 677, 932, 933, 684, 1196, 1198, 689, 949, 695, 459, 716, 978, 470, 472, 984, 474, 987, 220, 221, 476, 990, 224, 247, 739, 740, 741, 743, 234, 747, 239, 1008, 1010, 755, 244, 759, 761, 762, 507}) frozenset({0, 3, 4, 1027, 6, 8, 1032, 10, 11, 525, 14, 1039, 1040, 1041, 20, 21, 1045, 1046, 24, 537, 1050, 28, 30, 1056, 545, 35, 1060, 37, 549, 551, 553, 43, 48, 49, 50, 53, 565, 55, 567, 1085, 63, 575, 65, 1089, 582, 76, 78, 590, 81, 594, 596, 1108, 87, 88, 1113, 91, 1118, 95, 96, 97, 99, 105, 619, 627, 116, 117, 119, 120, 122, 124, 1149, 641, 656, 146, 661, 150, 664, 160, 677, 678, 171, 683, 173, 684, 691, 180, 181, 1206, 1207, 184, 1209, 186, 187, 194, 201, 202, 715, 1227, 1230, 209, 721, 723, 215, 727, 217, 731, 221, 224, 225, 226, 227, 228, 229, 738, 231, 232, 233, 234, 740, 236, 741, 747, 242, 755, 244, 764, 768, 770, 774, 264, 777, 778, 1288, 782, 784, 273, 275, 277, 279, 281, 282, 283, 793, 795, 287, 801, 290, 293, 807, 814, 818, 826, 828, 318, 830, 321, 322, 833, 840, 845, 863, 865, 355, 362, 367, 369, 380, 384, 386, 1423, 401, 402, 404, 405, 408, 412, 924, 929, 931, 933, 938, 1470, 448, 450, 459, 973, 974, 976, 981, 470, 983, 472, 985, 475, 987, 988})\n",
      "0 1\n",
      "frozenset({257, 514, 1027, 1283, 6, 8, 12, 13, 14, 268, 271, 273, 274, 275, 20, 1046, 1047, 24, 1048, 280, 281, 282, 283, 284, 543, 286, 545, 546, 287, 289, 291, 292, 293, 1066, 299, 49, 818, 822, 1334, 312, 314, 1083, 321, 322, 324, 839, 330, 332, 844, 590, 594, 595, 596, 339, 340, 92, 863, 865, 99, 105, 108, 110, 115, 116, 117, 627, 1141, 120, 121, 123, 124, 125, 126, 128, 136, 1161, 146, 149, 407, 409, 410, 921, 923, 928, 675, 931, 677, 932, 933, 684, 1196, 1198, 689, 949, 695, 459, 716, 978, 470, 472, 984, 474, 987, 220, 221, 476, 990, 224, 247, 739, 740, 741, 743, 234, 747, 239, 1008, 1010, 755, 244, 759, 761, 762, 507}) frozenset({513, 515, 4, 516, 517, 7, 519, 9, 520, 11, 522, 524, 528, 529, 537, 538, 27, 28, 541, 30, 32, 37, 549, 1062, 41, 553, 43, 45, 46, 47, 1072, 49, 52, 53, 54, 55, 565, 57, 567, 61, 62, 575, 1088, 65, 66, 67, 68, 69, 70, 71, 72, 577, 579, 580, 76, 581, 78, 585, 80, 81, 84, 85, 1109, 87, 88, 89, 602, 91, 603, 93, 94, 95, 96, 606, 607, 610, 1135, 640, 641, 131, 645, 134, 136, 139, 653, 654, 656, 146, 147, 659, 660, 661, 662, 664, 160, 675, 677, 167, 171, 172, 173, 174, 175, 176, 683, 685, 691, 180, 181, 182, 692, 185, 186, 698, 190, 192, 193, 194, 195, 704, 197, 198, 199, 709, 201, 202, 203, 204, 711, 714, 207, 208, 209, 210, 214, 215, 217, 730, 731, 1243, 221, 223, 225, 226, 227, 738, 229, 230, 741, 232, 233, 745, 746, 748, 238, 240, 754, 247, 760, 249, 761, 1278, 257, 769, 771, 260, 778, 270, 273, 791, 795, 801, 293, 294, 299, 322, 323, 835, 327, 332, 341, 854, 355, 872, 362, 877, 366, 879, 379, 891, 1406, 390, 392, 398, 401, 402, 403, 1607, 416, 417, 929, 422, 424, 429, 431, 944, 433, 434, 950, 442, 446, 448, 454, 971, 460, 462, 474, 477, 481, 483, 488, 489, 495, 496, 1218, 1013, 502, 1015, 1018, 1019, 509})\n",
      "0 1\n"
     ]
    },
    {
     "name": "stdout",
     "output_type": "stream",
     "text": [
      "frozenset({257, 514, 1027, 1283, 6, 8, 12, 13, 14, 268, 271, 273, 274, 275, 20, 1046, 1047, 24, 1048, 280, 281, 282, 283, 284, 543, 286, 545, 546, 287, 289, 291, 292, 293, 1066, 299, 49, 818, 822, 1334, 312, 314, 1083, 321, 322, 324, 839, 330, 332, 844, 590, 594, 595, 596, 339, 340, 92, 863, 865, 99, 105, 108, 110, 115, 116, 117, 627, 1141, 120, 121, 123, 124, 125, 126, 128, 136, 1161, 146, 149, 407, 409, 410, 921, 923, 928, 675, 931, 677, 932, 933, 684, 1196, 1198, 689, 949, 695, 459, 716, 978, 470, 472, 984, 474, 987, 220, 221, 476, 990, 224, 247, 739, 740, 741, 743, 234, 747, 239, 1008, 1010, 755, 244, 759, 761, 762, 507}) frozenset({0, 3, 1027, 6, 10, 1034, 14, 1041, 21, 1045, 27, 37, 1064, 41, 52, 53, 54, 55, 61, 62, 63, 1086, 68, 69, 75, 76, 1100, 78, 80, 81, 82, 86, 87, 88, 93, 95, 96, 97, 99, 100, 104, 1131, 1132, 110, 1134, 1135, 1138, 1139, 116, 117, 120, 124, 126, 127, 131, 134, 135, 138, 141, 142, 143, 144, 150, 151, 152, 153, 155, 156, 1182, 159, 160, 162, 1187, 166, 167, 171, 173, 174, 175, 176, 178, 179, 180, 181, 182, 1205, 184, 185, 186, 187, 1206, 1209, 190, 192, 193, 194, 195, 196, 197, 198, 199, 201, 203, 204, 1227, 1230, 207, 209, 210, 212, 213, 214, 215, 218, 1243, 221, 222, 224, 226, 227, 228, 229, 231, 232, 233, 236, 237, 238, 1266, 244, 247, 257, 264, 281, 285, 289, 290, 292, 293, 299, 306, 309, 312, 317, 327, 332, 355, 356, 365, 366, 370, 377, 379, 380, 384, 385, 387, 392, 394, 402, 404, 406, 408, 409, 410, 415, 1443, 422, 424, 427, 428, 430, 435, 440, 446, 447, 448, 450, 1477, 454, 457, 470, 471, 473, 475, 479, 481, 491, 495, 501, 505, 507, 508, 509, 510, 516, 517, 519, 520, 522, 525, 526, 530, 545, 549, 562, 570, 571, 574, 575, 577, 580, 584, 1619, 596, 618, 619, 621, 627, 630, 637, 641, 653, 656, 657, 658, 669, 673, 678, 683, 684, 685, 691, 692, 695, 701, 707, 711, 718, 721, 727, 731, 736, 738, 741, 745, 747, 754, 755, 762, 764, 770, 778, 779, 789, 796, 801, 808, 818, 822, 839, 861, 929, 940, 943, 966, 972, 983, 1011, 1013, 1015, 1022})\n",
      "0 1\n",
      "frozenset({257, 514, 1027, 1283, 6, 8, 12, 13, 14, 268, 271, 273, 274, 275, 20, 1046, 1047, 24, 1048, 280, 281, 282, 283, 284, 543, 286, 545, 546, 287, 289, 291, 292, 293, 1066, 299, 49, 818, 822, 1334, 312, 314, 1083, 321, 322, 324, 839, 330, 332, 844, 590, 594, 595, 596, 339, 340, 92, 863, 865, 99, 105, 108, 110, 115, 116, 117, 627, 1141, 120, 121, 123, 124, 125, 126, 128, 136, 1161, 146, 149, 407, 409, 410, 921, 923, 928, 675, 931, 677, 932, 933, 684, 1196, 1198, 689, 949, 695, 459, 716, 978, 470, 472, 984, 474, 987, 220, 221, 476, 990, 224, 247, 739, 740, 741, 743, 234, 747, 239, 1008, 1010, 755, 244, 759, 761, 762, 507}) frozenset({0, 514, 3, 4, 6, 519, 521, 10, 11, 16, 528, 21, 23, 537, 26, 539, 31, 32, 545, 37, 549, 49, 561, 52, 565, 54, 55, 567, 1594, 1595, 572, 61, 1596, 63, 575, 1088, 67, 69, 582, 589, 78, 81, 82, 596, 1109, 88, 91, 95, 96, 97, 99, 1128, 116, 117, 120, 123, 635, 126, 143, 144, 146, 155, 156, 668, 669, 671, 160, 674, 1187, 677, 678, 167, 170, 171, 683, 173, 685, 175, 176, 177, 688, 179, 180, 689, 183, 186, 187, 189, 194, 197, 1221, 199, 200, 203, 206, 208, 209, 216, 217, 218, 221, 227, 228, 229, 230, 231, 232, 233, 742, 749, 750, 240, 243, 758, 249, 251, 256, 257, 258, 264, 268, 271, 272, 280, 285, 287, 288, 1313, 292, 293, 297, 299, 300, 301, 304, 306, 309, 822, 312, 826, 315, 318, 830, 321, 322, 323, 324, 325, 326, 840, 332, 333, 337, 339, 852, 853, 342, 345, 346, 354, 356, 357, 361, 362, 876, 878, 378, 894, 384, 897, 1415, 1418, 397, 911, 402, 404, 1433, 428, 942, 434, 1463, 442, 444, 446, 447, 451, 454, 975, 473, 474, 490, 1012, 1015})\n",
      "0 1\n",
      "frozenset({257, 514, 1027, 1283, 6, 8, 12, 13, 14, 268, 271, 273, 274, 275, 20, 1046, 1047, 24, 1048, 280, 281, 282, 283, 284, 543, 286, 545, 546, 287, 289, 291, 292, 293, 1066, 299, 49, 818, 822, 1334, 312, 314, 1083, 321, 322, 324, 839, 330, 332, 844, 590, 594, 595, 596, 339, 340, 92, 863, 865, 99, 105, 108, 110, 115, 116, 117, 627, 1141, 120, 121, 123, 124, 125, 126, 128, 136, 1161, 146, 149, 407, 409, 410, 921, 923, 928, 675, 931, 677, 932, 933, 684, 1196, 1198, 689, 949, 695, 459, 716, 978, 470, 472, 984, 474, 987, 220, 221, 476, 990, 224, 247, 739, 740, 741, 743, 234, 747, 239, 1008, 1010, 755, 244, 759, 761, 762, 507}) frozenset({0, 1024, 1027, 4, 6, 1033, 10, 11, 1034, 16, 1041, 21, 1046, 23, 24, 1048, 26, 27, 28, 32, 37, 38, 41, 42, 49, 1075, 52, 53, 54, 55, 61, 62, 1087, 64, 65, 66, 68, 69, 70, 71, 72, 78, 79, 81, 82, 86, 87, 88, 89, 90, 91, 93, 94, 95, 97, 99, 100, 107, 108, 110, 113, 1138, 117, 120, 121, 126, 127, 130, 131, 134, 1164, 143, 146, 147, 152, 153, 154, 155, 156, 157, 158, 160, 1184, 162, 163, 1187, 166, 167, 168, 171, 172, 173, 175, 176, 177, 178, 179, 1205, 182, 183, 185, 186, 187, 190, 1214, 1216, 1217, 194, 195, 196, 197, 198, 1223, 1221, 200, 201, 202, 203, 204, 205, 206, 207, 208, 209, 210, 1228, 1230, 216, 218, 1243, 221, 1248, 1249, 225, 226, 227, 228, 229, 230, 231, 232, 233, 234, 237, 238, 239, 245, 247, 248, 249, 1272, 251, 256, 257, 258, 259, 264, 267, 270, 273, 274, 277, 1302, 281, 282, 283, 290, 293, 311, 327, 342, 355, 357, 362, 365, 366, 368, 370, 377, 378, 379, 383, 384, 385, 1410, 391, 392, 394, 396, 397, 398, 400, 401, 402, 404, 407, 409, 410, 412, 1436, 418, 420, 1445, 422, 423, 430, 431, 432, 433, 434, 439, 443, 446, 450, 454, 464, 469, 470, 471, 473, 482, 490, 506, 509, 510, 519, 525, 537, 538, 540, 541, 543, 545, 548, 549, 551, 552, 555, 558, 561, 565, 566, 567, 568, 569, 575, 577, 584, 587, 1614, 595, 596, 608, 615, 626, 627, 1656, 634, 635, 650, 657, 664, 678, 679, 683, 684, 691, 721, 728, 738, 745, 746, 747, 750, 754, 759, 764, 770, 773, 774, 778, 782, 789, 800, 801, 807, 808, 809, 814, 819, 825, 826, 830, 839, 840, 844, 848, 865, 878, 889, 925, 927, 929, 932, 939, 940, 948, 976, 981, 992, 1015})\n",
      "0 1\n",
      "frozenset({257, 514, 1027, 1283, 6, 8, 12, 13, 14, 268, 271, 273, 274, 275, 20, 1046, 1047, 24, 1048, 280, 281, 282, 283, 284, 543, 286, 545, 546, 287, 289, 291, 292, 293, 1066, 299, 49, 818, 822, 1334, 312, 314, 1083, 321, 322, 324, 839, 330, 332, 844, 590, 594, 595, 596, 339, 340, 92, 863, 865, 99, 105, 108, 110, 115, 116, 117, 627, 1141, 120, 121, 123, 124, 125, 126, 128, 136, 1161, 146, 149, 407, 409, 410, 921, 923, 928, 675, 931, 677, 932, 933, 684, 1196, 1198, 689, 949, 695, 459, 716, 978, 470, 472, 984, 474, 987, 220, 221, 476, 990, 224, 247, 739, 740, 741, 743, 234, 747, 239, 1008, 1010, 755, 244, 759, 761, 762, 507}) frozenset({0, 513, 3, 1027, 6, 7, 518, 520, 524, 1040, 1043, 24, 27, 28, 39, 44, 558, 560, 564, 55, 567, 568, 61, 1089, 66, 67, 68, 69, 70, 71, 72, 587, 81, 84, 87, 88, 90, 602, 93, 94, 95, 96, 97, 98, 99, 100, 1117, 615, 116, 117, 628, 120, 122, 634, 126, 641, 130, 131, 133, 134, 647, 1159, 649, 142, 143, 654, 655, 146, 656, 658, 659, 150, 151, 152, 153, 156, 157, 158, 160, 161, 162, 674, 1187, 167, 168, 171, 172, 173, 174, 175, 176, 683, 178, 179, 180, 181, 182, 183, 184, 185, 187, 188, 190, 192, 193, 194, 704, 196, 707, 709, 199, 200, 201, 202, 203, 711, 714, 1229, 207, 208, 209, 213, 214, 215, 728, 217, 218, 731, 221, 222, 736, 225, 226, 227, 228, 229, 738, 231, 233, 234, 745, 746, 237, 238, 1262, 754, 243, 755, 247, 249, 254, 256, 257, 264, 268, 273, 795, 285, 287, 288, 289, 290, 312, 314, 315, 843, 344, 858, 356, 868, 878, 370, 381, 384, 387, 392, 394, 398, 399, 401, 402, 404, 407, 415, 417, 929, 422, 426, 431, 435, 948, 442, 446, 447, 448, 454, 968, 971, 465, 473, 475, 477, 478, 992, 482, 483, 490, 492, 495, 497, 1011, 501, 503, 507, 509})\n",
      "0 1\n"
     ]
    },
    {
     "name": "stdout",
     "output_type": "stream",
     "text": [
      "frozenset({257, 514, 1027, 1283, 6, 8, 12, 13, 14, 268, 271, 273, 274, 275, 20, 1046, 1047, 24, 1048, 280, 281, 282, 283, 284, 543, 286, 545, 546, 287, 289, 291, 292, 293, 1066, 299, 49, 818, 822, 1334, 312, 314, 1083, 321, 322, 324, 839, 330, 332, 844, 590, 594, 595, 596, 339, 340, 92, 863, 865, 99, 105, 108, 110, 115, 116, 117, 627, 1141, 120, 121, 123, 124, 125, 126, 128, 136, 1161, 146, 149, 407, 409, 410, 921, 923, 928, 675, 931, 677, 932, 933, 684, 1196, 1198, 689, 949, 695, 459, 716, 978, 470, 472, 984, 474, 987, 220, 221, 476, 990, 224, 247, 739, 740, 741, 743, 234, 747, 239, 1008, 1010, 755, 244, 759, 761, 762, 507}) frozenset({2, 3, 4, 1027, 6, 7, 8, 10, 11, 12, 1034, 526, 527, 1040, 21, 1046, 1047, 537, 1050, 28, 541, 30, 543, 32, 545, 1059, 37, 549, 39, 1062, 553, 1065, 558, 49, 52, 53, 565, 55, 567, 57, 570, 61, 574, 575, 65, 66, 67, 68, 69, 70, 71, 72, 583, 584, 75, 76, 585, 78, 79, 587, 81, 594, 1098, 85, 87, 1111, 89, 1113, 91, 93, 94, 95, 608, 97, 98, 99, 101, 102, 618, 1132, 110, 111, 116, 117, 628, 124, 125, 738, 131, 134, 139, 141, 654, 143, 144, 1167, 659, 662, 152, 154, 155, 156, 157, 158, 669, 160, 161, 672, 1180, 1181, 677, 166, 171, 172, 173, 175, 689, 179, 180, 181, 182, 691, 692, 696, 698, 1206, 1216, 194, 196, 1220, 199, 201, 202, 203, 714, 209, 721, 722, 724, 214, 215, 216, 217, 218, 219, 727, 221, 734, 735, 728, 730, 224, 225, 226, 227, 228, 229, 230, 231, 232, 233, 234, 236, 741, 238, 745, 240, 747, 749, 750, 244, 754, 755, 763, 764, 768, 770, 264, 779, 1296, 273, 275, 789, 281, 283, 285, 287, 1312, 293, 312, 314, 315, 317, 321, 322, 323, 865, 363, 366, 1400, 378, 379, 380, 383, 384, 386, 387, 388, 391, 392, 401, 402, 403, 404, 408, 410, 924, 415, 927, 418, 419, 933, 422, 941, 430, 945, 1458, 1465, 447, 448, 1472, 450, 451, 1477, 1478, 974, 464, 976, 467, 470, 475, 482, 485, 495, 498, 1014, 506})\n",
      "0 1\n",
      "frozenset({257, 514, 1027, 1283, 6, 8, 12, 13, 14, 268, 271, 273, 274, 275, 20, 1046, 1047, 24, 1048, 280, 281, 282, 283, 284, 543, 286, 545, 546, 287, 289, 291, 292, 293, 1066, 299, 49, 818, 822, 1334, 312, 314, 1083, 321, 322, 324, 839, 330, 332, 844, 590, 594, 595, 596, 339, 340, 92, 863, 865, 99, 105, 108, 110, 115, 116, 117, 627, 1141, 120, 121, 123, 124, 125, 126, 128, 136, 1161, 146, 149, 407, 409, 410, 921, 923, 928, 675, 931, 677, 932, 933, 684, 1196, 1198, 689, 949, 695, 459, 716, 978, 470, 472, 984, 474, 987, 220, 221, 476, 990, 224, 247, 739, 740, 741, 743, 234, 747, 239, 1008, 1010, 755, 244, 759, 761, 762, 507}) frozenset({0, 3, 6, 7, 9, 10, 11, 12, 19, 21, 22, 23, 24, 26, 27, 28, 30, 31, 32, 38, 41, 1068, 45, 46, 47, 49, 51, 52, 1077, 54, 60, 61, 63, 1090, 67, 68, 70, 1096, 75, 78, 80, 81, 82, 1109, 88, 90, 91, 92, 1117, 94, 95, 96, 97, 98, 99, 100, 101, 1127, 1128, 106, 108, 1133, 112, 113, 115, 116, 1142, 120, 122, 126, 128, 132, 134, 135, 143, 146, 150, 151, 152, 155, 160, 1186, 167, 168, 171, 172, 173, 174, 175, 1197, 177, 178, 1198, 180, 181, 182, 183, 185, 186, 187, 188, 189, 190, 191, 192, 193, 194, 195, 196, 197, 199, 200, 201, 202, 203, 204, 205, 207, 208, 209, 210, 213, 214, 1239, 216, 218, 221, 222, 223, 225, 226, 227, 228, 229, 230, 231, 232, 237, 238, 240, 242, 245, 247, 249, 257, 264, 267, 272, 276, 285, 287, 288, 292, 293, 294, 297, 316, 317, 318, 319, 320, 323, 324, 332, 356, 366, 379, 380, 384, 392, 398, 402, 407, 409, 417, 422, 427, 428, 429, 430, 431, 433, 434, 435, 440, 443, 445, 446, 447, 454, 457, 460, 462, 469, 472, 473, 474, 476, 1114, 487, 495, 500, 507, 510, 512, 1536, 514, 515, 1537, 517, 520, 525, 527, 529, 530, 531, 546, 548, 549, 550, 557, 558, 560, 562, 563, 565, 566, 567, 568, 577, 579, 580, 581, 582, 587, 592, 602, 618, 624, 640, 641, 649, 650, 654, 658, 662, 664, 671, 673, 675, 677, 678, 683, 692, 696, 714, 717, 726, 730, 731, 734, 736, 741, 743, 745, 767, 768, 771, 772, 773, 788, 789, 805, 843, 844, 846, 853, 855, 918, 941, 942, 951, 952, 968, 971, 983, 1006, 1007, 1010, 1011, 1013, 1017, 1018})\n",
      "0 1\n",
      "frozenset({257, 514, 1027, 1283, 6, 8, 12, 13, 14, 268, 271, 273, 274, 275, 20, 1046, 1047, 24, 1048, 280, 281, 282, 283, 284, 543, 286, 545, 546, 287, 289, 291, 292, 293, 1066, 299, 49, 818, 822, 1334, 312, 314, 1083, 321, 322, 324, 839, 330, 332, 844, 590, 594, 595, 596, 339, 340, 92, 863, 865, 99, 105, 108, 110, 115, 116, 117, 627, 1141, 120, 121, 123, 124, 125, 126, 128, 136, 1161, 146, 149, 407, 409, 410, 921, 923, 928, 675, 931, 677, 932, 933, 684, 1196, 1198, 689, 949, 695, 459, 716, 978, 470, 472, 984, 474, 987, 220, 221, 476, 990, 224, 247, 739, 740, 741, 743, 234, 747, 239, 1008, 1010, 755, 244, 759, 761, 762, 507}) frozenset({0, 2, 3, 1027, 6, 7, 8, 10, 11, 1034, 14, 16, 20, 21, 23, 24, 27, 28, 1051, 30, 38, 40, 41, 42, 46, 49, 50, 1073, 52, 53, 57, 61, 63, 65, 66, 67, 68, 1090, 70, 72, 75, 76, 79, 80, 81, 87, 88, 89, 90, 1111, 93, 94, 95, 96, 98, 99, 104, 108, 110, 1134, 116, 117, 119, 120, 121, 122, 126, 127, 131, 132, 137, 141, 142, 143, 144, 149, 150, 151, 152, 153, 154, 155, 156, 158, 159, 160, 161, 162, 163, 167, 171, 172, 173, 175, 178, 179, 180, 181, 182, 183, 185, 186, 192, 193, 194, 195, 196, 198, 200, 201, 202, 203, 204, 1227, 1229, 209, 214, 215, 216, 217, 218, 221, 225, 227, 228, 229, 230, 231, 232, 234, 236, 238, 239, 240, 248, 249, 251, 257, 1282, 264, 268, 270, 272, 275, 280, 281, 283, 287, 293, 298, 299, 317, 322, 332, 333, 339, 356, 362, 366, 372, 379, 383, 384, 386, 392, 394, 401, 402, 403, 404, 406, 408, 409, 410, 411, 417, 418, 419, 422, 424, 425, 426, 428, 430, 442, 446, 450, 454, 455, 461, 464, 469, 473, 480, 482, 495, 500, 501, 502, 510, 513, 514, 518, 520, 522, 526, 545, 549, 551, 558, 561, 565, 567, 575, 581, 587, 596, 605, 606, 609, 630, 635, 650, 654, 657, 659, 664, 672, 677, 683, 684, 685, 691, 692, 701, 709, 718, 720, 731, 734, 736, 738, 741, 742, 745, 754, 755, 757, 762, 770, 771, 796, 801, 819, 823, 830, 848, 863, 865, 870, 958, 1011, 1012, 1015})\n",
      "0 1\n",
      "frozenset({257, 514, 1027, 1283, 6, 8, 12, 13, 14, 268, 271, 273, 274, 275, 20, 1046, 1047, 24, 1048, 280, 281, 282, 283, 284, 543, 286, 545, 546, 287, 289, 291, 292, 293, 1066, 299, 49, 818, 822, 1334, 312, 314, 1083, 321, 322, 324, 839, 330, 332, 844, 590, 594, 595, 596, 339, 340, 92, 863, 865, 99, 105, 108, 110, 115, 116, 117, 627, 1141, 120, 121, 123, 124, 125, 126, 128, 136, 1161, 146, 149, 407, 409, 410, 921, 923, 928, 675, 931, 677, 932, 933, 684, 1196, 1198, 689, 949, 695, 459, 716, 978, 470, 472, 984, 474, 987, 220, 221, 476, 990, 224, 247, 739, 740, 741, 743, 234, 747, 239, 1008, 1010, 755, 244, 759, 761, 762, 507}) frozenset({0, 5, 6, 521, 10, 11, 12, 13, 1035, 530, 1554, 22, 23, 28, 540, 31, 546, 36, 41, 44, 1068, 46, 1070, 49, 51, 52, 566, 55, 567, 58, 59, 60, 67, 69, 1096, 587, 88, 89, 91, 92, 95, 97, 99, 108, 120, 126, 651, 654, 144, 1169, 151, 152, 153, 664, 674, 1186, 1187, 167, 169, 170, 171, 173, 174, 175, 178, 180, 181, 182, 183, 184, 186, 187, 188, 190, 195, 197, 709, 199, 203, 719, 208, 209, 211, 215, 216, 217, 729, 731, 220, 1239, 736, 227, 1251, 230, 231, 232, 233, 234, 237, 750, 239, 250, 768, 257, 259, 263, 264, 267, 779, 789, 791, 285, 287, 808, 317, 323, 839, 342, 854, 1366, 353, 356, 363, 366, 886, 381, 894, 383, 385, 392, 402, 918, 407, 923, 426, 427, 939, 430, 431, 432, 947, 957, 1474, 454, 461, 474, 508, 1528, 1017, 1020})\n",
      "0 1\n"
     ]
    },
    {
     "name": "stdout",
     "output_type": "stream",
     "text": [
      "frozenset({257, 514, 1027, 1283, 6, 8, 12, 13, 14, 268, 271, 273, 274, 275, 20, 1046, 1047, 24, 1048, 280, 281, 282, 283, 284, 543, 286, 545, 546, 287, 289, 291, 292, 293, 1066, 299, 49, 818, 822, 1334, 312, 314, 1083, 321, 322, 324, 839, 330, 332, 844, 590, 594, 595, 596, 339, 340, 92, 863, 865, 99, 105, 108, 110, 115, 116, 117, 627, 1141, 120, 121, 123, 124, 125, 126, 128, 136, 1161, 146, 149, 407, 409, 410, 921, 923, 928, 675, 931, 677, 932, 933, 684, 1196, 1198, 689, 949, 695, 459, 716, 978, 470, 472, 984, 474, 987, 220, 221, 476, 990, 224, 247, 739, 740, 741, 743, 234, 747, 239, 1008, 1010, 755, 244, 759, 761, 762, 507}) frozenset({0, 2, 3, 4, 1027, 6, 7, 8, 10, 11, 1034, 14, 1038, 16, 20, 21, 22, 23, 24, 25, 26, 27, 28, 1044, 30, 1046, 32, 37, 38, 40, 41, 1066, 46, 47, 48, 49, 50, 1073, 52, 53, 54, 55, 1078, 57, 1083, 61, 63, 64, 65, 66, 1088, 68, 69, 70, 71, 72, 1089, 74, 75, 76, 1092, 78, 79, 80, 81, 82, 1106, 84, 85, 86, 87, 88, 93, 94, 95, 96, 97, 1117, 99, 107, 108, 1131, 110, 1134, 116, 120, 121, 123, 124, 126, 127, 1152, 134, 1045, 142, 143, 146, 147, 1047, 149, 150, 152, 153, 1177, 155, 156, 157, 158, 160, 162, 163, 1187, 166, 167, 171, 172, 173, 174, 175, 178, 179, 180, 181, 182, 183, 184, 185, 186, 187, 189, 190, 191, 1216, 194, 195, 1219, 1220, 1221, 200, 201, 1224, 203, 204, 1227, 1230, 1231, 208, 209, 210, 215, 216, 217, 218, 221, 222, 225, 227, 228, 230, 231, 232, 233, 234, 236, 237, 238, 239, 240, 242, 1266, 244, 245, 247, 248, 249, 251, 253, 254, 256, 257, 258, 262, 267, 270, 271, 272, 273, 275, 1302, 279, 280, 281, 1304, 283, 1310, 287, 289, 290, 292, 293, 297, 298, 299, 303, 316, 317, 322, 326, 327, 331, 332, 338, 345, 355, 356, 357, 361, 362, 364, 365, 366, 1090, 377, 378, 379, 383, 384, 385, 1409, 392, 394, 398, 400, 402, 1427, 404, 409, 411, 1436, 1439, 418, 419, 422, 426, 430, 432, 442, 446, 450, 1477, 454, 464, 466, 467, 469, 470, 471, 474, 475, 508, 517, 519, 526, 539, 540, 541, 545, 548, 549, 550, 551, 552, 553, 555, 557, 558, 561, 565, 567, 569, 571, 572, 575, 577, 580, 581, 582, 584, 585, 590, 596, 618, 624, 626, 627, 630, 1654, 650, 653, 654, 656, 657, 658, 659, 671, 672, 677, 682, 683, 684, 685, 686, 691, 692, 695, 696, 698, 707, 709, 712, 715, 716, 718, 719, 720, 721, 722, 723, 727, 728, 731, 736, 737, 741, 745, 747, 751, 755, 760, 761, 762, 764, 768, 771, 773, 774, 778, 779, 780, 782, 789, 796, 800, 801, 803, 805, 807, 808, 819, 822, 823, 832, 833, 848, 861, 865, 875, 880, 889, 894, 921, 924, 931, 939, 940, 941, 942, 943, 945, 947, 958, 976, 990, 998, 1010, 1011, 1015, 1018})\n",
      "0 1\n",
      "frozenset({257, 514, 1027, 1283, 6, 8, 12, 13, 14, 268, 271, 273, 274, 275, 20, 1046, 1047, 24, 1048, 280, 281, 282, 283, 284, 543, 286, 545, 546, 287, 289, 291, 292, 293, 1066, 299, 49, 818, 822, 1334, 312, 314, 1083, 321, 322, 324, 839, 330, 332, 844, 590, 594, 595, 596, 339, 340, 92, 863, 865, 99, 105, 108, 110, 115, 116, 117, 627, 1141, 120, 121, 123, 124, 125, 126, 128, 136, 1161, 146, 149, 407, 409, 410, 921, 923, 928, 675, 931, 677, 932, 933, 684, 1196, 1198, 689, 949, 695, 459, 716, 978, 470, 472, 984, 474, 987, 220, 221, 476, 990, 224, 247, 739, 740, 741, 743, 234, 747, 239, 1008, 1010, 755, 244, 759, 761, 762, 507}) frozenset({0, 514, 7, 519, 1033, 522, 525, 526, 527, 1038, 20, 21, 1049, 27, 28, 540, 541, 542, 545, 549, 1062, 553, 1065, 49, 1075, 565, 1077, 569, 1083, 61, 62, 575, 1088, 577, 1090, 67, 68, 70, 583, 72, 587, 78, 1614, 81, 595, 596, 88, 601, 90, 604, 93, 94, 95, 609, 98, 611, 100, 101, 1132, 621, 623, 624, 1137, 626, 117, 629, 120, 632, 126, 131, 132, 134, 135, 138, 139, 140, 141, 142, 143, 656, 658, 150, 153, 160, 677, 678, 167, 171, 172, 173, 683, 176, 180, 185, 698, 192, 193, 194, 704, 198, 203, 204, 205, 207, 719, 209, 210, 221, 226, 227, 228, 229, 230, 738, 742, 233, 234, 747, 750, 756, 1273, 251, 253, 256, 257, 264, 270, 288, 297, 299, 819, 312, 825, 317, 830, 841, 842, 357, 372, 373, 379, 380, 383, 1408, 385, 1410, 1412, 392, 397, 401, 402, 403, 404, 407, 414, 415, 416, 417, 929, 419, 420, 421, 422, 426, 427, 430, 431, 945, 434, 448, 449, 450, 967, 968, 1482, 469, 471, 472, 476, 482, 483, 484, 997, 490, 494, 495, 497, 500, 502, 1015, 504, 509, 510})\n",
      "0 1\n",
      "frozenset({257, 514, 1027, 1283, 6, 8, 12, 13, 14, 268, 271, 273, 274, 275, 20, 1046, 1047, 24, 1048, 280, 281, 282, 283, 284, 543, 286, 545, 546, 287, 289, 291, 292, 293, 1066, 299, 49, 818, 822, 1334, 312, 314, 1083, 321, 322, 324, 839, 330, 332, 844, 590, 594, 595, 596, 339, 340, 92, 863, 865, 99, 105, 108, 110, 115, 116, 117, 627, 1141, 120, 121, 123, 124, 125, 126, 128, 136, 1161, 146, 149, 407, 409, 410, 921, 923, 928, 675, 931, 677, 932, 933, 684, 1196, 1198, 689, 949, 695, 459, 716, 978, 470, 472, 984, 474, 987, 220, 221, 476, 990, 224, 247, 739, 740, 741, 743, 234, 747, 239, 1008, 1010, 755, 244, 759, 761, 762, 507}) frozenset({0, 3, 6, 7, 8, 9, 10, 11, 12, 13, 21, 22, 23, 24, 25, 27, 30, 31, 32, 1055, 41, 1066, 43, 1068, 1069, 46, 47, 1072, 49, 1074, 54, 55, 63, 64, 65, 68, 69, 71, 1096, 1097, 1099, 1100, 78, 1102, 80, 81, 82, 84, 85, 86, 87, 88, 89, 91, 92, 94, 95, 97, 98, 99, 1128, 1130, 107, 110, 116, 1140, 120, 126, 128, 130, 131, 132, 142, 143, 1169, 146, 149, 150, 151, 152, 153, 155, 159, 160, 163, 167, 168, 171, 172, 173, 174, 175, 177, 178, 179, 180, 181, 182, 183, 185, 187, 189, 1217, 194, 195, 196, 197, 199, 200, 201, 202, 203, 208, 210, 214, 215, 216, 217, 218, 221, 225, 227, 231, 232, 233, 236, 237, 238, 244, 245, 248, 249, 254, 256, 257, 259, 263, 264, 267, 268, 270, 272, 274, 280, 284, 285, 287, 292, 293, 297, 300, 301, 304, 310, 312, 317, 320, 323, 326, 327, 332, 335, 337, 339, 343, 356, 366, 380, 381, 392, 395, 402, 404, 407, 409, 410, 417, 418, 420, 422, 424, 427, 430, 432, 434, 446, 450, 454, 463, 465, 468, 473, 474, 475, 477, 481, 483, 493, 496, 497, 501, 505, 506, 507, 513, 516, 522, 526, 528, 536, 545, 549, 557, 558, 567, 581, 582, 587, 588, 602, 627, 630, 633, 643, 644, 649, 650, 651, 654, 657, 658, 662, 671, 675, 677, 681, 683, 685, 707, 708, 709, 714, 717, 731, 734, 745, 748, 752, 771, 777, 791, 805, 810, 844, 848, 855, 864, 873, 874, 885, 894, 895, 918, 920, 948, 951, 958, 959, 961, 1006, 1011, 1016, 1018})\n",
      "0 1\n",
      "frozenset({257, 514, 1027, 1283, 6, 8, 12, 13, 14, 268, 271, 273, 274, 275, 20, 1046, 1047, 24, 1048, 280, 281, 282, 283, 284, 543, 286, 545, 546, 287, 289, 291, 292, 293, 1066, 299, 49, 818, 822, 1334, 312, 314, 1083, 321, 322, 324, 839, 330, 332, 844, 590, 594, 595, 596, 339, 340, 92, 863, 865, 99, 105, 108, 110, 115, 116, 117, 627, 1141, 120, 121, 123, 124, 125, 126, 128, 136, 1161, 146, 149, 407, 409, 410, 921, 923, 928, 675, 931, 677, 932, 933, 684, 1196, 1198, 689, 949, 695, 459, 716, 978, 470, 472, 984, 474, 987, 220, 221, 476, 990, 224, 247, 739, 740, 741, 743, 234, 747, 239, 1008, 1010, 755, 244, 759, 761, 762, 507}) frozenset({3, 517, 6, 519, 8, 520, 10, 11, 522, 525, 527, 16, 529, 1043, 21, 22, 26, 27, 540, 32, 545, 548, 549, 38, 552, 553, 46, 561, 50, 51, 52, 565, 54, 55, 567, 57, 1073, 61, 63, 575, 577, 67, 68, 69, 580, 581, 585, 75, 76, 78, 590, 81, 82, 596, 85, 88, 91, 95, 96, 99, 1133, 1134, 1135, 627, 116, 630, 120, 122, 635, 124, 134, 648, 650, 654, 657, 147, 659, 664, 156, 160, 161, 672, 678, 171, 683, 173, 174, 175, 176, 684, 689, 179, 692, 181, 182, 183, 696, 186, 187, 190, 703, 192, 194, 195, 196, 198, 712, 204, 719, 723, 213, 214, 728, 731, 734, 225, 226, 227, 228, 229, 739, 231, 232, 236, 238, 240, 1266, 244, 257, 270, 272, 275, 791, 281, 283, 796, 287, 288, 801, 807, 809, 299, 316, 317, 327, 848, 357, 384, 386, 398, 401, 404, 422, 938, 940, 941, 430, 433, 434, 946, 948, 955, 1477, 457, 460, 467, 469, 470, 509, 510})\n",
      "0 1\n"
     ]
    },
    {
     "name": "stdout",
     "output_type": "stream",
     "text": [
      "frozenset({257, 514, 1027, 1283, 6, 8, 12, 13, 14, 268, 271, 273, 274, 275, 20, 1046, 1047, 24, 1048, 280, 281, 282, 283, 284, 543, 286, 545, 546, 287, 289, 291, 292, 293, 1066, 299, 49, 818, 822, 1334, 312, 314, 1083, 321, 322, 324, 839, 330, 332, 844, 590, 594, 595, 596, 339, 340, 92, 863, 865, 99, 105, 108, 110, 115, 116, 117, 627, 1141, 120, 121, 123, 124, 125, 126, 128, 136, 1161, 146, 149, 407, 409, 410, 921, 923, 928, 675, 931, 677, 932, 933, 684, 1196, 1198, 689, 949, 695, 459, 716, 978, 470, 472, 984, 474, 987, 220, 221, 476, 990, 224, 247, 739, 740, 741, 743, 234, 747, 239, 1008, 1010, 755, 244, 759, 761, 762, 507}) frozenset({0, 257, 258, 259, 8, 11, 269, 526, 270, 275, 22, 27, 287, 292, 293, 43, 812, 557, 1072, 49, 54, 55, 312, 63, 320, 321, 322, 323, 68, 581, 70, 324, 327, 330, 587, 843, 332, 80, 339, 88, 90, 91, 94, 95, 97, 99, 356, 110, 366, 1136, 115, 116, 627, 628, 377, 122, 126, 128, 134, 1160, 143, 1425, 150, 152, 153, 158, 417, 675, 932, 677, 173, 174, 686, 687, 1198, 178, 942, 180, 947, 182, 183, 190, 194, 199, 968, 201, 457, 468, 983, 473, 474, 987, 476, 221, 222, 990, 479, 992, 484, 741, 233, 234, 747, 236, 750, 239, 753, 243, 500, 1013, 247})\n",
      "0 1\n",
      "frozenset({257, 514, 1027, 1283, 6, 8, 12, 13, 14, 268, 271, 273, 274, 275, 20, 1046, 1047, 24, 1048, 280, 281, 282, 283, 284, 543, 286, 545, 546, 287, 289, 291, 292, 293, 1066, 299, 49, 818, 822, 1334, 312, 314, 1083, 321, 322, 324, 839, 330, 332, 844, 590, 594, 595, 596, 339, 340, 92, 863, 865, 99, 105, 108, 110, 115, 116, 117, 627, 1141, 120, 121, 123, 124, 125, 126, 128, 136, 1161, 146, 149, 407, 409, 410, 921, 923, 928, 675, 931, 677, 932, 933, 684, 1196, 1198, 689, 949, 695, 459, 716, 978, 470, 472, 984, 474, 987, 220, 221, 476, 990, 224, 247, 739, 740, 741, 743, 234, 747, 239, 1008, 1010, 755, 244, 759, 761, 762, 507}) frozenset({0, 6, 10, 11, 12, 13, 14, 15, 526, 527, 528, 529, 32, 549, 41, 44, 556, 47, 48, 49, 1072, 51, 1073, 565, 55, 58, 59, 60, 63, 65, 68, 69, 581, 75, 1100, 78, 1103, 80, 82, 596, 85, 86, 87, 88, 601, 90, 95, 96, 97, 609, 99, 627, 630, 120, 637, 126, 128, 130, 133, 134, 649, 142, 143, 654, 659, 150, 662, 152, 153, 663, 155, 159, 162, 164, 165, 678, 167, 168, 169, 170, 171, 172, 173, 174, 175, 683, 177, 178, 179, 180, 685, 182, 183, 689, 185, 186, 187, 188, 189, 190, 191, 194, 195, 196, 197, 198, 199, 200, 201, 202, 203, 707, 708, 206, 712, 208, 209, 211, 214, 215, 728, 732, 221, 222, 734, 227, 747, 236, 237, 238, 748, 750, 241, 244, 245, 248, 250, 256, 257, 769, 1285, 777, 267, 268, 271, 274, 791, 792, 281, 284, 285, 286, 288, 805, 297, 299, 301, 304, 310, 314, 316, 317, 325, 326, 844, 337, 855, 346, 862, 864, 356, 381, 384, 1410, 903, 402, 404, 407, 920, 922, 422, 427, 940, 430, 942, 432, 1455, 946, 959, 960, 962, 970, 1484, 461, 463, 468, 473, 474, 477, 478, 479, 481, 483, 484, 485, 1511, 1512, 1014, 504, 1017, 510})\n",
      "0 1\n",
      "frozenset({257, 514, 1027, 1283, 6, 8, 12, 13, 14, 268, 271, 273, 274, 275, 20, 1046, 1047, 24, 1048, 280, 281, 282, 283, 284, 543, 286, 545, 546, 287, 289, 291, 292, 293, 1066, 299, 49, 818, 822, 1334, 312, 314, 1083, 321, 322, 324, 839, 330, 332, 844, 590, 594, 595, 596, 339, 340, 92, 863, 865, 99, 105, 108, 110, 115, 116, 117, 627, 1141, 120, 121, 123, 124, 125, 126, 128, 136, 1161, 146, 149, 407, 409, 410, 921, 923, 928, 675, 931, 677, 932, 933, 684, 1196, 1198, 689, 949, 695, 459, 716, 978, 470, 472, 984, 474, 987, 220, 221, 476, 990, 224, 247, 739, 740, 741, 743, 234, 747, 239, 1008, 1010, 755, 244, 759, 761, 762, 507}) frozenset({0, 2, 514, 6, 7, 522, 1034, 526, 16, 20, 21, 23, 1049, 28, 541, 32, 545, 37, 549, 39, 40, 1064, 46, 558, 49, 1073, 1077, 55, 567, 568, 61, 62, 63, 66, 67, 70, 71, 78, 79, 1614, 82, 83, 1109, 86, 88, 89, 90, 602, 93, 94, 96, 97, 98, 99, 100, 105, 1132, 1134, 624, 1138, 116, 117, 119, 120, 121, 122, 635, 124, 639, 131, 133, 134, 138, 651, 143, 144, 656, 657, 150, 662, 152, 153, 1177, 1180, 158, 1182, 160, 162, 163, 674, 678, 167, 679, 171, 172, 173, 174, 175, 176, 178, 180, 181, 182, 185, 190, 194, 195, 196, 709, 200, 201, 203, 206, 207, 208, 209, 210, 721, 214, 215, 216, 1239, 218, 221, 226, 227, 228, 229, 230, 738, 741, 745, 234, 746, 747, 237, 238, 242, 754, 248, 249, 253, 256, 258, 770, 773, 264, 265, 270, 271, 785, 280, 796, 799, 289, 293, 808, 297, 809, 300, 306, 312, 824, 314, 315, 825, 317, 327, 845, 346, 348, 356, 357, 361, 365, 889, 379, 384, 385, 897, 1410, 390, 392, 1418, 401, 402, 403, 404, 929, 418, 422, 427, 428, 429, 430, 431, 433, 434, 945, 443, 448, 455, 1482, 461, 469, 471, 473, 482, 995, 484, 490, 495, 1019})\n",
      "0 1\n",
      "frozenset({257, 514, 1027, 1283, 6, 8, 12, 13, 14, 268, 271, 273, 274, 275, 20, 1046, 1047, 24, 1048, 280, 281, 282, 283, 284, 543, 286, 545, 546, 287, 289, 291, 292, 293, 1066, 299, 49, 818, 822, 1334, 312, 314, 1083, 321, 322, 324, 839, 330, 332, 844, 590, 594, 595, 596, 339, 340, 92, 863, 865, 99, 105, 108, 110, 115, 116, 117, 627, 1141, 120, 121, 123, 124, 125, 126, 128, 136, 1161, 146, 149, 407, 409, 410, 921, 923, 928, 675, 931, 677, 932, 933, 684, 1196, 1198, 689, 949, 695, 459, 716, 978, 470, 472, 984, 474, 987, 220, 221, 476, 990, 224, 247, 739, 740, 741, 743, 234, 747, 239, 1008, 1010, 755, 244, 759, 761, 762, 507}) frozenset({0, 514, 1027, 6, 7, 8, 1032, 522, 1033, 14, 526, 527, 21, 23, 24, 1048, 27, 28, 541, 32, 545, 1059, 548, 37, 551, 42, 44, 558, 47, 559, 49, 1072, 53, 55, 567, 57, 569, 61, 62, 575, 577, 1090, 67, 68, 579, 70, 71, 581, 583, 585, 78, 81, 595, 596, 87, 88, 90, 93, 94, 608, 97, 98, 102, 106, 621, 111, 1138, 116, 117, 120, 122, 124, 131, 134, 138, 139, 140, 651, 142, 146, 147, 659, 150, 664, 160, 673, 678, 168, 171, 172, 173, 684, 175, 176, 178, 691, 182, 187, 190, 192, 1216, 194, 195, 1218, 201, 203, 204, 716, 1227, 207, 719, 209, 214, 217, 224, 225, 226, 227, 228, 229, 230, 738, 741, 233, 234, 742, 747, 238, 240, 242, 754, 244, 755, 757, 759, 767, 257, 770, 264, 275, 279, 281, 285, 287, 801, 290, 293, 811, 819, 312, 825, 830, 322, 324, 839, 840, 865, 356, 357, 362, 372, 377, 889, 379, 384, 1410, 390, 391, 392, 1418, 400, 401, 404, 408, 409, 410, 923, 928, 929, 418, 419, 930, 933, 422, 428, 430, 431, 950, 442, 446, 448, 450, 454, 461, 464, 469, 981, 471, 472, 983, 482, 494, 495, 500, 508})\n",
      "0 1\n",
      "frozenset({257, 514, 1027, 1283, 6, 8, 12, 13, 14, 268, 271, 273, 274, 275, 20, 1046, 1047, 24, 1048, 280, 281, 282, 283, 284, 543, 286, 545, 546, 287, 289, 291, 292, 293, 1066, 299, 49, 818, 822, 1334, 312, 314, 1083, 321, 322, 324, 839, 330, 332, 844, 590, 594, 595, 596, 339, 340, 92, 863, 865, 99, 105, 108, 110, 115, 116, 117, 627, 1141, 120, 121, 123, 124, 125, 126, 128, 136, 1161, 146, 149, 407, 409, 410, 921, 923, 928, 675, 931, 677, 932, 933, 684, 1196, 1198, 689, 949, 695, 459, 716, 978, 470, 472, 984, 474, 987, 220, 221, 476, 990, 224, 247, 739, 740, 741, 743, 234, 747, 239, 1008, 1010, 755, 244, 759, 761, 762, 507}) frozenset({256, 257, 258, 6, 134, 779, 402, 530, 537, 27, 28, 160, 163, 293, 682, 171, 300, 173, 303, 49, 312, 314, 318, 320, 68, 230, 872, 750, 251, 241, 1012, 891})\n",
      "0 1\n"
     ]
    },
    {
     "name": "stdout",
     "output_type": "stream",
     "text": [
      "frozenset({257, 514, 1027, 1283, 6, 8, 12, 13, 14, 268, 271, 273, 274, 275, 20, 1046, 1047, 24, 1048, 280, 281, 282, 283, 284, 543, 286, 545, 546, 287, 289, 291, 292, 293, 1066, 299, 49, 818, 822, 1334, 312, 314, 1083, 321, 322, 324, 839, 330, 332, 844, 590, 594, 595, 596, 339, 340, 92, 863, 865, 99, 105, 108, 110, 115, 116, 117, 627, 1141, 120, 121, 123, 124, 125, 126, 128, 136, 1161, 146, 149, 407, 409, 410, 921, 923, 928, 675, 931, 677, 932, 933, 684, 1196, 1198, 689, 949, 695, 459, 716, 978, 470, 472, 984, 474, 987, 220, 221, 476, 990, 224, 247, 739, 740, 741, 743, 234, 747, 239, 1008, 1010, 755, 244, 759, 761, 762, 507}) frozenset({0, 516, 520, 522, 524, 525, 526, 15, 528, 529, 22, 27, 541, 31, 547, 553, 46, 49, 57, 70, 81, 85, 603, 92, 1117, 94, 97, 98, 99, 613, 615, 104, 106, 108, 113, 114, 627, 1139, 1148, 126, 639, 131, 132, 133, 134, 646, 136, 649, 653, 142, 654, 151, 163, 167, 171, 173, 174, 175, 176, 1202, 179, 180, 181, 182, 184, 185, 186, 187, 189, 190, 192, 194, 196, 198, 199, 204, 1229, 207, 1231, 209, 210, 736, 233, 234, 235, 767, 770, 268, 270, 271, 285, 304, 312, 318, 834, 324, 339, 344, 864, 356, 382, 385, 1410, 402, 407, 431, 433, 434, 442, 960, 457, 1486, 468, 473, 474, 479, 481, 482, 483, 1002, 491, 492, 505, 494, 497, 1522, 501, 1017, 506, 509, 510})\n",
      "0 1\n",
      "frozenset({257, 514, 1027, 1283, 6, 8, 12, 13, 14, 268, 271, 273, 274, 275, 20, 1046, 1047, 24, 1048, 280, 281, 282, 283, 284, 543, 286, 545, 546, 287, 289, 291, 292, 293, 1066, 299, 49, 818, 822, 1334, 312, 314, 1083, 321, 322, 324, 839, 330, 332, 844, 590, 594, 595, 596, 339, 340, 92, 863, 865, 99, 105, 108, 110, 115, 116, 117, 627, 1141, 120, 121, 123, 124, 125, 126, 128, 136, 1161, 146, 149, 407, 409, 410, 921, 923, 928, 675, 931, 677, 932, 933, 684, 1196, 1198, 689, 949, 695, 459, 716, 978, 470, 472, 984, 474, 987, 220, 221, 476, 990, 224, 247, 739, 740, 741, 743, 234, 747, 239, 1008, 1010, 755, 244, 759, 761, 762, 507}) frozenset({0, 2, 3, 7, 8, 9, 10, 11, 12, 13, 14, 1034, 16, 1038, 18, 1043, 21, 23, 24, 27, 30, 31, 1058, 39, 41, 44, 45, 46, 47, 48, 49, 1068, 51, 52, 1069, 54, 55, 1073, 57, 61, 63, 64, 66, 68, 69, 70, 71, 76, 78, 79, 80, 1102, 85, 86, 87, 88, 1109, 90, 91, 92, 1114, 94, 95, 96, 97, 98, 99, 1118, 1119, 1130, 108, 1138, 115, 116, 120, 123, 1148, 1152, 129, 130, 131, 132, 134, 140, 143, 1169, 152, 153, 154, 155, 156, 158, 159, 161, 162, 167, 169, 170, 171, 172, 173, 174, 175, 177, 178, 179, 180, 181, 182, 183, 184, 185, 1209, 187, 190, 192, 193, 194, 195, 196, 197, 198, 199, 200, 201, 202, 1219, 204, 205, 206, 1228, 208, 209, 210, 211, 1229, 213, 214, 215, 216, 217, 218, 221, 222, 225, 227, 228, 229, 230, 231, 232, 233, 234, 237, 238, 239, 240, 242, 1266, 257, 267, 1293, 272, 275, 276, 283, 284, 285, 301, 303, 316, 317, 318, 344, 345, 355, 356, 361, 366, 370, 378, 379, 381, 384, 392, 402, 404, 409, 416, 422, 424, 425, 426, 427, 1448, 429, 430, 431, 432, 434, 435, 442, 446, 450, 1477, 454, 457, 460, 461, 467, 468, 469, 472, 473, 474, 477, 478, 479, 482, 483, 487, 488, 1511, 491, 493, 495, 496, 1523, 500, 502, 503, 504, 505, 506, 1528, 509, 510, 511, 512, 513, 514, 517, 519, 522, 523, 525, 529, 530, 536, 538, 541, 543, 545, 548, 549, 558, 565, 567, 577, 581, 583, 587, 588, 595, 596, 602, 606, 607, 610, 613, 614, 615, 616, 628, 630, 635, 638, 639, 641, 643, 644, 650, 651, 654, 655, 656, 659, 660, 663, 664, 670, 672, 674, 675, 677, 678, 683, 691, 692, 700, 701, 704, 707, 708, 709, 714, 718, 723, 731, 732, 734, 736, 738, 743, 745, 747, 750, 761, 771, 779, 789, 793, 801, 810, 848, 889, 894, 920, 924, 927, 941, 942, 945, 951, 954, 955, 958, 959, 970, 979, 1008, 1009, 1014, 1017, 1020, 1023})\n",
      "0 1\n",
      "frozenset({257, 514, 1027, 1283, 6, 8, 12, 13, 14, 268, 271, 273, 274, 275, 20, 1046, 1047, 24, 1048, 280, 281, 282, 283, 284, 543, 286, 545, 546, 287, 289, 291, 292, 293, 1066, 299, 49, 818, 822, 1334, 312, 314, 1083, 321, 322, 324, 839, 330, 332, 844, 590, 594, 595, 596, 339, 340, 92, 863, 865, 99, 105, 108, 110, 115, 116, 117, 627, 1141, 120, 121, 123, 124, 125, 126, 128, 136, 1161, 146, 149, 407, 409, 410, 921, 923, 928, 675, 931, 677, 932, 933, 684, 1196, 1198, 689, 949, 695, 459, 716, 978, 470, 472, 984, 474, 987, 220, 221, 476, 990, 224, 247, 739, 740, 741, 743, 234, 747, 239, 1008, 1010, 755, 244, 759, 761, 762, 507}) frozenset({0, 3, 4, 5, 6, 7, 8, 10, 11, 12, 13, 14, 17, 18, 19, 20, 21, 22, 23, 24, 25, 26, 27, 29, 30, 31, 35, 37, 41, 42, 43, 44, 45, 46, 47, 48, 49, 50, 51, 53, 54, 55, 56, 57, 58, 59, 60, 63, 64, 68, 69, 75, 76, 78, 80, 81, 85, 86, 87, 88, 91, 92, 95, 96, 97, 99, 110, 112, 115, 116, 117, 120, 121, 123, 124, 126, 127, 128, 130, 131, 132, 133, 134, 136, 142, 143, 148, 149, 151, 152, 154, 155, 156, 158, 159, 160, 161, 163, 164, 165, 166, 169, 170, 171, 173, 174, 175, 177, 178, 180, 181, 182, 184, 185, 186, 187, 189, 190, 191, 192, 194, 195, 196, 199, 201, 202, 203, 204, 206, 207, 208, 209, 210, 211, 212, 213, 214, 215, 217, 218, 219, 220, 221, 222, 223, 225, 227, 232, 233, 235, 236, 237, 238, 239, 241, 245, 247, 248, 249, 250, 251, 254, 255, 256, 257, 261, 264, 267, 268, 269, 270, 271, 272, 274, 275, 278, 279, 280, 281, 282, 283, 284, 285, 286, 287, 288, 290, 291, 292, 293, 294, 295, 296, 297, 299, 300, 301, 302, 303, 304, 305, 306, 309, 310, 311, 312, 314, 315, 316, 317, 318, 319, 320, 323, 324, 325, 326, 327, 329, 331, 332, 336, 339, 343, 344, 345, 346, 353, 355, 356, 358, 362, 366, 370, 371, 374, 377, 380, 381, 384, 386, 390, 392, 395, 401, 402, 404, 409, 410, 416, 422, 424, 426, 427, 432, 434, 442, 446, 447, 448, 450, 453, 457, 458, 460, 461, 463, 465, 466, 467, 468, 470, 473, 474, 475, 478, 479, 480, 482, 497, 499, 501, 502, 503, 504, 506, 507, 508, 510, 511, 512, 513, 514, 515, 516, 517, 519, 520, 521, 524, 526, 527, 528, 530, 532, 533, 534, 535, 536, 542, 546, 549, 552, 557, 558, 565, 567, 571, 573, 575, 577, 580, 581, 583, 590, 593, 602, 603, 604, 606, 609, 610, 611, 618, 627, 628, 630, 631, 635, 637, 638, 639, 641, 643, 644, 646, 648, 649, 650, 652, 653, 654, 655, 656, 657, 659, 661, 671, 672, 673, 675, 683, 684, 685, 689, 691, 693, 694, 697, 698, 699, 701, 706, 707, 708, 711, 714, 715, 716, 721, 722, 723, 725, 726, 727, 728, 729, 730, 731, 732, 733, 734, 738, 739, 740, 741, 743, 745, 749, 750, 752, 760, 761, 763, 765, 769, 771, 772, 774, 777, 780, 781, 784, 785, 788, 791, 792, 793, 795, 799, 802, 804, 805, 812, 814, 822, 824, 830, 843, 844, 846, 854, 859, 862, 864, 866, 868, 871, 873, 874, 879, 881, 886, 888, 894, 895, 898, 899, 901, 902, 903, 905, 908, 909, 910, 911, 912, 913, 914, 915, 917, 918, 920, 922, 926, 929, 934, 935, 938, 941, 943, 944, 949, 952, 953, 954, 955, 957, 958, 959, 960, 961, 962, 965, 971, 973, 974, 978, 979, 994, 1004, 1006, 1007, 1008, 1009, 1010, 1011, 1013, 1015, 1016, 1017, 1021, 1023, 1028, 1040, 1041, 1043, 1044, 1045, 1052, 1060, 1061, 1062, 1066, 1067, 1068, 1069, 1070, 1073, 1081, 1083, 1084, 1085, 1089, 1096, 1097, 1098, 1099, 1100, 1102, 1105, 1106, 1107, 1110, 1111, 1112, 1117, 1120, 1127, 1128, 1130, 1133, 1134, 1135, 1136, 1139, 1140, 1141, 1142, 1143, 1146, 1148, 1152, 1154, 1157, 1159, 1160, 1165, 1166, 1168, 1169, 1170, 1172, 1173, 1175, 1185, 1191, 1192, 1193, 1194, 1195, 1196, 1197, 1207, 1210, 1212, 1213, 1220, 1222, 1225, 1231, 1232, 1237, 1244, 1247, 1251, 1254, 1255, 1256, 1261, 1264, 1265, 1266, 1267, 1272, 1277, 1280, 1283, 1287, 1295, 1310, 1318, 1321, 1343, 1350, 1355, 1367, 1369, 1374, 1377, 1378, 1379, 1387, 1394, 1399, 1405, 1406, 1417, 1420, 1425, 1435, 1444, 1447, 1461, 1464, 1465, 1472, 1474, 1478, 1489, 1498, 1500, 1505, 1513, 1515, 1528, 1531, 1534, 1537, 1548, 1552, 1553, 1559, 1577, 1584, 1599, 1601, 1604, 1606, 1622, 1627, 1628, 1629, 1630, 1631, 1632, 1633, 1634, 1635, 1636, 1637, 1638, 1639, 1640, 1641, 1642, 1643, 1644, 1645, 1646, 1647, 1648, 1649, 1650})\n",
      "0 1\n"
     ]
    },
    {
     "name": "stdout",
     "output_type": "stream",
     "text": [
      "frozenset({257, 514, 1027, 1283, 6, 8, 12, 13, 14, 268, 271, 273, 274, 275, 20, 1046, 1047, 24, 1048, 280, 281, 282, 283, 284, 543, 286, 545, 546, 287, 289, 291, 292, 293, 1066, 299, 49, 818, 822, 1334, 312, 314, 1083, 321, 322, 324, 839, 330, 332, 844, 590, 594, 595, 596, 339, 340, 92, 863, 865, 99, 105, 108, 110, 115, 116, 117, 627, 1141, 120, 121, 123, 124, 125, 126, 128, 136, 1161, 146, 149, 407, 409, 410, 921, 923, 928, 675, 931, 677, 932, 933, 684, 1196, 1198, 689, 949, 695, 459, 716, 978, 470, 472, 984, 474, 987, 220, 221, 476, 990, 224, 247, 739, 740, 741, 743, 234, 747, 239, 1008, 1010, 755, 244, 759, 761, 762, 507}) frozenset({0, 3, 1027, 1028, 1029, 7, 1031, 1032, 1035, 12, 1036, 14, 20, 21, 1046, 1048, 27, 28, 1052, 1053, 1054, 1057, 34, 1062, 39, 40, 1065, 43, 48, 49, 50, 1075, 52, 53, 1077, 55, 1078, 57, 62, 63, 64, 65, 66, 67, 68, 1090, 70, 71, 72, 1094, 77, 79, 81, 82, 87, 88, 89, 90, 93, 94, 95, 96, 98, 101, 1125, 104, 1132, 109, 1135, 1139, 116, 117, 119, 120, 121, 1145, 124, 1151, 130, 132, 134, 135, 137, 138, 139, 140, 141, 142, 146, 147, 150, 152, 1177, 154, 155, 1178, 1180, 1181, 1184, 164, 165, 167, 171, 172, 173, 180, 1208, 185, 190, 194, 1218, 1223, 201, 203, 207, 209, 1238, 215, 216, 217, 219, 224, 230, 232, 233, 234, 236, 239, 244, 248, 249, 251, 253, 256, 257, 258, 1284, 1286, 1310, 287, 291, 293, 1335, 312, 317, 355, 356, 363, 364, 365, 366, 367, 368, 374, 375, 376, 377, 382, 383, 384, 385, 1412, 390, 391, 392, 1414, 394, 397, 398, 399, 400, 401, 402, 403, 404, 1424, 406, 408, 409, 410, 411, 415, 416, 417, 418, 419, 421, 422, 426, 431, 440, 442, 443, 446, 1472, 450, 451, 1479, 461, 462, 464, 467, 469, 471, 472, 476, 1502, 484, 1508, 495, 500, 1530, 526, 540, 541, 551, 552, 553, 558, 559, 564, 567, 568, 569, 570, 574, 576, 578, 580, 583, 584, 587, 595, 596, 608, 621, 622, 623, 624, 626, 627, 650, 659, 672, 678, 685, 698, 721, 722, 724, 725, 728, 730, 731, 733, 738, 741, 747, 754, 755, 758, 764, 767, 768, 770, 774, 778, 779, 782, 789, 793, 794, 795, 800, 811, 814, 825, 826, 831, 842, 844, 861, 863, 870, 925, 927, 930, 931, 933, 939, 941, 943, 945, 948, 954, 958, 965, 968, 973, 974, 992, 995, 997, 999, 1010, 1013, 1022})\n",
      "0 1\n",
      "frozenset({257, 514, 1027, 1283, 6, 8, 12, 13, 14, 268, 271, 273, 274, 275, 20, 1046, 1047, 24, 1048, 280, 281, 282, 283, 284, 543, 286, 545, 546, 287, 289, 291, 292, 293, 1066, 299, 49, 818, 822, 1334, 312, 314, 1083, 321, 322, 324, 839, 330, 332, 844, 590, 594, 595, 596, 339, 340, 92, 863, 865, 99, 105, 108, 110, 115, 116, 117, 627, 1141, 120, 121, 123, 124, 125, 126, 128, 136, 1161, 146, 149, 407, 409, 410, 921, 923, 928, 675, 931, 677, 932, 933, 684, 1196, 1198, 689, 949, 695, 459, 716, 978, 470, 472, 984, 474, 987, 220, 221, 476, 990, 224, 247, 739, 740, 741, 743, 234, 747, 239, 1008, 1010, 755, 244, 759, 761, 762, 507}) frozenset({0, 3, 5, 6, 8, 9, 10, 11, 12, 16, 1040, 1041, 1043, 20, 21, 22, 1045, 27, 30, 37, 41, 44, 46, 47, 1072, 49, 50, 51, 52, 1073, 54, 55, 57, 63, 64, 65, 1089, 67, 68, 69, 1097, 76, 78, 82, 86, 87, 88, 89, 1111, 91, 1117, 94, 95, 97, 99, 1133, 110, 123, 126, 130, 131, 133, 134, 147, 153, 167, 168, 169, 171, 173, 176, 177, 178, 179, 180, 181, 1207, 184, 185, 1209, 187, 190, 191, 192, 193, 194, 195, 196, 197, 1220, 201, 202, 203, 1229, 207, 208, 209, 210, 215, 217, 218, 222, 234, 237, 238, 1266, 243, 245, 247, 252, 254, 257, 264, 267, 271, 272, 275, 283, 285, 287, 288, 301, 312, 314, 316, 317, 326, 327, 331, 332, 339, 353, 356, 366, 377, 380, 381, 383, 384, 385, 1411, 394, 395, 400, 420, 424, 426, 427, 1450, 430, 432, 434, 442, 446, 457, 460, 461, 468, 469, 470, 473, 474, 476, 478, 479, 482, 486, 488, 489, 493, 495, 496, 498, 502, 503, 504, 507, 512, 513, 519, 522, 526, 527, 548, 549, 553, 557, 558, 567, 568, 569, 573, 578, 581, 582, 588, 590, 602, 605, 607, 630, 639, 640, 1663, 643, 645, 646, 648, 650, 652, 653, 654, 656, 657, 658, 662, 672, 683, 689, 691, 692, 696, 698, 703, 709, 712, 714, 721, 723, 731, 734, 735, 745, 762, 769, 771, 780, 788, 791, 792, 801, 809, 812, 840, 855, 872, 938, 942, 944, 948, 958, 987, 1005, 1007, 1013, 1018, 1019, 1020})\n",
      "0 1\n",
      "frozenset({257, 514, 1027, 1283, 6, 8, 12, 13, 14, 268, 271, 273, 274, 275, 20, 1046, 1047, 24, 1048, 280, 281, 282, 283, 284, 543, 286, 545, 546, 287, 289, 291, 292, 293, 1066, 299, 49, 818, 822, 1334, 312, 314, 1083, 321, 322, 324, 839, 330, 332, 844, 590, 594, 595, 596, 339, 340, 92, 863, 865, 99, 105, 108, 110, 115, 116, 117, 627, 1141, 120, 121, 123, 124, 125, 126, 128, 136, 1161, 146, 149, 407, 409, 410, 921, 923, 928, 675, 931, 677, 932, 933, 684, 1196, 1198, 689, 949, 695, 459, 716, 978, 470, 472, 984, 474, 987, 220, 221, 476, 990, 224, 247, 739, 740, 741, 743, 234, 747, 239, 1008, 1010, 755, 244, 759, 761, 762, 507}) frozenset({0, 2, 3, 6, 10, 16, 1040, 21, 1046, 23, 26, 1051, 32, 545, 1058, 37, 549, 551, 553, 49, 50, 53, 565, 55, 567, 569, 1080, 571, 61, 575, 65, 1089, 1090, 70, 585, 587, 76, 78, 81, 596, 88, 89, 91, 94, 95, 96, 99, 624, 626, 117, 120, 121, 122, 128, 144, 146, 147, 155, 158, 160, 163, 1187, 677, 678, 171, 172, 173, 684, 175, 691, 182, 183, 184, 1209, 187, 1214, 194, 203, 715, 209, 731, 225, 738, 741, 230, 231, 232, 234, 237, 750, 239, 240, 247, 759, 249, 762, 251, 256, 768, 770, 773, 1290, 273, 275, 277, 287, 799, 290, 291, 807, 299, 824, 826, 832, 848, 339, 868, 357, 367, 368, 891, 894, 384, 402, 404, 409, 410, 412, 420, 430, 432, 945, 451, 452, 455, 457, 973, 975, 469, 471, 1521, 1010, 500})\n",
      "0 1\n",
      "frozenset({257, 514, 1027, 1283, 6, 8, 12, 13, 14, 268, 271, 273, 274, 275, 20, 1046, 1047, 24, 1048, 280, 281, 282, 283, 284, 543, 286, 545, 546, 287, 289, 291, 292, 293, 1066, 299, 49, 818, 822, 1334, 312, 314, 1083, 321, 322, 324, 839, 330, 332, 844, 590, 594, 595, 596, 339, 340, 92, 863, 865, 99, 105, 108, 110, 115, 116, 117, 627, 1141, 120, 121, 123, 124, 125, 126, 128, 136, 1161, 146, 149, 407, 409, 410, 921, 923, 928, 675, 931, 677, 932, 933, 684, 1196, 1198, 689, 949, 695, 459, 716, 978, 470, 472, 984, 474, 987, 220, 221, 476, 990, 224, 247, 739, 740, 741, 743, 234, 747, 239, 1008, 1010, 755, 244, 759, 761, 762, 507}) frozenset({0, 2, 6, 10, 1034, 20, 24, 536, 537, 27, 41, 557, 558, 49, 51, 1077, 54, 55, 61, 577, 69, 587, 1100, 78, 590, 81, 82, 595, 84, 596, 86, 87, 88, 89, 90, 602, 93, 94, 95, 97, 98, 99, 100, 110, 1139, 116, 117, 630, 120, 1660, 130, 651, 141, 142, 143, 654, 657, 658, 659, 152, 153, 160, 167, 171, 172, 173, 688, 178, 180, 703, 192, 193, 195, 196, 707, 708, 709, 201, 203, 208, 209, 212, 213, 214, 215, 733, 734, 735, 736, 225, 226, 737, 738, 741, 745, 747, 236, 237, 238, 750, 754, 755, 256, 777, 268, 269, 271, 784, 273, 290, 808, 299, 301, 309, 312, 314, 322, 331, 848, 855, 346, 864, 366, 371, 379, 380, 381, 384, 385, 393, 398, 401, 915, 404, 916, 416, 418, 1445, 427, 430, 431, 432, 433, 944, 435, 478, 479, 480, 482, 483, 484, 485, 489, 493, 1006, 496, 1010})\n",
      "0 1\n"
     ]
    },
    {
     "name": "stdout",
     "output_type": "stream",
     "text": [
      "frozenset({257, 514, 1027, 1283, 6, 8, 12, 13, 14, 268, 271, 273, 274, 275, 20, 1046, 1047, 24, 1048, 280, 281, 282, 283, 284, 543, 286, 545, 546, 287, 289, 291, 292, 293, 1066, 299, 49, 818, 822, 1334, 312, 314, 1083, 321, 322, 324, 839, 330, 332, 844, 590, 594, 595, 596, 339, 340, 92, 863, 865, 99, 105, 108, 110, 115, 116, 117, 627, 1141, 120, 121, 123, 124, 125, 126, 128, 136, 1161, 146, 149, 407, 409, 410, 921, 923, 928, 675, 931, 677, 932, 933, 684, 1196, 1198, 689, 949, 695, 459, 716, 978, 470, 472, 984, 474, 987, 220, 221, 476, 990, 224, 247, 739, 740, 741, 743, 234, 747, 239, 1008, 1010, 755, 244, 759, 761, 762, 507}) frozenset({0, 514, 3, 1027, 517, 6, 7, 8, 1033, 10, 11, 522, 13, 14, 16, 528, 530, 21, 23, 24, 27, 30, 545, 548, 549, 38, 39, 552, 41, 43, 46, 49, 51, 52, 567, 56, 57, 1085, 63, 64, 68, 69, 70, 580, 581, 583, 76, 78, 590, 81, 596, 86, 88, 94, 95, 96, 97, 99, 619, 1135, 1136, 626, 627, 116, 117, 120, 122, 123, 124, 125, 126, 646, 1159, 1166, 143, 146, 147, 659, 661, 1170, 1173, 158, 160, 163, 677, 169, 171, 172, 173, 1196, 175, 691, 180, 693, 182, 190, 192, 195, 196, 708, 199, 203, 715, 212, 213, 726, 216, 221, 222, 735, 227, 229, 743, 233, 746, 236, 238, 240, 1264, 244, 249, 251, 254, 256, 257, 258, 769, 264, 777, 268, 269, 274, 275, 276, 278, 280, 285, 287, 288, 290, 291, 297, 299, 300, 303, 306, 312, 316, 317, 320, 322, 342, 371, 379, 381, 384, 897, 392, 401, 404, 923, 933, 422, 938, 427, 941, 434, 446, 448, 454, 461, 462, 464, 470, 474, 503, 507, 510})\n",
      "0 1\n",
      "frozenset({257, 514, 1027, 1283, 6, 8, 12, 13, 14, 268, 271, 273, 274, 275, 20, 1046, 1047, 24, 1048, 280, 281, 282, 283, 284, 543, 286, 545, 546, 287, 289, 291, 292, 293, 1066, 299, 49, 818, 822, 1334, 312, 314, 1083, 321, 322, 324, 839, 330, 332, 844, 590, 594, 595, 596, 339, 340, 92, 863, 865, 99, 105, 108, 110, 115, 116, 117, 627, 1141, 120, 121, 123, 124, 125, 126, 128, 136, 1161, 146, 149, 407, 409, 410, 921, 923, 928, 675, 931, 677, 932, 933, 684, 1196, 1198, 689, 949, 695, 459, 716, 978, 470, 472, 984, 474, 987, 220, 221, 476, 990, 224, 247, 739, 740, 741, 743, 234, 747, 239, 1008, 1010, 755, 244, 759, 761, 762, 507}) frozenset({0, 257, 1027, 6, 10, 11, 522, 526, 16, 274, 275, 21, 281, 548, 549, 49, 50, 53, 54, 55, 565, 567, 317, 63, 67, 68, 72, 587, 844, 78, 590, 80, 81, 90, 94, 95, 96, 97, 98, 99, 608, 355, 356, 876, 366, 632, 384, 130, 131, 132, 133, 650, 142, 143, 654, 401, 403, 149, 155, 158, 1182, 160, 678, 167, 422, 171, 172, 173, 683, 175, 684, 431, 180, 181, 182, 183, 692, 185, 190, 704, 193, 194, 195, 450, 200, 202, 203, 719, 209, 467, 469, 214, 474, 734, 479, 226, 227, 738, 482, 484, 232, 233, 745, 236, 762, 507, 509})\n",
      "0 1\n",
      "frozenset({257, 514, 1027, 1283, 6, 8, 12, 13, 14, 268, 271, 273, 274, 275, 20, 1046, 1047, 24, 1048, 280, 281, 282, 283, 284, 543, 286, 545, 546, 287, 289, 291, 292, 293, 1066, 299, 49, 818, 822, 1334, 312, 314, 1083, 321, 322, 324, 839, 330, 332, 844, 590, 594, 595, 596, 339, 340, 92, 863, 865, 99, 105, 108, 110, 115, 116, 117, 627, 1141, 120, 121, 123, 124, 125, 126, 128, 136, 1161, 146, 149, 407, 409, 410, 921, 923, 928, 675, 931, 677, 932, 933, 684, 1196, 1198, 689, 949, 695, 459, 716, 978, 470, 472, 984, 474, 987, 220, 221, 476, 990, 224, 247, 739, 740, 741, 743, 234, 747, 239, 1008, 1010, 755, 244, 759, 761, 762, 507}) frozenset({256, 257, 769, 3, 4, 6, 264, 10, 11, 778, 525, 16, 272, 21, 1302, 26, 28, 30, 287, 32, 545, 801, 37, 549, 552, 553, 297, 809, 558, 1072, 49, 561, 52, 53, 54, 55, 565, 567, 569, 1596, 61, 575, 65, 577, 67, 837, 582, 326, 840, 78, 590, 848, 81, 596, 1108, 87, 88, 95, 863, 97, 355, 116, 117, 120, 122, 378, 653, 143, 146, 404, 924, 158, 160, 678, 171, 683, 173, 684, 175, 176, 685, 430, 180, 181, 183, 442, 1214, 1216, 194, 450, 451, 1221, 454, 200, 202, 719, 209, 1490, 254, 1238, 471, 985, 218, 221, 225, 741, 230, 233, 236, 240, 503, 509, 510})\n",
      "0 1\n",
      "frozenset({257, 514, 1027, 1283, 6, 8, 12, 13, 14, 268, 271, 273, 274, 275, 20, 1046, 1047, 24, 1048, 280, 281, 282, 283, 284, 543, 286, 545, 546, 287, 289, 291, 292, 293, 1066, 299, 49, 818, 822, 1334, 312, 314, 1083, 321, 322, 324, 839, 330, 332, 844, 590, 594, 595, 596, 339, 340, 92, 863, 865, 99, 105, 108, 110, 115, 116, 117, 627, 1141, 120, 121, 123, 124, 125, 126, 128, 136, 1161, 146, 149, 407, 409, 410, 921, 923, 928, 675, 931, 677, 932, 933, 684, 1196, 1198, 689, 949, 695, 459, 716, 978, 470, 472, 984, 474, 987, 220, 221, 476, 990, 224, 247, 739, 740, 741, 743, 234, 747, 239, 1008, 1010, 755, 244, 759, 761, 762, 507}) frozenset({0, 3, 4, 1027, 6, 8, 9, 10, 11, 12, 13, 14, 1034, 1036, 1041, 1043, 20, 21, 1045, 1046, 24, 1047, 27, 28, 1052, 30, 1057, 1060, 37, 1062, 39, 41, 42, 43, 46, 47, 48, 49, 50, 1073, 52, 53, 54, 55, 57, 58, 61, 63, 65, 66, 67, 68, 69, 70, 1090, 72, 1091, 76, 77, 78, 1100, 81, 82, 1106, 85, 86, 87, 88, 90, 93, 94, 95, 96, 97, 98, 99, 105, 109, 110, 1133, 1134, 116, 117, 120, 1144, 122, 1146, 124, 125, 131, 132, 134, 140, 142, 143, 1167, 147, 150, 152, 154, 1179, 156, 1180, 158, 159, 160, 161, 163, 166, 171, 172, 173, 174, 175, 178, 179, 180, 181, 182, 185, 1210, 190, 192, 193, 194, 195, 196, 1219, 1220, 199, 202, 203, 1229, 206, 1231, 209, 212, 214, 215, 216, 217, 219, 221, 222, 224, 225, 226, 229, 230, 232, 233, 234, 236, 237, 238, 240, 244, 247, 251, 253, 254, 256, 257, 264, 268, 271, 272, 273, 274, 275, 276, 279, 280, 281, 282, 283, 284, 285, 286, 287, 288, 1310, 291, 293, 294, 297, 299, 300, 301, 303, 312, 316, 317, 318, 320, 322, 325, 327, 364, 369, 1399, 379, 380, 381, 1406, 384, 385, 386, 391, 392, 395, 398, 400, 401, 402, 403, 404, 1424, 408, 409, 410, 411, 1437, 1438, 416, 417, 418, 419, 422, 427, 431, 432, 434, 435, 440, 442, 446, 448, 449, 450, 1477, 457, 464, 467, 468, 469, 470, 472, 475, 478, 481, 484, 495, 1522, 499, 500, 1530, 507, 508, 516, 526, 527, 530, 541, 542, 545, 548, 549, 558, 560, 565, 567, 568, 571, 574, 575, 576, 581, 587, 590, 595, 596, 605, 618, 619, 622, 628, 630, 631, 634, 635, 650, 654, 659, 662, 664, 673, 683, 685, 691, 692, 693, 695, 698, 701, 702, 706, 707, 708, 714, 715, 719, 721, 722, 723, 726, 727, 728, 730, 731, 733, 734, 735, 738, 741, 743, 746, 754, 755, 761, 767, 774, 777, 779, 786, 791, 792, 795, 802, 805, 806, 844, 865, 874, 895, 917, 920, 923, 925, 927, 929, 931, 938, 941, 948, 950, 955, 958, 960, 968, 971, 976, 978, 1008})\n",
      "0 1\n",
      "frozenset({257, 514, 1027, 1283, 6, 8, 12, 13, 14, 268, 271, 273, 274, 275, 20, 1046, 1047, 24, 1048, 280, 281, 282, 283, 284, 543, 286, 545, 546, 287, 289, 291, 292, 293, 1066, 299, 49, 818, 822, 1334, 312, 314, 1083, 321, 322, 324, 839, 330, 332, 844, 590, 594, 595, 596, 339, 340, 92, 863, 865, 99, 105, 108, 110, 115, 116, 117, 627, 1141, 120, 121, 123, 124, 125, 126, 128, 136, 1161, 146, 149, 407, 409, 410, 921, 923, 928, 675, 931, 677, 932, 933, 684, 1196, 1198, 689, 949, 695, 459, 716, 978, 470, 472, 984, 474, 987, 220, 221, 476, 990, 224, 247, 739, 740, 741, 743, 234, 747, 239, 1008, 1010, 755, 244, 759, 761, 762, 507}) frozenset({0, 257, 6, 518, 8, 11, 12, 525, 526, 274, 275, 276, 282, 27, 284, 285, 30, 287, 299, 49, 561, 55, 312, 317, 63, 321, 835, 70, 848, 81, 604, 99, 113, 631, 120, 1148, 895, 128, 133, 143, 401, 407, 152, 922, 420, 426, 171, 172, 428, 432, 177, 180, 700, 704, 195, 1477, 199, 201, 204, 210, 470, 215, 479, 481, 227, 741, 236, 495, 1010, 503, 510})\n",
      "0 1\n"
     ]
    },
    {
     "name": "stdout",
     "output_type": "stream",
     "text": [
      "frozenset({257, 514, 1027, 1283, 6, 8, 12, 13, 14, 268, 271, 273, 274, 275, 20, 1046, 1047, 24, 1048, 280, 281, 282, 283, 284, 543, 286, 545, 546, 287, 289, 291, 292, 293, 1066, 299, 49, 818, 822, 1334, 312, 314, 1083, 321, 322, 324, 839, 330, 332, 844, 590, 594, 595, 596, 339, 340, 92, 863, 865, 99, 105, 108, 110, 115, 116, 117, 627, 1141, 120, 121, 123, 124, 125, 126, 128, 136, 1161, 146, 149, 407, 409, 410, 921, 923, 928, 675, 931, 677, 932, 933, 684, 1196, 1198, 689, 949, 695, 459, 716, 978, 470, 472, 984, 474, 987, 220, 221, 476, 990, 224, 247, 739, 740, 741, 743, 234, 747, 239, 1008, 1010, 755, 244, 759, 761, 762, 507}) frozenset({1027, 8, 11, 525, 1043, 21, 22, 23, 1046, 26, 27, 540, 30, 545, 548, 37, 40, 41, 558, 49, 50, 1073, 52, 53, 54, 55, 565, 567, 568, 61, 63, 575, 66, 67, 68, 580, 71, 72, 584, 75, 78, 79, 594, 91, 93, 95, 96, 97, 608, 99, 613, 624, 116, 120, 121, 123, 126, 131, 138, 654, 150, 671, 160, 1187, 167, 171, 172, 173, 684, 180, 181, 183, 184, 186, 187, 192, 193, 194, 195, 199, 200, 201, 203, 204, 716, 1227, 719, 720, 209, 721, 723, 215, 216, 217, 218, 731, 225, 226, 227, 228, 229, 230, 738, 232, 233, 236, 238, 755, 762, 764, 784, 273, 280, 281, 793, 283, 795, 815, 1329, 823, 824, 317, 830, 839, 366, 372, 384, 385, 390, 392, 398, 400, 401, 402, 404, 405, 411, 414, 927, 418, 420, 422, 425, 426, 940, 430, 942, 442, 448, 449, 467, 469, 470, 474, 484, 1010, 507})\n",
      "0 1\n",
      "frozenset({257, 514, 1027, 1283, 6, 8, 12, 13, 14, 268, 271, 273, 274, 275, 20, 1046, 1047, 24, 1048, 280, 281, 282, 283, 284, 543, 286, 545, 546, 287, 289, 291, 292, 293, 1066, 299, 49, 818, 822, 1334, 312, 314, 1083, 321, 322, 324, 839, 330, 332, 844, 590, 594, 595, 596, 339, 340, 92, 863, 865, 99, 105, 108, 110, 115, 116, 117, 627, 1141, 120, 121, 123, 124, 125, 126, 128, 136, 1161, 146, 149, 407, 409, 410, 921, 923, 928, 675, 931, 677, 932, 933, 684, 1196, 1198, 689, 949, 695, 459, 716, 978, 470, 472, 984, 474, 987, 220, 221, 476, 990, 224, 247, 739, 740, 741, 743, 234, 747, 239, 1008, 1010, 755, 244, 759, 761, 762, 507}) frozenset({0, 2, 3, 4, 6, 7, 8, 1033, 10, 11, 12, 1036, 14, 1038, 16, 1039, 1040, 1043, 20, 21, 22, 23, 24, 25, 1045, 27, 28, 1046, 30, 1047, 32, 1051, 37, 40, 41, 42, 43, 45, 46, 1070, 48, 49, 1072, 52, 53, 54, 55, 61, 62, 63, 64, 1085, 66, 67, 1087, 69, 70, 71, 72, 1088, 1089, 1091, 76, 77, 78, 79, 80, 81, 82, 84, 1108, 86, 87, 1109, 89, 90, 91, 92, 93, 94, 95, 96, 97, 98, 99, 1117, 105, 108, 110, 1134, 115, 116, 117, 1141, 119, 120, 121, 122, 123, 124, 1144, 126, 127, 128, 1152, 131, 1156, 1159, 136, 138, 140, 142, 143, 144, 146, 149, 150, 151, 152, 1177, 154, 155, 157, 158, 159, 1181, 1186, 163, 1187, 166, 167, 169, 170, 171, 172, 173, 1198, 175, 178, 180, 181, 182, 183, 184, 185, 186, 1208, 1209, 190, 1214, 1216, 193, 194, 1217, 1219, 197, 1221, 1223, 200, 201, 202, 203, 1225, 1227, 1229, 207, 208, 209, 1231, 214, 215, 1238, 217, 218, 220, 221, 222, 225, 226, 227, 228, 229, 230, 231, 232, 233, 234, 235, 236, 237, 238, 239, 240, 1257, 1266, 244, 245, 1269, 247, 248, 249, 250, 1272, 254, 256, 257, 258, 259, 261, 1285, 263, 267, 268, 269, 270, 272, 275, 276, 1302, 280, 281, 282, 283, 285, 286, 287, 288, 289, 290, 1314, 292, 293, 297, 299, 301, 1334, 1336, 317, 318, 320, 322, 323, 324, 325, 326, 327, 329, 332, 333, 339, 356, 357, 362, 363, 365, 366, 367, 368, 372, 374, 375, 378, 380, 381, 1406, 383, 384, 385, 386, 387, 1094, 389, 390, 1410, 392, 394, 395, 396, 397, 1096, 400, 401, 402, 1097, 404, 1425, 407, 409, 410, 411, 412, 415, 417, 418, 419, 420, 422, 424, 425, 426, 429, 431, 432, 434, 435, 442, 448, 449, 450, 451, 454, 457, 459, 460, 461, 469, 472, 473, 474, 475, 476, 478, 479, 481, 482, 483, 1507, 1508, 1509, 1510, 490, 500, 501, 505, 506, 507, 513, 516, 517, 524, 530, 534, 539, 540, 541, 543, 544, 545, 548, 549, 550, 551, 553, 557, 558, 561, 563, 567, 568, 573, 574, 575, 576, 577, 581, 582, 585, 587, 590, 594, 595, 596, 602, 614, 615, 618, 626, 630, 633, 635, 649, 650, 652, 653, 654, 657, 664, 669, 672, 677, 678, 684, 686, 691, 692, 696, 699, 704, 708, 714, 715, 719, 720, 721, 724, 728, 733, 734, 737, 738, 740, 741, 743, 745, 747, 754, 758, 761, 762, 764, 772, 777, 778, 779, 782, 789, 791, 799, 800, 804, 807, 808, 812, 819, 823, 824, 828, 830, 832, 839, 843, 844, 846, 848, 865, 866, 868, 870, 871, 872, 874, 925, 927, 938, 939, 942, 947, 951, 952, 955, 959, 978, 992, 996, 997, 1006, 1010, 1011, 1012, 1013, 1015, 1020, 1022})\n",
      "0 1\n",
      "frozenset({257, 514, 1027, 1283, 6, 8, 12, 13, 14, 268, 271, 273, 274, 275, 20, 1046, 1047, 24, 1048, 280, 281, 282, 283, 284, 543, 286, 545, 546, 287, 289, 291, 292, 293, 1066, 299, 49, 818, 822, 1334, 312, 314, 1083, 321, 322, 324, 839, 330, 332, 844, 590, 594, 595, 596, 339, 340, 92, 863, 865, 99, 105, 108, 110, 115, 116, 117, 627, 1141, 120, 121, 123, 124, 125, 126, 128, 136, 1161, 146, 149, 407, 409, 410, 921, 923, 928, 675, 931, 677, 932, 933, 684, 1196, 1198, 689, 949, 695, 459, 716, 978, 470, 472, 984, 474, 987, 220, 221, 476, 990, 224, 247, 739, 740, 741, 743, 234, 747, 239, 1008, 1010, 755, 244, 759, 761, 762, 507}) frozenset({0, 2, 3, 4, 5, 6, 7, 8, 9, 10, 11, 12, 13, 14, 15, 16, 17, 18, 20, 21, 22, 23, 24, 25, 26, 27, 28, 29, 30, 31, 33, 34, 35, 36, 37, 38, 39, 40, 41, 42, 43, 44, 45, 46, 47, 48, 49, 50, 51, 52, 53, 54, 55, 56, 57, 58, 59, 61, 62, 63, 64, 65, 66, 67, 68, 69, 70, 71, 72, 73, 74, 75, 76, 77, 78, 79, 80, 81, 82, 83, 84, 85, 86, 87, 88, 89, 90, 91, 92, 93, 94, 95, 96, 97, 98, 99, 100, 101, 102, 103, 104, 105, 106, 107, 108, 109, 110, 111, 112, 113, 114, 115, 117, 118, 119, 120, 121, 122, 123, 124, 125, 126, 127, 128, 129, 130, 131, 132, 133, 134, 135, 136, 137, 138, 139, 140, 141, 142, 143, 144, 145, 146, 147, 148, 149, 150, 151, 152, 153, 155, 156, 157, 158, 160, 161, 162, 163, 164, 165, 166, 167, 168, 169, 171, 172, 173, 174, 175, 176, 177, 178, 179, 180, 181, 182, 183, 184, 185, 186, 187, 189, 190, 191, 192, 193, 194, 195, 196, 197, 198, 199, 200, 202, 203, 204, 205, 206, 207, 208, 209, 210, 211, 212, 213, 214, 215, 216, 217, 218, 219, 220, 221, 222, 223, 224, 225, 226, 227, 228, 229, 230, 231, 232, 233, 234, 235, 236, 237, 238, 239, 240, 241, 242, 243, 244, 245, 246, 247, 248, 249, 250, 251, 252, 253, 254, 255, 256, 257, 258, 259, 260, 261, 262, 263, 265, 266, 267, 268, 269, 270, 271})\n",
      "0 1\n"
     ]
    },
    {
     "name": "stdout",
     "output_type": "stream",
     "text": [
      "frozenset({257, 514, 1027, 1283, 6, 8, 12, 13, 14, 268, 271, 273, 274, 275, 20, 1046, 1047, 24, 1048, 280, 281, 282, 283, 284, 543, 286, 545, 546, 287, 289, 291, 292, 293, 1066, 299, 49, 818, 822, 1334, 312, 314, 1083, 321, 322, 324, 839, 330, 332, 844, 590, 594, 595, 596, 339, 340, 92, 863, 865, 99, 105, 108, 110, 115, 116, 117, 627, 1141, 120, 121, 123, 124, 125, 126, 128, 136, 1161, 146, 149, 407, 409, 410, 921, 923, 928, 675, 931, 677, 932, 933, 684, 1196, 1198, 689, 949, 695, 459, 716, 978, 470, 472, 984, 474, 987, 220, 221, 476, 990, 224, 247, 739, 740, 741, 743, 234, 747, 239, 1008, 1010, 755, 244, 759, 761, 762, 507}) frozenset({0, 1027, 6, 7, 8, 1032, 10, 11, 1034, 1037, 14, 15, 21, 1046, 23, 24, 1047, 1050, 27, 30, 37, 38, 49, 50, 54, 55, 57, 61, 63, 65, 68, 69, 70, 72, 75, 76, 1100, 78, 81, 82, 86, 88, 89, 91, 94, 95, 96, 97, 98, 99, 1118, 105, 110, 116, 117, 120, 122, 123, 124, 126, 130, 132, 133, 134, 1156, 142, 143, 1168, 146, 147, 152, 154, 155, 156, 160, 163, 167, 171, 172, 173, 1196, 175, 177, 178, 179, 180, 182, 183, 186, 192, 193, 194, 195, 196, 199, 201, 202, 203, 208, 209, 213, 214, 215, 217, 218, 219, 221, 222, 225, 227, 228, 229, 231, 232, 233, 234, 1257, 236, 237, 240, 243, 244, 245, 248, 249, 254, 256, 257, 258, 259, 1282, 264, 267, 268, 270, 272, 273, 274, 275, 1299, 279, 280, 281, 282, 283, 285, 287, 1313, 1314, 292, 293, 294, 297, 299, 301, 303, 312, 315, 317, 318, 321, 322, 325, 327, 330, 332, 338, 339, 341, 353, 357, 362, 366, 404, 409, 422, 426, 430, 434, 453, 454, 457, 459, 464, 468, 470, 471, 475, 477, 479, 482, 483, 490, 494, 499, 505, 507, 509, 510, 519, 530, 534, 539, 545, 548, 565, 577, 587, 590, 595, 596, 606, 618, 624, 627, 650, 653, 654, 657, 677, 678, 681, 683, 684, 695, 719, 723, 728, 734, 738, 743, 745, 747, 750, 755, 761, 762, 763, 780, 782, 789, 791, 808, 818, 822, 845, 848, 863, 865, 872, 875, 876, 880, 894, 925, 977, 983, 992, 1003, 1010, 1011, 1015})\n",
      "0 1\n",
      "frozenset({257, 514, 1027, 1283, 6, 8, 12, 13, 14, 268, 271, 273, 274, 275, 20, 1046, 1047, 24, 1048, 280, 281, 282, 283, 284, 543, 286, 545, 546, 287, 289, 291, 292, 293, 1066, 299, 49, 818, 822, 1334, 312, 314, 1083, 321, 322, 324, 839, 330, 332, 844, 590, 594, 595, 596, 339, 340, 92, 863, 865, 99, 105, 108, 110, 115, 116, 117, 627, 1141, 120, 121, 123, 124, 125, 126, 128, 136, 1161, 146, 149, 407, 409, 410, 921, 923, 928, 675, 931, 677, 932, 933, 684, 1196, 1198, 689, 949, 695, 459, 716, 978, 470, 472, 984, 474, 987, 220, 221, 476, 990, 224, 247, 739, 740, 741, 743, 234, 747, 239, 1008, 1010, 755, 244, 759, 761, 762, 507}) frozenset({0, 513, 256, 257, 6, 7, 520, 777, 10, 11, 273, 23, 24, 280, 283, 285, 30, 287, 545, 41, 47, 49, 54, 55, 567, 317, 830, 63, 68, 69, 581, 840, 78, 590, 596, 602, 96, 97, 99, 356, 105, 626, 627, 116, 117, 120, 124, 126, 131, 134, 392, 142, 143, 654, 404, 150, 153, 155, 156, 923, 163, 677, 169, 683, 684, 173, 174, 941, 431, 689, 179, 180, 181, 691, 184, 186, 1214, 191, 192, 193, 194, 446, 196, 447, 198, 199, 454, 457, 714, 203, 462, 211, 212, 213, 470, 984, 217, 473, 474, 221, 734, 477, 478, 482, 228, 233, 237, 251, 755, 1011, 501, 503, 507, 508, 510})\n",
      "0 1\n",
      "frozenset({257, 514, 1027, 1283, 6, 8, 12, 13, 14, 268, 271, 273, 274, 275, 20, 1046, 1047, 24, 1048, 280, 281, 282, 283, 284, 543, 286, 545, 546, 287, 289, 291, 292, 293, 1066, 299, 49, 818, 822, 1334, 312, 314, 1083, 321, 322, 324, 839, 330, 332, 844, 590, 594, 595, 596, 339, 340, 92, 863, 865, 99, 105, 108, 110, 115, 116, 117, 627, 1141, 120, 121, 123, 124, 125, 126, 128, 136, 1161, 146, 149, 407, 409, 410, 921, 923, 928, 675, 931, 677, 932, 933, 684, 1196, 1198, 689, 949, 695, 459, 716, 978, 470, 472, 984, 474, 987, 220, 221, 476, 990, 224, 247, 739, 740, 741, 743, 234, 747, 239, 1008, 1010, 755, 244, 759, 761, 762, 507}) frozenset({0, 769, 514, 4, 517, 6, 519, 8, 520, 264, 11, 524, 525, 14, 526, 527, 529, 270, 22, 791, 24, 1050, 27, 37, 549, 552, 44, 49, 50, 565, 55, 57, 317, 63, 67, 68, 69, 580, 581, 843, 76, 78, 590, 80, 81, 86, 88, 602, 95, 96, 97, 99, 355, 356, 105, 627, 116, 117, 120, 1146, 123, 1147, 379, 126, 381, 128, 641, 643, 133, 134, 646, 648, 653, 654, 401, 146, 402, 404, 663, 160, 422, 169, 426, 171, 683, 173, 684, 175, 176, 434, 179, 180, 186, 187, 442, 190, 193, 195, 196, 197, 707, 202, 203, 971, 460, 209, 465, 211, 214, 470, 219, 475, 221, 478, 479, 225, 227, 228, 229, 483, 232, 236, 492, 240, 503, 508})\n",
      "0 1\n",
      "frozenset({257, 514, 1027, 1283, 6, 8, 12, 13, 14, 268, 271, 273, 274, 275, 20, 1046, 1047, 24, 1048, 280, 281, 282, 283, 284, 543, 286, 545, 546, 287, 289, 291, 292, 293, 1066, 299, 49, 818, 822, 1334, 312, 314, 1083, 321, 322, 324, 839, 330, 332, 844, 590, 594, 595, 596, 339, 340, 92, 863, 865, 99, 105, 108, 110, 115, 116, 117, 627, 1141, 120, 121, 123, 124, 125, 126, 128, 136, 1161, 146, 149, 407, 409, 410, 921, 923, 928, 675, 931, 677, 932, 933, 684, 1196, 1198, 689, 949, 695, 459, 716, 978, 470, 472, 984, 474, 987, 220, 221, 476, 990, 224, 247, 739, 740, 741, 743, 234, 747, 239, 1008, 1010, 755, 244, 759, 761, 762, 507}) frozenset({0, 3, 4, 6, 7, 8, 9, 10, 11, 12, 13, 14, 15, 1034, 1038, 19, 20, 21, 22, 1043, 24, 1047, 1049, 27, 1050, 29, 30, 31, 1062, 39, 1063, 43, 44, 46, 47, 49, 1074, 51, 53, 1077, 55, 63, 65, 68, 69, 70, 71, 72, 75, 76, 1099, 78, 1100, 80, 81, 84, 85, 86, 87, 88, 90, 92, 94, 95, 96, 97, 98, 99, 1119, 101, 1120, 1122, 1125, 105, 1132, 110, 115, 116, 118, 123, 124, 1148, 126, 129, 130, 131, 132, 133, 134, 135, 136, 1451, 1452, 139, 141, 142, 143, 1167, 1168, 146, 147, 1169, 1171, 150, 151, 152, 153, 155, 156, 159, 160, 161, 162, 163, 164, 165, 1184, 167, 1185, 169, 171, 172, 173, 174, 175, 176, 177, 178, 179, 180, 181, 182, 1199, 184, 185, 1202, 187, 1203, 189, 190, 191, 192, 193, 194, 195, 196, 197, 198, 199, 1220, 201, 203, 204, 206, 207, 208, 209, 210, 211, 212, 214, 215, 217, 218, 220, 221, 222, 223, 225, 227, 228, 232, 233, 235, 236, 237, 1262, 240, 241, 242, 1268, 257, 258, 1284, 264, 267, 272, 273, 1297, 275, 276, 278, 279, 282, 283, 284, 285, 286, 287, 288, 289, 290, 291, 293, 299, 300, 303, 1329, 306, 312, 315, 316, 318, 320, 321, 327, 328, 1368, 356, 357, 366, 370, 1396, 1399, 377, 380, 384, 388, 392, 400, 402, 403, 411, 413, 415, 416, 417, 418, 420, 1444, 422, 1445, 1448, 1449, 1446, 1447, 426, 427, 428, 429, 430, 1457, 431, 432, 433, 434, 435, 1454, 1455, 1456, 442, 1458, 444, 1460, 446, 1462, 450, 461, 462, 463, 464, 465, 469, 470, 471, 472, 473, 476, 477, 478, 479, 480, 481, 482, 483, 484, 485, 486, 487, 488, 489, 490, 491, 492, 493, 494, 495, 496, 497, 498, 499, 500, 501, 502, 503, 504, 505, 506, 509, 510, 512, 514, 515, 516, 518, 519, 520, 522, 523, 524, 525, 526, 527, 529, 530, 545, 548, 549, 551, 556, 557, 565, 570, 581, 583, 587, 588, 590, 595, 600, 601, 602, 603, 604, 605, 606, 607, 608, 609, 610, 612, 613, 614, 615, 616, 617, 618, 621, 622, 624, 627, 628, 629, 630, 631, 633, 634, 635, 637, 640, 641, 645, 646, 647, 648, 649, 650, 652, 653, 654, 655, 656, 658, 659, 660, 661, 662, 670, 672, 674, 685, 691, 692, 693, 698, 701, 704, 708, 711, 1453, 723, 726, 730, 731, 734, 738, 744, 745, 746, 748, 750, 764, 767, 769, 780, 781, 784, 791, 805, 807, 831, 834, 835, 836, 841, 842, 843, 844, 846, 847, 849, 854, 862, 866, 1459, 871, 872, 873, 877, 886, 1197, 920, 922, 924, 926, 927, 928, 938, 1204, 941, 944, 949, 950, 955, 958, 962, 963, 964, 965, 969, 979, 983, 988, 1002, 1009, 1010, 1014, 1019, 1020})\n",
      "0 1\n"
     ]
    },
    {
     "name": "stdout",
     "output_type": "stream",
     "text": [
      "frozenset({257, 514, 1027, 1283, 6, 8, 12, 13, 14, 268, 271, 273, 274, 275, 20, 1046, 1047, 24, 1048, 280, 281, 282, 283, 284, 543, 286, 545, 546, 287, 289, 291, 292, 293, 1066, 299, 49, 818, 822, 1334, 312, 314, 1083, 321, 322, 324, 839, 330, 332, 844, 590, 594, 595, 596, 339, 340, 92, 863, 865, 99, 105, 108, 110, 115, 116, 117, 627, 1141, 120, 121, 123, 124, 125, 126, 128, 136, 1161, 146, 149, 407, 409, 410, 921, 923, 928, 675, 931, 677, 932, 933, 684, 1196, 1198, 689, 949, 695, 459, 716, 978, 470, 472, 984, 474, 987, 220, 221, 476, 990, 224, 247, 739, 740, 741, 743, 234, 747, 239, 1008, 1010, 755, 244, 759, 761, 762, 507}) frozenset({0, 3, 1027, 1283, 6, 8, 10, 12, 13, 14, 526, 272, 273, 530, 274, 20, 21, 1045, 275, 24, 277, 279, 27, 280, 281, 30, 283, 1056, 285, 288, 293, 49, 818, 55, 317, 63, 322, 68, 69, 587, 76, 844, 590, 594, 595, 596, 88, 94, 863, 97, 98, 99, 865, 355, 105, 110, 370, 116, 632, 120, 124, 1151, 131, 404, 150, 410, 672, 417, 938, 172, 173, 175, 431, 945, 691, 692, 695, 190, 1220, 199, 201, 716, 215, 471, 217, 219, 731, 221, 226, 230, 742, 746, 236, 495, 755, 1011, 251, 254})\n",
      "0 1\n",
      "frozenset({257, 514, 1027, 1283, 6, 8, 12, 13, 14, 268, 271, 273, 274, 275, 20, 1046, 1047, 24, 1048, 280, 281, 282, 283, 284, 543, 286, 545, 546, 287, 289, 291, 292, 293, 1066, 299, 49, 818, 822, 1334, 312, 314, 1083, 321, 322, 324, 839, 330, 332, 844, 590, 594, 595, 596, 339, 340, 92, 863, 865, 99, 105, 108, 110, 115, 116, 117, 627, 1141, 120, 121, 123, 124, 125, 126, 128, 136, 1161, 146, 149, 407, 409, 410, 921, 923, 928, 675, 931, 677, 932, 933, 684, 1196, 1198, 689, 949, 695, 459, 716, 978, 470, 472, 984, 474, 987, 220, 221, 476, 990, 224, 247, 739, 740, 741, 743, 234, 747, 239, 1008, 1010, 755, 244, 759, 761, 762, 507}) frozenset({1024, 2, 514, 517, 6, 519, 10, 11, 1038, 16, 21, 28, 540, 30, 545, 548, 37, 549, 560, 49, 52, 53, 54, 55, 565, 57, 568, 570, 571, 63, 575, 577, 66, 67, 1089, 71, 75, 76, 78, 82, 596, 87, 88, 90, 91, 93, 95, 96, 97, 99, 615, 109, 1134, 116, 119, 120, 635, 126, 127, 639, 641, 131, 132, 133, 140, 142, 143, 656, 657, 146, 659, 150, 152, 155, 156, 157, 158, 668, 160, 672, 163, 1187, 166, 167, 171, 172, 173, 174, 175, 176, 683, 684, 179, 180, 181, 182, 183, 692, 185, 1209, 187, 1216, 194, 195, 707, 1221, 711, 202, 203, 1227, 1230, 719, 1231, 209, 210, 214, 215, 217, 218, 731, 225, 738, 741, 742, 231, 232, 233, 745, 747, 236, 1257, 239, 240, 249, 258, 264, 779, 272, 784, 275, 287, 801, 290, 292, 293, 808, 299, 301, 317, 830, 324, 841, 332, 357, 362, 364, 365, 878, 368, 374, 384, 390, 391, 393, 394, 402, 404, 414, 931, 422, 430, 943, 950, 958, 454, 966, 976, 469, 471, 495, 1010, 1017})\n",
      "0 1\n",
      "frozenset({257, 514, 1027, 1283, 6, 8, 12, 13, 14, 268, 271, 273, 274, 275, 20, 1046, 1047, 24, 1048, 280, 281, 282, 283, 284, 543, 286, 545, 546, 287, 289, 291, 292, 293, 1066, 299, 49, 818, 822, 1334, 312, 314, 1083, 321, 322, 324, 839, 330, 332, 844, 590, 594, 595, 596, 339, 340, 92, 863, 865, 99, 105, 108, 110, 115, 116, 117, 627, 1141, 120, 121, 123, 124, 125, 126, 128, 136, 1161, 146, 149, 407, 409, 410, 921, 923, 928, 675, 931, 677, 932, 933, 684, 1196, 1198, 689, 949, 695, 459, 716, 978, 470, 472, 984, 474, 987, 220, 221, 476, 990, 224, 247, 739, 740, 741, 743, 234, 747, 239, 1008, 1010, 755, 244, 759, 761, 762, 507}) frozenset({0, 256, 7, 1543, 264, 1034, 525, 14, 274, 21, 281, 282, 27, 28, 283, 796, 285, 545, 37, 549, 553, 299, 814, 49, 819, 565, 567, 825, 61, 317, 63, 575, 68, 70, 842, 587, 78, 848, 81, 82, 596, 88, 93, 94, 95, 96, 861, 98, 362, 110, 622, 624, 626, 116, 117, 372, 120, 376, 384, 392, 141, 142, 143, 654, 398, 402, 147, 404, 150, 415, 160, 418, 931, 422, 171, 172, 173, 683, 684, 180, 182, 698, 190, 192, 194, 1227, 719, 209, 214, 470, 221, 224, 225, 226, 227, 228, 229, 230, 232, 240, 754, 251, 254})\n",
      "0 1\n",
      "frozenset({257, 514, 1027, 1283, 6, 8, 12, 13, 14, 268, 271, 273, 274, 275, 20, 1046, 1047, 24, 1048, 280, 281, 282, 283, 284, 543, 286, 545, 546, 287, 289, 291, 292, 293, 1066, 299, 49, 818, 822, 1334, 312, 314, 1083, 321, 322, 324, 839, 330, 332, 844, 590, 594, 595, 596, 339, 340, 92, 863, 865, 99, 105, 108, 110, 115, 116, 117, 627, 1141, 120, 121, 123, 124, 125, 126, 128, 136, 1161, 146, 149, 407, 409, 410, 921, 923, 928, 675, 931, 677, 932, 933, 684, 1196, 1198, 689, 949, 695, 459, 716, 978, 470, 472, 984, 474, 987, 220, 221, 476, 990, 224, 247, 739, 740, 741, 743, 234, 747, 239, 1008, 1010, 755, 244, 759, 761, 762, 507}) frozenset({0, 3, 4, 6, 7, 8, 10, 11, 1034, 16, 21, 23, 24, 27, 28, 1051, 31, 1055, 36, 37, 38, 41, 1066, 43, 46, 1072, 49, 1073, 53, 54, 55, 57, 61, 64, 65, 66, 67, 68, 69, 70, 71, 72, 1098, 76, 1100, 78, 79, 80, 81, 86, 87, 88, 89, 90, 92, 94, 95, 97, 99, 100, 113, 115, 116, 119, 120, 126, 127, 1156, 133, 136, 142, 143, 144, 147, 149, 150, 151, 152, 153, 154, 155, 158, 160, 162, 163, 167, 168, 170, 171, 172, 173, 175, 178, 179, 180, 181, 182, 183, 184, 185, 186, 187, 188, 1213, 1214, 192, 194, 195, 199, 200, 203, 1227, 205, 207, 209, 211, 214, 215, 216, 217, 221, 222, 223, 225, 226, 227, 228, 229, 230, 231, 233, 234, 236, 237, 238, 1266, 247, 249, 255, 256, 257, 259, 263, 264, 269, 270, 272, 281, 282, 283, 289, 292, 297, 300, 301, 306, 311, 312, 314, 316, 321, 324, 327, 332, 335, 345, 346, 349, 350, 365, 369, 371, 379, 383, 384, 385, 386, 392, 401, 402, 407, 416, 422, 425, 427, 428, 430, 432, 434, 442, 443, 447, 448, 450, 1477, 454, 460, 1484, 468, 471, 472, 473, 1511, 495, 504, 505, 510, 517, 522, 530, 536, 545, 548, 549, 551, 553, 554, 556, 558, 560, 565, 567, 568, 570, 571, 574, 577, 581, 587, 588, 589, 590, 596, 602, 624, 630, 639, 649, 650, 651, 652, 656, 657, 659, 664, 674, 677, 678, 681, 684, 690, 697, 698, 704, 706, 708, 709, 718, 734, 736, 738, 740, 741, 745, 746, 750, 751, 759, 760, 766, 769, 773, 777, 788, 791, 801, 804, 808, 815, 824, 830, 848, 853, 858, 894, 905, 918, 932, 939, 945, 958, 978, 1006, 1008, 1009, 1011, 1012, 1013, 1015, 1018})\n",
      "0 1\n",
      "frozenset({257, 514, 1027, 1283, 6, 8, 12, 13, 14, 268, 271, 273, 274, 275, 20, 1046, 1047, 24, 1048, 280, 281, 282, 283, 284, 543, 286, 545, 546, 287, 289, 291, 292, 293, 1066, 299, 49, 818, 822, 1334, 312, 314, 1083, 321, 322, 324, 839, 330, 332, 844, 590, 594, 595, 596, 339, 340, 92, 863, 865, 99, 105, 108, 110, 115, 116, 117, 627, 1141, 120, 121, 123, 124, 125, 126, 128, 136, 1161, 146, 149, 407, 409, 410, 921, 923, 928, 675, 931, 677, 932, 933, 684, 1196, 1198, 689, 949, 695, 459, 716, 978, 470, 472, 984, 474, 987, 220, 221, 476, 990, 224, 247, 739, 740, 741, 743, 234, 747, 239, 1008, 1010, 755, 244, 759, 761, 762, 507}) frozenset({0, 2, 4, 517, 6, 8, 9, 10, 11, 14, 16, 19, 21, 22, 23, 1045, 25, 26, 27, 28, 1047, 543, 32, 545, 548, 549, 1064, 41, 42, 1066, 557, 46, 47, 48, 49, 558, 1072, 52, 53, 54, 55, 565, 57, 567, 61, 62, 63, 64, 65, 66, 577, 68, 580, 70, 581, 583, 1092, 1094, 75, 588, 78, 79, 80, 590, 86, 88, 91, 93, 94, 95, 1118, 97, 99, 100, 107, 622, 627, 116, 117, 630, 635, 126, 127, 128, 131, 650, 654, 143, 656, 1169, 658, 149, 662, 152, 155, 156, 158, 160, 163, 167, 170, 171, 172, 173, 684, 175, 176, 177, 178, 179, 180, 181, 182, 183, 691, 185, 186, 187, 692, 696, 190, 1207, 1208, 193, 194, 195, 708, 709, 1216, 199, 200, 201, 714, 203, 1227, 1230, 207, 208, 720, 211, 213, 725, 215, 216, 217, 731, 732, 221, 226, 227, 228, 229, 230, 231, 233, 745, 236, 237, 238, 239, 240, 1266, 760, 761, 771, 264, 267, 782, 272, 788, 789, 1073, 281, 798, 287, 800, 802, 1323, 812, 823, 825, 317, 832, 327, 356, 363, 366, 370, 685, 379, 380, 383, 384, 387, 392, 395, 1420, 398, 402, 404, 918, 409, 1434, 418, 422, 424, 938, 939, 940, 942, 432, 434, 1466, 958, 448, 450, 1488, 465, 466, 471, 473, 474, 482, 495, 1009, 1013, 505, 1018, 511})\n",
      "0 1\n"
     ]
    },
    {
     "name": "stdout",
     "output_type": "stream",
     "text": [
      "frozenset({257, 514, 1027, 1283, 6, 8, 12, 13, 14, 268, 271, 273, 274, 275, 20, 1046, 1047, 24, 1048, 280, 281, 282, 283, 284, 543, 286, 545, 546, 287, 289, 291, 292, 293, 1066, 299, 49, 818, 822, 1334, 312, 314, 1083, 321, 322, 324, 839, 330, 332, 844, 590, 594, 595, 596, 339, 340, 92, 863, 865, 99, 105, 108, 110, 115, 116, 117, 627, 1141, 120, 121, 123, 124, 125, 126, 128, 136, 1161, 146, 149, 407, 409, 410, 921, 923, 928, 675, 931, 677, 932, 933, 684, 1196, 1198, 689, 949, 695, 459, 716, 978, 470, 472, 984, 474, 987, 220, 221, 476, 990, 224, 247, 739, 740, 741, 743, 234, 747, 239, 1008, 1010, 755, 244, 759, 761, 762, 507}) frozenset({0, 3, 516, 6, 526, 527, 21, 1046, 27, 549, 38, 41, 46, 49, 53, 55, 567, 62, 63, 68, 70, 78, 80, 81, 87, 88, 90, 602, 94, 95, 96, 97, 99, 108, 116, 117, 120, 635, 126, 127, 134, 135, 649, 140, 654, 143, 146, 658, 661, 151, 152, 153, 664, 160, 163, 167, 168, 171, 172, 173, 174, 175, 176, 177, 178, 180, 696, 185, 188, 190, 192, 194, 196, 199, 201, 202, 203, 205, 207, 208, 209, 210, 213, 215, 731, 221, 224, 225, 226, 227, 228, 229, 230, 232, 233, 234, 746, 237, 750, 239, 754, 249, 251, 253, 256, 257, 259, 264, 268, 270, 297, 312, 342, 356, 379, 384, 392, 402, 915, 404, 918, 407, 925, 417, 929, 422, 428, 433, 950, 448, 454, 968, 469, 473, 495, 1015, 510})\n",
      "0 1\n",
      "frozenset({257, 514, 1027, 1283, 6, 8, 12, 13, 14, 268, 271, 273, 274, 275, 20, 1046, 1047, 24, 1048, 280, 281, 282, 283, 284, 543, 286, 545, 546, 287, 289, 291, 292, 293, 1066, 299, 49, 818, 822, 1334, 312, 314, 1083, 321, 322, 324, 839, 330, 332, 844, 590, 594, 595, 596, 339, 340, 92, 863, 865, 99, 105, 108, 110, 115, 116, 117, 627, 1141, 120, 121, 123, 124, 125, 126, 128, 136, 1161, 146, 149, 407, 409, 410, 921, 923, 928, 675, 931, 677, 932, 933, 684, 1196, 1198, 689, 949, 695, 459, 716, 978, 470, 472, 984, 474, 987, 220, 221, 476, 990, 224, 247, 739, 740, 741, 743, 234, 747, 239, 1008, 1010, 755, 244, 759, 761, 762, 507}) frozenset({0, 520, 522, 11, 14, 1039, 1040, 1041, 1042, 1043, 1044, 1045, 1046, 1047, 24, 1048, 1049, 27, 1050, 37, 42, 558, 47, 49, 53, 565, 567, 57, 62, 63, 65, 68, 69, 70, 71, 72, 581, 76, 78, 590, 81, 82, 594, 85, 86, 87, 602, 605, 94, 96, 97, 98, 101, 102, 110, 626, 117, 120, 124, 130, 131, 134, 135, 140, 141, 142, 654, 657, 659, 150, 160, 678, 167, 171, 172, 173, 174, 175, 683, 684, 691, 180, 182, 184, 193, 194, 195, 201, 202, 203, 719, 209, 210, 214, 215, 728, 218, 731, 221, 734, 735, 226, 227, 228, 229, 741, 233, 745, 236, 238, 754, 755, 264, 780, 272, 784, 275, 279, 280, 281, 282, 283, 289, 293, 825, 317, 833, 844, 865, 356, 366, 368, 370, 379, 384, 386, 401, 403, 404, 408, 409, 410, 923, 412, 924, 925, 417, 418, 933, 426, 427, 938, 940, 431, 432, 952, 442, 450, 455, 968, 461, 976, 466, 467, 468, 470, 478, 998, 490, 495, 500, 505})\n",
      "0 1\n",
      "frozenset({257, 514, 1027, 1283, 6, 8, 12, 13, 14, 268, 271, 273, 274, 275, 20, 1046, 1047, 24, 1048, 280, 281, 282, 283, 284, 543, 286, 545, 546, 287, 289, 291, 292, 293, 1066, 299, 49, 818, 822, 1334, 312, 314, 1083, 321, 322, 324, 839, 330, 332, 844, 590, 594, 595, 596, 339, 340, 92, 863, 865, 99, 105, 108, 110, 115, 116, 117, 627, 1141, 120, 121, 123, 124, 125, 126, 128, 136, 1161, 146, 149, 407, 409, 410, 921, 923, 928, 675, 931, 677, 932, 933, 684, 1196, 1198, 689, 949, 695, 459, 716, 978, 470, 472, 984, 474, 987, 220, 221, 476, 990, 224, 247, 739, 740, 741, 743, 234, 747, 239, 1008, 1010, 755, 244, 759, 761, 762, 507}) frozenset({6, 10, 11, 16, 21, 25, 26, 28, 32, 545, 37, 549, 40, 41, 1066, 43, 558, 1073, 52, 54, 55, 568, 571, 61, 63, 575, 577, 66, 67, 68, 1097, 76, 78, 590, 81, 88, 89, 91, 95, 99, 627, 116, 120, 634, 635, 128, 143, 1169, 149, 152, 153, 664, 155, 158, 671, 160, 1182, 163, 1187, 167, 171, 683, 173, 684, 175, 176, 180, 694, 183, 185, 187, 1217, 194, 709, 202, 203, 208, 209, 216, 217, 218, 221, 225, 226, 227, 737, 229, 230, 741, 233, 745, 238, 239, 768, 267, 779, 272, 275, 280, 285, 287, 799, 293, 809, 312, 317, 833, 341, 858, 349, 870, 872, 366, 402, 404, 409, 927, 942, 432, 435, 440, 446, 448, 449, 451, 974, 978, 469, 985, 987, 481, 507})\n",
      "0 1\n",
      "frozenset({257, 514, 1027, 1283, 6, 8, 12, 13, 14, 268, 271, 273, 274, 275, 20, 1046, 1047, 24, 1048, 280, 281, 282, 283, 284, 543, 286, 545, 546, 287, 289, 291, 292, 293, 1066, 299, 49, 818, 822, 1334, 312, 314, 1083, 321, 322, 324, 839, 330, 332, 844, 590, 594, 595, 596, 339, 340, 92, 863, 865, 99, 105, 108, 110, 115, 116, 117, 627, 1141, 120, 121, 123, 124, 125, 126, 128, 136, 1161, 146, 149, 407, 409, 410, 921, 923, 928, 675, 931, 677, 932, 933, 684, 1196, 1198, 689, 949, 695, 459, 716, 978, 470, 472, 984, 474, 987, 220, 221, 476, 990, 224, 247, 739, 740, 741, 743, 234, 747, 239, 1008, 1010, 755, 244, 759, 761, 762, 507}) frozenset({0, 3, 6, 1030, 1034, 14, 1038, 20, 21, 22, 24, 1049, 26, 28, 1059, 37, 1064, 53, 54, 55, 61, 62, 65, 67, 68, 70, 71, 72, 76, 78, 79, 81, 1109, 87, 88, 90, 1117, 94, 95, 96, 97, 98, 99, 1118, 1125, 108, 1134, 116, 117, 120, 1148, 126, 130, 131, 132, 133, 134, 135, 136, 139, 140, 142, 143, 144, 150, 151, 152, 153, 154, 156, 157, 158, 159, 160, 161, 162, 163, 167, 171, 172, 173, 174, 175, 176, 178, 179, 180, 181, 182, 184, 185, 186, 187, 190, 1214, 192, 193, 194, 195, 197, 198, 199, 201, 202, 203, 204, 205, 207, 208, 209, 210, 211, 213, 214, 215, 216, 217, 218, 221, 1246, 222, 225, 226, 227, 228, 229, 230, 231, 232, 233, 234, 237, 238, 242, 256, 257, 264, 268, 269, 270, 271, 280, 285, 287, 289, 293, 300, 312, 314, 315, 322, 354, 356, 362, 366, 370, 372, 377, 379, 384, 388, 390, 392, 1418, 398, 401, 402, 403, 415, 416, 418, 419, 422, 426, 428, 429, 430, 431, 433, 434, 442, 443, 444, 446, 448, 449, 450, 451, 471, 473, 475, 477, 478, 479, 481, 482, 483, 484, 488, 490, 492, 493, 494, 495, 497, 498, 500, 501, 503, 505, 506, 508, 509, 510, 514, 518, 519, 520, 522, 524, 525, 526, 527, 529, 545, 549, 550, 553, 558, 560, 562, 564, 565, 567, 570, 575, 577, 578, 580, 584, 587, 596, 600, 601, 602, 603, 1626, 607, 611, 613, 619, 621, 624, 626, 627, 628, 630, 632, 634, 635, 636, 638, 641, 643, 647, 649, 653, 656, 657, 658, 660, 661, 662, 664, 669, 670, 672, 673, 678, 691, 704, 707, 714, 718, 731, 734, 736, 738, 741, 750, 754, 779, 808, 822, 848, 897, 925, 927, 967, 968})\n",
      "0 1\n",
      "frozenset({257, 514, 1027, 1283, 6, 8, 12, 13, 14, 268, 271, 273, 274, 275, 20, 1046, 1047, 24, 1048, 280, 281, 282, 283, 284, 543, 286, 545, 546, 287, 289, 291, 292, 293, 1066, 299, 49, 818, 822, 1334, 312, 314, 1083, 321, 322, 324, 839, 330, 332, 844, 590, 594, 595, 596, 339, 340, 92, 863, 865, 99, 105, 108, 110, 115, 116, 117, 627, 1141, 120, 121, 123, 124, 125, 126, 128, 136, 1161, 146, 149, 407, 409, 410, 921, 923, 928, 675, 931, 677, 932, 933, 684, 1196, 1198, 689, 949, 695, 459, 716, 978, 470, 472, 984, 474, 987, 220, 221, 476, 990, 224, 247, 739, 740, 741, 743, 234, 747, 239, 1008, 1010, 755, 244, 759, 761, 762, 507}) frozenset({257, 10, 11, 778, 779, 782, 271, 21, 789, 790, 793, 27, 28, 539, 30, 1054, 32, 287, 801, 549, 293, 805, 40, 807, 42, 299, 53, 54, 55, 565, 568, 312, 314, 62, 63, 574, 575, 66, 67, 68, 1089, 324, 325, 584, 585, 326, 331, 76, 332, 78, 848, 81, 337, 339, 87, 93, 95, 872, 363, 365, 366, 375, 894, 383, 384, 641, 392, 904, 650, 396, 400, 657, 401, 402, 1181, 160, 1187, 420, 422, 938, 683, 172, 688, 946, 691, 1205, 183, 1209, 187, 1217, 194, 195, 450, 1221, 201, 714, 203, 1227, 1228, 1230, 721, 211, 467, 214, 731, 733, 1246, 1247, 1248, 225, 738, 1249, 229, 230, 231, 232, 747, 237, 750, 244, 758, 764})\n",
      "0 1\n"
     ]
    },
    {
     "name": "stdout",
     "output_type": "stream",
     "text": [
      "frozenset({257, 514, 1027, 1283, 6, 8, 12, 13, 14, 268, 271, 273, 274, 275, 20, 1046, 1047, 24, 1048, 280, 281, 282, 283, 284, 543, 286, 545, 546, 287, 289, 291, 292, 293, 1066, 299, 49, 818, 822, 1334, 312, 314, 1083, 321, 322, 324, 839, 330, 332, 844, 590, 594, 595, 596, 339, 340, 92, 863, 865, 99, 105, 108, 110, 115, 116, 117, 627, 1141, 120, 121, 123, 124, 125, 126, 128, 136, 1161, 146, 149, 407, 409, 410, 921, 923, 928, 675, 931, 677, 932, 933, 684, 1196, 1198, 689, 949, 695, 459, 716, 978, 470, 472, 984, 474, 987, 220, 221, 476, 990, 224, 247, 739, 740, 741, 743, 234, 747, 239, 1008, 1010, 755, 244, 759, 761, 762, 507}) frozenset({1538, 1539, 1031, 1543, 1033, 1034, 13, 14, 1042, 20, 1048, 27, 28, 37, 1062, 553, 1065, 559, 48, 49, 562, 51, 1075, 567, 570, 61, 62, 575, 576, 65, 1088, 70, 71, 72, 583, 584, 585, 587, 1101, 78, 80, 81, 82, 86, 87, 89, 601, 602, 94, 96, 97, 609, 104, 109, 110, 111, 622, 1138, 115, 117, 120, 124, 131, 132, 647, 139, 1163, 141, 142, 658, 659, 661, 154, 157, 670, 1182, 160, 161, 162, 167, 171, 172, 173, 686, 689, 691, 180, 693, 698, 190, 702, 704, 193, 706, 195, 196, 708, 1223, 201, 203, 207, 719, 209, 721, 1238, 727, 730, 219, 731, 221, 733, 735, 224, 1248, 227, 739, 230, 745, 747, 238, 242, 754, 755, 1269, 253, 767, 256, 257, 258, 768, 1281, 1282, 1283, 1284, 264, 780, 269, 784, 1296, 274, 279, 280, 282, 794, 288, 800, 804, 809, 814, 305, 818, 820, 824, 825, 826, 827, 1336, 831, 320, 322, 838, 844, 861, 355, 364, 877, 366, 376, 377, 379, 383, 1410, 390, 392, 393, 394, 398, 399, 1424, 401, 402, 404, 1434, 923, 925, 414, 416, 417, 418, 419, 928, 929, 422, 931, 1445, 939, 940, 431, 943, 944, 945, 948, 950, 952, 442, 443, 1468, 960, 450, 462, 464, 471, 472, 475, 1502, 479, 992, 481, 995, 484, 485, 1508, 490, 1002, 492, 1516, 497, 1022})\n",
      "0 1\n",
      "frozenset({257, 514, 1027, 1283, 6, 8, 12, 13, 14, 268, 271, 273, 274, 275, 20, 1046, 1047, 24, 1048, 280, 281, 282, 283, 284, 543, 286, 545, 546, 287, 289, 291, 292, 293, 1066, 299, 49, 818, 822, 1334, 312, 314, 1083, 321, 322, 324, 839, 330, 332, 844, 590, 594, 595, 596, 339, 340, 92, 863, 865, 99, 105, 108, 110, 115, 116, 117, 627, 1141, 120, 121, 123, 124, 125, 126, 128, 136, 1161, 146, 149, 407, 409, 410, 921, 923, 928, 675, 931, 677, 932, 933, 684, 1196, 1198, 689, 949, 695, 459, 716, 978, 470, 472, 984, 474, 987, 220, 221, 476, 990, 224, 247, 739, 740, 741, 743, 234, 747, 239, 1008, 1010, 755, 244, 759, 761, 762, 507}) frozenset({0, 3, 1027, 6, 7, 8, 10, 11, 14, 1041, 18, 19, 1044, 21, 22, 23, 24, 1045, 26, 27, 28, 30, 32, 38, 41, 42, 45, 47, 49, 50, 1073, 52, 53, 54, 1077, 57, 61, 63, 67, 68, 69, 70, 72, 1097, 75, 76, 78, 79, 81, 82, 84, 85, 86, 87, 88, 1111, 90, 91, 94, 95, 96, 97, 1118, 99, 100, 1133, 116, 117, 120, 122, 123, 126, 127, 128, 131, 132, 133, 134, 138, 140, 142, 143, 144, 146, 147, 151, 152, 153, 156, 158, 159, 160, 1182, 163, 167, 1193, 171, 172, 173, 174, 175, 178, 179, 180, 181, 182, 183, 1207, 185, 186, 187, 189, 190, 1213, 1216, 194, 195, 1219, 197, 198, 199, 200, 201, 202, 203, 1220, 205, 1221, 1230, 208, 209, 210, 214, 215, 216, 1239, 218, 221, 222, 1247, 1248, 224, 225, 226, 227, 228, 229, 230, 231, 232, 233, 234, 236, 237, 238, 240, 1266, 244, 247, 249, 256, 257, 259, 1283, 264, 270, 272, 273, 274, 1302, 281, 283, 287, 290, 298, 299, 301, 306, 312, 316, 317, 319, 324, 326, 327, 1350, 342, 355, 357, 366, 370, 378, 379, 1405, 383, 384, 385, 386, 391, 392, 397, 398, 1422, 401, 404, 410, 1436, 413, 419, 421, 422, 424, 425, 426, 428, 429, 430, 434, 435, 1470, 449, 451, 454, 457, 460, 461, 467, 469, 470, 471, 472, 473, 475, 477, 478, 479, 480, 481, 482, 483, 488, 492, 495, 496, 1521, 503, 507, 510, 514, 517, 525, 526, 541, 545, 548, 549, 553, 556, 558, 561, 565, 567, 568, 569, 571, 574, 575, 577, 581, 586, 587, 590, 595, 596, 1621, 602, 615, 630, 631, 635, 636, 639, 641, 646, 1671, 650, 653, 654, 1680, 657, 659, 660, 661, 664, 671, 673, 678, 683, 684, 685, 691, 695, 704, 707, 708, 709, 712, 714, 718, 719, 720, 729, 731, 734, 738, 741, 743, 745, 750, 759, 762, 764, 767, 769, 773, 788, 797, 799, 800, 801, 807, 808, 809, 819, 823, 835, 839, 844, 848, 871, 879, 886, 894, 927, 941, 951, 965, 992, 1003, 1010, 1017})\n",
      "0 1\n",
      "frozenset({257, 514, 1027, 1283, 6, 8, 12, 13, 14, 268, 271, 273, 274, 275, 20, 1046, 1047, 24, 1048, 280, 281, 282, 283, 284, 543, 286, 545, 546, 287, 289, 291, 292, 293, 1066, 299, 49, 818, 822, 1334, 312, 314, 1083, 321, 322, 324, 839, 330, 332, 844, 590, 594, 595, 596, 339, 340, 92, 863, 865, 99, 105, 108, 110, 115, 116, 117, 627, 1141, 120, 121, 123, 124, 125, 126, 128, 136, 1161, 146, 149, 407, 409, 410, 921, 923, 928, 675, 931, 677, 932, 933, 684, 1196, 1198, 689, 949, 695, 459, 716, 978, 470, 472, 984, 474, 987, 220, 221, 476, 990, 224, 247, 739, 740, 741, 743, 234, 747, 239, 1008, 1010, 755, 244, 759, 761, 762, 507}) frozenset({256, 257, 259, 6, 510, 777, 11, 12, 1038, 23, 548, 293, 299, 44, 49, 54, 55, 567, 317, 68, 69, 325, 1098, 587, 81, 82, 596, 88, 94, 863, 96, 98, 99, 108, 624, 116, 120, 124, 143, 404, 150, 918, 920, 160, 417, 929, 420, 167, 683, 171, 172, 173, 174, 175, 430, 945, 431, 689, 180, 183, 1473, 206, 209, 470, 215, 221, 227, 240, 250, 254})\n",
      "0 1\n",
      "frozenset({257, 514, 1027, 1283, 6, 8, 12, 13, 14, 268, 271, 273, 274, 275, 20, 1046, 1047, 24, 1048, 280, 281, 282, 283, 284, 543, 286, 545, 546, 287, 289, 291, 292, 293, 1066, 299, 49, 818, 822, 1334, 312, 314, 1083, 321, 322, 324, 839, 330, 332, 844, 590, 594, 595, 596, 339, 340, 92, 863, 865, 99, 105, 108, 110, 115, 116, 117, 627, 1141, 120, 121, 123, 124, 125, 126, 128, 136, 1161, 146, 149, 407, 409, 410, 921, 923, 928, 675, 931, 677, 932, 933, 684, 1196, 1198, 689, 949, 695, 459, 716, 978, 470, 472, 984, 474, 987, 220, 221, 476, 990, 224, 247, 739, 740, 741, 743, 234, 747, 239, 1008, 1010, 755, 244, 759, 761, 762, 507}) frozenset({2, 3, 4, 1027, 6, 8, 10, 11, 1034, 14, 1038, 16, 1043, 21, 1046, 23, 24, 25, 1050, 27, 30, 32, 33, 1058, 37, 39, 41, 42, 43, 1066, 48, 49, 50, 53, 54, 55, 1078, 57, 61, 1086, 63, 65, 66, 67, 68, 69, 70, 71, 72, 75, 76, 78, 79, 81, 83, 84, 87, 88, 89, 90, 91, 1117, 94, 95, 96, 97, 99, 110, 1134, 1135, 1138, 116, 117, 120, 124, 126, 127, 131, 134, 142, 143, 1168, 146, 149, 152, 154, 155, 156, 158, 160, 161, 163, 167, 171, 173, 175, 176, 179, 180, 181, 182, 183, 184, 185, 186, 187, 1206, 191, 192, 1216, 194, 195, 1219, 197, 199, 201, 202, 203, 204, 208, 209, 210, 214, 215, 216, 217, 218, 221, 222, 225, 226, 227, 1252, 228, 229, 231, 232, 233, 234, 236, 237, 239, 240, 1266, 244, 257, 259, 263, 264, 267, 271, 272, 273, 275, 1302, 279, 280, 281, 1303, 283, 287, 1313, 290, 291, 293, 299, 301, 306, 309, 312, 314, 315, 316, 317, 323, 325, 327, 330, 331, 332, 333, 339, 342, 345, 350, 1375, 353, 354, 355, 356, 362, 365, 379, 383, 384, 385, 392, 1418, 398, 401, 402, 409, 410, 414, 1438, 1442, 420, 422, 430, 432, 446, 447, 450, 454, 457, 459, 460, 467, 469, 470, 474, 475, 478, 1517, 504, 507, 508, 517, 519, 526, 530, 543, 545, 549, 553, 558, 560, 565, 567, 569, 571, 575, 580, 581, 582, 586, 590, 594, 595, 596, 1620, 602, 615, 626, 627, 635, 639, 650, 654, 657, 659, 671, 672, 684, 685, 691, 692, 695, 697, 707, 709, 714, 716, 718, 719, 720, 726, 727, 731, 734, 738, 741, 745, 746, 747, 750, 754, 759, 760, 761, 762, 764, 769, 773, 778, 779, 789, 795, 801, 807, 808, 823, 824, 826, 832, 845, 848, 874, 894, 911, 916, 923, 925, 940, 942, 943, 949, 954, 958, 974, 978, 990, 1010})\n",
      "0 1\n"
     ]
    },
    {
     "name": "stdout",
     "output_type": "stream",
     "text": [
      "frozenset({257, 514, 1027, 1283, 6, 8, 12, 13, 14, 268, 271, 273, 274, 275, 20, 1046, 1047, 24, 1048, 280, 281, 282, 283, 284, 543, 286, 545, 546, 287, 289, 291, 292, 293, 1066, 299, 49, 818, 822, 1334, 312, 314, 1083, 321, 322, 324, 839, 330, 332, 844, 590, 594, 595, 596, 339, 340, 92, 863, 865, 99, 105, 108, 110, 115, 116, 117, 627, 1141, 120, 121, 123, 124, 125, 126, 128, 136, 1161, 146, 149, 407, 409, 410, 921, 923, 928, 675, 931, 677, 932, 933, 684, 1196, 1198, 689, 949, 695, 459, 716, 978, 470, 472, 984, 474, 987, 220, 221, 476, 990, 224, 247, 739, 740, 741, 743, 234, 747, 239, 1008, 1010, 755, 244, 759, 761, 762, 507}) frozenset({0, 4, 8, 10, 11, 1034, 14, 1041, 21, 23, 25, 27, 28, 30, 32, 1059, 37, 38, 40, 41, 42, 46, 47, 49, 1073, 52, 53, 54, 55, 56, 57, 61, 62, 63, 1085, 65, 66, 67, 68, 1089, 70, 71, 76, 77, 78, 79, 81, 83, 89, 90, 92, 93, 94, 95, 96, 97, 98, 99, 101, 109, 1134, 1136, 113, 1138, 116, 117, 120, 122, 126, 127, 131, 138, 139, 142, 143, 1169, 146, 147, 150, 152, 153, 154, 155, 156, 1177, 1178, 1183, 160, 163, 167, 1191, 171, 172, 173, 174, 175, 178, 179, 180, 181, 1206, 185, 186, 187, 1209, 1216, 194, 195, 1218, 1219, 202, 203, 1230, 1231, 209, 213, 214, 217, 1243, 1245, 221, 222, 224, 225, 226, 227, 228, 229, 230, 231, 232, 233, 234, 236, 237, 238, 240, 245, 1273, 1278, 263, 264, 267, 272, 273, 275, 281, 287, 288, 290, 294, 300, 301, 306, 317, 319, 322, 327, 331, 337, 339, 342, 355, 363, 365, 1392, 371, 1395, 1400, 377, 378, 379, 381, 382, 383, 384, 385, 387, 388, 392, 394, 398, 399, 400, 401, 402, 403, 404, 406, 411, 412, 417, 418, 419, 422, 425, 430, 431, 432, 1458, 435, 443, 449, 450, 451, 453, 454, 1479, 461, 464, 467, 469, 470, 474, 495, 500, 505, 507, 510, 1539, 1540, 1541, 1542, 525, 526, 530, 539, 540, 541, 542, 543, 544, 545, 548, 549, 550, 551, 553, 558, 559, 560, 563, 565, 567, 574, 575, 577, 581, 586, 587, 596, 615, 621, 627, 632, 650, 654, 657, 659, 664, 672, 678, 683, 692, 696, 709, 719, 721, 726, 731, 734, 737, 741, 743, 745, 746, 753, 754, 759, 762, 767, 768, 771, 773, 778, 779, 780, 793, 805, 808, 816, 819, 823, 824, 825, 844, 889, 918, 923, 925, 927, 940, 945, 958, 968, 974, 976, 985})\n",
      "0 1\n",
      "frozenset({257, 514, 1027, 1283, 6, 8, 12, 13, 14, 268, 271, 273, 274, 275, 20, 1046, 1047, 24, 1048, 280, 281, 282, 283, 284, 543, 286, 545, 546, 287, 289, 291, 292, 293, 1066, 299, 49, 818, 822, 1334, 312, 314, 1083, 321, 322, 324, 839, 330, 332, 844, 590, 594, 595, 596, 339, 340, 92, 863, 865, 99, 105, 108, 110, 115, 116, 117, 627, 1141, 120, 121, 123, 124, 125, 126, 128, 136, 1161, 146, 149, 407, 409, 410, 921, 923, 928, 675, 931, 677, 932, 933, 684, 1196, 1198, 689, 949, 695, 459, 716, 978, 470, 472, 984, 474, 987, 220, 221, 476, 990, 224, 247, 739, 740, 741, 743, 234, 747, 239, 1008, 1010, 755, 244, 759, 761, 762, 507}) frozenset({257, 258, 3, 769, 517, 264, 10, 778, 525, 270, 271, 529, 21, 537, 28, 285, 287, 32, 288, 801, 37, 38, 549, 293, 553, 807, 49, 305, 306, 565, 310, 567, 55, 569, 312, 315, 61, 575, 320, 577, 321, 67, 322, 325, 327, 585, 331, 332, 78, 848, 81, 339, 343, 88, 91, 353, 361, 878, 879, 372, 126, 894, 384, 650, 1418, 1419, 398, 402, 664, 160, 677, 678, 171, 683, 173, 430, 175, 176, 689, 434, 946, 180, 181, 182, 183, 186, 187, 189, 448, 194, 1221, 1227, 719, 209, 225, 226, 227, 229, 230, 231, 232, 747, 749, 750, 240, 244, 509})\n",
      "0 1\n",
      "frozenset({257, 514, 1027, 1283, 6, 8, 12, 13, 14, 268, 271, 273, 274, 275, 20, 1046, 1047, 24, 1048, 280, 281, 282, 283, 284, 543, 286, 545, 546, 287, 289, 291, 292, 293, 1066, 299, 49, 818, 822, 1334, 312, 314, 1083, 321, 322, 324, 839, 330, 332, 844, 590, 594, 595, 596, 339, 340, 92, 863, 865, 99, 105, 108, 110, 115, 116, 117, 627, 1141, 120, 121, 123, 124, 125, 126, 128, 136, 1161, 146, 149, 407, 409, 410, 921, 923, 928, 675, 931, 677, 932, 933, 684, 1196, 1198, 689, 949, 695, 459, 716, 978, 470, 472, 984, 474, 987, 220, 221, 476, 990, 224, 247, 739, 740, 741, 743, 234, 747, 239, 1008, 1010, 755, 244, 759, 761, 762, 507}) frozenset({0, 2, 3, 1028, 6, 1033, 1034, 11, 1035, 20, 21, 1046, 23, 26, 27, 28, 539, 540, 1052, 32, 545, 1057, 547, 548, 37, 549, 551, 40, 553, 42, 558, 48, 49, 50, 560, 561, 565, 566, 55, 567, 568, 1073, 1078, 61, 62, 63, 575, 65, 66, 67, 68, 576, 70, 71, 72, 577, 580, 583, 587, 77, 78, 79, 81, 596, 1109, 87, 89, 90, 602, 93, 94, 95, 96, 608, 98, 99, 100, 1118, 104, 108, 624, 1138, 116, 117, 119, 120, 121, 122, 632, 124, 131, 134, 650, 139, 140, 142, 654, 657, 659, 149, 150, 664, 671, 160, 677, 681, 171, 172, 173, 174, 175, 176, 684, 688, 180, 182, 184, 185, 1209, 190, 1214, 194, 195, 199, 201, 714, 203, 1227, 207, 719, 209, 213, 214, 215, 216, 217, 1238, 221, 1247, 225, 226, 227, 228, 229, 230, 231, 738, 233, 234, 741, 742, 745, 238, 239, 746, 747, 750, 754, 755, 757, 759, 249, 762, 251, 253, 254, 767, 256, 770, 259, 263, 264, 779, 270, 789, 795, 287, 293, 809, 312, 824, 317, 830, 833, 322, 337, 342, 865, 354, 355, 357, 1089, 361, 364, 365, 366, 367, 1090, 369, 372, 373, 374, 377, 889, 379, 894, 383, 384, 385, 1094, 390, 391, 392, 394, 399, 401, 402, 403, 404, 915, 410, 923, 415, 416, 417, 418, 419, 420, 927, 422, 929, 930, 425, 939, 430, 431, 945, 950, 442, 1468, 454, 464, 976, 471, 472, 474, 476, 484, 1001, 495, 500, 1013})\n",
      "0 1\n",
      "frozenset({257, 514, 1027, 1283, 6, 8, 12, 13, 14, 268, 271, 273, 274, 275, 20, 1046, 1047, 24, 1048, 280, 281, 282, 283, 284, 543, 286, 545, 546, 287, 289, 291, 292, 293, 1066, 299, 49, 818, 822, 1334, 312, 314, 1083, 321, 322, 324, 839, 330, 332, 844, 590, 594, 595, 596, 339, 340, 92, 863, 865, 99, 105, 108, 110, 115, 116, 117, 627, 1141, 120, 121, 123, 124, 125, 126, 128, 136, 1161, 146, 149, 407, 409, 410, 921, 923, 928, 675, 931, 677, 932, 933, 684, 1196, 1198, 689, 949, 695, 459, 716, 978, 470, 472, 984, 474, 987, 220, 221, 476, 990, 224, 247, 739, 740, 741, 743, 234, 747, 239, 1008, 1010, 755, 244, 759, 761, 762, 507}) frozenset({0, 2, 3, 4, 1027, 6, 7, 8, 1031, 10, 11, 1034, 1038, 1039, 16, 1042, 1043, 20, 21, 1046, 23, 24, 25, 26, 27, 28, 1047, 30, 1048, 32, 1050, 1052, 35, 1054, 37, 1057, 39, 40, 41, 1062, 47, 48, 49, 50, 1073, 1075, 53, 54, 55, 57, 61, 63, 64, 65, 66, 67, 68, 69, 70, 71, 72, 1090, 1091, 1094, 76, 77, 78, 79, 80, 81, 82, 83, 84, 85, 86, 87, 88, 89, 93, 94, 95, 96, 1119, 98, 99, 104, 107, 108, 109, 110, 1138, 116, 117, 120, 121, 122, 124, 127, 131, 133, 134, 135, 137, 138, 140, 141, 142, 143, 144, 1164, 146, 147, 1167, 1168, 152, 153, 1177, 1178, 1179, 1180, 1181, 1182, 160, 1184, 167, 168, 171, 172, 1196, 180, 183, 185, 1209, 188, 190, 1214, 193, 194, 195, 1220, 1223, 1224, 201, 202, 203, 1227, 205, 209, 214, 1238, 1243, 221, 222, 1248, 226, 227, 232, 1257, 236, 238, 239, 240, 242, 244, 1269, 247, 248, 249, 251, 254, 256, 257, 258, 264, 269, 270, 271, 272, 273, 274, 277, 279, 280, 281, 282, 287, 289, 290, 1313, 293, 297, 301, 302, 303, 309, 312, 1336, 314, 315, 316, 320, 321, 322, 327, 331, 332, 337, 341, 343, 346, 348, 353, 354, 355, 356, 361, 362, 363, 364, 365, 366, 368, 372, 373, 375, 376, 377, 379, 1406, 383, 384, 385, 1408, 390, 391, 392, 393, 394, 395, 1418, 397, 398, 402, 403, 404, 408, 409, 410, 411, 1434, 414, 1439, 416, 417, 418, 419, 420, 1440, 422, 1445, 430, 442, 1467, 1468, 448, 450, 455, 458, 462, 464, 469, 471, 472, 475, 476, 478, 479, 482, 484, 493, 495, 496, 499, 500, 506, 1530, 1538, 526, 537, 538, 539, 540, 543, 545, 549, 551, 552, 553, 558, 559, 560, 565, 567, 568, 570, 571, 574, 575, 576, 577, 584, 585, 587, 590, 595, 596, 612, 619, 621, 622, 624, 626, 627, 629, 635, 643, 650, 651, 654, 658, 671, 680, 682, 683, 684, 685, 686, 688, 689, 691, 692, 695, 704, 709, 714, 716, 719, 720, 721, 723, 724, 726, 727, 728, 730, 731, 736, 738, 741, 746, 747, 750, 754, 755, 760, 762, 768, 770, 773, 774, 777, 778, 779, 780, 782, 784, 786, 788, 789, 791, 793, 796, 801, 804, 807, 809, 811, 814, 818, 819, 820, 822, 823, 824, 825, 830, 832, 835, 839, 840, 841, 842, 844, 863, 865, 869, 870, 875, 878, 889, 891, 892, 904, 921, 923, 925, 928, 929, 931, 933, 938, 939, 940, 943, 948, 950, 952, 963, 976, 981, 995, 996, 998, 999, 1000, 1013, 1015})\n",
      "0 1\n"
     ]
    },
    {
     "name": "stdout",
     "output_type": "stream",
     "text": [
      "frozenset({257, 514, 1027, 1283, 6, 8, 12, 13, 14, 268, 271, 273, 274, 275, 20, 1046, 1047, 24, 1048, 280, 281, 282, 283, 284, 543, 286, 545, 546, 287, 289, 291, 292, 293, 1066, 299, 49, 818, 822, 1334, 312, 314, 1083, 321, 322, 324, 839, 330, 332, 844, 590, 594, 595, 596, 339, 340, 92, 863, 865, 99, 105, 108, 110, 115, 116, 117, 627, 1141, 120, 121, 123, 124, 125, 126, 128, 136, 1161, 146, 149, 407, 409, 410, 921, 923, 928, 675, 931, 677, 932, 933, 684, 1196, 1198, 689, 949, 695, 459, 716, 978, 470, 472, 984, 474, 987, 220, 221, 476, 990, 224, 247, 739, 740, 741, 743, 234, 747, 239, 1008, 1010, 755, 244, 759, 761, 762, 507}) frozenset({0, 2, 3, 6, 7, 8, 10, 11, 12, 16, 21, 22, 23, 1047, 25, 27, 28, 30, 31, 32, 38, 1064, 41, 1066, 1068, 1069, 1071, 1072, 49, 1073, 53, 54, 55, 1078, 58, 59, 63, 66, 68, 69, 70, 72, 1096, 76, 78, 1102, 80, 81, 82, 84, 85, 86, 1109, 88, 1112, 90, 91, 92, 93, 94, 95, 96, 97, 99, 1133, 1138, 116, 1141, 120, 123, 124, 126, 127, 128, 1151, 1152, 131, 134, 136, 143, 1169, 146, 149, 150, 152, 153, 154, 155, 158, 160, 163, 164, 1187, 168, 169, 170, 171, 172, 173, 174, 1193, 176, 177, 178, 179, 180, 181, 182, 184, 185, 186, 187, 189, 190, 191, 192, 193, 194, 195, 1217, 198, 201, 202, 203, 206, 207, 208, 209, 210, 211, 1230, 1238, 215, 216, 218, 222, 225, 230, 231, 233, 234, 236, 1261, 238, 239, 1266, 247, 248, 249, 251, 256, 257, 261, 264, 267, 268, 270, 272, 275, 278, 281, 289, 290, 293, 296, 297, 299, 301, 302, 316, 317, 321, 326, 337, 356, 380, 381, 384, 385, 1418, 398, 401, 402, 1427, 404, 407, 410, 422, 426, 427, 429, 430, 432, 434, 435, 450, 454, 460, 461, 1486, 468, 469, 470, 472, 473, 474, 478, 479, 481, 482, 483, 487, 492, 493, 496, 497, 508, 510, 511, 512, 513, 514, 518, 519, 522, 523, 1552, 532, 539, 543, 545, 549, 553, 561, 1588, 565, 567, 574, 575, 596, 602, 603, 606, 614, 626, 630, 635, 641, 645, 646, 648, 649, 650, 651, 654, 656, 657, 662, 663, 675, 677, 683, 685, 686, 694, 695, 699, 704, 717, 720, 727, 728, 730, 731, 733, 736, 738, 740, 741, 745, 746, 748, 754, 762, 770, 781, 788, 817, 818, 819, 830, 832, 846, 855, 865, 868, 878, 880, 885, 1194, 918, 942, 943, 946, 948, 951, 954, 958, 978, 979, 1005, 1010, 1013, 1015, 1021})\n",
      "0 1\n",
      "frozenset({257, 514, 1027, 1283, 6, 8, 12, 13, 14, 268, 271, 273, 274, 275, 20, 1046, 1047, 24, 1048, 280, 281, 282, 283, 284, 543, 286, 545, 546, 287, 289, 291, 292, 293, 1066, 299, 49, 818, 822, 1334, 312, 314, 1083, 321, 322, 324, 839, 330, 332, 844, 590, 594, 595, 596, 339, 340, 92, 863, 865, 99, 105, 108, 110, 115, 116, 117, 627, 1141, 120, 121, 123, 124, 125, 126, 128, 136, 1161, 146, 149, 407, 409, 410, 921, 923, 928, 675, 931, 677, 932, 933, 684, 1196, 1198, 689, 949, 695, 459, 716, 978, 470, 472, 984, 474, 987, 220, 221, 476, 990, 224, 247, 739, 740, 741, 743, 234, 747, 239, 1008, 1010, 755, 244, 759, 761, 762, 507}) frozenset({0, 3, 4, 1027, 6, 7, 8, 1032, 10, 11, 12, 1036, 14, 1039, 1040, 1041, 21, 1045, 23, 24, 1046, 27, 28, 1051, 30, 31, 37, 38, 39, 41, 42, 43, 45, 46, 47, 48, 49, 50, 1072, 52, 53, 54, 55, 1073, 57, 61, 62, 63, 64, 65, 66, 67, 68, 1089, 70, 71, 72, 1094, 77, 78, 79, 80, 81, 84, 86, 87, 88, 90, 91, 92, 93, 94, 95, 97, 99, 100, 101, 105, 107, 108, 110, 114, 115, 116, 117, 1141, 119, 120, 121, 122, 123, 124, 128, 131, 1156, 133, 134, 142, 143, 144, 146, 147, 148, 152, 153, 154, 155, 156, 158, 159, 160, 163, 166, 168, 1193, 170, 172, 173, 174, 175, 178, 179, 180, 181, 182, 183, 1206, 185, 1207, 1208, 188, 189, 190, 1209, 192, 1210, 194, 195, 1211, 197, 198, 199, 200, 201, 202, 203, 207, 208, 209, 211, 213, 214, 215, 216, 217, 218, 219, 221, 222, 224, 225, 226, 227, 229, 230, 232, 233, 234, 236, 237, 238, 239, 240, 242, 244, 245, 247, 248, 249, 251, 256, 257, 259, 264, 267, 270, 272, 273, 275, 277, 280, 281, 283, 287, 288, 290, 293, 294, 303, 306, 312, 317, 321, 327, 355, 362, 363, 366, 367, 368, 369, 375, 381, 382, 384, 385, 392, 395, 400, 401, 402, 404, 405, 407, 408, 409, 410, 411, 417, 420, 422, 424, 427, 430, 431, 432, 435, 448, 449, 450, 451, 452, 454, 455, 462, 465, 470, 473, 474, 475, 499, 503, 507, 514, 517, 520, 526, 527, 530, 539, 545, 550, 551, 553, 557, 558, 560, 565, 567, 574, 575, 576, 580, 581, 582, 590, 594, 595, 596, 618, 619, 626, 627, 630, 635, 639, 641, 650, 654, 657, 659, 662, 664, 671, 672, 673, 677, 678, 683, 684, 691, 701, 703, 706, 707, 708, 711, 714, 716, 719, 721, 724, 726, 727, 728, 730, 731, 734, 736, 741, 742, 746, 747, 754, 755, 757, 760, 762, 770, 777, 779, 780, 782, 784, 788, 789, 799, 801, 819, 822, 824, 825, 830, 833, 840, 844, 845, 854, 921, 924, 925, 927, 929, 930, 933, 946, 948, 954, 960, 962, 973, 976, 1212, 979, 983, 1213, 985, 1214, 992, 1215, 997, 1010, 1011, 1013, 1015, 1017, 1022})\n",
      "0 1\n",
      "frozenset({257, 514, 1027, 1283, 6, 8, 12, 13, 14, 268, 271, 273, 274, 275, 20, 1046, 1047, 24, 1048, 280, 281, 282, 283, 284, 543, 286, 545, 546, 287, 289, 291, 292, 293, 1066, 299, 49, 818, 822, 1334, 312, 314, 1083, 321, 322, 324, 839, 330, 332, 844, 590, 594, 595, 596, 339, 340, 92, 863, 865, 99, 105, 108, 110, 115, 116, 117, 627, 1141, 120, 121, 123, 124, 125, 126, 128, 136, 1161, 146, 149, 407, 409, 410, 921, 923, 928, 675, 931, 677, 932, 933, 684, 1196, 1198, 689, 949, 695, 459, 716, 978, 470, 472, 984, 474, 987, 220, 221, 476, 990, 224, 247, 739, 740, 741, 743, 234, 747, 239, 1008, 1010, 755, 244, 759, 761, 762, 507}) frozenset({0, 3, 6, 8, 11, 12, 1038, 21, 22, 23, 1046, 27, 30, 545, 38, 41, 1068, 1072, 49, 52, 54, 55, 567, 57, 63, 67, 68, 582, 587, 78, 590, 1102, 82, 596, 85, 88, 602, 91, 92, 95, 97, 99, 107, 113, 627, 116, 120, 633, 122, 123, 124, 128, 134, 136, 1166, 143, 657, 146, 147, 155, 160, 167, 168, 171, 172, 173, 174, 175, 683, 685, 178, 180, 181, 182, 185, 190, 194, 197, 201, 202, 208, 209, 211, 215, 217, 221, 222, 227, 740, 741, 234, 747, 236, 237, 239, 241, 244, 247, 248, 249, 251, 256, 257, 270, 272, 274, 788, 282, 289, 293, 805, 297, 299, 301, 308, 825, 316, 317, 326, 843, 332, 852, 356, 402, 404, 406, 407, 408, 918, 410, 420, 422, 426, 430, 454, 455, 461, 466, 468, 470, 471, 475, 477, 478, 479, 992, 482, 1010, 1011, 1015})\n",
      "0 1\n",
      "frozenset({257, 514, 1027, 1283, 6, 8, 12, 13, 14, 268, 271, 273, 274, 275, 20, 1046, 1047, 24, 1048, 280, 281, 282, 283, 284, 543, 286, 545, 546, 287, 289, 291, 292, 293, 1066, 299, 49, 818, 822, 1334, 312, 314, 1083, 321, 322, 324, 839, 330, 332, 844, 590, 594, 595, 596, 339, 340, 92, 863, 865, 99, 105, 108, 110, 115, 116, 117, 627, 1141, 120, 121, 123, 124, 125, 126, 128, 136, 1161, 146, 149, 407, 409, 410, 921, 923, 928, 675, 931, 677, 932, 933, 684, 1196, 1198, 689, 949, 695, 459, 716, 978, 470, 472, 984, 474, 987, 220, 221, 476, 990, 224, 247, 739, 740, 741, 743, 234, 747, 239, 1008, 1010, 755, 244, 759, 761, 762, 507}) frozenset({0, 513, 3, 515, 12, 525, 526, 1036, 528, 532, 549, 1064, 553, 55, 64, 65, 66, 68, 69, 580, 71, 583, 81, 82, 85, 87, 88, 601, 604, 93, 95, 96, 98, 99, 613, 616, 1134, 623, 628, 629, 120, 130, 131, 133, 134, 647, 649, 143, 144, 656, 659, 660, 662, 151, 152, 153, 663, 155, 156, 160, 161, 162, 673, 674, 167, 169, 171, 172, 173, 174, 178, 1202, 180, 182, 185, 189, 190, 702, 192, 704, 194, 195, 707, 708, 198, 711, 203, 207, 208, 209, 210, 211, 212, 215, 731, 222, 224, 225, 227, 228, 233, 236, 238, 754, 253, 256, 770, 1284, 268, 785, 791, 793, 285, 1310, 804, 810, 301, 302, 817, 312, 314, 315, 854, 383, 1410, 387, 388, 901, 392, 402, 404, 410, 413, 418, 419, 1448, 426, 427, 431, 434, 435, 948, 448, 960, 450, 962, 964, 971, 460, 461, 473, 480, 482, 487, 491, 505, 494, 497, 500, 501, 1017, 506, 509})\n",
      "0 1\n"
     ]
    },
    {
     "name": "stdout",
     "output_type": "stream",
     "text": [
      "frozenset({257, 514, 1027, 1283, 6, 8, 12, 13, 14, 268, 271, 273, 274, 275, 20, 1046, 1047, 24, 1048, 280, 281, 282, 283, 284, 543, 286, 545, 546, 287, 289, 291, 292, 293, 1066, 299, 49, 818, 822, 1334, 312, 314, 1083, 321, 322, 324, 839, 330, 332, 844, 590, 594, 595, 596, 339, 340, 92, 863, 865, 99, 105, 108, 110, 115, 116, 117, 627, 1141, 120, 121, 123, 124, 125, 126, 128, 136, 1161, 146, 149, 407, 409, 410, 921, 923, 928, 675, 931, 677, 932, 933, 684, 1196, 1198, 689, 949, 695, 459, 716, 978, 470, 472, 984, 474, 987, 220, 221, 476, 990, 224, 247, 739, 740, 741, 743, 234, 747, 239, 1008, 1010, 755, 244, 759, 761, 762, 507}) frozenset({0, 1024, 3, 1027, 6, 9, 12, 14, 1038, 16, 1039, 1043, 21, 1046, 1047, 24, 28, 545, 549, 551, 40, 41, 46, 558, 48, 49, 50, 51, 560, 565, 1076, 55, 567, 569, 571, 61, 62, 64, 65, 66, 67, 68, 69, 576, 71, 72, 581, 582, 583, 584, 78, 79, 82, 84, 596, 88, 89, 90, 1117, 1118, 95, 96, 97, 608, 99, 104, 107, 108, 1131, 110, 115, 116, 120, 121, 122, 130, 134, 138, 1164, 142, 143, 144, 659, 150, 663, 152, 664, 154, 157, 158, 160, 1184, 1187, 677, 167, 171, 172, 684, 686, 175, 180, 182, 183, 185, 187, 190, 1214, 195, 707, 708, 201, 202, 715, 1229, 207, 208, 209, 210, 720, 212, 213, 214, 215, 216, 721, 1243, 221, 225, 226, 227, 228, 229, 230, 231, 232, 737, 234, 738, 236, 741, 747, 239, 240, 754, 245, 247, 248, 249, 761, 762, 257, 258, 770, 1281, 773, 775, 264, 267, 268, 780, 272, 273, 274, 785, 789, 791, 281, 282, 287, 293, 297, 824, 825, 316, 327, 848, 861, 863, 357, 363, 364, 1090, 366, 367, 372, 375, 377, 383, 385, 390, 392, 400, 401, 402, 404, 410, 925, 927, 416, 930, 1445, 426, 939, 940, 430, 943, 435, 948, 958, 1470, 448, 450, 976, 469, 471, 474, 484, 495, 1013, 1015})\n",
      "0 1\n",
      "frozenset({257, 514, 1027, 1283, 6, 8, 12, 13, 14, 268, 271, 273, 274, 275, 20, 1046, 1047, 24, 1048, 280, 281, 282, 283, 284, 543, 286, 545, 546, 287, 289, 291, 292, 293, 1066, 299, 49, 818, 822, 1334, 312, 314, 1083, 321, 322, 324, 839, 330, 332, 844, 590, 594, 595, 596, 339, 340, 92, 863, 865, 99, 105, 108, 110, 115, 116, 117, 627, 1141, 120, 121, 123, 124, 125, 126, 128, 136, 1161, 146, 149, 407, 409, 410, 921, 923, 928, 675, 931, 677, 932, 933, 684, 1196, 1198, 689, 949, 695, 459, 716, 978, 470, 472, 984, 474, 987, 220, 221, 476, 990, 224, 247, 739, 740, 741, 743, 234, 747, 239, 1008, 1010, 755, 244, 759, 761, 762, 507}) frozenset({0, 3, 4, 6, 7, 8, 10, 11, 12, 13, 16, 20, 21, 22, 23, 24, 26, 27, 28, 31, 32, 36, 37, 38, 39, 41, 44, 47, 48, 49, 50, 52, 57, 58, 59, 60, 61, 63, 65, 66, 67, 68, 69, 70, 71, 72, 77, 78, 81, 82, 85, 86, 87, 88, 89, 90, 91, 93, 94, 95, 96, 98, 99, 108, 109, 110, 115, 116, 117, 120, 123, 126, 127, 131, 134, 136, 137, 140, 142, 143, 144, 146, 149, 151, 152, 153, 154, 156, 157, 159, 160, 162, 163, 164, 165, 166, 167, 169, 171, 172, 173, 174, 175, 176, 177, 178, 179, 180, 181, 182, 183, 184, 186, 187, 189, 190, 192, 193, 194, 195, 196, 198, 199, 200, 201, 203, 204, 207, 208, 209, 210, 211, 215, 216, 217, 218, 221, 222, 223, 224, 225, 226, 227, 228, 229, 230, 231, 232, 233, 234, 236, 237, 238, 240, 241, 242, 257, 259, 260, 261, 262, 263, 264, 267, 268, 269, 270, 272, 273, 274, 275, 278, 279, 280, 284, 285, 286, 287, 288, 289, 291, 293, 298, 299, 300, 301, 302, 304, 305, 306, 307, 309, 310, 311, 312, 313, 314, 315, 316, 317, 318, 319, 320, 321, 322, 325, 326, 327, 328, 330, 331, 332, 333, 335, 337, 338, 339, 340, 341, 342, 344, 345, 346, 347, 348, 349, 350, 352, 353, 354, 356, 357, 361, 362, 366, 369, 370, 376, 378, 381, 383, 384, 386, 390, 392, 393, 395, 397, 399, 400, 401, 402, 403, 404, 405, 408, 409, 410, 412, 413, 415, 416, 417, 418, 419, 420, 422, 423, 426, 427, 428, 429, 430, 431, 432, 434, 435, 436, 437, 438, 439, 440, 441, 442, 443, 444, 445, 446, 447, 448, 449, 450, 451, 452, 454, 456, 461, 462, 466, 470, 471, 472, 473, 474, 475, 476, 477, 479, 480, 481, 482, 483, 484, 487, 490, 491, 492, 493, 496, 497, 500, 501, 503, 504, 505, 506, 507, 508, 509, 510, 513, 514, 515, 516, 517, 518, 519, 521, 522, 523, 524, 526, 528, 529, 530, 537, 538, 539, 540, 545, 546, 547, 548, 549, 550, 552, 553, 557, 558, 560, 562, 563, 564, 565, 566, 567, 568, 569, 571, 572, 575, 577, 584, 585, 587, 588, 589, 595, 596, 600, 601, 602, 603, 605, 609, 611, 612, 613, 614, 616, 618, 620, 623, 624, 628, 629, 630, 631, 634, 635, 636, 637, 638, 645, 646, 649, 650, 651, 653, 654, 655, 656, 658, 660, 661, 662, 664, 666, 667, 668, 669, 670, 671, 672, 673, 674, 677, 678, 681, 682, 683, 684, 685, 686, 687, 688, 689, 690, 691, 693, 704, 705, 708, 711, 715, 719, 721, 731, 732, 734, 735, 736, 738, 739, 745, 746, 747, 748, 749, 750, 751, 753, 754, 755, 756, 757, 758, 759, 760, 761, 762, 763, 764, 765, 766, 767, 768, 769, 770, 771, 772, 773, 774, 775, 776, 777, 778, 779, 780, 781, 782, 783, 784, 785, 786, 787, 788, 789, 790, 791, 792, 793, 794, 795, 796, 797, 798, 799, 800, 801, 802, 803, 804, 805, 806, 807, 808, 809, 810, 811, 812, 813, 814, 815, 816, 817, 818, 819, 820, 821, 822, 823, 824, 825, 826, 827, 828, 829, 830, 831, 832, 833, 834, 836, 837, 838, 839, 840, 841, 842, 843, 844, 845, 846, 847, 848, 849, 850, 851, 852, 853, 854, 855, 856, 857, 858, 859, 860, 861, 862, 863, 864, 865, 866, 867, 868, 869, 870, 871, 872, 873, 874, 875, 876, 877, 878, 879, 880, 881, 882, 883, 884, 885, 886, 887, 888, 889, 890, 891, 892, 893, 894, 895, 896, 897, 898, 899, 900, 901, 902, 903, 904, 905, 906, 907, 908, 909, 910, 911, 912, 913, 914, 915, 916, 917})\n",
      "0 1\n"
     ]
    },
    {
     "name": "stdout",
     "output_type": "stream",
     "text": [
      "frozenset({257, 514, 1027, 1283, 6, 8, 12, 13, 14, 268, 271, 273, 274, 275, 20, 1046, 1047, 24, 1048, 280, 281, 282, 283, 284, 543, 286, 545, 546, 287, 289, 291, 292, 293, 1066, 299, 49, 818, 822, 1334, 312, 314, 1083, 321, 322, 324, 839, 330, 332, 844, 590, 594, 595, 596, 339, 340, 92, 863, 865, 99, 105, 108, 110, 115, 116, 117, 627, 1141, 120, 121, 123, 124, 125, 126, 128, 136, 1161, 146, 149, 407, 409, 410, 921, 923, 928, 675, 931, 677, 932, 933, 684, 1196, 1198, 689, 949, 695, 459, 716, 978, 470, 472, 984, 474, 987, 220, 221, 476, 990, 224, 247, 739, 740, 741, 743, 234, 747, 239, 1008, 1010, 755, 244, 759, 761, 762, 507}) frozenset({0, 2, 3, 6, 9, 10, 11, 12, 14, 21, 22, 24, 25, 27, 28, 32, 34, 37, 38, 42, 43, 46, 48, 49, 50, 53, 55, 58, 59, 60, 62, 63, 64, 65, 66, 68, 69, 70, 72, 75, 76, 77, 78, 79, 80, 81, 82, 85, 86, 87, 88, 89, 90, 91, 93, 94, 95, 96, 97, 98, 100, 101, 109, 110, 111, 113, 116, 117, 120, 122, 124, 125, 126, 130, 131, 132, 133, 134, 135, 138, 139, 140, 142, 143, 144, 150, 151, 152, 153, 154, 156, 157, 160, 162, 163, 165, 166, 167, 168, 169, 171, 172, 173, 175, 176, 177, 178, 179, 180, 181, 182, 184, 185, 186, 187, 189, 190, 191, 192, 193, 194, 195, 196, 198, 199, 201, 202, 203, 204, 206, 207, 209, 210, 212, 213, 214, 217, 219, 220, 221, 222, 224, 225, 226, 227, 228, 229, 230, 231, 232, 233, 234, 236, 237, 238, 240, 244, 251, 253, 257, 258, 259, 263, 264, 268, 269, 271, 272, 273, 274, 276, 277, 279, 280, 281, 282, 283, 285, 286, 287, 289, 291, 293, 298, 299, 300, 301, 303, 304, 306, 309, 310, 311, 312, 314, 315, 317, 321, 327, 331, 335, 339, 344, 346, 353, 355, 356, 365, 366, 370, 371, 372, 377, 379, 380, 381, 382, 383, 384, 385, 386, 387, 388, 391, 392, 394, 395, 398, 399, 400, 401, 402, 404, 413, 414, 415, 416, 417, 418, 420, 421, 422, 426, 427, 429, 430, 431, 432, 433, 434, 442, 447, 450, 454, 456, 461, 464, 466, 467, 468, 470, 471, 473, 475, 476, 477, 478, 479, 480, 481, 482, 483, 484, 486, 487, 488, 489, 490, 491, 492, 493, 494, 495, 496, 497, 498, 499, 500, 501, 502, 503, 504, 505, 506, 508, 509, 510, 513, 515, 517, 518, 519, 520, 522, 524, 525, 526, 527, 529, 534, 545, 548, 549, 552, 556, 557, 558, 560, 565, 567, 569, 570, 581, 582, 583, 587, 588, 590, 596, 600, 601, 602, 603, 605, 606, 607, 608, 609, 610, 611, 612, 613, 615, 617, 618, 619, 621, 626, 627, 628, 629, 630, 631, 632, 636, 641, 646, 647, 649, 650, 653, 654, 656, 658, 659, 660, 661, 662, 670, 672, 678, 684, 685, 688, 691, 692, 695, 698, 699, 701, 703, 704, 706, 707, 708, 709, 711, 712, 713, 714, 715, 716, 721, 722, 723, 724, 726, 727, 728, 730, 731, 733, 734, 735, 738, 740, 741, 746, 747, 748, 749, 750, 755, 760, 761, 764, 770, 773, 774, 775, 777, 780, 789, 791, 793, 794, 806, 811, 814, 820, 822, 831, 836, 841, 844, 845, 846, 864, 865, 868, 872, 877, 899, 901, 903, 904, 907, 920, 922, 925, 927, 933, 935, 938, 939, 941, 950, 955, 964, 965, 966, 967, 968, 1019, 1027, 1029, 1032, 1035, 1036, 1038, 1040, 1043, 1046, 1047, 1049, 1052, 1053, 1060, 1090, 1091, 1106, 1111, 1114, 1115, 1118, 1125, 1134, 1139, 1151, 1152, 1159, 1162, 1171, 1183, 1191, 1196, 1202, 1207, 1211, 1219, 1220, 1221, 1225, 1247, 1248, 1260, 1262, 1268, 1270, 1281, 1283, 1285, 1296, 1302, 1310, 1400, 1401, 1420, 1424, 1434, 1440, 1443, 1445, 1478, 1479, 1489, 1517, 1520, 1602})\n",
      "0 1\n",
      "frozenset({257, 514, 1027, 1283, 6, 8, 12, 13, 14, 268, 271, 273, 274, 275, 20, 1046, 1047, 24, 1048, 280, 281, 282, 283, 284, 543, 286, 545, 546, 287, 289, 291, 292, 293, 1066, 299, 49, 818, 822, 1334, 312, 314, 1083, 321, 322, 324, 839, 330, 332, 844, 590, 594, 595, 596, 339, 340, 92, 863, 865, 99, 105, 108, 110, 115, 116, 117, 627, 1141, 120, 121, 123, 124, 125, 126, 128, 136, 1161, 146, 149, 407, 409, 410, 921, 923, 928, 675, 931, 677, 932, 933, 684, 1196, 1198, 689, 949, 695, 459, 716, 978, 470, 472, 984, 474, 987, 220, 221, 476, 990, 224, 247, 739, 740, 741, 743, 234, 747, 239, 1008, 1010, 755, 244, 759, 761, 762, 507}) frozenset({0, 2, 3, 4, 6, 8, 10, 11, 13, 16, 1041, 21, 22, 23, 27, 29, 30, 32, 38, 41, 45, 1069, 47, 48, 49, 50, 51, 52, 53, 54, 55, 1072, 57, 1073, 59, 1078, 63, 64, 65, 67, 68, 69, 70, 71, 72, 1097, 75, 76, 1100, 78, 79, 80, 81, 82, 84, 85, 86, 87, 88, 89, 90, 91, 1108, 1112, 1118, 95, 96, 97, 100, 105, 108, 110, 1134, 116, 117, 120, 122, 124, 131, 133, 134, 136, 142, 143, 146, 147, 149, 150, 152, 153, 154, 155, 156, 157, 158, 160, 162, 163, 167, 169, 170, 171, 172, 173, 174, 175, 176, 1193, 178, 179, 180, 181, 182, 1205, 1207, 185, 187, 189, 191, 192, 193, 194, 195, 1216, 197, 1219, 201, 202, 203, 205, 208, 209, 210, 211, 212, 213, 214, 215, 216, 217, 218, 220, 221, 222, 225, 226, 227, 228, 229, 232, 233, 234, 235, 236, 237, 238, 240, 243, 1267, 245, 248, 249, 251, 255, 256, 264, 267, 272, 275, 279, 280, 283, 285, 289, 294, 297, 1334, 316, 317, 355, 366, 368, 1400, 379, 380, 381, 384, 386, 392, 398, 401, 404, 416, 420, 422, 424, 426, 427, 430, 432, 460, 461, 471, 473, 474, 475, 479, 482, 483, 497, 505, 508, 510, 511, 522, 526, 527, 529, 530, 534, 536, 540, 545, 548, 549, 556, 557, 558, 560, 565, 567, 568, 569, 1596, 577, 580, 581, 582, 592, 596, 630, 635, 639, 641, 649, 651, 654, 1681, 673, 677, 678, 683, 684, 692, 696, 701, 703, 707, 708, 709, 712, 714, 719, 720, 726, 731, 734, 736, 738, 740, 745, 747, 754, 755, 761, 762, 763, 766, 780, 789, 791, 805, 819, 823, 824, 830, 843, 862, 865, 918, 929, 930, 938, 942, 943, 947, 958, 959, 960, 970, 977, 1004, 1008, 1009, 1010, 1013})\n",
      "0 1\n",
      "frozenset({257, 514, 1027, 1283, 6, 8, 12, 13, 14, 268, 271, 273, 274, 275, 20, 1046, 1047, 24, 1048, 280, 281, 282, 283, 284, 543, 286, 545, 546, 287, 289, 291, 292, 293, 1066, 299, 49, 818, 822, 1334, 312, 314, 1083, 321, 322, 324, 839, 330, 332, 844, 590, 594, 595, 596, 339, 340, 92, 863, 865, 99, 105, 108, 110, 115, 116, 117, 627, 1141, 120, 121, 123, 124, 125, 126, 128, 136, 1161, 146, 149, 407, 409, 410, 921, 923, 928, 675, 931, 677, 932, 933, 684, 1196, 1198, 689, 949, 695, 459, 716, 978, 470, 472, 984, 474, 987, 220, 221, 476, 990, 224, 247, 739, 740, 741, 743, 234, 747, 239, 1008, 1010, 755, 244, 759, 761, 762, 507}) frozenset({0, 3, 518, 7, 519, 520, 522, 12, 524, 14, 1040, 24, 27, 30, 46, 48, 55, 57, 62, 63, 64, 65, 69, 70, 71, 72, 581, 587, 588, 78, 590, 81, 84, 85, 86, 87, 601, 602, 603, 93, 94, 95, 96, 606, 609, 99, 1118, 1125, 110, 116, 632, 123, 124, 125, 126, 131, 132, 133, 134, 647, 653, 654, 143, 658, 660, 661, 662, 151, 152, 153, 157, 158, 161, 162, 166, 167, 171, 172, 173, 683, 175, 177, 691, 181, 182, 184, 185, 699, 190, 704, 193, 195, 196, 707, 709, 711, 201, 202, 203, 204, 714, 207, 210, 215, 731, 734, 736, 227, 228, 229, 230, 233, 234, 236, 238, 755, 273, 275, 282, 283, 795, 836, 356, 366, 384, 392, 398, 402, 413, 416, 1449, 426, 428, 429, 431, 434, 952, 446, 968, 473, 475, 477, 478, 479, 990, 481, 482, 483, 484, 992, 490, 492, 493, 494, 495, 496, 497, 500, 501, 1019, 509})\n",
      "0 1\n"
     ]
    },
    {
     "name": "stdout",
     "output_type": "stream",
     "text": [
      "frozenset({257, 514, 1027, 1283, 6, 8, 12, 13, 14, 268, 271, 273, 274, 275, 20, 1046, 1047, 24, 1048, 280, 281, 282, 283, 284, 543, 286, 545, 546, 287, 289, 291, 292, 293, 1066, 299, 49, 818, 822, 1334, 312, 314, 1083, 321, 322, 324, 839, 330, 332, 844, 590, 594, 595, 596, 339, 340, 92, 863, 865, 99, 105, 108, 110, 115, 116, 117, 627, 1141, 120, 121, 123, 124, 125, 126, 128, 136, 1161, 146, 149, 407, 409, 410, 921, 923, 928, 675, 931, 677, 932, 933, 684, 1196, 1198, 689, 949, 695, 459, 716, 978, 470, 472, 984, 474, 987, 220, 221, 476, 990, 224, 247, 739, 740, 741, 743, 234, 747, 239, 1008, 1010, 755, 244, 759, 761, 762, 507}) frozenset({0, 3, 4, 1027, 6, 1028, 8, 1029, 1032, 12, 13, 14, 16, 1040, 20, 21, 22, 23, 24, 1046, 1049, 27, 28, 32, 1059, 37, 38, 39, 46, 1071, 48, 49, 55, 61, 62, 65, 66, 67, 68, 69, 70, 71, 1091, 78, 81, 82, 1109, 87, 88, 89, 93, 94, 97, 102, 103, 106, 108, 109, 110, 111, 116, 117, 120, 121, 122, 124, 126, 132, 142, 143, 144, 150, 151, 152, 1175, 160, 163, 166, 167, 168, 171, 172, 173, 174, 175, 176, 177, 178, 179, 180, 182, 183, 184, 185, 186, 190, 192, 193, 194, 196, 198, 199, 201, 202, 203, 204, 1227, 207, 209, 210, 214, 215, 216, 217, 218, 219, 1243, 221, 224, 225, 226, 227, 228, 229, 230, 233, 234, 1257, 237, 239, 1270, 248, 249, 251, 253, 264, 274, 280, 285, 289, 290, 293, 294, 1336, 317, 322, 1375, 356, 363, 366, 367, 372, 376, 378, 383, 384, 385, 390, 392, 398, 402, 404, 405, 406, 409, 410, 411, 412, 413, 422, 427, 428, 429, 430, 431, 433, 434, 435, 440, 442, 443, 446, 447, 448, 451, 453, 454, 455, 457, 470, 471, 473, 474, 476, 478, 482, 483, 495, 496, 497, 499, 501, 504, 506, 509, 513, 518, 519, 522, 525, 526, 545, 549, 553, 558, 560, 562, 563, 564, 565, 567, 568, 574, 575, 577, 584, 595, 1625, 602, 614, 618, 628, 632, 634, 635, 636, 661, 662, 664, 670, 674, 675, 677, 678, 683, 684, 686, 691, 712, 716, 721, 725, 727, 739, 741, 742, 745, 747, 755, 757, 762, 768, 779, 780, 796, 808, 809, 815, 819, 824, 825, 826, 830, 839, 861, 863, 877, 903, 923, 925, 927, 928, 929, 930, 996, 1002})\n",
      "0 1\n",
      "frozenset({257, 514, 1027, 1283, 6, 8, 12, 13, 14, 268, 271, 273, 274, 275, 20, 1046, 1047, 24, 1048, 280, 281, 282, 283, 284, 543, 286, 545, 546, 287, 289, 291, 292, 293, 1066, 299, 49, 818, 822, 1334, 312, 314, 1083, 321, 322, 324, 839, 330, 332, 844, 590, 594, 595, 596, 339, 340, 92, 863, 865, 99, 105, 108, 110, 115, 116, 117, 627, 1141, 120, 121, 123, 124, 125, 126, 128, 136, 1161, 146, 149, 407, 409, 410, 921, 923, 928, 675, 931, 677, 932, 933, 684, 1196, 1198, 689, 949, 695, 459, 716, 978, 470, 472, 984, 474, 987, 220, 221, 476, 990, 224, 247, 739, 740, 741, 743, 234, 747, 239, 1008, 1010, 755, 244, 759, 761, 762, 507}) frozenset({0, 513, 2, 3, 1027, 517, 6, 7, 9, 10, 11, 12, 1035, 16, 530, 24, 541, 545, 37, 38, 39, 41, 1065, 1066, 556, 1067, 1068, 1069, 48, 49, 560, 51, 52, 53, 54, 55, 56, 568, 1073, 1074, 1075, 61, 1077, 1078, 576, 1080, 1081, 1082, 69, 70, 71, 582, 587, 76, 589, 79, 81, 593, 84, 89, 90, 92, 94, 95, 97, 98, 99, 100, 101, 107, 110, 626, 115, 116, 627, 120, 121, 122, 639, 128, 651, 142, 144, 656, 146, 147, 150, 153, 158, 160, 167, 170, 171, 172, 173, 174, 178, 691, 180, 181, 694, 184, 697, 701, 199, 712, 201, 714, 203, 716, 207, 208, 720, 212, 724, 216, 217, 218, 731, 224, 736, 737, 740, 230, 234, 237, 238, 239, 757, 255, 257, 261, 773, 1070, 267, 269, 1071, 1072, 788, 282, 286, 288, 289, 293, 1076, 298, 299, 300, 812, 819, 820, 1079, 311, 312, 319, 323, 324, 327, 333, 342, 345, 346, 357, 877, 366, 368, 371, 381, 384, 385, 903, 395, 400, 402, 403, 405, 918, 412, 925, 927, 417, 418, 419, 930, 422, 427, 431, 432, 945, 454, 461, 464, 472, 474, 475, 476, 996, 997, 1008, 500, 1016, 1017, 507, 1020})\n",
      "0 1\n",
      "frozenset({257, 514, 1027, 1283, 6, 8, 12, 13, 14, 268, 271, 273, 274, 275, 20, 1046, 1047, 24, 1048, 280, 281, 282, 283, 284, 543, 286, 545, 546, 287, 289, 291, 292, 293, 1066, 299, 49, 818, 822, 1334, 312, 314, 1083, 321, 322, 324, 839, 330, 332, 844, 590, 594, 595, 596, 339, 340, 92, 863, 865, 99, 105, 108, 110, 115, 116, 117, 627, 1141, 120, 121, 123, 124, 125, 126, 128, 136, 1161, 146, 149, 407, 409, 410, 921, 923, 928, 675, 931, 677, 932, 933, 684, 1196, 1198, 689, 949, 695, 459, 716, 978, 470, 472, 984, 474, 987, 220, 221, 476, 990, 224, 247, 739, 740, 741, 743, 234, 747, 239, 1008, 1010, 755, 244, 759, 761, 762, 507}) frozenset({0, 1024, 3, 1027, 6, 9, 1040, 21, 22, 23, 24, 1046, 1049, 27, 31, 32, 1055, 1059, 38, 39, 1064, 48, 49, 1073, 54, 55, 1078, 61, 62, 63, 67, 68, 69, 70, 71, 1100, 78, 80, 83, 84, 86, 88, 90, 93, 94, 95, 96, 97, 98, 99, 104, 107, 1138, 1139, 117, 119, 120, 122, 124, 126, 127, 131, 132, 133, 134, 138, 140, 142, 143, 144, 1169, 150, 151, 152, 153, 154, 155, 156, 1176, 158, 159, 160, 161, 162, 163, 1187, 166, 167, 171, 172, 173, 174, 175, 176, 179, 180, 181, 182, 183, 184, 185, 186, 187, 1209, 190, 191, 192, 193, 194, 195, 196, 1221, 198, 199, 201, 202, 1227, 204, 205, 207, 208, 209, 210, 211, 212, 214, 215, 217, 218, 1243, 221, 225, 226, 227, 228, 229, 230, 232, 233, 234, 1259, 236, 237, 238, 239, 242, 244, 249, 251, 253, 256, 258, 259, 1284, 264, 1290, 281, 283, 287, 289, 290, 291, 293, 306, 309, 321, 322, 327, 356, 357, 362, 364, 365, 366, 372, 377, 378, 379, 384, 1410, 392, 395, 400, 401, 402, 404, 405, 410, 411, 412, 413, 414, 418, 422, 424, 427, 428, 430, 431, 432, 433, 434, 435, 442, 443, 444, 446, 447, 448, 450, 454, 455, 1487, 1488, 467, 471, 472, 473, 475, 478, 479, 482, 494, 495, 497, 503, 509, 510, 512, 513, 514, 519, 521, 522, 525, 526, 527, 528, 549, 551, 553, 557, 558, 565, 567, 572, 575, 581, 583, 1614, 596, 602, 608, 614, 615, 623, 624, 628, 630, 631, 635, 636, 638, 641, 645, 646, 650, 653, 654, 656, 661, 662, 663, 669, 670, 673, 674, 677, 678, 684, 691, 701, 707, 718, 719, 731, 736, 738, 741, 745, 746, 747, 754, 755, 762, 767, 770, 796, 1177, 819, 823, 825, 830, 840, 924, 925, 927, 928, 929, 931, 947, 948, 950, 968, 971, 980, 981, 983, 987, 992, 1015})\n",
      "0 1\n",
      "frozenset({257, 514, 1027, 1283, 6, 8, 12, 13, 14, 268, 271, 273, 274, 275, 20, 1046, 1047, 24, 1048, 280, 281, 282, 283, 284, 543, 286, 545, 546, 287, 289, 291, 292, 293, 1066, 299, 49, 818, 822, 1334, 312, 314, 1083, 321, 322, 324, 839, 330, 332, 844, 590, 594, 595, 596, 339, 340, 92, 863, 865, 99, 105, 108, 110, 115, 116, 117, 627, 1141, 120, 121, 123, 124, 125, 126, 128, 136, 1161, 146, 149, 407, 409, 410, 921, 923, 928, 675, 931, 677, 932, 933, 684, 1196, 1198, 689, 949, 695, 459, 716, 978, 470, 472, 984, 474, 987, 220, 221, 476, 990, 224, 247, 739, 740, 741, 743, 234, 747, 239, 1008, 1010, 755, 244, 759, 761, 762, 507}) frozenset({0, 513, 514, 517, 6, 8, 520, 522, 525, 526, 527, 528, 1038, 27, 541, 30, 558, 49, 53, 1077, 56, 64, 68, 581, 70, 583, 587, 76, 78, 81, 82, 595, 85, 86, 87, 88, 601, 90, 602, 93, 94, 95, 96, 97, 98, 612, 101, 613, 614, 615, 1132, 622, 624, 113, 116, 628, 630, 120, 124, 126, 638, 130, 131, 132, 133, 134, 135, 646, 649, 1156, 140, 142, 143, 654, 658, 659, 150, 152, 153, 664, 157, 158, 670, 162, 674, 166, 167, 171, 683, 173, 174, 175, 685, 178, 1203, 180, 184, 187, 189, 190, 192, 704, 194, 198, 199, 711, 201, 202, 203, 712, 209, 213, 214, 216, 731, 221, 734, 225, 226, 227, 228, 229, 232, 238, 239, 249, 251, 256, 257, 264, 1298, 312, 317, 834, 836, 332, 870, 379, 390, 391, 392, 401, 402, 403, 404, 918, 416, 417, 418, 422, 426, 431, 432, 433, 434, 435, 944, 442, 443, 448, 450, 968, 464, 470, 471, 478, 992, 483, 484, 493, 495, 500})\n",
      "0 1\n"
     ]
    },
    {
     "name": "stdout",
     "output_type": "stream",
     "text": [
      "frozenset({257, 514, 1027, 1283, 6, 8, 12, 13, 14, 268, 271, 273, 274, 275, 20, 1046, 1047, 24, 1048, 280, 281, 282, 283, 284, 543, 286, 545, 546, 287, 289, 291, 292, 293, 1066, 299, 49, 818, 822, 1334, 312, 314, 1083, 321, 322, 324, 839, 330, 332, 844, 590, 594, 595, 596, 339, 340, 92, 863, 865, 99, 105, 108, 110, 115, 116, 117, 627, 1141, 120, 121, 123, 124, 125, 126, 128, 136, 1161, 146, 149, 407, 409, 410, 921, 923, 928, 675, 931, 677, 932, 933, 684, 1196, 1198, 689, 949, 695, 459, 716, 978, 470, 472, 984, 474, 987, 220, 221, 476, 990, 224, 247, 739, 740, 741, 743, 234, 747, 239, 1008, 1010, 755, 244, 759, 761, 762, 507}) frozenset({0, 3, 4, 7, 8, 1031, 11, 1035, 1036, 14, 1038, 1039, 1040, 21, 22, 1045, 1047, 25, 1048, 27, 28, 30, 1054, 32, 1056, 35, 37, 38, 42, 44, 47, 48, 49, 1075, 52, 53, 55, 57, 61, 62, 63, 65, 1089, 68, 70, 76, 77, 78, 1100, 81, 85, 87, 88, 90, 93, 94, 95, 96, 97, 98, 99, 1118, 1125, 105, 110, 111, 116, 117, 120, 124, 125, 126, 131, 133, 1162, 142, 143, 144, 146, 150, 151, 152, 153, 154, 160, 163, 167, 171, 172, 173, 1196, 175, 177, 179, 180, 181, 182, 184, 185, 186, 187, 190, 192, 193, 194, 195, 196, 197, 198, 199, 1216, 201, 202, 203, 1227, 208, 209, 210, 212, 214, 215, 216, 217, 218, 221, 225, 226, 227, 229, 230, 231, 232, 233, 235, 236, 237, 242, 244, 1268, 247, 248, 249, 256, 257, 1284, 264, 268, 269, 270, 271, 272, 273, 274, 1296, 1298, 277, 1302, 279, 280, 281, 282, 283, 285, 290, 292, 293, 297, 299, 300, 306, 312, 314, 315, 317, 320, 321, 322, 325, 327, 332, 338, 341, 355, 356, 366, 370, 377, 380, 1406, 384, 386, 388, 390, 1414, 392, 395, 398, 401, 402, 404, 408, 413, 416, 418, 422, 426, 428, 430, 431, 432, 433, 442, 446, 447, 448, 449, 450, 466, 473, 476, 477, 478, 479, 482, 483, 484, 485, 486, 487, 1510, 490, 492, 495, 1521, 499, 509, 510, 513, 515, 516, 519, 524, 526, 529, 541, 545, 548, 549, 552, 553, 558, 563, 564, 565, 567, 569, 572, 575, 577, 585, 587, 590, 596, 602, 605, 606, 607, 610, 614, 622, 627, 632, 635, 648, 654, 658, 659, 661, 664, 671, 683, 684, 691, 692, 698, 704, 706, 708, 715, 716, 719, 721, 723, 727, 730, 731, 734, 735, 738, 741, 745, 746, 747, 750, 754, 760, 761, 764, 767, 768, 774, 775, 777, 778, 780, 782, 784, 793, 794, 795, 796, 806, 808, 809, 814, 820, 825, 830, 848, 854, 858, 868, 870, 872, 878, 879, 927, 931, 933, 938, 944, 948, 973, 976, 987, 1000, 1011})\n",
      "0 1\n",
      "frozenset({257, 514, 1027, 1283, 6, 8, 12, 13, 14, 268, 271, 273, 274, 275, 20, 1046, 1047, 24, 1048, 280, 281, 282, 283, 284, 543, 286, 545, 546, 287, 289, 291, 292, 293, 1066, 299, 49, 818, 822, 1334, 312, 314, 1083, 321, 322, 324, 839, 330, 332, 844, 590, 594, 595, 596, 339, 340, 92, 863, 865, 99, 105, 108, 110, 115, 116, 117, 627, 1141, 120, 121, 123, 124, 125, 126, 128, 136, 1161, 146, 149, 407, 409, 410, 921, 923, 928, 675, 931, 677, 932, 933, 684, 1196, 1198, 689, 949, 695, 459, 716, 978, 470, 472, 984, 474, 987, 220, 221, 476, 990, 224, 247, 739, 740, 741, 743, 234, 747, 239, 1008, 1010, 755, 244, 759, 761, 762, 507}) frozenset({0, 2, 3, 10, 11, 1034, 16, 21, 23, 24, 26, 27, 539, 540, 30, 545, 548, 37, 549, 41, 42, 44, 558, 47, 48, 49, 1073, 52, 565, 54, 567, 57, 571, 61, 63, 65, 66, 67, 68, 69, 70, 577, 72, 585, 587, 76, 78, 590, 80, 81, 595, 84, 86, 87, 91, 93, 94, 95, 96, 97, 98, 99, 619, 110, 626, 627, 116, 120, 124, 127, 132, 135, 650, 139, 651, 142, 143, 657, 149, 155, 159, 160, 671, 678, 171, 172, 173, 683, 175, 684, 177, 178, 685, 180, 688, 182, 691, 1208, 187, 190, 1216, 193, 194, 195, 196, 709, 1219, 712, 201, 203, 205, 719, 209, 214, 215, 726, 217, 731, 1243, 221, 734, 225, 226, 738, 228, 229, 230, 231, 741, 745, 746, 747, 236, 238, 247, 248, 251, 1275, 254, 767, 256, 257, 258, 259, 771, 264, 778, 780, 269, 782, 271, 272, 273, 275, 788, 789, 281, 793, 285, 287, 288, 801, 290, 802, 292, 293, 1313, 808, 297, 299, 300, 819, 822, 312, 824, 317, 832, 840, 332, 844, 339, 346, 348, 355, 365, 366, 377, 379, 384, 1409, 391, 392, 398, 1424, 401, 402, 403, 404, 920, 410, 411, 1439, 418, 931, 1445, 422, 425, 940, 430, 431, 954, 955, 965, 461, 977, 470, 1010, 500, 1015, 1018})\n",
      "0 1\n",
      "frozenset({257, 514, 1027, 1283, 6, 8, 12, 13, 14, 268, 271, 273, 274, 275, 20, 1046, 1047, 24, 1048, 280, 281, 282, 283, 284, 543, 286, 545, 546, 287, 289, 291, 292, 293, 1066, 299, 49, 818, 822, 1334, 312, 314, 1083, 321, 322, 324, 839, 330, 332, 844, 590, 594, 595, 596, 339, 340, 92, 863, 865, 99, 105, 108, 110, 115, 116, 117, 627, 1141, 120, 121, 123, 124, 125, 126, 128, 136, 1161, 146, 149, 407, 409, 410, 921, 923, 928, 675, 931, 677, 932, 933, 684, 1196, 1198, 689, 949, 695, 459, 716, 978, 470, 472, 984, 474, 987, 220, 221, 476, 990, 224, 247, 739, 740, 741, 743, 234, 747, 239, 1008, 1010, 755, 244, 759, 761, 762, 507}) frozenset({257, 3, 259, 517, 6, 10, 267, 268, 16, 272, 21, 23, 26, 287, 32, 545, 1312, 291, 549, 293, 299, 301, 49, 305, 565, 54, 55, 567, 312, 314, 61, 67, 323, 325, 1606, 326, 327, 332, 333, 78, 81, 86, 343, 88, 345, 91, 349, 94, 95, 97, 356, 872, 881, 116, 884, 120, 126, 894, 384, 897, 898, 901, 650, 907, 908, 143, 402, 404, 1175, 160, 678, 681, 683, 172, 173, 175, 181, 182, 183, 186, 194, 454, 209, 225, 994, 230, 231, 747, 240, 509})\n",
      "0 1\n",
      "frozenset({257, 514, 1027, 1283, 6, 8, 12, 13, 14, 268, 271, 273, 274, 275, 20, 1046, 1047, 24, 1048, 280, 281, 282, 283, 284, 543, 286, 545, 546, 287, 289, 291, 292, 293, 1066, 299, 49, 818, 822, 1334, 312, 314, 1083, 321, 322, 324, 839, 330, 332, 844, 590, 594, 595, 596, 339, 340, 92, 863, 865, 99, 105, 108, 110, 115, 116, 117, 627, 1141, 120, 121, 123, 124, 125, 126, 128, 136, 1161, 146, 149, 407, 409, 410, 921, 923, 928, 675, 931, 677, 932, 933, 684, 1196, 1198, 689, 949, 695, 459, 716, 978, 470, 472, 984, 474, 987, 220, 221, 476, 990, 224, 247, 739, 740, 741, 743, 234, 747, 239, 1008, 1010, 755, 244, 759, 761, 762, 507}) frozenset({0, 513, 514, 3, 4, 515, 6, 518, 520, 1027, 10, 11, 526, 22, 23, 27, 28, 31, 32, 549, 38, 1064, 41, 46, 48, 49, 1073, 52, 565, 54, 567, 57, 570, 571, 64, 65, 66, 67, 68, 69, 71, 1097, 76, 78, 81, 596, 86, 87, 88, 602, 91, 93, 95, 97, 98, 99, 110, 113, 1138, 116, 117, 628, 629, 120, 630, 126, 127, 128, 638, 131, 654, 143, 655, 146, 658, 149, 662, 151, 152, 664, 154, 155, 158, 160, 161, 162, 672, 673, 678, 167, 168, 171, 172, 173, 684, 175, 176, 178, 180, 182, 184, 185, 186, 1214, 193, 194, 196, 1220, 199, 711, 201, 202, 203, 204, 714, 715, 207, 208, 209, 210, 720, 214, 215, 217, 218, 731, 222, 225, 738, 227, 230, 232, 233, 234, 237, 239, 245, 248, 254, 261, 267, 779, 272, 275, 789, 281, 793, 287, 819, 823, 324, 844, 355, 356, 366, 384, 392, 398, 402, 403, 404, 407, 409, 927, 417, 419, 422, 427, 429, 431, 434, 435, 442, 955, 446, 447, 958, 450, 968, 467, 469, 473, 480, 481, 482, 483, 503, 491, 495, 1011, 500, 1015, 504, 507, 508})\n",
      "0 1\n"
     ]
    },
    {
     "name": "stdout",
     "output_type": "stream",
     "text": [
      "frozenset({257, 514, 1027, 1283, 6, 8, 12, 13, 14, 268, 271, 273, 274, 275, 20, 1046, 1047, 24, 1048, 280, 281, 282, 283, 284, 543, 286, 545, 546, 287, 289, 291, 292, 293, 1066, 299, 49, 818, 822, 1334, 312, 314, 1083, 321, 322, 324, 839, 330, 332, 844, 590, 594, 595, 596, 339, 340, 92, 863, 865, 99, 105, 108, 110, 115, 116, 117, 627, 1141, 120, 121, 123, 124, 125, 126, 128, 136, 1161, 146, 149, 407, 409, 410, 921, 923, 928, 675, 931, 677, 932, 933, 684, 1196, 1198, 689, 949, 695, 459, 716, 978, 470, 472, 984, 474, 987, 220, 221, 476, 990, 224, 247, 739, 740, 741, 743, 234, 747, 239, 1008, 1010, 755, 244, 759, 761, 762, 507}) frozenset({3, 1028, 7, 10, 11, 1034, 1040, 1043, 1044, 21, 22, 25, 1049, 27, 28, 30, 1054, 32, 35, 38, 39, 40, 41, 1065, 43, 1068, 45, 46, 47, 49, 50, 51, 52, 53, 54, 55, 1077, 57, 58, 60, 62, 63, 64, 65, 66, 67, 68, 69, 70, 71, 72, 75, 1100, 78, 79, 81, 82, 1106, 1108, 85, 86, 87, 88, 1109, 90, 91, 1117, 94, 95, 96, 97, 98, 1123, 100, 101, 1132, 109, 1147, 126, 130, 131, 132, 133, 134, 135, 138, 139, 140, 141, 142, 1167, 1177, 1178, 1181, 160, 1187, 167, 171, 172, 173, 174, 175, 176, 177, 178, 179, 180, 181, 182, 183, 184, 185, 186, 187, 1205, 189, 190, 191, 192, 193, 194, 195, 196, 197, 198, 199, 1217, 201, 202, 203, 204, 1220, 207, 208, 209, 210, 211, 212, 214, 215, 216, 217, 218, 1238, 1247, 1248, 225, 226, 227, 228, 229, 230, 231, 232, 233, 237, 238, 240, 1266, 257, 1285, 264, 267, 268, 269, 270, 1296, 1310, 287, 288, 293, 301, 316, 317, 356, 364, 366, 372, 375, 377, 379, 380, 384, 385, 386, 387, 1410, 390, 391, 392, 395, 397, 399, 400, 402, 403, 413, 414, 1438, 416, 418, 420, 422, 424, 425, 426, 427, 428, 429, 430, 431, 432, 1450, 434, 435, 440, 442, 447, 448, 1472, 450, 451, 1477, 1478, 462, 463, 467, 468, 469, 473, 477, 478, 479, 481, 482, 483, 484, 485, 486, 487, 488, 489, 490, 491, 492, 493, 494, 495, 496, 497, 498, 503, 504, 505, 506, 1529, 508, 509, 510, 512, 513, 514, 515, 1539, 517, 518, 519, 520, 522, 523, 524, 525, 526, 527, 529, 539, 541, 548, 549, 551, 553, 554, 557, 558, 559, 560, 561, 564, 567, 568, 569, 574, 575, 577, 579, 580, 584, 585, 587, 600, 601, 602, 603, 605, 607, 608, 609, 611, 613, 614, 615, 621, 622, 629, 632, 637, 639, 641, 647, 649, 650, 653, 654, 656, 658, 659, 660, 661, 662, 664, 671, 672, 673, 674, 678, 683, 691, 692, 696, 698, 699, 701, 704, 707, 714, 715, 718, 719, 720, 722, 726, 727, 728, 730, 731, 734, 735, 736, 737, 738, 745, 746, 747, 750, 754, 767, 769, 771, 777, 779, 784, 785, 786, 788, 791, 793, 795, 801, 805, 809, 835, 836, 848, 940, 941, 943, 948, 954, 1208, 1209, 966, 1003, 1219, 1017})\n",
      "0 1\n",
      "frozenset({257, 514, 1027, 1283, 6, 8, 12, 13, 14, 268, 271, 273, 274, 275, 20, 1046, 1047, 24, 1048, 280, 281, 282, 283, 284, 543, 286, 545, 546, 287, 289, 291, 292, 293, 1066, 299, 49, 818, 822, 1334, 312, 314, 1083, 321, 322, 324, 839, 330, 332, 844, 590, 594, 595, 596, 339, 340, 92, 863, 865, 99, 105, 108, 110, 115, 116, 117, 627, 1141, 120, 121, 123, 124, 125, 126, 128, 136, 1161, 146, 149, 407, 409, 410, 921, 923, 928, 675, 931, 677, 932, 933, 684, 1196, 1198, 689, 949, 695, 459, 716, 978, 470, 472, 984, 474, 987, 220, 221, 476, 990, 224, 247, 739, 740, 741, 743, 234, 747, 239, 1008, 1010, 755, 244, 759, 761, 762, 507}) frozenset({0, 2, 3, 4, 1027, 6, 7, 8, 9, 10, 11, 14, 1038, 16, 1043, 20, 21, 22, 23, 24, 1046, 26, 27, 28, 30, 32, 1060, 37, 38, 39, 41, 43, 44, 1068, 48, 49, 1073, 51, 52, 53, 54, 55, 57, 61, 62, 63, 66, 67, 68, 70, 71, 72, 75, 78, 79, 80, 81, 82, 83, 84, 85, 1102, 1108, 88, 89, 90, 94, 95, 97, 99, 100, 1127, 104, 107, 108, 1132, 110, 114, 116, 117, 120, 121, 122, 124, 126, 127, 1150, 131, 134, 135, 138, 140, 143, 147, 150, 151, 152, 153, 154, 155, 156, 158, 159, 160, 161, 162, 163, 1184, 166, 167, 168, 170, 171, 172, 173, 174, 175, 176, 178, 1203, 180, 181, 182, 183, 184, 185, 186, 187, 189, 190, 1214, 192, 193, 194, 195, 1216, 198, 199, 200, 201, 202, 203, 1224, 205, 1227, 207, 1230, 209, 210, 213, 214, 215, 216, 217, 218, 1239, 221, 224, 225, 226, 227, 228, 229, 233, 234, 238, 1267, 244, 245, 248, 249, 251, 253, 254, 256, 257, 259, 263, 264, 1290, 267, 270, 272, 283, 287, 289, 290, 293, 297, 299, 306, 312, 316, 317, 320, 326, 330, 332, 337, 342, 350, 353, 356, 357, 365, 366, 368, 375, 1400, 380, 381, 383, 384, 385, 1410, 391, 392, 393, 1418, 398, 400, 401, 402, 403, 404, 405, 408, 409, 410, 411, 412, 419, 422, 423, 426, 429, 431, 432, 433, 434, 435, 440, 443, 446, 447, 450, 454, 464, 469, 471, 472, 473, 475, 478, 495, 500, 519, 526, 1551, 540, 541, 545, 548, 549, 553, 558, 560, 561, 565, 566, 567, 568, 570, 571, 572, 575, 576, 577, 583, 584, 586, 587, 595, 596, 602, 608, 615, 624, 626, 627, 630, 634, 635, 636, 639, 648, 651, 654, 657, 658, 664, 671, 672, 673, 674, 678, 683, 684, 686, 695, 696, 708, 709, 712, 714, 716, 719, 720, 721, 728, 731, 741, 742, 745, 747, 750, 751, 754, 759, 761, 762, 767, 777, 780, 785, 789, 791, 796, 799, 817, 819, 820, 823, 824, 825, 830, 833, 840, 844, 861, 884, 889, 894, 918, 923, 925, 927, 928, 929, 942, 943, 945, 952, 960, 976, 982, 1013, 1015})\n",
      "0 1\n",
      "frozenset({2, 1027, 7, 10, 11, 1038, 16, 1043, 23, 24, 1051, 28, 540, 546, 37, 549, 40, 558, 1072, 49, 54, 55, 566, 567, 569, 571, 575, 1088, 65, 66, 67, 68, 577, 584, 587, 76, 1100, 79, 80, 81, 82, 595, 596, 91, 94, 95, 96, 97, 98, 99, 100, 615, 108, 110, 1134, 1138, 627, 116, 117, 120, 632, 131, 132, 137, 650, 651, 144, 657, 150, 154, 157, 158, 671, 160, 674, 163, 1187, 678, 171, 172, 173, 174, 175, 177, 180, 183, 184, 1217, 194, 195, 1219, 197, 1221, 201, 203, 1227, 718, 207, 719, 209, 210, 723, 1231, 214, 215, 727, 218, 222, 734, 225, 226, 227, 738, 229, 230, 231, 740, 742, 234, 235, 745, 237, 747, 239, 757, 249, 251, 764, 253, 256, 259, 264, 789, 283, 797, 287, 288, 801, 293, 808, 815, 826, 830, 839, 840, 848, 852, 355, 367, 368, 894, 383, 384, 1410, 392, 400, 401, 402, 403, 405, 409, 410, 411, 412, 417, 929, 419, 931, 422, 425, 940, 430, 431, 432, 440, 443, 446, 450, 468, 469, 980, 474, 476, 992}) frozenset({0, 5, 517, 520, 521, 11, 13, 16, 23, 1047, 27, 28, 1058, 552, 44, 46, 1070, 49, 1073, 55, 69, 1097, 75, 587, 78, 80, 81, 87, 88, 89, 94, 95, 97, 99, 1128, 110, 627, 116, 120, 121, 126, 127, 130, 132, 142, 143, 654, 149, 152, 154, 155, 156, 157, 160, 161, 674, 167, 168, 169, 171, 173, 174, 175, 689, 178, 179, 180, 185, 186, 187, 701, 194, 195, 196, 199, 203, 208, 209, 215, 221, 225, 226, 227, 229, 230, 232, 233, 236, 237, 239, 248, 251, 253, 256, 257, 264, 270, 272, 788, 285, 287, 301, 317, 342, 855, 356, 874, 878, 402, 407, 922, 418, 420, 432, 951, 454, 460, 474, 482, 483, 484, 503, 1513, 495, 1009, 1011, 1015, 1017, 510})\n",
      "0 1\n"
     ]
    },
    {
     "name": "stdout",
     "output_type": "stream",
     "text": [
      "frozenset({2, 1027, 7, 10, 11, 1038, 16, 1043, 23, 24, 1051, 28, 540, 546, 37, 549, 40, 558, 1072, 49, 54, 55, 566, 567, 569, 571, 575, 1088, 65, 66, 67, 68, 577, 584, 587, 76, 1100, 79, 80, 81, 82, 595, 596, 91, 94, 95, 96, 97, 98, 99, 100, 615, 108, 110, 1134, 1138, 627, 116, 117, 120, 632, 131, 132, 137, 650, 651, 144, 657, 150, 154, 157, 158, 671, 160, 674, 163, 1187, 678, 171, 172, 173, 174, 175, 177, 180, 183, 184, 1217, 194, 195, 1219, 197, 1221, 201, 203, 1227, 718, 207, 719, 209, 210, 723, 1231, 214, 215, 727, 218, 222, 734, 225, 226, 227, 738, 229, 230, 231, 740, 742, 234, 235, 745, 237, 747, 239, 757, 249, 251, 764, 253, 256, 259, 264, 789, 283, 797, 287, 288, 801, 293, 808, 815, 826, 830, 839, 840, 848, 852, 355, 367, 368, 894, 383, 384, 1410, 392, 400, 401, 402, 403, 405, 409, 410, 411, 412, 417, 929, 419, 931, 422, 425, 940, 430, 431, 432, 440, 443, 446, 450, 468, 469, 980, 474, 476, 992}) frozenset({0, 3, 4, 6, 7, 8, 1032, 10, 11, 12, 14, 1043, 21, 1046, 23, 24, 27, 28, 30, 37, 42, 43, 46, 47, 48, 51, 53, 54, 55, 57, 61, 62, 63, 64, 65, 66, 68, 69, 71, 72, 76, 1100, 78, 80, 81, 84, 85, 86, 87, 1108, 1111, 90, 92, 93, 94, 95, 96, 97, 98, 99, 1118, 101, 105, 107, 108, 110, 1134, 113, 115, 116, 117, 1139, 120, 122, 123, 124, 126, 127, 131, 132, 133, 135, 136, 139, 142, 143, 144, 150, 152, 156, 158, 160, 162, 163, 166, 168, 171, 172, 173, 175, 177, 180, 181, 182, 183, 1207, 185, 1209, 187, 188, 189, 190, 1216, 193, 194, 195, 196, 199, 200, 201, 202, 203, 1227, 208, 209, 213, 214, 215, 216, 217, 218, 221, 222, 1247, 224, 225, 226, 227, 228, 229, 230, 231, 233, 234, 236, 237, 238, 244, 249, 256, 257, 1283, 264, 274, 275, 1302, 281, 282, 285, 287, 289, 293, 316, 317, 327, 332, 342, 348, 355, 356, 366, 372, 379, 381, 385, 1411, 390, 392, 393, 398, 400, 401, 402, 403, 404, 1424, 417, 418, 421, 422, 431, 432, 442, 450, 464, 465, 469, 470, 471, 472, 473, 475, 482, 495, 500, 1530, 508, 510, 522, 525, 530, 540, 541, 545, 548, 549, 558, 560, 561, 562, 565, 567, 568, 576, 577, 587, 590, 595, 596, 602, 608, 618, 622, 624, 627, 628, 650, 654, 657, 659, 662, 664, 671, 672, 677, 683, 684, 691, 692, 709, 714, 715, 716, 719, 721, 728, 731, 733, 734, 735, 741, 746, 754, 767, 769, 774, 779, 780, 788, 793, 796, 799, 800, 804, 891, 929, 938, 950, 965, 968, 971, 992, 1015})\n",
      "0 1\n",
      "frozenset({2, 1027, 7, 10, 11, 1038, 16, 1043, 23, 24, 1051, 28, 540, 546, 37, 549, 40, 558, 1072, 49, 54, 55, 566, 567, 569, 571, 575, 1088, 65, 66, 67, 68, 577, 584, 587, 76, 1100, 79, 80, 81, 82, 595, 596, 91, 94, 95, 96, 97, 98, 99, 100, 615, 108, 110, 1134, 1138, 627, 116, 117, 120, 632, 131, 132, 137, 650, 651, 144, 657, 150, 154, 157, 158, 671, 160, 674, 163, 1187, 678, 171, 172, 173, 174, 175, 177, 180, 183, 184, 1217, 194, 195, 1219, 197, 1221, 201, 203, 1227, 718, 207, 719, 209, 210, 723, 1231, 214, 215, 727, 218, 222, 734, 225, 226, 227, 738, 229, 230, 231, 740, 742, 234, 235, 745, 237, 747, 239, 757, 249, 251, 764, 253, 256, 259, 264, 789, 283, 797, 287, 288, 801, 293, 808, 815, 826, 830, 839, 840, 848, 852, 355, 367, 368, 894, 383, 384, 1410, 392, 400, 401, 402, 403, 405, 409, 410, 411, 412, 417, 929, 419, 931, 422, 425, 940, 430, 431, 432, 440, 443, 446, 450, 468, 469, 980, 474, 476, 992}) frozenset({0, 264, 522, 14, 21, 789, 28, 549, 293, 553, 48, 49, 819, 565, 309, 55, 567, 312, 833, 836, 70, 587, 78, 86, 87, 88, 94, 95, 96, 97, 98, 611, 612, 624, 626, 632, 125, 126, 133, 647, 650, 398, 401, 402, 660, 150, 924, 160, 417, 678, 423, 426, 171, 172, 173, 430, 175, 176, 431, 434, 691, 180, 182, 695, 186, 192, 193, 194, 448, 196, 450, 967, 201, 202, 203, 204, 209, 210, 473, 731, 221, 479, 225, 226, 227, 228, 229, 230, 483, 486, 750, 240, 497, 500, 509})\n",
      "0 1\n"
     ]
    },
    {
     "ename": "KeyboardInterrupt",
     "evalue": "",
     "output_type": "error",
     "traceback": [
      "\u001b[1;31m---------------------------------------------------------------------------\u001b[0m",
      "\u001b[1;31mKeyboardInterrupt\u001b[0m                         Traceback (most recent call last)",
      "\u001b[1;32m<ipython-input-318-12db892b1e4b>\u001b[0m in \u001b[0;36m<module>\u001b[1;34m()\u001b[0m\n\u001b[0;32m      5\u001b[0m                 \u001b[0mprint\u001b[0m\u001b[1;33m(\u001b[0m\u001b[0ms1\u001b[0m\u001b[1;33m,\u001b[0m \u001b[0ms2\u001b[0m\u001b[1;33m)\u001b[0m\u001b[1;33m\u001b[0m\u001b[0m\n\u001b[0;32m      6\u001b[0m                 \u001b[1;32mif\u001b[0m \u001b[0ms1\u001b[0m \u001b[1;33m==\u001b[0m \u001b[0ms1\u001b[0m\u001b[1;33m:\u001b[0m\u001b[1;33m\u001b[0m\u001b[0m\n\u001b[1;32m----> 7\u001b[1;33m                     \u001b[0mprint\u001b[0m\u001b[1;33m(\u001b[0m\u001b[0mi\u001b[0m\u001b[1;33m,\u001b[0m \u001b[0mj\u001b[0m\u001b[1;33m)\u001b[0m\u001b[1;33m\u001b[0m\u001b[0m\n\u001b[0m",
      "\u001b[1;32mC:\\ProgramData\\Anaconda3\\lib\\site-packages\\colorama\\ansitowin32.py\u001b[0m in \u001b[0;36mwrite\u001b[1;34m(self, text)\u001b[0m\n\u001b[0;32m     38\u001b[0m \u001b[1;33m\u001b[0m\u001b[0m\n\u001b[0;32m     39\u001b[0m     \u001b[1;32mdef\u001b[0m \u001b[0mwrite\u001b[0m\u001b[1;33m(\u001b[0m\u001b[0mself\u001b[0m\u001b[1;33m,\u001b[0m \u001b[0mtext\u001b[0m\u001b[1;33m)\u001b[0m\u001b[1;33m:\u001b[0m\u001b[1;33m\u001b[0m\u001b[0m\n\u001b[1;32m---> 40\u001b[1;33m         \u001b[0mself\u001b[0m\u001b[1;33m.\u001b[0m\u001b[0m__convertor\u001b[0m\u001b[1;33m.\u001b[0m\u001b[0mwrite\u001b[0m\u001b[1;33m(\u001b[0m\u001b[0mtext\u001b[0m\u001b[1;33m)\u001b[0m\u001b[1;33m\u001b[0m\u001b[0m\n\u001b[0m\u001b[0;32m     41\u001b[0m \u001b[1;33m\u001b[0m\u001b[0m\n\u001b[0;32m     42\u001b[0m \u001b[1;33m\u001b[0m\u001b[0m\n",
      "\u001b[1;32mC:\\ProgramData\\Anaconda3\\lib\\site-packages\\colorama\\ansitowin32.py\u001b[0m in \u001b[0;36mwrite\u001b[1;34m(self, text)\u001b[0m\n\u001b[0;32m    139\u001b[0m     \u001b[1;32mdef\u001b[0m \u001b[0mwrite\u001b[0m\u001b[1;33m(\u001b[0m\u001b[0mself\u001b[0m\u001b[1;33m,\u001b[0m \u001b[0mtext\u001b[0m\u001b[1;33m)\u001b[0m\u001b[1;33m:\u001b[0m\u001b[1;33m\u001b[0m\u001b[0m\n\u001b[0;32m    140\u001b[0m         \u001b[1;32mif\u001b[0m \u001b[0mself\u001b[0m\u001b[1;33m.\u001b[0m\u001b[0mstrip\u001b[0m \u001b[1;32mor\u001b[0m \u001b[0mself\u001b[0m\u001b[1;33m.\u001b[0m\u001b[0mconvert\u001b[0m\u001b[1;33m:\u001b[0m\u001b[1;33m\u001b[0m\u001b[0m\n\u001b[1;32m--> 141\u001b[1;33m             \u001b[0mself\u001b[0m\u001b[1;33m.\u001b[0m\u001b[0mwrite_and_convert\u001b[0m\u001b[1;33m(\u001b[0m\u001b[0mtext\u001b[0m\u001b[1;33m)\u001b[0m\u001b[1;33m\u001b[0m\u001b[0m\n\u001b[0m\u001b[0;32m    142\u001b[0m         \u001b[1;32melse\u001b[0m\u001b[1;33m:\u001b[0m\u001b[1;33m\u001b[0m\u001b[0m\n\u001b[0;32m    143\u001b[0m             \u001b[0mself\u001b[0m\u001b[1;33m.\u001b[0m\u001b[0mwrapped\u001b[0m\u001b[1;33m.\u001b[0m\u001b[0mwrite\u001b[0m\u001b[1;33m(\u001b[0m\u001b[0mtext\u001b[0m\u001b[1;33m)\u001b[0m\u001b[1;33m\u001b[0m\u001b[0m\n",
      "\u001b[1;32mC:\\ProgramData\\Anaconda3\\lib\\site-packages\\colorama\\ansitowin32.py\u001b[0m in \u001b[0;36mwrite_and_convert\u001b[1;34m(self, text)\u001b[0m\n\u001b[0;32m    167\u001b[0m             \u001b[0mself\u001b[0m\u001b[1;33m.\u001b[0m\u001b[0mconvert_ansi\u001b[0m\u001b[1;33m(\u001b[0m\u001b[1;33m*\u001b[0m\u001b[0mmatch\u001b[0m\u001b[1;33m.\u001b[0m\u001b[0mgroups\u001b[0m\u001b[1;33m(\u001b[0m\u001b[1;33m)\u001b[0m\u001b[1;33m)\u001b[0m\u001b[1;33m\u001b[0m\u001b[0m\n\u001b[0;32m    168\u001b[0m             \u001b[0mcursor\u001b[0m \u001b[1;33m=\u001b[0m \u001b[0mend\u001b[0m\u001b[1;33m\u001b[0m\u001b[0m\n\u001b[1;32m--> 169\u001b[1;33m         \u001b[0mself\u001b[0m\u001b[1;33m.\u001b[0m\u001b[0mwrite_plain_text\u001b[0m\u001b[1;33m(\u001b[0m\u001b[0mtext\u001b[0m\u001b[1;33m,\u001b[0m \u001b[0mcursor\u001b[0m\u001b[1;33m,\u001b[0m \u001b[0mlen\u001b[0m\u001b[1;33m(\u001b[0m\u001b[0mtext\u001b[0m\u001b[1;33m)\u001b[0m\u001b[1;33m)\u001b[0m\u001b[1;33m\u001b[0m\u001b[0m\n\u001b[0m\u001b[0;32m    170\u001b[0m \u001b[1;33m\u001b[0m\u001b[0m\n\u001b[0;32m    171\u001b[0m \u001b[1;33m\u001b[0m\u001b[0m\n",
      "\u001b[1;32mC:\\ProgramData\\Anaconda3\\lib\\site-packages\\colorama\\ansitowin32.py\u001b[0m in \u001b[0;36mwrite_plain_text\u001b[1;34m(self, text, start, end)\u001b[0m\n\u001b[0;32m    173\u001b[0m         \u001b[1;32mif\u001b[0m \u001b[0mstart\u001b[0m \u001b[1;33m<\u001b[0m \u001b[0mend\u001b[0m\u001b[1;33m:\u001b[0m\u001b[1;33m\u001b[0m\u001b[0m\n\u001b[0;32m    174\u001b[0m             \u001b[0mself\u001b[0m\u001b[1;33m.\u001b[0m\u001b[0mwrapped\u001b[0m\u001b[1;33m.\u001b[0m\u001b[0mwrite\u001b[0m\u001b[1;33m(\u001b[0m\u001b[0mtext\u001b[0m\u001b[1;33m[\u001b[0m\u001b[0mstart\u001b[0m\u001b[1;33m:\u001b[0m\u001b[0mend\u001b[0m\u001b[1;33m]\u001b[0m\u001b[1;33m)\u001b[0m\u001b[1;33m\u001b[0m\u001b[0m\n\u001b[1;32m--> 175\u001b[1;33m             \u001b[0mself\u001b[0m\u001b[1;33m.\u001b[0m\u001b[0mwrapped\u001b[0m\u001b[1;33m.\u001b[0m\u001b[0mflush\u001b[0m\u001b[1;33m(\u001b[0m\u001b[1;33m)\u001b[0m\u001b[1;33m\u001b[0m\u001b[0m\n\u001b[0m\u001b[0;32m    176\u001b[0m \u001b[1;33m\u001b[0m\u001b[0m\n\u001b[0;32m    177\u001b[0m \u001b[1;33m\u001b[0m\u001b[0m\n",
      "\u001b[1;32mC:\\ProgramData\\Anaconda3\\lib\\site-packages\\ipykernel\\iostream.py\u001b[0m in \u001b[0;36mflush\u001b[1;34m(self)\u001b[0m\n\u001b[0;32m    338\u001b[0m             \u001b[1;32mif\u001b[0m \u001b[1;32mnot\u001b[0m \u001b[0mimport_lock_held\u001b[0m\u001b[1;33m(\u001b[0m\u001b[1;33m)\u001b[0m\u001b[1;33m:\u001b[0m\u001b[1;33m\u001b[0m\u001b[0m\n\u001b[0;32m    339\u001b[0m                 \u001b[0mevt\u001b[0m \u001b[1;33m=\u001b[0m \u001b[0mthreading\u001b[0m\u001b[1;33m.\u001b[0m\u001b[0mEvent\u001b[0m\u001b[1;33m(\u001b[0m\u001b[1;33m)\u001b[0m\u001b[1;33m\u001b[0m\u001b[0m\n\u001b[1;32m--> 340\u001b[1;33m                 \u001b[0mself\u001b[0m\u001b[1;33m.\u001b[0m\u001b[0mpub_thread\u001b[0m\u001b[1;33m.\u001b[0m\u001b[0mschedule\u001b[0m\u001b[1;33m(\u001b[0m\u001b[0mevt\u001b[0m\u001b[1;33m.\u001b[0m\u001b[0mset\u001b[0m\u001b[1;33m)\u001b[0m\u001b[1;33m\u001b[0m\u001b[0m\n\u001b[0m\u001b[0;32m    341\u001b[0m                 \u001b[1;31m# and give a timeout to avoid\u001b[0m\u001b[1;33m\u001b[0m\u001b[1;33m\u001b[0m\u001b[0m\n\u001b[0;32m    342\u001b[0m                 \u001b[1;32mif\u001b[0m \u001b[1;32mnot\u001b[0m \u001b[0mevt\u001b[0m\u001b[1;33m.\u001b[0m\u001b[0mwait\u001b[0m\u001b[1;33m(\u001b[0m\u001b[0mself\u001b[0m\u001b[1;33m.\u001b[0m\u001b[0mflush_timeout\u001b[0m\u001b[1;33m)\u001b[0m\u001b[1;33m:\u001b[0m\u001b[1;33m\u001b[0m\u001b[0m\n",
      "\u001b[1;32mC:\\ProgramData\\Anaconda3\\lib\\site-packages\\ipykernel\\iostream.py\u001b[0m in \u001b[0;36mschedule\u001b[1;34m(self, f)\u001b[0m\n\u001b[0;32m    201\u001b[0m             \u001b[0mself\u001b[0m\u001b[1;33m.\u001b[0m\u001b[0m_events\u001b[0m\u001b[1;33m.\u001b[0m\u001b[0mappend\u001b[0m\u001b[1;33m(\u001b[0m\u001b[0mf\u001b[0m\u001b[1;33m)\u001b[0m\u001b[1;33m\u001b[0m\u001b[0m\n\u001b[0;32m    202\u001b[0m             \u001b[1;31m# wake event thread (message content is ignored)\u001b[0m\u001b[1;33m\u001b[0m\u001b[1;33m\u001b[0m\u001b[0m\n\u001b[1;32m--> 203\u001b[1;33m             \u001b[0mself\u001b[0m\u001b[1;33m.\u001b[0m\u001b[0m_event_pipe\u001b[0m\u001b[1;33m.\u001b[0m\u001b[0msend\u001b[0m\u001b[1;33m(\u001b[0m\u001b[1;34mb''\u001b[0m\u001b[1;33m)\u001b[0m\u001b[1;33m\u001b[0m\u001b[0m\n\u001b[0m\u001b[0;32m    204\u001b[0m         \u001b[1;32melse\u001b[0m\u001b[1;33m:\u001b[0m\u001b[1;33m\u001b[0m\u001b[0m\n\u001b[0;32m    205\u001b[0m             \u001b[0mf\u001b[0m\u001b[1;33m(\u001b[0m\u001b[1;33m)\u001b[0m\u001b[1;33m\u001b[0m\u001b[0m\n",
      "\u001b[1;32mC:\\ProgramData\\Anaconda3\\lib\\site-packages\\zmq\\sugar\\socket.py\u001b[0m in \u001b[0;36msend\u001b[1;34m(self, data, flags, copy, track, routing_id, group)\u001b[0m\n\u001b[0;32m    389\u001b[0m                                  copy_threshold=self.copy_threshold)\n\u001b[0;32m    390\u001b[0m             \u001b[0mdata\u001b[0m\u001b[1;33m.\u001b[0m\u001b[0mgroup\u001b[0m \u001b[1;33m=\u001b[0m \u001b[0mgroup\u001b[0m\u001b[1;33m\u001b[0m\u001b[0m\n\u001b[1;32m--> 391\u001b[1;33m         \u001b[1;32mreturn\u001b[0m \u001b[0msuper\u001b[0m\u001b[1;33m(\u001b[0m\u001b[0mSocket\u001b[0m\u001b[1;33m,\u001b[0m \u001b[0mself\u001b[0m\u001b[1;33m)\u001b[0m\u001b[1;33m.\u001b[0m\u001b[0msend\u001b[0m\u001b[1;33m(\u001b[0m\u001b[0mdata\u001b[0m\u001b[1;33m,\u001b[0m \u001b[0mflags\u001b[0m\u001b[1;33m=\u001b[0m\u001b[0mflags\u001b[0m\u001b[1;33m,\u001b[0m \u001b[0mcopy\u001b[0m\u001b[1;33m=\u001b[0m\u001b[0mcopy\u001b[0m\u001b[1;33m,\u001b[0m \u001b[0mtrack\u001b[0m\u001b[1;33m=\u001b[0m\u001b[0mtrack\u001b[0m\u001b[1;33m)\u001b[0m\u001b[1;33m\u001b[0m\u001b[0m\n\u001b[0m\u001b[0;32m    392\u001b[0m \u001b[1;33m\u001b[0m\u001b[0m\n\u001b[0;32m    393\u001b[0m     \u001b[1;32mdef\u001b[0m \u001b[0msend_multipart\u001b[0m\u001b[1;33m(\u001b[0m\u001b[0mself\u001b[0m\u001b[1;33m,\u001b[0m \u001b[0mmsg_parts\u001b[0m\u001b[1;33m,\u001b[0m \u001b[0mflags\u001b[0m\u001b[1;33m=\u001b[0m\u001b[1;36m0\u001b[0m\u001b[1;33m,\u001b[0m \u001b[0mcopy\u001b[0m\u001b[1;33m=\u001b[0m\u001b[1;32mTrue\u001b[0m\u001b[1;33m,\u001b[0m \u001b[0mtrack\u001b[0m\u001b[1;33m=\u001b[0m\u001b[1;32mFalse\u001b[0m\u001b[1;33m,\u001b[0m \u001b[1;33m**\u001b[0m\u001b[0mkwargs\u001b[0m\u001b[1;33m)\u001b[0m\u001b[1;33m:\u001b[0m\u001b[1;33m\u001b[0m\u001b[0m\n",
      "\u001b[1;32mzmq/backend/cython/socket.pyx\u001b[0m in \u001b[0;36mzmq.backend.cython.socket.Socket.send\u001b[1;34m()\u001b[0m\n",
      "\u001b[1;32mzmq/backend/cython/socket.pyx\u001b[0m in \u001b[0;36mzmq.backend.cython.socket.Socket.send\u001b[1;34m()\u001b[0m\n",
      "\u001b[1;32mzmq/backend/cython/socket.pyx\u001b[0m in \u001b[0;36mzmq.backend.cython.socket._send_copy\u001b[1;34m()\u001b[0m\n",
      "\u001b[1;32mC:\\ProgramData\\Anaconda3\\lib\\site-packages\\zmq\\backend\\cython\\checkrc.pxd\u001b[0m in \u001b[0;36mzmq.backend.cython.checkrc._check_rc\u001b[1;34m()\u001b[0m\n",
      "\u001b[1;31mKeyboardInterrupt\u001b[0m: "
     ]
    }
   ],
   "source": [
    "for i, v in tqdm(dict_H.items()):\n",
    "    for j in range(i+1, len(dict_H)):\n",
    "         for s1 in v:\n",
    "            for s2 in dict_H[j]:\n",
    "                print(s1, s2)\n",
    "                if s1 == s1:\n",
    "                    print(i, j)"
   ]
  },
  {
   "cell_type": "code",
   "execution_count": 312,
   "metadata": {},
   "outputs": [
    {
     "data": {
      "text/plain": [
       "90967964"
      ]
     },
     "execution_count": 312,
     "metadata": {},
     "output_type": "execute_result"
    }
   ],
   "source": [
    "len(repr(dict_H))"
   ]
  },
  {
   "cell_type": "code",
   "execution_count": 302,
   "metadata": {},
   "outputs": [
    {
     "data": {
      "text/plain": [
       "91411786"
      ]
     },
     "execution_count": 302,
     "metadata": {},
     "output_type": "execute_result"
    }
   ],
   "source": [
    "len(repr(dict_H))"
   ]
  },
  {
   "cell_type": "code",
   "execution_count": 313,
   "metadata": {
    "scrolled": true
   },
   "outputs": [],
   "source": [
    "del(dict_H)"
   ]
  },
  {
   "cell_type": "code",
   "execution_count": null,
   "metadata": {},
   "outputs": [],
   "source": []
  }
 ],
 "metadata": {
  "kernelspec": {
   "display_name": "Python 3",
   "language": "python",
   "name": "python3"
  },
  "language_info": {
   "codemirror_mode": {
    "name": "ipython",
    "version": 3
   },
   "file_extension": ".py",
   "mimetype": "text/x-python",
   "name": "python",
   "nbconvert_exporter": "python",
   "pygments_lexer": "ipython3",
   "version": "3.6.5"
  }
 },
 "nbformat": 4,
 "nbformat_minor": 2
}
